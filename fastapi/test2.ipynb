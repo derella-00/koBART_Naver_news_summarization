{
 "cells": [
  {
   "cell_type": "code",
   "execution_count": null,
   "metadata": {},
   "outputs": [],
   "source": [
    "from bs4 import BeautifulSoup\n",
    "import requests\n",
    "import re\n",
    "import sys\n",
    "import pprint\n",
    "import csv\n",
    "import json\n"
   ]
  },
  {
   "cell_type": "code",
   "execution_count": null,
   "metadata": {},
   "outputs": [],
   "source": [
    "headers = {\n",
    "    'authority': 'apis.naver.com',\n",
    "    'accept': '*/*',\n",
    "    'accept-language': 'ko-KR,ko;q=0.9,en-US;q=0.8,en;q=0.7',\n",
    "    # Requests sorts cookies= alphabetically\n",
    "    # 'cookie': 'ab.storage.userId.7af503ae-0c84-478f-98b0-ecfff5d67750=%7B%22g%22%3A%22browser-1625985144309-6%22%2C%22c%22%3A1626101500089%2C%22l%22%3A1626101500089%7D; ab.storage.deviceId.7af503ae-0c84-478f-98b0-ecfff5d67750=%7B%22g%22%3A%224cbe130c-6edd-d4aa-a78d-290b003c3592%22%2C%22c%22%3A1626101500094%2C%22l%22%3A1626101500094%7D; ASID=7992e0220000017aaa36664e0000004e; _ga=GA1.2.612969395.1626832328; ab.storage.sessionId.7af503ae-0c84-478f-98b0-ecfff5d67750=%7B%22g%22%3A%2228148006-e01d-7623-b7d1-b4fff0f59b4e%22%2C%22e%22%3A1627919390179%2C%22c%22%3A1627908091281%2C%22l%22%3A1627917590179%7D; MM_NEW=1; NFS=2; NNB=RDIIILNX6JCWE; nx_ssl=2; nid_inf=1665554565; NID_AUT=tP3V5ox533EjyAgkJ1JaqWEnPOhXs2hr3teD39pK972fuXqDWQZXoIOMzICJpa1A; NID_JKL=d393brIzilbjw+7TVvG0OW6Eo22+WIhQAfihItUdgbY=; _naver_usersession_=SPdJTrlTMrn8Udkyn58eo6HL; NID_SES=AAABwJaKJ5FjUAETXL8SAX2HKMUSTt3l8pPu49OSzbGzgKEEMN/ckpP4DbQVHQwTV1hVPWtbpP7Nomg0CbD8TtCpyOYbeq8+OpHb5eWbDsXXCeLHO4epgthLtbQHiBE8spXqEtx/h0D6MzxsIlN4pa8gz51jV+oWzQQNnpQCeaKKLaxcpMfhGXnZv4BK1Rg+TAgUFE9RtExcKjteTL2hB9tKT41C7antdQdhLfVXWUbsJ/q5b62iDZnnZUAANXHnWp/9RI2YyKSn70SVu4Bag+fxA/23OqjCHSbK5RMiNOQKV+Bs7uugaAsMKkH6lGBBIbNDkTXGZ4n1+KbqFwe1kV9oCaPJ+siwXESEqvY0jaLVNAqUATQZjnIMFIYwARw41FTuduxW1IOF7MdP7R3EqOvnqNir2lXW1UfRlHlOtMC4w/tXk8xqJR/HVlZrnltKkMZB5zfyDNvnt02jbOKJcORjmOeVvL+xoCdSXwZclfJzRkC31l43+9jSu4X8RPUfuJILRMHf2e1A0NU7Mwds7h+S//5AD0yUJlPtFFzLvriuD1SMTRXiSwN4pNWBi6UIsPzScRpyLMc8hUE8Bi8jJtGk4e0=; NDARK=N; page_uid=hrKUflprvN8ssNc4Muwssssss3R-382317; BMR=',\n",
    "    'referer': 'https://n.news.naver.com/article/028/0002595736',\n",
    "    'sec-ch-ua': '\"Whale\";v=\"3\", \" Not;A Brand\";v=\"99\", \"Chromium\";v=\"102\"',\n",
    "    'sec-ch-ua-mobile': '?0',\n",
    "    'sec-ch-ua-platform': '\"Windows\"',\n",
    "    'sec-fetch-dest': 'script',\n",
    "    'sec-fetch-mode': 'no-cors',\n",
    "    'sec-fetch-site': 'same-site',\n",
    "    'user-agent': 'Mozilla/5.0 (Windows NT 10.0; Win64; x64) AppleWebKit/537.36 (KHTML, like Gecko) Chrome/102.0.5005.108 Whale/3.15.136.18 Safari/537.36',\n",
    "}\n"
   ]
  },
  {
   "cell_type": "code",
   "execution_count": null,
   "metadata": {},
   "outputs": [],
   "source": [
    "params = {\n",
    "                'ticket': 'news',\n",
    "                'templateId': 'default_society',\n",
    "                'pool': 'cbox5',\n",
    "                'lang': 'ko',\n",
    "                'country': 'KR',\n",
    "                'objectId': 'news018,0005477530', #f'news{oid_2},{oid_1}',\n",
    "                'pageSize': '100',\n",
    "                'indexSize': '10',\n",
    "                'page': '1',\n",
    "                'currentPage': '0',\n",
    "                'moreParam.direction': 'next',\n",
    "                'moreParam.prev': '10000o90000op06guicil48ars',\n",
    "                'moreParam.next': '1000050000305guog893h1re',\n",
    "                'followSize': '100',\n",
    "                'includeAllStatus': 'true',\n",
    "                'sort' : 'favorite'\n",
    "            }"
   ]
  },
  {
   "cell_type": "code",
   "execution_count": null,
   "metadata": {},
   "outputs": [],
   "source": [
    "response = requests.get('https://apis.naver.com/commentBox/cbox/web_naver_list_jsonp.json', params=params, headers=headers)\n"
   ]
  },
  {
   "cell_type": "code",
   "execution_count": null,
   "metadata": {},
   "outputs": [],
   "source": [
    "response.encoding = \"UTF-8-sig\""
   ]
  },
  {
   "cell_type": "code",
   "execution_count": null,
   "metadata": {},
   "outputs": [],
   "source": [
    "res = response.text.replace(\"_callback(\",\"\")[:-2]\n",
    "temp=json.loads(res) \n"
   ]
  },
  {
   "cell_type": "code",
   "execution_count": null,
   "metadata": {},
   "outputs": [],
   "source": [
    "temp"
   ]
  },
  {
   "cell_type": "code",
   "execution_count": null,
   "metadata": {},
   "outputs": [],
   "source": [
    "import pandas as pd"
   ]
  },
  {
   "cell_type": "code",
   "execution_count": null,
   "metadata": {},
   "outputs": [],
   "source": [
    "temp"
   ]
  },
  {
   "cell_type": "code",
   "execution_count": null,
   "metadata": {},
   "outputs": [],
   "source": [
    "total_comment = []\n",
    "try : \n",
    "    comment = list(pd.DataFrame(temp['result']['commentList'])['contents'])\n",
    "    for j in range(len(comment)):\n",
    "        total_comment.append(comment[j])\n",
    "    if len(comment)<97: \n",
    "        pass \n",
    "    else: \n",
    "        i+=1\n",
    "except :\n",
    "    pass "
   ]
  },
  {
   "cell_type": "code",
   "execution_count": null,
   "metadata": {},
   "outputs": [],
   "source": [
    "temp['result']"
   ]
  },
  {
   "cell_type": "code",
   "execution_count": null,
   "metadata": {},
   "outputs": [],
   "source": [
    "temp['result']['commentList'][1]['contents']"
   ]
  },
  {
   "cell_type": "code",
   "execution_count": null,
   "metadata": {},
   "outputs": [],
   "source": [
    "for i in temp['result']['commentList'] :\n",
    "    print(i['contents'])"
   ]
  },
  {
   "cell_type": "code",
   "execution_count": 3,
   "metadata": {
    "ExecuteTime": {
     "start_time": "2023-05-07T14:14:44.205626Z",
     "end_time": "2023-05-07T14:14:44.297389Z"
    }
   },
   "outputs": [],
   "source": [
    "from newsCrawler import NewsCrawler"
   ]
  },
  {
   "cell_type": "code",
   "execution_count": 4,
   "outputs": [],
   "source": [
    "from pprint import pprint"
   ],
   "metadata": {
    "collapsed": false,
    "ExecuteTime": {
     "start_time": "2023-05-07T14:14:44.472727Z",
     "end_time": "2023-05-07T14:14:44.520331Z"
    }
   }
  },
  {
   "cell_type": "code",
   "execution_count": 7,
   "outputs": [],
   "source": [
    "a =NewsCrawler.get_news_comment('https://n.news.naver.com/article/081/0003358685?cds=news_media_pc&type=editn')"
   ],
   "metadata": {
    "collapsed": false,
    "ExecuteTime": {
     "start_time": "2023-05-07T14:16:38.608086Z",
     "end_time": "2023-05-07T14:16:39.417162Z"
    }
   }
  },
  {
   "cell_type": "code",
   "execution_count": 1,
   "outputs": [],
   "source": [
    "from transformers import pipeline"
   ],
   "metadata": {
    "collapsed": false,
    "ExecuteTime": {
     "start_time": "2023-05-07T14:14:39.305597Z",
     "end_time": "2023-05-07T14:14:41.525217Z"
    }
   }
  },
  {
   "cell_type": "code",
   "execution_count": 2,
   "outputs": [],
   "source": [
    "classifier = pipeline( model='daekeun-ml/koelectra-small-v3-nsmc', tokenizer='daekeun-ml/koelectra-small-v3-nsmc')"
   ],
   "metadata": {
    "collapsed": false,
    "ExecuteTime": {
     "start_time": "2023-05-07T14:14:41.526225Z",
     "end_time": "2023-05-07T14:14:44.017823Z"
    }
   }
  },
  {
   "cell_type": "code",
   "execution_count": 9,
   "outputs": [],
   "source": [
    "comment_list = []"
   ],
   "metadata": {
    "collapsed": false,
    "ExecuteTime": {
     "start_time": "2023-05-07T14:16:45.908824Z",
     "end_time": "2023-05-07T14:16:45.930053Z"
    }
   }
  },
  {
   "cell_type": "code",
   "execution_count": 10,
   "outputs": [],
   "source": [
    "for aa in a:\n",
    "    comment_list.append(aa['contents'])"
   ],
   "metadata": {
    "collapsed": false,
    "ExecuteTime": {
     "start_time": "2023-05-07T14:16:46.242426Z",
     "end_time": "2023-05-07T14:16:46.260388Z"
    }
   }
  },
  {
   "cell_type": "code",
   "execution_count": 11,
   "outputs": [
    {
     "data": {
      "text/plain": "['태양광 한답시고 멀쩡한 산 다 깎아내고 싸구려 중국산 패널로 전 국토를 도배해놨을 때 쓴소리좀 하지 그랬니',\n '태양광 사대강 조작조사했던 환경부장관깜도안되는게 기가찬다 기가차',\n '',\n '별걸가지고 다 난리군. 참 염치도 없지',\n '쳐먹고 할 일 졸라없네.',\n '일회용을 줄이는건 이제 선택이 아닌 필수 지만 그걸 문정권 하수인이 하다니 정말 어의없네.. 태양광 한답시고 산이고 들이고 하다못해 바다에까지 쓰레기를 설치하질 않나 멀쩡한 4대강 뚝 무너뜨려 건설 쓰레기는 말 할것도 없고 코로나 제데로 대처 안해 마스크 쓰레기는...? 쓰레기 정부였던 것들이 일회용 탓을 하네? 하지말아야 할걸 안했더라면 생기지 않았을 쓰레기나 참회해라',\n '지금 문재인시절 부동산정책때문에 전세사기 월세사기 난리인대 지들도했던 일회용 물 지적할때인가?진짜 할일없나보구나 사람 죽어나는 부동산은 모른척',\n '중국산 태양광 패널 깐다고 우리강산 구리게 구리게 만든 훠재앙 정권따리가 할말임??',\n '한심한 놈, 상황에 따라 일회용컵을 쓸 때도 있는 것이지. 아무리 환경도 좋지만 일회용컵을 절대로 쓰면 안 된다는 것은 무슨 궤변인가? 저러니 매번 내로남불을 하는 것이다.',\n '앞에서는 청렴 코스프레 뒤로는 껄떡되고 해처먹기 바빴던 더불어 공산당 희대의 지방자치단체장 3대 강간범 안희쩡, 오거똥, 박원숭…앞으로는 거지 코스프레 김상조, 박주민 뒤로는 해처먹고…주사파 공산당 적폐 빨개이 문죄앙 패거리들은 라임, 옵티머스, 태양광, 가덕도, 마스크,LH, 대장동, 백현동으로 해처먹은거 다 뱉어내고 너네 조국 북으로 가서 선전선동하면서 빌어 처먹어라',\n '얼마나 깔게 없으면 ㅋㅋㅋㅋㅋㅋ ㅉㅉ 한심하다',\n '문정부때 태양광 한다고 산이며 들이며 싹 다 밀어버릴 때 환경부 장관님은 뭐 하셨소❓️  종이컵은 아깝고 나무는 괜찮고❓️🤣🤣🤣🤣🤣🤣🤣🤣🤣🤣🤣🤣',\n '어지간히도 깔게 없나보네전정부 인간들 왜이리 쪼잔하고 유치한지 한심하다',\n '참 가지가지한다. 일회용컵보다 엄청나게 많은 태양광 쓰레기는 왜 언급안하니?',\n '일회용컵 들고 커피 마시던 니들은?',\n '아우씨.. 탁현민 냄새... 종특쑈질....',\n '별 거지같은걸 가지고 비난하내 ㅡㅡ 야 그런 니들은 나체로 사냐,, 숨도안쉬고 좀 작작해라  선전선동질',\n '',\n '아직도 저질 선전선동질이냐??',\n '그렇게 환경 신경 쓰던 분이 태양광 한답시고 산 다 깍아 내릴 때 뭐 하셨어요?',\n '일회용 컵 쓰는게 문제냐? 분리수거를 제대로 안하는게 문제지',\n '',\n '파파라치들은 조명래 전장관 추적관리 해보세요. 얼마나 환경지키고 사는지..진짜 놀고 있네..',\n '좋은것은 따라하고 나쁜것은 버리면 된다. 왜 그리 자꾸 싸우는가? 그리고 자주 만나야 한다. 무슨 철천지 원수도 아니고 이러다가 남북한처럼 70여년정도 허송세월을 보낸다.',\n '너도 북한 지령받았냐? 총동원령 내려졌냐? 시비도 가지가지 털어라.니는 니 마누라 밥 많이 먹어도 시비털겠다.양식 축낸다고.ㅋㅋ',\n '',\n '개버린이',\n 'ㅋㅋㅋ자기들은 안보이는데서 더 많이 쓰면서 뭘',\n '문재인이는 인간이 아니까 비교자체가 불가능하다. 개버린 인간은 인간이아니다.',\n '환경부장관 쫒아다니면서 저는 탐블러랑 쇼핑백  가지고다니며 적극 이용하는지 지켜보자',\n '지난 정부에서도 상상할 수 없는 일 많이 벌였는데, 사소한 것 가지고 트집 좀 그만 잡아라.',\n '믿거조',\n '옆에서 방구만 껴도 고소하겠네  아이구무셔라 트집도 적당히 잡아야지 먹히는거지',\n '조명래씨 일회용컵에 테이크아웃 절대 안 하나봐?',\n '정말 참 ~~ 지적할 것도 없다. 내가 유시민 좋아하지 않게 됐지만, 그래도 지지하던 시절의 유시민이가 아침에 아메리카노 마신다고 부르조아 어쩌고 발작하던 버릇이 또 나오네.',\n '진영을  떠나  배울건배우고  버릴건  버립시다..일회용 아웃!',\n 'ㅋㅋㅋ 기자들 초청하면서 개인 텀블러 가져오라고 할까?',\n 'ㅋㅋ머라는거냐 이런걸 꼴깝이라고 하는건가?너나 잘해라 잘한게 하나라도 있었어야 ..참나',\n '조명래ㅋㅋ 나 지도교수였는데 그땐 저렇게 옹졸한 대깨문일줄은 몰랐지ㅋㅋㅋ ㅉㅉㅉ',\n '',\n '에라이 그게 환경? 쪼다 같은 정책도 정책이라고?일회용 마트가봐라 일회용 아닌게 있나',\n '실질적으로 저런 투명 플라스틱은 재활용만 잘하면 됨.',\n '정치 경제 언론 정보 국방 문화 환경 모든 영역에서 \"뒤로 돌아갓!\"',\n '좋은 접시 깔면 국민 세금으로 사치부린다고 씨부릴거잖아 ㅋㅋㅋㅋㅋ',\n '참 저런게 다 나와 주책떠네. 내로남불의 실천, 가증스럽네요',\n '장관 수준도 저 따위였다.  오늘날 저질 민주당 만든 장본인들 문어벙',\n '진짜 트집 잡을 것 잡아라.. 지겹다.. 징징이들  좀비들',\n '되었다 되었어. 텀블러 씻느라 물만 더 쓰게 되어서 뭐가 친환경인 지도 모르겠더라.',\n 'ㅎㅎㅎㅎ 넌 이제부터 니일상에 일회용이란단어는 안쓰길바란다.... 파파라치가 너의 하루하루를 관찰해서 일회용쓰는지 사진찍을거야...평생 일회용안쓰길바란다....쓰기만써봐라. 미싱질해버릴테니',\n '대게  한가한 양반이네  별것을 다시비거네......',\n '코로나 때문에 문똘 정권때 일회용 사용하라고 해놓고선 또 딴소리 한다.....아직도 코로나는 존재하고 있고 감염자도 발생하는 시국이다!  대체 민주당 똘끼 얘네들 어떻게 해야 좋냐?',\n '국무회의할 때 얼마든지 건의해도 될것같은데 왜 국민들이 굳이 알게 공개적으로 해서 기사화된거 이해안되네요.직장에서도 이러진않음',\n '사사건건 트집잡고 비난하는데에 정신이 없지?  너네때는 뭐하나 제대로 한것 있니?',\n '이런 깨알같은 일도 sns에 올리면 양산에서 포상금 내려오니?',\n '닌 안쓰고 살까 ㅋㅋㅋㅋ',\n '말하기도 아깝다 ㅋㅋ',\n '',\n 'ㅋㅋㅋ조명래 장관님 지난 5년 동안 플라스틱, 종이컵 등등 일회용품 단 한번도 쓴적 없으십니까? 고추에 손을 얹고 맹세하실 수 있습니까?',\n '윤완용에게 뭘 기대하나? 올해안에 교도소 보내야할 윤완용가족범죄단~',\n '조명래 니가 할말은 아니지!  온나라를 쓰레기로 도배질한게 민노총시위자들~ 그땐 왜 입처닫았나? 문재인이 한짓을 잊은겨?',\n '윤석열이 썩 내키는 대통령은 아니지만... 그렇다고, `종북굴중`으로,  대한민국 아작 낸 것으로도 부족해, 환경 관련, 태양광으로 또 한 번 더 국토를 유린 한 것 들이... 초딩 들도 하지 않는 유치한 지적질에, 관섭이라니,, 그럼, 느 들이 정권 재창출 하지 그랬다냐,,, 견공 중간다리 못한....',\n '',\n '2017년 5월 12일.. 김주하 앵커가 문재인의 일회용 컵 사용에 대해 비평할 때 김주하 앵커에게 너나 잘 하라며 공격했던 문빠들이 생각난다. 문재인 정부에선 상상할 수 없는 일이었다고?? ㅉㅉ',\n '헛소리 그만치우고 할짓 없으면 양산 개장수한테 가서 굽신거리면서 책이나 하나 팔아주고 와라',\n '아직도 문빠는 미친상태로 존재하는구나...아님 노망이났거나',\n 'ㅋ ㅋ  가안첩 떨거지들 지룰 옆차기하는 수준 봐라',\n '환경 엄청 생각했네....모지리 문빠들......',\n '맞는 말  윤가는 법밖에 몰라',\n '평소에 1회용컵 쓰는 사람있나?그런데 그걸 공적인 자리에서는 안되고 사적인 자리에서는 괜찮다?그게 국민들에게 보여주기 쇼고 위선일수도 있지않나?아예 저런 1회용  플라스틱 용기를 없애지않는한,정치인들이 저런걸 안쓴다고 쇼하는게 오히려 더 우습다.길거리나 심지어 유명계곡에도 저런 플라스틱 천지에 버리는데 쇼한다고 뭐가 달라지나?애초에 불편해도 저런걸 만들지 않는것만이 해결책이다.',\n '저런것도 전 장관이라니  ㅉㅉ',\n '역겨운 전 정부 인사들....오직 깔 게 없으면 일회용 컵 이런 거나 까냐....',\n '문어벙시절 프라스틱 쓰레기가 역대급이라고하니 코로나로 배달음식이 많아서 생긴일이라고 하더니 ㅋ 저걸 트집, 좌뻘들의 내로남불',\n '',\n '문재인이 심은 환경장관 다운 지적이다,  윤검사를 총장에 임명하여 검찰에 나라를 팔아먹은 문재인 일당이 백성들에 끼친 해악에 대하여도 생각해 보기 바란다.',\n '이제 하다하다 피티병에 물 마시는것도 빼액 뺴액 거리는구나 대단하다 ㅋㅋㅋㅋㅋㅋㅋㅋㅋㅋㅋㅋㅋㅋ문재인 사진 행사 떄 사진 찾아보면 어딘가 피티병이랑 플라스틱 있을건데?',\n '꼴에 죄앙이가 임명한 환경부장관이라고 윤석열을 까네~   이러니까 대통령바뀌면 전정권에서 임명한것들 다 바꾸는거다~  재수없는 스끼~~  니가 정말 환경부 장관이라면 재앙이 업적 중국산 태양광 패널 설치나 못하게 했어야지~  나라를 온통 태양광 패널 쓰레기더미로 만드는데 찍소리 안하더니 종이컵쓴거 가지고 씨비냐?',\n '저인간 샴푸랑 일회용기 쓰는지 밝혀내야함',\n '참 할짓도없나보다 ㅋㅋㅋㅋㅋㅋ트집잡을게 없어서 하다하다 ㅋㅋㅋㅋㅋㅋㅋㅋㅋ',\n '',\n '진짜 징글징글하다..투표때 보자',\n '저 행사에 돈 한푼 보탠 바 없는 것들이 뭔데 이렇다저렇다 궁시렁이야 ㅋ 전 장관이랍시고 진짜 할 일 없나보다. 하긴 한번도 경험하지 못한 나라를 만들었던 정권 입장에서는 모든 게 다 이상해보일 수 있겠네',\n '그만둘때 안됬나..세금이 아깦다',\n '하나를 보면 열을 안다고..하는 짓거리 하나하나가 마음에 안드네. 어이 윤씨 그만 짜그러 지지~ 넌 눈치도 없냐?',\n '',\n '구냥, 쏘주 한잔해요',\n '문재인 하수인의 실수였습니다.',\n '참추하다 좌파들은 언제나 변함이 없어 조폭당들이 할말은 아닌듯 문재앙이가 저지른것들을 생각좀해라',\n 'ㅋㅋㅋㅋ 별 그지같은걸로 시비네.',\n '별트집을다잡네 꾀필요할태는써야죠',\n '누어서 침뱉고 있네ㅋㅋ',\n '쪼잔한 뭉의 졸개들..눈깔은 윤대통령 감시를 위해서만 뜨는건가.',\n '',\n '하다하나 이제는 일회용 컵 사용까지 시비를 거는구나. 좌파들 역시 집요하고 악랄하다.',\n '그렇게 할말이 없는가 보다高 次元 적인게 그렇게수준  ?',\n '일회용컵 쓴 것밖에는 치적이 없는 모양이네요.. 모지리들...',\n '일회용컵 안쓴다고 팔아먹는 텀블러가 더 환경오염인거 알지? 텀블러의 플라스틱은 친환경이냐? ESG한다고 물꼬터서 더 크게 팔아먹고 오염시키는게 기업들의 경영가치야? 환경까지 팔아먹는나라 랄*을해라 아주',\n '',\n '으이그 저런 인간이 문재인때 환경부장관이었네..무슨 수로 장관까지 했는지 조사해볼 필요 충분함',\n 'ㅈ.ㄹ 쌈을 싸묵는 소리를 잘도 함',\n '어차피 보여주기식이면서.. ㅎ 쓰던말던']"
     },
     "execution_count": 11,
     "metadata": {},
     "output_type": "execute_result"
    }
   ],
   "source": [
    "comment_list"
   ],
   "metadata": {
    "collapsed": false,
    "ExecuteTime": {
     "start_time": "2023-05-07T14:16:46.931778Z",
     "end_time": "2023-05-07T14:16:46.944845Z"
    }
   }
  },
  {
   "cell_type": "code",
   "execution_count": 12,
   "outputs": [
    {
     "data": {
      "text/plain": "[{'label': '0', 'score': 0.9974768757820129},\n {'label': '0', 'score': 0.9993658661842346},\n {'label': '0', 'score': 0.5052810311317444},\n {'label': '0', 'score': 0.9951377511024475},\n {'label': '0', 'score': 0.9988100528717041},\n {'label': '0', 'score': 0.9989836812019348},\n {'label': '0', 'score': 0.8395811319351196},\n {'label': '0', 'score': 0.9980461597442627},\n {'label': '0', 'score': 0.9980621933937073},\n {'label': '0', 'score': 0.9975582361221313},\n {'label': '0', 'score': 0.9896864295005798},\n {'label': '1', 'score': 0.9890611171722412},\n {'label': '0', 'score': 0.9985522627830505},\n {'label': '0', 'score': 0.9992032647132874},\n {'label': '0', 'score': 0.9953600764274597},\n {'label': '0', 'score': 0.9990329742431641},\n {'label': '0', 'score': 0.9943863153457642},\n {'label': '0', 'score': 0.5052810311317444},\n {'label': '0', 'score': 0.995011568069458},\n {'label': '1', 'score': 0.8353531360626221},\n {'label': '0', 'score': 0.9988945126533508},\n {'label': '0', 'score': 0.5052810311317444},\n {'label': '0', 'score': 0.9967293739318848},\n {'label': '1', 'score': 0.9991094470024109},\n {'label': '0', 'score': 0.9994163513183594},\n {'label': '0', 'score': 0.5052810311317444},\n {'label': '0', 'score': 0.9979729056358337},\n {'label': '1', 'score': 0.7423469424247742},\n {'label': '1', 'score': 0.9982094764709473},\n {'label': '0', 'score': 0.9699379205703735},\n {'label': '1', 'score': 0.8894081115722656},\n {'label': '1', 'score': 0.8682800531387329},\n {'label': '1', 'score': 0.9953418970108032},\n {'label': '0', 'score': 0.9883484840393066},\n {'label': '0', 'score': 0.9975493550300598},\n {'label': '0', 'score': 0.9993630051612854},\n {'label': '0', 'score': 0.931202232837677},\n {'label': '0', 'score': 0.9995213747024536},\n {'label': '0', 'score': 0.930336594581604},\n {'label': '0', 'score': 0.5052810311317444},\n {'label': '0', 'score': 0.989345371723175},\n {'label': '0', 'score': 0.9848317503929138},\n {'label': '1', 'score': 0.9991405010223389},\n {'label': '0', 'score': 0.9938386082649231},\n {'label': '0', 'score': 0.9986711740493774},\n {'label': '0', 'score': 0.9994478821754456},\n {'label': '0', 'score': 0.9960631728172302},\n {'label': '0', 'score': 0.998256504535675},\n {'label': '0', 'score': 0.9989050626754761},\n {'label': '0', 'score': 0.981610894203186},\n {'label': '0', 'score': 0.959089994430542},\n {'label': '0', 'score': 0.9914351105690002},\n {'label': '0', 'score': 0.9972508549690247},\n {'label': '0', 'score': 0.998866081237793},\n {'label': '0', 'score': 0.974557638168335},\n {'label': '0', 'score': 0.6163366436958313},\n {'label': '0', 'score': 0.5052810311317444},\n {'label': '0', 'score': 0.9294602870941162},\n {'label': '0', 'score': 0.98236083984375},\n {'label': '0', 'score': 0.9909859895706177},\n {'label': '0', 'score': 0.9972739815711975},\n {'label': '0', 'score': 0.5052810311317444},\n {'label': '0', 'score': 0.9440688490867615},\n {'label': '0', 'score': 0.9975284934043884},\n {'label': '0', 'score': 0.9970099925994873},\n {'label': '0', 'score': 0.9206100702285767},\n {'label': '1', 'score': 0.5200010538101196},\n {'label': '0', 'score': 0.770005464553833},\n {'label': '0', 'score': 0.9937374591827393},\n {'label': '0', 'score': 0.9978614449501038},\n {'label': '0', 'score': 0.9989280104637146},\n {'label': '0', 'score': 0.9987964630126953},\n {'label': '0', 'score': 0.5052810311317444},\n {'label': '1', 'score': 0.9975256323814392},\n {'label': '0', 'score': 0.9984229803085327},\n {'label': '0', 'score': 0.9928901195526123},\n {'label': '0', 'score': 0.9971420168876648},\n {'label': '0', 'score': 0.9984492063522339},\n {'label': '0', 'score': 0.5052810311317444},\n {'label': '0', 'score': 0.8873956799507141},\n {'label': '0', 'score': 0.9935085773468018},\n {'label': '0', 'score': 0.96058189868927},\n {'label': '0', 'score': 0.9962266683578491},\n {'label': '0', 'score': 0.5052810311317444},\n {'label': '1', 'score': 0.5153220295906067},\n {'label': '0', 'score': 0.9602355360984802},\n {'label': '0', 'score': 0.9986352324485779},\n {'label': '0', 'score': 0.9993865489959717},\n {'label': '0', 'score': 0.5160971879959106},\n {'label': '1', 'score': 0.9910427331924438},\n {'label': '0', 'score': 0.9137208461761475},\n {'label': '0', 'score': 0.5052810311317444},\n {'label': '0', 'score': 0.9986940026283264},\n {'label': '0', 'score': 0.9932436347007751},\n {'label': '0', 'score': 0.9956334233283997},\n {'label': '0', 'score': 0.9978721141815186},\n {'label': '0', 'score': 0.5052810311317444},\n {'label': '1', 'score': 0.8263441920280457},\n {'label': '0', 'score': 0.9945819973945618},\n {'label': '0', 'score': 0.9969058632850647}]"
     },
     "execution_count": 12,
     "metadata": {},
     "output_type": "execute_result"
    }
   ],
   "source": [
    "classifier(comment_list)"
   ],
   "metadata": {
    "collapsed": false,
    "ExecuteTime": {
     "start_time": "2023-05-07T14:17:14.731013Z",
     "end_time": "2023-05-07T14:17:16.262259Z"
    }
   }
  },
  {
   "cell_type": "code",
   "execution_count": 20,
   "outputs": [
    {
     "name": "stderr",
     "output_type": "stream",
     "text": [
      "You passed along `num_labels=3` with an incompatible id to label map: {'0': 'NEGATIVE', '1': 'POSITIVE'}. The number of labels wil be overwritten to 2.\n",
      "You passed along `num_labels=3` with an incompatible id to label map: {'0': 'NEGATIVE', '1': 'POSITIVE'}. The number of labels wil be overwritten to 2.\n"
     ]
    }
   ],
   "source": [
    "kk = pipeline(\"summarization\", model=\"galaxyhm/kobartv2-summarizer-using_data\",\n",
    "                                   tokenizer='galaxyhm/kobartv2-summarizer-using_data', min_length=32,max_length=1000)"
   ],
   "metadata": {
    "collapsed": false,
    "ExecuteTime": {
     "start_time": "2023-05-04T14:26:47.631256Z",
     "end_time": "2023-05-04T14:26:50.382174Z"
    }
   }
  },
  {
   "cell_type": "code",
   "execution_count": 21,
   "outputs": [
    {
     "ename": "AttributeError",
     "evalue": "'SummarizationPipeline' object has no attribute 'summirzer'",
     "output_type": "error",
     "traceback": [
      "\u001B[1;31m---------------------------------------------------------------------------\u001B[0m",
      "\u001B[1;31mAttributeError\u001B[0m                            Traceback (most recent call last)",
      "Cell \u001B[1;32mIn[21], line 1\u001B[0m\n\u001B[1;32m----> 1\u001B[0m \u001B[43mkk\u001B[49m\u001B[38;5;241;43m.\u001B[39;49m\u001B[43msummirzer\u001B[49m()\n",
      "\u001B[1;31mAttributeError\u001B[0m: 'SummarizationPipeline' object has no attribute 'summirzer'"
     ]
    }
   ],
   "source": [
    "kk.summirzer()"
   ],
   "metadata": {
    "collapsed": false
   }
  },
  {
   "cell_type": "code",
   "execution_count": null,
   "outputs": [],
   "source": [
    "def check_and_summarize(input_text, model_pipeline, max_length):\n",
    "    text_length = len(input_text)\n",
    "    text_start_pointer = 0\n",
    "    text_end_pointer = 0\n",
    "    return_text = []\n",
    "    while True:\n",
    "        if max_length < text_length - text_start_pointer:\n",
    "            if max_length > text_length - text_end_pointer:\n",
    "                text_end_pointer = text_length\n",
    "            else:\n",
    "                text_end_pointer = text_start_pointer + max_length -5\n",
    "            print(text_length)\n",
    "            print(text_end_pointer)\n",
    "            min_text = model_pipeline(input_text[text_start_pointer:text_end_pointer])\n",
    "            return_text.append(min_text)\n",
    "            print(min_text)\n",
    "            # return_text.append(model_pipeline.summarizer(input_text[text_start_pointer:text_start_pointer+1999]))\n",
    "            text_start_pointer = text_end_pointer\n",
    "        else:\n",
    "            # return_text.append(model_pipeline(input_text[text_start_pointer:]))\n",
    "            min_text = model_pipeline(input_text[text_start_pointer:])\n",
    "            return_text.append(min_text)\n",
    "            print(min_text)\n",
    "            # return_text.append(model_pipeline.summarizer(input_text[text_start_pointer:]))\n",
    "            return return_text\n",
    "\n",
    "\n"
   ],
   "metadata": {
    "collapsed": false,
    "ExecuteTime": {
     "start_time": "2023-05-04T14:23:34.652891Z",
     "end_time": "2023-05-04T14:23:34.695361Z"
    }
   }
  },
  {
   "cell_type": "code",
   "execution_count": 23,
   "outputs": [
    {
     "name": "stderr",
     "output_type": "stream",
     "text": [
      "Your max_length is set to 1000, but you input_length is only 894. You might consider decreasing max_length manually, e.g. summarizer('...', max_length=447)\n"
     ]
    },
    {
     "name": "stdout",
     "output_type": "stream",
     "text": [
      "4203\n",
      "1995\n"
     ]
    },
    {
     "name": "stderr",
     "output_type": "stream",
     "text": [
      "Your max_length is set to 1000, but you input_length is only 871. You might consider decreasing max_length manually, e.g. summarizer('...', max_length=435)\n"
     ]
    },
    {
     "name": "stdout",
     "output_type": "stream",
     "text": [
      "[{'summary_text': '2016년 6월에 문을 연 고양어린이박물관은 체험학습형 문화공간임을 내세우며 어린이들이 무궁무진한 자신의 가능성 발견과 키우도록 돕고 응원하는 것이라고 밝혔다.                                                                                                                                                                                                                                                                                                                                                                                                                                                                                                                                                                                                                                                                                                                                                                                                                                                                                                                                                                                                  '}]\n",
      "4203\n",
      "3990\n"
     ]
    },
    {
     "name": "stderr",
     "output_type": "stream",
     "text": [
      "Your max_length is set to 1000, but you input_length is only 99. You might consider decreasing max_length manually, e.g. summarizer('...', max_length=49)\n"
     ]
    },
    {
     "name": "stdout",
     "output_type": "stream",
     "text": [
      "[{'summary_text': '고양어린이박물관은 어린이날을 맞아 5일부터 6일까지 ‘2023년 들썩들썩 놀자 페스티벌’을 개최하여 야외에서 놀이와 체험의 장을 펼칠 예정이다.                                                                                                                                                                                                                                                                                                                                                                                                                                                                                                                                                                                                                                                                                                                                                                                                                                                                                                                                                                                                   '}]\n",
      "[{'summary_text': '어린이날 축제 야외 체험 행사는 예약 없이 누구나 참여할 수 있으며 행사장은 공연과 퀴즈 같은 이벤트와 상상, 상상, 마음을 펼쳐보세요 구역으로 구성되고 고양어린이박물관은 아이들의 빛나는 눈빛과 해맑은 웃음소리로 가득하다.                                                                                                                     \\n                                                                                                                                                                                                                                                                                                                                                                                                                                                                                                                                                                                                                                                                                                                                                                                                                                                                '}]\n"
     ]
    },
    {
     "data": {
      "text/plain": "[[{'summary_text': '2016년 6월에 문을 연 고양어린이박물관은 체험학습형 문화공간임을 내세우며 어린이들이 무궁무진한 자신의 가능성 발견과 키우도록 돕고 응원하는 것이라고 밝혔다.                                                                                                                                                                                                                                                                                                                                                                                                                                                                                                                                                                                                                                                                                                                                                                                                                                                                                                                                                                                                  '}],\n [{'summary_text': '고양어린이박물관은 어린이날을 맞아 5일부터 6일까지 ‘2023년 들썩들썩 놀자 페스티벌’을 개최하여 야외에서 놀이와 체험의 장을 펼칠 예정이다.                                                                                                                                                                                                                                                                                                                                                                                                                                                                                                                                                                                                                                                                                                                                                                                                                                                                                                                                                                                                   '}],\n [{'summary_text': '어린이날 축제 야외 체험 행사는 예약 없이 누구나 참여할 수 있으며 행사장은 공연과 퀴즈 같은 이벤트와 상상, 상상, 마음을 펼쳐보세요 구역으로 구성되고 고양어린이박물관은 아이들의 빛나는 눈빛과 해맑은 웃음소리로 가득하다.                                                                                                                     \\n                                                                                                                                                                                                                                                                                                                                                                                                                                                                                                                                                                                                                                                                                                                                                                                                                                                                '}]]"
     },
     "execution_count": 23,
     "metadata": {},
     "output_type": "execute_result"
    }
   ],
   "source": [
    "check_and_summarize(\n",
    "    input_text='''\n",
    "    동심 ‘활짝’ 꿈이 ‘활짝’…아이들 웃음소리 가득 '어린이 세상'\n",
    "\n",
    "\n",
    "숲 속의 나무를 모티브로 박물관 중앙에 설치, 아이들이 오르내리는 활동을 하는 ‘아이그루’. 윤원규기자\n",
    "\n",
    "오월의 숲은 뛰어노는 어린이들처럼 활기차다. 둥근 지붕선이 멋진 건물이 시선을 사로잡는다. 햇볕 가림막이 있는 원형 의자를 한 그루 나무로 배치했다. 노랑, 연두, 초록의 늘씬한 나무들이 무리지어 있는 숲을 형상화한 고양어린이박물관을 하늘에서 내려다보면 12가지 무지개 색상으로 채색돼 있다. 어울림의 세상을 다양한 색깔로 표현한 것이다. 경기북부 지역의 어린이와 가족들을 위해 고양특례시 덕양구 화중동에 마련된 고양어린이박물관(관장 조현영)은 2016년 6월에 문을 열었다. ‘체험학습형 문화공간’임을 내세우는 고양어린이박물관의 주제는 ‘꿈과 미래를 만나는 여행’이다. 여행의 목적은 어린이들이 “무궁무진한 자신의 가능성”을 발견하고 키우도록 돕고 응원하는 것이다.\n",
    "\n",
    "■ 세상의 모든 것을 만나는 곳\n",
    "\n",
    "박물관 로비에 나무 모양의 조각 작품이 설치돼 있다. 벽면을 장식한 것은 아이들의 그림이다. 엄마 얼굴, 꽃과 나무, 물고기와 아기 공룡이 관람객의 입가에 미소를 짓게 한다. ‘즐거운 나뭇잎 벽화’ 앞에서 무언가에 열중하고 있는 아이들의 표정, 선생님을 따라 이동하는 아이들의 발걸음이 흥겹다. 아이들에게 안전만큼 중요한 것이 있을까? 놀이를 통해 안전습관을 배울 수 있는 ‘안전을 약속해’라는 생활안전체험 공간도 눈에 띈다.\n",
    "\n",
    "박물관 중앙에 설치된 ‘아이그루’는 아이들에게 인기 만점이다. 숲 속 거대한 나무를 모티브로 한 신체활동 체험물로 나무를 오르며 도전정신과 모험심을 기르며 성취감을 느껴보는 곳이다. 탐험을 하다 친구와 가는 길이 겹치거나 마주치면서 양보와 배려, 질서를 자연스럽게 배운다.\n",
    "\n",
    "안전한 양말과 미끄럽지 않은 운동화와 안전모가 준비되어 있어 안전하게 체험활동을 할 수 있다. “색다른 주제와 발전된 기술을 새롭게 만나보는 전시”가 열리는 기획전시실에는 현재 고양시의 장항습지를 디지털 숲과 AR체험으로 만날 수 있는 ‘원더풀 랜드’가 전시 중이다. \n",
    "\n",
    "장항습지는 우리나라에서 24번째 람사르습지로 등록된 곳이다. ‘원더풀 랜드’ 앱을 다운 받으면 도시에서 발견된 장항습지 야생동물을 구조하여 디지털 숲으로 돌려보내줄 수 있음을 알려준다. 푸른 이끼로 둘러싸인 동굴을 지나면 온갖 동물들이 살고 있는 장항습지를 디지털로 구현한 신비한 현장이 나타난다.\n",
    "\n",
    "\n",
    "(왼쪽부터)①2016년 6월 고양특례시 화정동에서 개관한 고양어린이박물관은 12가지 체험전시실에서 아이들이 다양한 활동을 체험할 수 있다. 고양어린이박물관 전경 ②다양한 꽃향기를 통해 후각을 발달시키며 꽃의 구조 등을 공부하는 ‘꽃향기마을’. 윤원규기자\n",
    "\n",
    "■ 호기심을 키우고 차이와 어울림을 배운다\n",
    "\n",
    "2층에는 다양하고 흥미로운 주제를 다루는 전시관이 이어진다. 꽃의 생태와 문화적 의미를 배울 수 있는 ‘꽃향기 마을’을 비롯해서 인종, 성별, 종교, 장애 등 다름을 배울 수 있는 ‘함께 사는 세상’이 있다. ‘함께 사는 세상’은 다른 나라 사람들의 삶과 문화를 체험하며 이해해 보는 재미있는 공간이다. \n",
    "\n",
    "현재 소개하는 나라는 스웨덴이다. 스웨덴에는 어떤 친구가 살고 있을까? 동화와 영화의 주인공으로도 유명한 ‘삐삐’가 바로 스웨덴을 대표하는 인물이다. 삐삐의 옷방, 삐삐의 주방, 삐삐의 거실에서 벽에 걸려 있는 옷을 입어보고 사진을 찍어보면서 머나먼 나라 스웨덴 사람들의 문화를 알아가도록 꾸며져 있는 것이 재미있다. 옷과 가구, 좋아하는 무늬 등 스웨덴의 문화와 예술을 경험하며 차이와 다름을 배워가는 시간이기도 하다. \n",
    "\n",
    "우주와 지구 환경의 중요성을 놀이를 통해 알아보는 ‘안녕 지구!’, 각종 실험 기구를 통해 물의 성질과 원리를 배우는 ‘물빛마을’이 이어진다. ‘물빛마을’은 물의 소중함을 알려주는 공간이다. 물이 없다면 도대체 무슨 일이 일어날까? 물빛마을에서 물의 힘을 체험하며 물 에너지에 대해 이해하고, 물의 흐름을 바꾸며 이리저리 바뀌는 물의 이동 모습을 살펴보며 물을 새롭게 이해한다. 물을 통한 다양한 놀이로 물의 성질과 원리를 발견하고 물의 소중함을 느끼기 마련이다. \n",
    "\n",
    "36개월 미만의 유아와 부모들을 위한 휴식과 놀이의 공간 ‘아기산책’은 영유아들의 감각을 기반으로 공간에 대한 이해와 시각, 촉각, 청각 등 감각 발달을 지원하는 체험 공간이다. 엄마와 함께 소형, 대형 쿠션을 옮기고, 아빠와 함께 소리가 나는 물체를 만져보는 유아들의 몸짓이 사랑스럽다. 스펀지 매트 위에서 마음껏 뛰어놀 수 있는 뛰는방, 소리가 나는 물체를 흔들며 소리를 탐색하는 기둥방, U자방, 까꿍 끈방, 아늑한 방, 검은방, 동굴방 등 재미있는 공간이 이어진다.\n",
    "\n",
    "\n",
    "(왼쪽부터)①물에 대한 개념과 중요성을 공부할 수 있는 ‘물빛마을’ ②반려동물이 죽음 후 어떻게 될까? 상상에서 기획된 ‘나나아스트로 고양:별 여행 특별전시’. 윤원규기자\n",
    "\n",
    "■ 어린이들이 주인공이 되어 직접 꾸미는 박물관\n",
    "\n",
    "3층은 애니메이션의 제작과정을 직접 체험해보고 이해할 수 있는 ‘애니팩토리’를 비롯해 과거와 현재, 미래가 어우러진 도시 ‘고양시’를 직접 만들어보고 체험해 볼 수 있는 ‘건축놀이터’, ‘꽃’을 주제로 풍부한 상상력과 예술적 감각을 키워볼 수 있는 ‘아트갤러리’를 만날 수 있다. 간단히 식사나 음료를 즐길 수 있는 카페테리아, 텃밭과 테라스가 펼쳐진 야외정원이 있는 옥상까지 있어 가족들과 휴식을 즐기기에 좋다.\n",
    "\n",
    "고양어린이박물관은 어린이교육 전문가들의 학술자문을 통해 다양한 테마별 주제로 풍성하게 꾸며졌다. 어린이들의 호기심을 자극하고 자신감을 키우며, 문제해결 능력을 높이고 그들 스스로 고유한 잠재 능력을 발휘하도록 돕는다. 박물관 관계자는 “어린이의 잠재력에는 한계가 없다”고 강조한다. “어린이의 그 큰 가능성처럼 고양어린이박물관은 더 앞선 생각과 새로운 도전으로 큰 그림을 그려가고 있습니다. 고양어린이박물관은 그 무궁무진한 상상을 현실로 펼치는 최고의 공간과 최고의 시간을 선물합니다.”\n",
    "\n",
    "다양한 테마로 구성된 12개의 기획전시실과 상설전시실 및 체험물을 통해 어린이 가족의 오감을 만족시키는 경험을 선사한다. 어린이박물관은 어린이가 주도적으로 보고 느끼고 만들어가는 체험 교육을 중시한다. 이를 통해 아이들은 호기심과 상상력을 키워간다. 대상별(유아·초등·가족·성인) 교육, 시즌 교육, 전시 연계 교육 등 늘 찾고 싶은 가족 복합문화공간이다. 축제, 온·오프라인 연계 이벤트 등 다채로운 프로그램을 펼치고 있다. 어린이날과 크리스마스 등 계절별 축제, 뮤지엄라운지 프로그램, 메이커스페이스, 박물관 크리에이터 가족 ‘와글팸’ 등 유연한 운영이 특징이다. 배려와 공존을 생각하며 누구나 누리는 장벽 없는 박물관, 안전하고 편안한 박물관을 추구하며 만들어왔다.\n",
    "\n",
    "올해 말까지 이어지는 ‘나나아스트로 고양: 별 여행’은 우주 고양이 나나아스트로와 함께 떠나는 고양별(Goyang Planet) 여행이다. 함께 지내던 반려동물이 우리 곁에서 사라진다면 어떨까? 작가는 반려 고양이 ‘나나’가 떠난 후 이별의 슬픔을 예술을 통해 풀어냈다. 작가의 상상 속에서 재탄생한 ‘나나아스트로’와 함께 광활한 우주 속을 탐험한다. ‘나나아스트로’의 첫 번째 여행지는 고양별이다. 꽃과 식물은 어떻게 자라나는 걸까? ‘꽃향기마을’은 꽃을 심어보고, 피어나는 꽃을 관찰하고, 다양한 꽃의 씨앗을 탐색하며 꽃과 식물의 특징에 대해 알아보는 프로그램이다. 꽃과 함께하는 일상의 즐거움을 경험하고 자연과 더욱 친해질 수 있다.\n",
    "\n",
    "고양어린이박물관은 어린이날을 맞아 5일부터 6일까지 '2023년 들썩들썩 놀자 페스티벌'을 열고 어린이들을 맞이할 예정이다.\n",
    "■ 아이들이 행복해야 모두가 행복해진다\n",
    "\n",
    "박물관 곳곳에 고양시의 특성을 반영한 디자인과 시설들을 배치하여 자연스럽게 꽃박람회가 열리고 호수공원이 유명한 도시라는 사실을 각인시켜준다.\n",
    "\n",
    "고양어린이박물관은 어린이날을 맞아 5일부터 6일까지 열리는 ‘2023년 들썩들썩 놀자 페스티벌’은 ‘맘껏 펼침’을 주제로 어린이들이 무엇이든 마음껏 펼칠 만한 놀이와 체험의 장을 어린이박물관 실내와 야외광장에서 진행한다.\n",
    "\n",
    "다양한 체험·공연이 펼쳐질 어린이날 축제 야외 체험 행사는 예약 없이 누구나 참여할 수 있다. 행사장은 ‘놀이를 펼쳐봐’ 공연과 퀴즈 같은 이벤트로 어린이들의 상상을 실현하는 ‘상상을 펼쳐봐’와 ‘생각을 펼쳐봐’ 야외광장에서 가족들과 소풍을 즐길 ‘마음을 펼쳐봐’ 구역으로 구성된다. 고양어린이박물관은 아이들의 빛나는 눈빛과 해맑은 웃음소리로 가득하다. 김준영 다사리행복평생교육학교\n",
    "\n",
    "   ''',\n",
    "    max_length=2000,\n",
    "    model_pipeline=kk\n",
    ")"
   ],
   "metadata": {
    "collapsed": false,
    "ExecuteTime": {
     "start_time": "2023-05-04T15:20:10.138420Z",
     "end_time": "2023-05-04T15:21:48.598724Z"
    }
   }
  },
  {
   "cell_type": "code",
   "execution_count": null,
   "outputs": [],
   "source": [
    "kk.summarizer()"
   ],
   "metadata": {
    "collapsed": false,
    "ExecuteTime": {
     "start_time": "2023-05-04T13:46:36.540378Z",
     "end_time": "2023-05-04T13:46:36.595073Z"
    }
   }
  },
  {
   "cell_type": "code",
   "execution_count": null,
   "outputs": [],
   "source": [
    "SummarizationPipeline"
   ],
   "metadata": {
    "collapsed": false
   }
  },
  {
   "cell_type": "code",
   "execution_count": 14,
   "outputs": [
    {
     "ename": "TypeError",
     "evalue": "int() argument must be a string, a bytes-like object or a number, not 'dict'",
     "output_type": "error",
     "traceback": [
      "\u001B[1;31m---------------------------------------------------------------------------\u001B[0m",
      "\u001B[1;31mTypeError\u001B[0m                                 Traceback (most recent call last)",
      "Cell \u001B[1;32mIn[14], line 1\u001B[0m\n\u001B[1;32m----> 1\u001B[0m \u001B[43mpprint\u001B[49m\u001B[43m(\u001B[49m\n\u001B[0;32m      2\u001B[0m \u001B[43m{\u001B[49m\u001B[38;5;124;43m'\u001B[39;49m\u001B[38;5;124;43meval_loss\u001B[39;49m\u001B[38;5;124;43m'\u001B[39;49m\u001B[43m:\u001B[49m\u001B[43m \u001B[49m\u001B[38;5;241;43m1.2743964195251465\u001B[39;49m\u001B[43m,\u001B[49m\u001B[43m \u001B[49m\u001B[38;5;124;43m'\u001B[39;49m\u001B[38;5;124;43meval_rouge1\u001B[39;49m\u001B[38;5;124;43m'\u001B[39;49m\u001B[43m:\u001B[49m\u001B[43m \u001B[49m\u001B[38;5;241;43m31.3893\u001B[39;49m\u001B[43m,\u001B[49m\u001B[43m \u001B[49m\u001B[38;5;124;43m'\u001B[39;49m\u001B[38;5;124;43meval_rouge2\u001B[39;49m\u001B[38;5;124;43m'\u001B[39;49m\u001B[43m:\u001B[49m\u001B[43m \u001B[49m\u001B[38;5;241;43m9.9513\u001B[39;49m\u001B[43m,\u001B[49m\u001B[43m \u001B[49m\u001B[38;5;124;43m'\u001B[39;49m\u001B[38;5;124;43meval_rougeL\u001B[39;49m\u001B[38;5;124;43m'\u001B[39;49m\u001B[43m:\u001B[49m\u001B[43m \u001B[49m\u001B[38;5;241;43m30.8792\u001B[39;49m\u001B[43m,\u001B[49m\u001B[43m \u001B[49m\u001B[38;5;124;43m'\u001B[39;49m\u001B[38;5;124;43meval_rougeLsum\u001B[39;49m\u001B[38;5;124;43m'\u001B[39;49m\u001B[43m:\u001B[49m\u001B[43m \u001B[49m\u001B[38;5;241;43m30.7456\u001B[39;49m\u001B[43m,\u001B[49m\u001B[43m \u001B[49m\u001B[38;5;124;43m'\u001B[39;49m\u001B[38;5;124;43meval_gen_len\u001B[39;49m\u001B[38;5;124;43m'\u001B[39;49m\u001B[43m:\u001B[49m\u001B[43m \u001B[49m\u001B[38;5;241;43m20.0\u001B[39;49m\u001B[43m,\u001B[49m\u001B[43m \u001B[49m\u001B[38;5;124;43m'\u001B[39;49m\u001B[38;5;124;43meval_runtime\u001B[39;49m\u001B[38;5;124;43m'\u001B[39;49m\u001B[43m:\u001B[49m\u001B[43m \u001B[49m\u001B[38;5;241;43m91.9617\u001B[39;49m\u001B[43m,\u001B[49m\u001B[43m \u001B[49m\u001B[38;5;124;43m'\u001B[39;49m\u001B[38;5;124;43meval_samples_per_second\u001B[39;49m\u001B[38;5;124;43m'\u001B[39;49m\u001B[43m:\u001B[49m\u001B[43m \u001B[49m\u001B[38;5;241;43m10.874\u001B[39;49m\u001B[43m,\u001B[49m\u001B[43m \u001B[49m\u001B[38;5;124;43m'\u001B[39;49m\u001B[38;5;124;43meval_steps_per_second\u001B[39;49m\u001B[38;5;124;43m'\u001B[39;49m\u001B[43m:\u001B[49m\u001B[43m \u001B[49m\u001B[38;5;241;43m5.437\u001B[39;49m\u001B[43m,\u001B[49m\u001B[43m \u001B[49m\u001B[38;5;124;43m'\u001B[39;49m\u001B[38;5;124;43mepoch\u001B[39;49m\u001B[38;5;124;43m'\u001B[39;49m\u001B[43m:\u001B[49m\u001B[43m \u001B[49m\u001B[38;5;241;43m1.0\u001B[39;49m\u001B[43m}\u001B[49m\n\u001B[0;32m      3\u001B[0m \u001B[43m,\u001B[49m\n\u001B[0;32m      4\u001B[0m \u001B[43m{\u001B[49m\u001B[38;5;124;43m'\u001B[39;49m\u001B[38;5;124;43meval_loss\u001B[39;49m\u001B[38;5;124;43m'\u001B[39;49m\u001B[43m:\u001B[49m\u001B[43m \u001B[49m\u001B[38;5;241;43m1.131081461906433\u001B[39;49m\u001B[43m,\u001B[49m\u001B[43m \u001B[49m\u001B[38;5;124;43m'\u001B[39;49m\u001B[38;5;124;43meval_rouge1\u001B[39;49m\u001B[38;5;124;43m'\u001B[39;49m\u001B[43m:\u001B[49m\u001B[43m \u001B[49m\u001B[38;5;241;43m31.4911\u001B[39;49m\u001B[43m,\u001B[49m\u001B[43m \u001B[49m\u001B[38;5;124;43m'\u001B[39;49m\u001B[38;5;124;43meval_rouge2\u001B[39;49m\u001B[38;5;124;43m'\u001B[39;49m\u001B[43m:\u001B[49m\u001B[43m \u001B[49m\u001B[38;5;241;43m9.4124\u001B[39;49m\u001B[43m,\u001B[49m\u001B[43m \u001B[49m\u001B[38;5;124;43m'\u001B[39;49m\u001B[38;5;124;43meval_rougeL\u001B[39;49m\u001B[38;5;124;43m'\u001B[39;49m\u001B[43m:\u001B[49m\u001B[43m \u001B[49m\u001B[38;5;241;43m30.6447\u001B[39;49m\u001B[43m,\u001B[49m\u001B[43m \u001B[49m\u001B[38;5;124;43m'\u001B[39;49m\u001B[38;5;124;43meval_rougeLsum\u001B[39;49m\u001B[38;5;124;43m'\u001B[39;49m\u001B[43m:\u001B[49m\u001B[43m \u001B[49m\u001B[38;5;241;43m30.6715\u001B[39;49m\u001B[43m,\u001B[49m\u001B[43m \u001B[49m\u001B[38;5;124;43m'\u001B[39;49m\u001B[38;5;124;43meval_gen_len\u001B[39;49m\u001B[38;5;124;43m'\u001B[39;49m\u001B[43m:\u001B[49m\u001B[43m \u001B[49m\u001B[38;5;241;43m20.0\u001B[39;49m\u001B[43m,\u001B[49m\u001B[43m \u001B[49m\u001B[38;5;124;43m'\u001B[39;49m\u001B[38;5;124;43meval_runtime\u001B[39;49m\u001B[38;5;124;43m'\u001B[39;49m\u001B[43m:\u001B[49m\u001B[43m \u001B[49m\u001B[38;5;241;43m92.8908\u001B[39;49m\u001B[43m,\u001B[49m\u001B[43m \u001B[49m\u001B[38;5;124;43m'\u001B[39;49m\u001B[38;5;124;43meval_samples_per_second\u001B[39;49m\u001B[38;5;124;43m'\u001B[39;49m\u001B[43m:\u001B[49m\u001B[43m \u001B[49m\u001B[38;5;241;43m10.765\u001B[39;49m\u001B[43m,\u001B[49m\u001B[43m \u001B[49m\u001B[38;5;124;43m'\u001B[39;49m\u001B[38;5;124;43meval_steps_per_second\u001B[39;49m\u001B[38;5;124;43m'\u001B[39;49m\u001B[43m:\u001B[49m\u001B[43m \u001B[49m\u001B[38;5;241;43m5.383\u001B[39;49m\u001B[43m,\u001B[49m\u001B[43m \u001B[49m\u001B[38;5;124;43m'\u001B[39;49m\u001B[38;5;124;43mepoch\u001B[39;49m\u001B[38;5;124;43m'\u001B[39;49m\u001B[43m:\u001B[49m\u001B[43m \u001B[49m\u001B[38;5;241;43m2.0\u001B[39;49m\u001B[43m}\u001B[49m\n\u001B[0;32m      5\u001B[0m \u001B[43m,\u001B[49m\n\u001B[0;32m      6\u001B[0m \u001B[43m{\u001B[49m\u001B[38;5;124;43m'\u001B[39;49m\u001B[38;5;124;43meval_loss\u001B[39;49m\u001B[38;5;124;43m'\u001B[39;49m\u001B[43m:\u001B[49m\u001B[43m \u001B[49m\u001B[38;5;241;43m1.0215352773666382\u001B[39;49m\u001B[43m,\u001B[49m\u001B[43m \u001B[49m\u001B[38;5;124;43m'\u001B[39;49m\u001B[38;5;124;43meval_rouge1\u001B[39;49m\u001B[38;5;124;43m'\u001B[39;49m\u001B[43m:\u001B[49m\u001B[43m \u001B[49m\u001B[38;5;241;43m32.5295\u001B[39;49m\u001B[43m,\u001B[49m\u001B[43m \u001B[49m\u001B[38;5;124;43m'\u001B[39;49m\u001B[38;5;124;43meval_rouge2\u001B[39;49m\u001B[38;5;124;43m'\u001B[39;49m\u001B[43m:\u001B[49m\u001B[43m \u001B[49m\u001B[38;5;241;43m9.9756\u001B[39;49m\u001B[43m,\u001B[49m\u001B[43m \u001B[49m\u001B[38;5;124;43m'\u001B[39;49m\u001B[38;5;124;43meval_rougeL\u001B[39;49m\u001B[38;5;124;43m'\u001B[39;49m\u001B[43m:\u001B[49m\u001B[43m \u001B[49m\u001B[38;5;241;43m31.8923\u001B[39;49m\u001B[43m,\u001B[49m\u001B[43m \u001B[49m\u001B[38;5;124;43m'\u001B[39;49m\u001B[38;5;124;43meval_rougeLsum\u001B[39;49m\u001B[38;5;124;43m'\u001B[39;49m\u001B[43m:\u001B[49m\u001B[43m \u001B[49m\u001B[38;5;241;43m31.8619\u001B[39;49m\u001B[43m,\u001B[49m\u001B[43m \u001B[49m\u001B[38;5;124;43m'\u001B[39;49m\u001B[38;5;124;43meval_gen_len\u001B[39;49m\u001B[38;5;124;43m'\u001B[39;49m\u001B[43m:\u001B[49m\u001B[43m \u001B[49m\u001B[38;5;241;43m20.0\u001B[39;49m\u001B[43m,\u001B[49m\u001B[43m \u001B[49m\u001B[38;5;124;43m'\u001B[39;49m\u001B[38;5;124;43meval_runtime\u001B[39;49m\u001B[38;5;124;43m'\u001B[39;49m\u001B[43m:\u001B[49m\u001B[43m \u001B[49m\u001B[38;5;241;43m90.9748\u001B[39;49m\u001B[43m,\u001B[49m\u001B[43m \u001B[49m\u001B[38;5;124;43m'\u001B[39;49m\u001B[38;5;124;43meval_samples_per_second\u001B[39;49m\u001B[38;5;124;43m'\u001B[39;49m\u001B[43m:\u001B[49m\u001B[43m \u001B[49m\u001B[38;5;241;43m10.992\u001B[39;49m\u001B[43m,\u001B[49m\u001B[43m \u001B[49m\u001B[38;5;124;43m'\u001B[39;49m\u001B[38;5;124;43meval_steps_per_second\u001B[39;49m\u001B[38;5;124;43m'\u001B[39;49m\u001B[43m:\u001B[49m\u001B[43m \u001B[49m\u001B[38;5;241;43m5.496\u001B[39;49m\u001B[43m,\u001B[49m\u001B[43m \u001B[49m\u001B[38;5;124;43m'\u001B[39;49m\u001B[38;5;124;43mepoch\u001B[39;49m\u001B[38;5;124;43m'\u001B[39;49m\u001B[43m:\u001B[49m\u001B[43m \u001B[49m\u001B[38;5;241;43m3.0\u001B[39;49m\u001B[43m}\u001B[49m\n\u001B[0;32m      7\u001B[0m \u001B[43m,\u001B[49m\n\u001B[0;32m      8\u001B[0m \u001B[43m{\u001B[49m\u001B[38;5;124;43m'\u001B[39;49m\u001B[38;5;124;43meval_loss\u001B[39;49m\u001B[38;5;124;43m'\u001B[39;49m\u001B[43m:\u001B[49m\u001B[43m \u001B[49m\u001B[38;5;241;43m0.9170267581939697\u001B[39;49m\u001B[43m,\u001B[49m\u001B[43m \u001B[49m\u001B[38;5;124;43m'\u001B[39;49m\u001B[38;5;124;43meval_rouge1\u001B[39;49m\u001B[38;5;124;43m'\u001B[39;49m\u001B[43m:\u001B[49m\u001B[43m \u001B[49m\u001B[38;5;241;43m34.2566\u001B[39;49m\u001B[43m,\u001B[49m\u001B[43m \u001B[49m\u001B[38;5;124;43m'\u001B[39;49m\u001B[38;5;124;43meval_rouge2\u001B[39;49m\u001B[38;5;124;43m'\u001B[39;49m\u001B[43m:\u001B[49m\u001B[43m \u001B[49m\u001B[38;5;241;43m10.4092\u001B[39;49m\u001B[43m,\u001B[49m\u001B[43m \u001B[49m\u001B[38;5;124;43m'\u001B[39;49m\u001B[38;5;124;43meval_rougeL\u001B[39;49m\u001B[38;5;124;43m'\u001B[39;49m\u001B[43m:\u001B[49m\u001B[43m \u001B[49m\u001B[38;5;241;43m33.5801\u001B[39;49m\u001B[43m,\u001B[49m\u001B[43m \u001B[49m\u001B[38;5;124;43m'\u001B[39;49m\u001B[38;5;124;43meval_rougeLsum\u001B[39;49m\u001B[38;5;124;43m'\u001B[39;49m\u001B[43m:\u001B[49m\u001B[43m \u001B[49m\u001B[38;5;241;43m33.4543\u001B[39;49m\u001B[43m,\u001B[49m\u001B[43m \u001B[49m\u001B[38;5;124;43m'\u001B[39;49m\u001B[38;5;124;43meval_gen_len\u001B[39;49m\u001B[38;5;124;43m'\u001B[39;49m\u001B[43m:\u001B[49m\u001B[43m \u001B[49m\u001B[38;5;241;43m20.0\u001B[39;49m\u001B[43m,\u001B[49m\u001B[43m \u001B[49m\u001B[38;5;124;43m'\u001B[39;49m\u001B[38;5;124;43meval_runtime\u001B[39;49m\u001B[38;5;124;43m'\u001B[39;49m\u001B[43m:\u001B[49m\u001B[43m \u001B[49m\u001B[38;5;241;43m93.7364\u001B[39;49m\u001B[43m,\u001B[49m\u001B[43m \u001B[49m\u001B[38;5;124;43m'\u001B[39;49m\u001B[38;5;124;43meval_samples_per_second\u001B[39;49m\u001B[38;5;124;43m'\u001B[39;49m\u001B[43m:\u001B[49m\u001B[43m \u001B[49m\u001B[38;5;241;43m10.668\u001B[39;49m\u001B[43m,\u001B[49m\u001B[43m \u001B[49m\u001B[38;5;124;43m'\u001B[39;49m\u001B[38;5;124;43meval_steps_per_second\u001B[39;49m\u001B[38;5;124;43m'\u001B[39;49m\u001B[43m:\u001B[49m\u001B[43m \u001B[49m\u001B[38;5;241;43m5.334\u001B[39;49m\u001B[43m,\u001B[49m\u001B[43m \u001B[49m\u001B[38;5;124;43m'\u001B[39;49m\u001B[38;5;124;43mepoch\u001B[39;49m\u001B[38;5;124;43m'\u001B[39;49m\u001B[43m:\u001B[49m\u001B[43m \u001B[49m\u001B[38;5;241;43m4.0\u001B[39;49m\u001B[43m}\u001B[49m\n\u001B[0;32m      9\u001B[0m \u001B[43m,\u001B[49m\n\u001B[0;32m     10\u001B[0m \n\u001B[0;32m     11\u001B[0m \u001B[43m{\u001B[49m\u001B[38;5;124;43m'\u001B[39;49m\u001B[38;5;124;43meval_loss\u001B[39;49m\u001B[38;5;124;43m'\u001B[39;49m\u001B[43m:\u001B[49m\u001B[43m \u001B[49m\u001B[38;5;241;43m0.8687430024147034\u001B[39;49m\u001B[43m,\u001B[49m\u001B[43m \u001B[49m\u001B[38;5;124;43m'\u001B[39;49m\u001B[38;5;124;43meval_rouge1\u001B[39;49m\u001B[38;5;124;43m'\u001B[39;49m\u001B[43m:\u001B[49m\u001B[43m \u001B[49m\u001B[38;5;241;43m35.1149\u001B[39;49m\u001B[43m,\u001B[49m\u001B[43m \u001B[49m\u001B[38;5;124;43m'\u001B[39;49m\u001B[38;5;124;43meval_rouge2\u001B[39;49m\u001B[38;5;124;43m'\u001B[39;49m\u001B[43m:\u001B[49m\u001B[43m \u001B[49m\u001B[38;5;241;43m10.7804\u001B[39;49m\u001B[43m,\u001B[49m\u001B[43m \u001B[49m\u001B[38;5;124;43m'\u001B[39;49m\u001B[38;5;124;43meval_rougeL\u001B[39;49m\u001B[38;5;124;43m'\u001B[39;49m\u001B[43m:\u001B[49m\u001B[43m \u001B[49m\u001B[38;5;241;43m34.4786\u001B[39;49m\u001B[43m,\u001B[49m\u001B[43m \u001B[49m\u001B[38;5;124;43m'\u001B[39;49m\u001B[38;5;124;43meval_rougeLsum\u001B[39;49m\u001B[38;5;124;43m'\u001B[39;49m\u001B[43m:\u001B[49m\u001B[43m \u001B[49m\u001B[38;5;241;43m34.4206\u001B[39;49m\u001B[43m,\u001B[49m\u001B[43m \u001B[49m\u001B[38;5;124;43m'\u001B[39;49m\u001B[38;5;124;43meval_gen_len\u001B[39;49m\u001B[38;5;124;43m'\u001B[39;49m\u001B[43m:\u001B[49m\u001B[43m \u001B[49m\u001B[38;5;241;43m20.0\u001B[39;49m\u001B[43m,\u001B[49m\u001B[43m \u001B[49m\u001B[38;5;124;43m'\u001B[39;49m\u001B[38;5;124;43meval_runtime\u001B[39;49m\u001B[38;5;124;43m'\u001B[39;49m\u001B[43m:\u001B[49m\u001B[43m \u001B[49m\u001B[38;5;241;43m94.703\u001B[39;49m\u001B[43m,\u001B[49m\u001B[43m \u001B[49m\u001B[38;5;124;43m'\u001B[39;49m\u001B[38;5;124;43meval_samples_per_second\u001B[39;49m\u001B[38;5;124;43m'\u001B[39;49m\u001B[43m:\u001B[49m\u001B[43m \u001B[49m\u001B[38;5;241;43m10.559\u001B[39;49m\u001B[43m,\u001B[49m\u001B[43m \u001B[49m\u001B[38;5;124;43m'\u001B[39;49m\u001B[38;5;124;43meval_steps_per_second\u001B[39;49m\u001B[38;5;124;43m'\u001B[39;49m\u001B[43m:\u001B[49m\u001B[43m \u001B[49m\u001B[38;5;241;43m5.28\u001B[39;49m\u001B[43m,\u001B[49m\u001B[43m \u001B[49m\u001B[38;5;124;43m'\u001B[39;49m\u001B[38;5;124;43mepoch\u001B[39;49m\u001B[38;5;124;43m'\u001B[39;49m\u001B[43m:\u001B[49m\u001B[43m \u001B[49m\u001B[38;5;241;43m5.0\u001B[39;49m\u001B[43m}\u001B[49m\n\u001B[0;32m     12\u001B[0m \u001B[43m)\u001B[49m\n",
      "File \u001B[1;32m~\\miniconda3\\envs\\final\\lib\\pprint.py:50\u001B[0m, in \u001B[0;36mpprint\u001B[1;34m(object, stream, indent, width, depth, compact, sort_dicts)\u001B[0m\n\u001B[0;32m     47\u001B[0m \u001B[38;5;28;01mdef\u001B[39;00m \u001B[38;5;21mpprint\u001B[39m(\u001B[38;5;28mobject\u001B[39m, stream\u001B[38;5;241m=\u001B[39m\u001B[38;5;28;01mNone\u001B[39;00m, indent\u001B[38;5;241m=\u001B[39m\u001B[38;5;241m1\u001B[39m, width\u001B[38;5;241m=\u001B[39m\u001B[38;5;241m80\u001B[39m, depth\u001B[38;5;241m=\u001B[39m\u001B[38;5;28;01mNone\u001B[39;00m, \u001B[38;5;241m*\u001B[39m,\n\u001B[0;32m     48\u001B[0m            compact\u001B[38;5;241m=\u001B[39m\u001B[38;5;28;01mFalse\u001B[39;00m, sort_dicts\u001B[38;5;241m=\u001B[39m\u001B[38;5;28;01mTrue\u001B[39;00m):\n\u001B[0;32m     49\u001B[0m \u001B[38;5;250m    \u001B[39m\u001B[38;5;124;03m\"\"\"Pretty-print a Python object to a stream [default is sys.stdout].\"\"\"\u001B[39;00m\n\u001B[1;32m---> 50\u001B[0m     printer \u001B[38;5;241m=\u001B[39m \u001B[43mPrettyPrinter\u001B[49m\u001B[43m(\u001B[49m\n\u001B[0;32m     51\u001B[0m \u001B[43m        \u001B[49m\u001B[43mstream\u001B[49m\u001B[38;5;241;43m=\u001B[39;49m\u001B[43mstream\u001B[49m\u001B[43m,\u001B[49m\u001B[43m \u001B[49m\u001B[43mindent\u001B[49m\u001B[38;5;241;43m=\u001B[39;49m\u001B[43mindent\u001B[49m\u001B[43m,\u001B[49m\u001B[43m \u001B[49m\u001B[43mwidth\u001B[49m\u001B[38;5;241;43m=\u001B[39;49m\u001B[43mwidth\u001B[49m\u001B[43m,\u001B[49m\u001B[43m \u001B[49m\u001B[43mdepth\u001B[49m\u001B[38;5;241;43m=\u001B[39;49m\u001B[43mdepth\u001B[49m\u001B[43m,\u001B[49m\n\u001B[0;32m     52\u001B[0m \u001B[43m        \u001B[49m\u001B[43mcompact\u001B[49m\u001B[38;5;241;43m=\u001B[39;49m\u001B[43mcompact\u001B[49m\u001B[43m,\u001B[49m\u001B[43m \u001B[49m\u001B[43msort_dicts\u001B[49m\u001B[38;5;241;43m=\u001B[39;49m\u001B[43msort_dicts\u001B[49m\u001B[43m)\u001B[49m\n\u001B[0;32m     53\u001B[0m     printer\u001B[38;5;241m.\u001B[39mpprint(\u001B[38;5;28mobject\u001B[39m)\n",
      "File \u001B[1;32m~\\miniconda3\\envs\\final\\lib\\pprint.py:129\u001B[0m, in \u001B[0;36mPrettyPrinter.__init__\u001B[1;34m(self, indent, width, depth, stream, compact, sort_dicts)\u001B[0m\n\u001B[0;32m    104\u001B[0m \u001B[38;5;28;01mdef\u001B[39;00m \u001B[38;5;21m__init__\u001B[39m(\u001B[38;5;28mself\u001B[39m, indent\u001B[38;5;241m=\u001B[39m\u001B[38;5;241m1\u001B[39m, width\u001B[38;5;241m=\u001B[39m\u001B[38;5;241m80\u001B[39m, depth\u001B[38;5;241m=\u001B[39m\u001B[38;5;28;01mNone\u001B[39;00m, stream\u001B[38;5;241m=\u001B[39m\u001B[38;5;28;01mNone\u001B[39;00m, \u001B[38;5;241m*\u001B[39m,\n\u001B[0;32m    105\u001B[0m              compact\u001B[38;5;241m=\u001B[39m\u001B[38;5;28;01mFalse\u001B[39;00m, sort_dicts\u001B[38;5;241m=\u001B[39m\u001B[38;5;28;01mTrue\u001B[39;00m):\n\u001B[0;32m    106\u001B[0m \u001B[38;5;250m    \u001B[39m\u001B[38;5;124;03m\"\"\"Handle pretty printing operations onto a stream using a set of\u001B[39;00m\n\u001B[0;32m    107\u001B[0m \u001B[38;5;124;03m    configured parameters.\u001B[39;00m\n\u001B[0;32m    108\u001B[0m \n\u001B[1;32m   (...)\u001B[0m\n\u001B[0;32m    127\u001B[0m \n\u001B[0;32m    128\u001B[0m \u001B[38;5;124;03m    \"\"\"\u001B[39;00m\n\u001B[1;32m--> 129\u001B[0m     indent \u001B[38;5;241m=\u001B[39m \u001B[38;5;28;43mint\u001B[39;49m\u001B[43m(\u001B[49m\u001B[43mindent\u001B[49m\u001B[43m)\u001B[49m\n\u001B[0;32m    130\u001B[0m     width \u001B[38;5;241m=\u001B[39m \u001B[38;5;28mint\u001B[39m(width)\n\u001B[0;32m    131\u001B[0m     \u001B[38;5;28;01mif\u001B[39;00m indent \u001B[38;5;241m<\u001B[39m \u001B[38;5;241m0\u001B[39m:\n",
      "\u001B[1;31mTypeError\u001B[0m: int() argument must be a string, a bytes-like object or a number, not 'dict'"
     ]
    }
   ],
   "source": [
    "pprint(\n",
    "{'eval_loss': 1.2743964195251465, 'eval_rouge1': 31.3893, 'eval_rouge2': 9.9513, 'eval_rougeL': 30.8792, 'eval_rougeLsum': 30.7456, 'eval_gen_len': 20.0, 'eval_runtime': 91.9617, 'eval_samples_per_second': 10.874, 'eval_steps_per_second': 5.437, 'epoch': 1.0}\n",
    ",\n",
    "{'eval_loss': 1.131081461906433, 'eval_rouge1': 31.4911, 'eval_rouge2': 9.4124, 'eval_rougeL': 30.6447, 'eval_rougeLsum': 30.6715, 'eval_gen_len': 20.0, 'eval_runtime': 92.8908, 'eval_samples_per_second': 10.765, 'eval_steps_per_second': 5.383, 'epoch': 2.0}\n",
    ",\n",
    "{'eval_loss': 1.0215352773666382, 'eval_rouge1': 32.5295, 'eval_rouge2': 9.9756, 'eval_rougeL': 31.8923, 'eval_rougeLsum': 31.8619, 'eval_gen_len': 20.0, 'eval_runtime': 90.9748, 'eval_samples_per_second': 10.992, 'eval_steps_per_second': 5.496, 'epoch': 3.0}\n",
    ",\n",
    "{'eval_loss': 0.9170267581939697, 'eval_rouge1': 34.2566, 'eval_rouge2': 10.4092, 'eval_rougeL': 33.5801, 'eval_rougeLsum': 33.4543, 'eval_gen_len': 20.0, 'eval_runtime': 93.7364, 'eval_samples_per_second': 10.668, 'eval_steps_per_second': 5.334, 'epoch': 4.0}\n",
    ",\n",
    "\n",
    "{'eval_loss': 0.8687430024147034, 'eval_rouge1': 35.1149, 'eval_rouge2': 10.7804, 'eval_rougeL': 34.4786, 'eval_rougeLsum': 34.4206, 'eval_gen_len': 20.0, 'eval_runtime': 94.703, 'eval_samples_per_second': 10.559, 'eval_steps_per_second': 5.28, 'epoch': 5.0}\n",
    ")"
   ],
   "metadata": {
    "collapsed": false,
    "ExecuteTime": {
     "start_time": "2023-05-07T14:33:32.041388Z",
     "end_time": "2023-05-07T14:33:32.064592Z"
    }
   }
  },
  {
   "cell_type": "code",
   "execution_count": 15,
   "outputs": [
    {
     "name": "stdout",
     "output_type": "stream",
     "text": [
      "{'epoch': 5.0,\n",
      " 'eval_gen_len': 20.0,\n",
      " 'eval_loss': 0.8687430024147034,\n",
      " 'eval_rouge1': 35.1149,\n",
      " 'eval_rouge2': 10.7804,\n",
      " 'eval_rougeL': 34.4786,\n",
      " 'eval_rougeLsum': 34.4206,\n",
      " 'eval_runtime': 94.703,\n",
      " 'eval_samples_per_second': 10.559,\n",
      " 'eval_steps_per_second': 5.28}\n"
     ]
    }
   ],
   "source": [
    "pprint({'eval_loss': 0.8687430024147034, 'eval_rouge1': 35.1149, 'eval_rouge2': 10.7804, 'eval_rougeL': 34.4786, 'eval_rougeLsum': 34.4206, 'eval_gen_len': 20.0, 'eval_runtime': 94.703, 'eval_samples_per_second': 10.559, 'eval_steps_per_second': 5.28, 'epoch': 5.0})"
   ],
   "metadata": {
    "collapsed": false,
    "ExecuteTime": {
     "start_time": "2023-05-07T14:34:35.378161Z",
     "end_time": "2023-05-07T14:34:35.401450Z"
    }
   }
  },
  {
   "cell_type": "code",
   "execution_count": null,
   "outputs": [],
   "source": [],
   "metadata": {
    "collapsed": false
   }
  }
 ],
 "metadata": {
  "kernelspec": {
   "display_name": "final",
   "language": "python",
   "name": "python3"
  },
  "language_info": {
   "codemirror_mode": {
    "name": "ipython",
    "version": 3
   },
   "file_extension": ".py",
   "mimetype": "text/x-python",
   "name": "python",
   "nbconvert_exporter": "python",
   "pygments_lexer": "ipython3",
   "version": "3.8.16"
  },
  "orig_nbformat": 4
 },
 "nbformat": 4,
 "nbformat_minor": 2
}
