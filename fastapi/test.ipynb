{
 "cells": [
  {
   "cell_type": "code",
   "execution_count": 1,
   "metadata": {
    "collapsed": true,
    "ExecuteTime": {
     "start_time": "2023-04-26T10:46:27.579338Z",
     "end_time": "2023-04-26T10:46:28.026251Z"
    }
   },
   "outputs": [],
   "source": [
    "from NewsCrawler import NewsCrawler"
   ]
  },
  {
   "cell_type": "code",
   "execution_count": 2,
   "outputs": [
    {
     "data": {
      "text/plain": "('200만원 항공권 취소했더니… 청천벽력 같은 답변 돌아왔다',\n '해외여행 늘면서 관련 소비자 상담 급증 해외 OTA 키위닷컴 환불불가 피해주의보 # 올해 9월 괌 여행을 계획 중인 A씨는 지난달 가격비교 사이트를 이용해 찾은 해외 온라인 여행사(OTA) 키위닷컴 에서 인천~괌 왕복 항공권 2매를 196만원에 구입했다. 다음날 개인 사정으로 구매를 취소하려 했으나 키위닷컴은 특정 기간 내 사용 가능한 적립금으로 10유로(약 1만5000원)만 지급했다.A씨가 나머지 금액 환불을 문의하자 키위닷컴은 상품 판매 페이지와 약관에 환불 불가 를 사전 안내한 점을 들어 추가 환불이 불가능하다고 답했다.이처럼 여행 관련 소비자 피해 사례가 잇따르고 있다. 엔데믹(감염병의 풍토병 전환)과 함께 해외여행 수요가 폭증한 가운데 신종 코로나바이러스 감염증(코로나19) 사태를 거치며 커진 여행비용 부담을 줄이려다 오히려 피해를 본 셈이다. 전문가들은 항공권과 숙박 등예약 시 거래 조건을 꼼꼼하게 확인해야 한다고 당부했다. OTA 키위닷컴 주의보…소비자 상담 급증 올해 들어 해외 OTA 키위닷컴 관련 소비자 상담이 크게 늘면서 한국소비자원은 주의를 당부했다. 25일 소비자원에 따르면 올해 1분기 공정거래위원회가 운영하는 ‘1372소비자상담센터’에 접수된 키위닷컴 관련 피해 사례는 95건으로 지난해 1분기(7건)의 10배가 넘었다. 지난해 4분기(46건)보다도 급증했다.올해 1분기 접수된 상담 95건 대부분이 A씨와 같이 ‘취소·환불·교환 지연 및 거부’(89건·93.8%) 사례였다. 키위닷컴이 판매 페이지에 ‘자발적 취소 시 환불 불가’ 조건을 표기했다는 점을 들어 환불을 거부했고, 적립금 10유로만 지급됐다는 내용이 골자다.해당 약관에 따르면 소비자는 개별 항공권 환불 규정에 의해 환불받을 수 있는 금액인 전액 또는 취소수수료 공제 후 잔액이 아닌 10유로 적립금만 돌려받게 돼 있다. 소비자원은 약관에는 소비자가 10유로의 적립금 지급을 요구하지 않고, 직접 항공사에 취소·환불을 요구할 수 있다는 조항도 포함돼 있지만 항공사는 구입처를 거쳐서만 취소·환불 접수가 가능하다고 안내하는 경우가 대부분이어서 이를 통한 해결도 쉽지 않다고 지적했다. 소비자원은 지난해 키위닷컴 등 8개 해외 OTA에 약관 개선을 권고했으나 키위닷컴이 이를 받아들이지 않았다고 전했다. 이 때문에 소비자 불만이 커지자 아메리칸항공 등 4개 항공사는 키위닷컴에서 자사 항공권을 판매하지 못하도록 조치했다.소비자원은 키위닷컴 관련 소비자상담이 급증하고 있다. 이곳에서 항공권을 구입할 경우 자발적 취소 시 환불이 어려운 점을 인지하고 가격뿐 아니라 거래 조건을 꼼꼼하게 확인해야 한다고 당부했다. 폭증하는 여행 수요…소비자 상담 늘어 지난해 각국의 코로나19 방역 완화로 여행 수요가 급증하는 흐름이 이어지고 있다.한국관광공사에 따르면 지난해 해외 출국자 수는 655만4031명으로 전년보다 436.1% 폭증한 바 있다. 특히 지난해 10월 일본 정부가 외국인의 무비자 개인 여행을 전면 허용하면서 같은해 4분기부터 단거리 여행 수요가 본격적으로 늘어나는 추세다.올해도 해외여행 급증세가 이어지는 분위기다. 앱·리테일 분석 서비스 와이즈앱·리테일·굿즈에 따르면 올해 1분기 온라인 여행·레저 서비스 상위 애플리케이션(앱) 6곳의 결제 추정금액 합계는 3조1735억원으로 전년 동기보다 76% 급증했다.해외여행 수요가 늘면서 여행 관련 해외 직접 거래 관련 소비자 불만 상담 건수도 덩달아 크게 늘어나는 추세라는 게 문제다.소비자원에 따르면 지난해 접수된 국제거래 소비자상담 중 항공권·항공서비스 관련 상담 건수는 4117건으로 전년 대비 92.3% 급증했다. 상세 품목이 확인된 상담(1만6105건)의 4분의 1에 해당하는 수치다. 국제 숙박 관련 상담 건수도 1278건 접수돼 7.9% 늘어난 것으로 나타났다. 소비자원은 해외여행 수요가 회복돼 해외 직접거래 중 서비스 직접구매 관련 상담은 전년 대비 86.1% 뛰는 등 증가율이 두드러졌다고 설명했다.',\n '2023-04-25 20:02:00',\n '2023-04-25 21:41:00')"
     },
     "execution_count": 2,
     "metadata": {},
     "output_type": "execute_result"
    }
   ],
   "source": [
    "NewsCrawler.navercrawl('https://n.news.naver.com/article/015/0004837163')"
   ],
   "metadata": {
    "collapsed": false,
    "ExecuteTime": {
     "start_time": "2023-04-26T10:46:28.027253Z",
     "end_time": "2023-04-26T10:46:28.524424Z"
    }
   }
  },
  {
   "cell_type": "code",
   "execution_count": 3,
   "outputs": [],
   "source": [
    "from bs4 import BeautifulSoup\n",
    "import requests\n",
    "import re"
   ],
   "metadata": {
    "collapsed": false,
    "ExecuteTime": {
     "start_time": "2023-04-26T10:49:34.517273Z",
     "end_time": "2023-04-26T10:49:34.546797Z"
    }
   }
  },
  {
   "cell_type": "code",
   "execution_count": 4,
   "outputs": [],
   "source": [
    "def textProcessing( text: str) -> str:\n",
    "    text = text.replace(u'\\n', u' ')\n",
    "    text = text.replace(u'\\'', u' ')\n",
    "    text = text.replace(u'\\\\\\'', u' ')\n",
    "    text = text.replace(u'[', u'')\n",
    "    text = text.replace(u']', u'')\n",
    "    text = text.replace(u'\\xa0', u' ')\n",
    "    text = text.replace(u'\\\"', u'')\n",
    "    text = text.replace(u'\\'', u'')\n",
    "    text = text.replace(u'  ', u' ')\n",
    "    text = text.replace(u'  ', u' ')\n",
    "    text = text.replace(u'  ', u' ')\n",
    "\n",
    "    return text.strip()\n",
    "\n",
    "\n",
    "naver_image_caption_regex = r'<em[ㄱ-ㅎ가-힣a-zA-Z0-9\\s.,%\\'\\\"()·“‘’”=_>/]+</em>'\n",
    "naver_image_caption = re.compile(naver_image_caption_regex)\n",
    "naver_news_press_regex = r'alt=\\\"(?P<extract>[ㄱ-ㅎ가-힣a-zA-Z0-9]+)\\\"'\n",
    "naver_news_press = re.compile(naver_news_press_regex)"
   ],
   "metadata": {
    "collapsed": false,
    "ExecuteTime": {
     "start_time": "2023-04-26T10:50:47.888587Z",
     "end_time": "2023-04-26T10:50:47.905257Z"
    }
   }
  },
  {
   "cell_type": "code",
   "execution_count": 5,
   "outputs": [],
   "source": [
    "def navercrawl(url: str) -> str:\n",
    "    '''\n",
    "    url검사 x\n",
    "    naver 뉴스일때 크롤링 하는 함수\n",
    "    '''\n",
    "    # 이거 안붙이면 nave가 봇으로 인식\n",
    "    headers = {'User-Agent': 'Mozilla/5.0'}\n",
    "    web_page = requests.get(url, headers=headers)\n",
    "    if web_page.status_code != 200:\n",
    "        return 'error : can\\'t get html'\n",
    "    soup = BeautifulSoup(web_page.content, 'html.parser')\n",
    "    html = str(soup.select('#dic_area'))\n",
    "    title = str(soup.select('#title_area > span'))\n",
    "\n",
    "    article_date = str(soup.select('.media_end_head_info_datestamp'))\n",
    "    article_date = article_date.replace(u'[\\n\\n입력', u'')\n",
    "    article_date = article_date.replace(u'\\n\\n기사원문\\n]', u'')\n",
    "    article_date = BeautifulSoup(article_date, \"lxml\").text\n",
    "\n",
    "    press = str(soup.select('img.media_end_head_top_logo_img:nth-child(1)'))\n",
    "    press = naver_news_press.search(press)\n",
    "    press = press.group(1)\n",
    "\n",
    "    reporter = str(soup.select(\n",
    "        '#ct > div.media_end_head.go_trans > div.media_end_head_info.nv_notrans > div.media_end_head_journalist > a > em'))\n",
    "    reporter = BeautifulSoup(reporter, \"lxml\").text\n",
    "    reporter = textProcessing(reporter)\n",
    "\n",
    "    section = str(soup.select('#contents > div.media_end_categorize > a > em'))\n",
    "    section = BeautifulSoup(section, \"lxml\").text\n",
    "    section = section.replace('[', '')\n",
    "    section = section.replace(']', '')\n",
    "\n",
    "    # 구처리\n",
    "\n",
    "    # news_data = cls.naver_crawling_pattern.findall(html)\n",
    "    # news_string =''\n",
    "    # for data in news_data:\n",
    "    # news_string += data[1]\n",
    "    # news_string = news_string.replace(u'\\xa0', u' ')\n",
    "    # return news_string\n",
    "    # print(url)\n",
    "    html = naver_image_caption.sub('', str(html))\n",
    "    cleantext = BeautifulSoup(html, \"lxml\").text\n",
    "    title = BeautifulSoup(title, \"lxml\").text\n",
    "    title = textProcessing(title)\n",
    "    cleantext = textProcessing(cleantext)\n",
    "    return title, press, reporter, cleantext, section, article_date, 'ㅇㅇ'"
   ],
   "metadata": {
    "collapsed": false,
    "ExecuteTime": {
     "start_time": "2023-04-26T10:50:48.190247Z",
     "end_time": "2023-04-26T10:50:48.209458Z"
    }
   }
  },
  {
   "cell_type": "code",
   "execution_count": 6,
   "outputs": [],
   "source": [
    "_,_,_,_,a,b,c =navercrawl('https://n.news.naver.com/article/015/0004837163')"
   ],
   "metadata": {
    "collapsed": false,
    "ExecuteTime": {
     "start_time": "2023-04-26T10:51:29.036245Z",
     "end_time": "2023-04-26T10:51:29.531886Z"
    }
   }
  },
  {
   "cell_type": "code",
   "execution_count": 7,
   "outputs": [],
   "source": [
    "article_date_regex = r'입력(?P<in>[0-9]+\\.[0-9]+\\.[0-9]+\\.\\s[오전|오후]+\\s[0-9]:[0-9]+)\\n+수정(?P<modify>[0-9]+\\.[0-9]+\\.[0-9]+\\.\\s[오전|오후]+\\s[0-9]:[0-9]+)'"
   ],
   "metadata": {
    "collapsed": false,
    "ExecuteTime": {
     "start_time": "2023-04-26T11:03:19.800759Z",
     "end_time": "2023-04-26T11:03:19.816272Z"
    }
   }
  },
  {
   "cell_type": "code",
   "execution_count": 8,
   "outputs": [],
   "source": [
    "only_article_date_regex = r'입력(?P<in>[0-9]+\\.[0-9]+\\.[0-9]+\\.\\s[오전|오후]+\\s[0-9]:[0-9]+)'"
   ],
   "metadata": {
    "collapsed": false,
    "ExecuteTime": {
     "start_time": "2023-04-26T14:20:30.611597Z",
     "end_time": "2023-04-26T14:20:30.629866Z"
    }
   }
  },
  {
   "cell_type": "code",
   "execution_count": 9,
   "outputs": [],
   "source": [
    "aa = re.compile(article_date_regex)"
   ],
   "metadata": {
    "collapsed": false,
    "ExecuteTime": {
     "start_time": "2023-04-26T11:03:22.064789Z",
     "end_time": "2023-04-26T11:03:22.075033Z"
    }
   }
  },
  {
   "cell_type": "code",
   "execution_count": 10,
   "outputs": [],
   "source": [
    "aaa = re.compile(only_article_date_regex)"
   ],
   "metadata": {
    "collapsed": false,
    "ExecuteTime": {
     "start_time": "2023-04-26T14:20:46.412689Z",
     "end_time": "2023-04-26T14:20:46.417198Z"
    }
   }
  },
  {
   "cell_type": "code",
   "execution_count": 11,
   "outputs": [
    {
     "ename": "NameError",
     "evalue": "name 'bbb' is not defined",
     "output_type": "error",
     "traceback": [
      "\u001B[1;31m---------------------------------------------------------------------------\u001B[0m",
      "\u001B[1;31mNameError\u001B[0m                                 Traceback (most recent call last)",
      "Cell \u001B[1;32mIn[11], line 1\u001B[0m\n\u001B[1;32m----> 1\u001B[0m aaa\u001B[38;5;241m.\u001B[39msearch(\u001B[43mbbb\u001B[49m)\u001B[38;5;241m.\u001B[39mgroups()[\u001B[38;5;241m0\u001B[39m]\n",
      "\u001B[1;31mNameError\u001B[0m: name 'bbb' is not defined"
     ]
    }
   ],
   "source": [
    "aaa.search(bbb).groups()[0]"
   ],
   "metadata": {
    "collapsed": false,
    "ExecuteTime": {
     "start_time": "2023-04-26T14:21:17.304496Z",
     "end_time": "2023-04-26T14:21:17.322062Z"
    }
   }
  },
  {
   "cell_type": "code",
   "execution_count": null,
   "outputs": [],
   "source": [
    "c = '[\\n\\n입력2023.04.25. 오후 8:02\\n\\n\\n\\n\\n기사원문\\n]'"
   ],
   "metadata": {
    "collapsed": false,
    "ExecuteTime": {
     "start_time": "2023-04-26T13:19:04.413011Z",
     "end_time": "2023-04-26T13:19:04.423035Z"
    }
   }
  },
  {
   "cell_type": "code",
   "execution_count": null,
   "outputs": [],
   "source": [
    "_,_,_,_,a,bbb,c =navercrawl('https://n.news.naver.com/article/022/0003806515')"
   ],
   "metadata": {
    "collapsed": false,
    "ExecuteTime": {
     "start_time": "2023-04-26T14:19:32.704789Z",
     "end_time": "2023-04-26T14:19:33.577718Z"
    }
   }
  },
  {
   "cell_type": "code",
   "execution_count": null,
   "outputs": [],
   "source": [
    "bbb"
   ],
   "metadata": {
    "collapsed": false,
    "ExecuteTime": {
     "start_time": "2023-04-26T14:19:42.394594Z",
     "end_time": "2023-04-26T14:19:42.412639Z"
    }
   }
  },
  {
   "cell_type": "code",
   "execution_count": null,
   "outputs": [],
   "source": [
    "aa.search(bbb)"
   ],
   "metadata": {
    "collapsed": false,
    "ExecuteTime": {
     "start_time": "2023-04-26T14:20:06.106335Z",
     "end_time": "2023-04-26T14:20:06.133000Z"
    }
   }
  },
  {
   "cell_type": "code",
   "execution_count": null,
   "outputs": [],
   "source": [
    "test = aa.search(b)"
   ],
   "metadata": {
    "collapsed": false,
    "ExecuteTime": {
     "start_time": "2023-04-26T13:17:25.770426Z",
     "end_time": "2023-04-26T13:17:25.773658Z"
    }
   }
  },
  {
   "cell_type": "code",
   "execution_count": null,
   "outputs": [],
   "source": [
    "test2 = aa.search(c)"
   ],
   "metadata": {
    "collapsed": false,
    "ExecuteTime": {
     "start_time": "2023-04-26T13:19:06.120236Z",
     "end_time": "2023-04-26T13:19:06.142463Z"
    }
   }
  },
  {
   "cell_type": "code",
   "execution_count": null,
   "outputs": [],
   "source": [
    "test2.groups()"
   ],
   "metadata": {
    "collapsed": false
   }
  },
  {
   "cell_type": "code",
   "execution_count": null,
   "outputs": [],
   "source": [
    "test.groups()"
   ],
   "metadata": {
    "collapsed": false,
    "ExecuteTime": {
     "start_time": "2023-04-26T13:18:08.632425Z",
     "end_time": "2023-04-26T13:18:08.652237Z"
    }
   }
  },
  {
   "cell_type": "code",
   "execution_count": null,
   "outputs": [],
   "source": [
    "from datetime import datetime,timedelta"
   ],
   "metadata": {
    "collapsed": false,
    "ExecuteTime": {
     "start_time": "2023-04-26T11:10:30.910607Z",
     "end_time": "2023-04-26T11:10:30.931604Z"
    }
   }
  },
  {
   "cell_type": "code",
   "execution_count": null,
   "outputs": [],
   "source": [
    "test1 =test1.replace('오후','')"
   ],
   "metadata": {
    "collapsed": false,
    "ExecuteTime": {
     "start_time": "2023-04-26T11:07:26.428032Z",
     "end_time": "2023-04-26T11:07:26.455853Z"
    }
   }
  },
  {
   "cell_type": "code",
   "execution_count": null,
   "outputs": [],
   "source": [
    "bbb"
   ],
   "metadata": {
    "collapsed": false,
    "ExecuteTime": {
     "start_time": "2023-04-26T15:40:19.254237Z",
     "end_time": "2023-04-26T15:40:19.268418Z"
    }
   }
  },
  {
   "cell_type": "code",
   "execution_count": null,
   "outputs": [],
   "source": [
    "bbb.find(\"기사\")"
   ],
   "metadata": {
    "collapsed": false,
    "ExecuteTime": {
     "start_time": "2023-04-26T15:40:13.409198Z",
     "end_time": "2023-04-26T15:40:13.426141Z"
    }
   }
  },
  {
   "cell_type": "code",
   "execution_count": null,
   "outputs": [],
   "source": [
    "if bbb.find('수정') != -1:\n",
    "    print('찾음')"
   ],
   "metadata": {
    "collapsed": false,
    "ExecuteTime": {
     "start_time": "2023-04-26T15:40:43.872830Z",
     "end_time": "2023-04-26T15:40:43.900061Z"
    }
   }
  },
  {
   "cell_type": "code",
   "execution_count": null,
   "outputs": [],
   "source": [
    "date_time_obj = datetime.strptime(test1,'%Y.%m.%d. %H:%M')"
   ],
   "metadata": {
    "collapsed": false,
    "ExecuteTime": {
     "start_time": "2023-04-26T11:09:21.733584Z",
     "end_time": "2023-04-26T11:09:21.760828Z"
    }
   }
  },
  {
   "cell_type": "code",
   "execution_count": null,
   "outputs": [],
   "source": [
    "date_time_obj"
   ],
   "metadata": {
    "collapsed": false,
    "ExecuteTime": {
     "start_time": "2023-04-26T11:09:22.105314Z",
     "end_time": "2023-04-26T11:09:22.128458Z"
    }
   }
  },
  {
   "cell_type": "code",
   "execution_count": null,
   "outputs": [],
   "source": [
    "date_time_obj + timedelta(hours=12)"
   ],
   "metadata": {
    "collapsed": false,
    "ExecuteTime": {
     "start_time": "2023-04-26T11:10:44.870952Z",
     "end_time": "2023-04-26T11:10:44.892697Z"
    }
   }
  },
  {
   "cell_type": "code",
   "execution_count": null,
   "outputs": [],
   "source": [
    "date_time_obj.strftime('%Y-%m-%d %H:%M:%S')\n"
   ],
   "metadata": {
    "collapsed": false,
    "ExecuteTime": {
     "start_time": "2023-04-26T13:51:11.115630Z",
     "end_time": "2023-04-26T13:51:11.157914Z"
    }
   }
  },
  {
   "cell_type": "code",
   "execution_count": null,
   "outputs": [],
   "source": [
    "test1"
   ],
   "metadata": {
    "collapsed": false,
    "ExecuteTime": {
     "start_time": "2023-04-26T15:39:34.210872Z",
     "end_time": "2023-04-26T15:39:34.217389Z"
    }
   }
  },
  {
   "cell_type": "code",
   "execution_count": null,
   "outputs": [],
   "source": [
    "def transform_datetime(string : str ) -> list:\n",
    "    '''\n",
    "\n",
    "    :param string:\n",
    "    :return: datetime tuple\n",
    "    '''\n",
    "\n",
    "    article_date_regex = r'입력(?P<in>[0-9]+\\.[0-9]+\\.[0-9]+\\.\\s[오전|오후]+\\s[0-9]:[0-9]+)\\n+수정(?P<modify>[0-9]+\\.[0-9]+\\.[0-9]+\\.\\s[오전|오후]+\\s[0-9]:[0-9]+)'\n",
    "    only_article_date_regex = r'입력(?P<in>[0-9]+\\.[0-9]+\\.[0-9]+\\.\\s[오전|오후]+\\s[0-9]:[0-9]+)'\n",
    "\n",
    "\n",
    "    if string.find('수정') != -1 :\n",
    "        regex = re.compile(article_date_regex)\n",
    "    else:\n",
    "        regex = re.compile(only_article_date_regex)\n",
    "\n",
    "    temp_tuple =  regex.search(string).groups()\n",
    "    result_list = []\n",
    "    for date_str in temp_tuple:\n",
    "\n",
    "        if date_str.find('오후') == -1:\n",
    "            date_str =date_str.replace('오전','')\n",
    "            date_time_obj = datetime.strptime(date_str,'%Y.%m.%d. %H:%M')\n",
    "        else:\n",
    "            date_str =date_str.replace('오후','')\n",
    "            date_time_obj = datetime.strptime(date_str,'%Y.%m.%d. %H:%M')\n",
    "            date_time_obj + timedelta(hours=12)\n",
    "        result_list.append(date_time_obj)\n",
    "    return result_list\n",
    "\n",
    "\n",
    "\n",
    "\n",
    "\n",
    "\n",
    "\n",
    "\n"
   ],
   "metadata": {
    "collapsed": false,
    "ExecuteTime": {
     "start_time": "2023-04-26T17:46:19.916399Z",
     "end_time": "2023-04-26T17:46:19.946422Z"
    }
   }
  },
  {
   "cell_type": "code",
   "execution_count": null,
   "outputs": [],
   "source": [
    "transform_datetime(bbb)"
   ],
   "metadata": {
    "collapsed": false,
    "ExecuteTime": {
     "start_time": "2023-04-26T17:46:20.831952Z",
     "end_time": "2023-04-26T17:46:20.841296Z"
    }
   }
  },
  {
   "cell_type": "code",
   "execution_count": 1,
   "outputs": [],
   "source": [
    "from NewsCrawler import  NewsCrawler"
   ],
   "metadata": {
    "collapsed": false,
    "ExecuteTime": {
     "start_time": "2023-04-28T15:27:07.266611Z",
     "end_time": "2023-04-28T15:27:07.494124Z"
    }
   }
  },
  {
   "cell_type": "code",
   "execution_count": 2,
   "outputs": [
    {
     "ename": "TypeError",
     "evalue": "transform_datetimestring() missing 1 required positional argument: 'string'",
     "output_type": "error",
     "traceback": [
      "\u001B[1;31m---------------------------------------------------------------------------\u001B[0m",
      "\u001B[1;31mTypeError\u001B[0m                                 Traceback (most recent call last)",
      "Cell \u001B[1;32mIn[2], line 1\u001B[0m\n\u001B[1;32m----> 1\u001B[0m \u001B[43mNewsCrawler\u001B[49m\u001B[38;5;241;43m.\u001B[39;49m\u001B[43mtransform_datetimestring\u001B[49m\u001B[43m(\u001B[49m\u001B[43m)\u001B[49m\n",
      "\u001B[1;31mTypeError\u001B[0m: transform_datetimestring() missing 1 required positional argument: 'string'"
     ]
    }
   ],
   "source": [
    "NewsCrawler.transform_datetimestring()"
   ],
   "metadata": {
    "collapsed": false
   }
  },
  {
   "cell_type": "code",
   "execution_count": 36,
   "outputs": [],
   "source": [
    "a,b,c,d,e,f,g =NewsCrawler.navercrawl('https://n.news.naver.com/article/277/0005251916?ntype=RANKING')"
   ],
   "metadata": {
    "collapsed": false,
    "ExecuteTime": {
     "start_time": "2023-04-28T17:04:49.007673Z",
     "end_time": "2023-04-28T17:04:49.583375Z"
    }
   }
  },
  {
   "cell_type": "code",
   "execution_count": 39,
   "outputs": [
    {
     "data": {
      "text/plain": "'2023-04-28 07:29:00'"
     },
     "execution_count": 39,
     "metadata": {},
     "output_type": "execute_result"
    }
   ],
   "source": [
    "g"
   ],
   "metadata": {
    "collapsed": false,
    "ExecuteTime": {
     "start_time": "2023-04-28T17:04:58.106892Z",
     "end_time": "2023-04-28T17:04:58.125714Z"
    }
   }
  },
  {
   "cell_type": "code",
   "execution_count": 24,
   "outputs": [],
   "source": [
    "import re"
   ],
   "metadata": {
    "collapsed": false,
    "ExecuteTime": {
     "start_time": "2023-04-28T15:45:46.390599Z",
     "end_time": "2023-04-28T15:45:46.411791Z"
    }
   }
  },
  {
   "cell_type": "code",
   "execution_count": 25,
   "outputs": [],
   "source": [
    "regex = r'(http|https)://n.news.naver.com/article/\\d+/\\d+'"
   ],
   "metadata": {
    "collapsed": false,
    "ExecuteTime": {
     "start_time": "2023-04-28T15:45:46.674648Z",
     "end_time": "2023-04-28T15:45:46.698676Z"
    }
   }
  },
  {
   "cell_type": "code",
   "execution_count": 26,
   "outputs": [],
   "source": [
    "a = re.compile(regex)"
   ],
   "metadata": {
    "collapsed": false,
    "ExecuteTime": {
     "start_time": "2023-04-28T15:45:46.988558Z",
     "end_time": "2023-04-28T15:45:47.000660Z"
    }
   }
  },
  {
   "cell_type": "code",
   "execution_count": 32,
   "outputs": [],
   "source": [
    "b = a.match('https://n.news.naver.com/article/277/0005251916?ntype=RANKING')"
   ],
   "metadata": {
    "collapsed": false,
    "ExecuteTime": {
     "start_time": "2023-04-28T15:46:32.076064Z",
     "end_time": "2023-04-28T15:46:32.095063Z"
    }
   }
  },
  {
   "cell_type": "code",
   "execution_count": 33,
   "outputs": [
    {
     "name": "stdout",
     "output_type": "stream",
     "text": [
      "실패\n",
      "실패아님\n"
     ]
    }
   ],
   "source": [
    "if b :\n",
    "    print('실패')\n",
    "print('실패아님')"
   ],
   "metadata": {
    "collapsed": false,
    "ExecuteTime": {
     "start_time": "2023-04-28T15:46:34.066638Z",
     "end_time": "2023-04-28T15:46:34.077914Z"
    }
   }
  },
  {
   "cell_type": "code",
   "execution_count": 35,
   "outputs": [
    {
     "data": {
      "text/plain": "'https://n.news.naver.com/article/277/0005251916'"
     },
     "execution_count": 35,
     "metadata": {},
     "output_type": "execute_result"
    }
   ],
   "source": [
    "b[0]"
   ],
   "metadata": {
    "collapsed": false,
    "ExecuteTime": {
     "start_time": "2023-04-28T15:46:41.914228Z",
     "end_time": "2023-04-28T15:46:41.923429Z"
    }
   }
  },
  {
   "cell_type": "code",
   "execution_count": 31,
   "outputs": [
    {
     "name": "stdout",
     "output_type": "stream",
     "text": [
      "실패\n"
     ]
    }
   ],
   "source": [
    "if not b:\n",
    "    print('실패')"
   ],
   "metadata": {
    "collapsed": false,
    "ExecuteTime": {
     "start_time": "2023-04-28T15:45:52.202980Z",
     "end_time": "2023-04-28T15:45:52.209924Z"
    }
   }
  },
  {
   "cell_type": "code",
   "execution_count": null,
   "outputs": [],
   "source": [],
   "metadata": {
    "collapsed": false
   }
  }
 ],
 "metadata": {
  "kernelspec": {
   "display_name": "Python 3",
   "language": "python",
   "name": "python3"
  },
  "language_info": {
   "codemirror_mode": {
    "name": "ipython",
    "version": 2
   },
   "file_extension": ".py",
   "mimetype": "text/x-python",
   "name": "python",
   "nbconvert_exporter": "python",
   "pygments_lexer": "ipython2",
   "version": "2.7.6"
  }
 },
 "nbformat": 4,
 "nbformat_minor": 0
}
