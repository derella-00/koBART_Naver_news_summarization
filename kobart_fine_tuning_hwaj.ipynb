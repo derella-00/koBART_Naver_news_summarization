{
  "cells": [
    {
      "cell_type": "code",
      "execution_count": 1,
      "metadata": {
        "id": "o-EeiE6bSGNB"
      },
      "outputs": [],
      "source": [
        "import pandas as pd\n",
        "import json"
      ]
    },
    {
      "cell_type": "code",
      "execution_count": 2,
      "metadata": {
        "id": "Vu4WBQu-SGFR"
      },
      "outputs": [],
      "source": [
        "# Data load\n",
        "with open('./data/train_original.json', 'rt', encoding='UTF8') as file :\n",
        "    train_data = json.loads(file.read())"
      ]
    },
    {
      "cell_type": "code",
      "execution_count": 3,
      "metadata": {
        "id": "W8KVmi8MSGA5"
      },
      "outputs": [],
      "source": [
        "# json file architecture\n",
        "# train_data"
      ]
    },
    {
      "cell_type": "code",
      "execution_count": 4,
      "metadata": {
        "id": "A1smBWGwSF8R"
      },
      "outputs": [],
      "source": [
        "train_data_df = pd.DataFrame(train_data['documents'])"
      ]
    },
    {
      "cell_type": "code",
      "execution_count": 5,
      "metadata": {
        "id": "oJTsfTjgSF1J"
      },
      "outputs": [
        {
          "data": {
            "text/html": [
              "<div>\n",
              "<style scoped>\n",
              "    .dataframe tbody tr th:only-of-type {\n",
              "        vertical-align: middle;\n",
              "    }\n",
              "\n",
              "    .dataframe tbody tr th {\n",
              "        vertical-align: top;\n",
              "    }\n",
              "\n",
              "    .dataframe thead th {\n",
              "        text-align: right;\n",
              "    }\n",
              "</style>\n",
              "<table border=\"1\" class=\"dataframe\">\n",
              "  <thead>\n",
              "    <tr style=\"text-align: right;\">\n",
              "      <th></th>\n",
              "      <th>id</th>\n",
              "      <th>category</th>\n",
              "      <th>media_type</th>\n",
              "      <th>media_sub_type</th>\n",
              "      <th>media_name</th>\n",
              "      <th>size</th>\n",
              "      <th>char_count</th>\n",
              "      <th>publish_date</th>\n",
              "      <th>title</th>\n",
              "      <th>text</th>\n",
              "      <th>annotator_id</th>\n",
              "      <th>document_quality_scores</th>\n",
              "      <th>extractive</th>\n",
              "      <th>abstractive</th>\n",
              "    </tr>\n",
              "  </thead>\n",
              "  <tbody>\n",
              "    <tr>\n",
              "      <th>0</th>\n",
              "      <td>290741778</td>\n",
              "      <td>종합</td>\n",
              "      <td>online</td>\n",
              "      <td>지역지</td>\n",
              "      <td>광양신문</td>\n",
              "      <td>small</td>\n",
              "      <td>927</td>\n",
              "      <td>2018-01-05 18:54:55</td>\n",
              "      <td>논 타작물 재배, 2월 말까지 신청하세요</td>\n",
              "      <td>[[{'index': 0, 'sentence': 'ha당 조사료 400만원…작물별 ...</td>\n",
              "      <td>11</td>\n",
              "      <td>{'readable': 4, 'accurate': 3, 'informative': ...</td>\n",
              "      <td>[2, 3, 10]</td>\n",
              "      <td>[전라남도가 쌀 과잉문제를 근본적으로 해결하기 위해 올해부터 벼를 심었던 논에 벼 ...</td>\n",
              "    </tr>\n",
              "  </tbody>\n",
              "</table>\n",
              "</div>"
            ],
            "text/plain": [
              "          id category media_type media_sub_type media_name   size char_count  \\\n",
              "0  290741778       종합     online            지역지       광양신문  small        927   \n",
              "\n",
              "          publish_date                   title  \\\n",
              "0  2018-01-05 18:54:55  논 타작물 재배, 2월 말까지 신청하세요   \n",
              "\n",
              "                                                text  annotator_id  \\\n",
              "0  [[{'index': 0, 'sentence': 'ha당 조사료 400만원…작물별 ...            11   \n",
              "\n",
              "                             document_quality_scores  extractive  \\\n",
              "0  {'readable': 4, 'accurate': 3, 'informative': ...  [2, 3, 10]   \n",
              "\n",
              "                                         abstractive  \n",
              "0  [전라남도가 쌀 과잉문제를 근본적으로 해결하기 위해 올해부터 벼를 심었던 논에 벼 ...  "
            ]
          },
          "execution_count": 5,
          "metadata": {},
          "output_type": "execute_result"
        }
      ],
      "source": [
        "train_data_df.head(1)"
      ]
    },
    {
      "cell_type": "code",
      "execution_count": 6,
      "metadata": {
        "colab": {
          "base_uri": "https://localhost:8080/"
        },
        "id": "QcHjIp3HSFqv",
        "outputId": "aef9a0d2-699f-4db5-d7c8-d48d1d514499"
      },
      "outputs": [
        {
          "name": "stdout",
          "output_type": "stream",
          "text": [
            "<class 'pandas.core.frame.DataFrame'>\n",
            "RangeIndex: 243983 entries, 0 to 243982\n",
            "Data columns (total 14 columns):\n",
            " #   Column                   Non-Null Count   Dtype \n",
            "---  ------                   --------------   ----- \n",
            " 0   id                       243983 non-null  object\n",
            " 1   category                 243983 non-null  object\n",
            " 2   media_type               243983 non-null  object\n",
            " 3   media_sub_type           243983 non-null  object\n",
            " 4   media_name               243983 non-null  object\n",
            " 5   size                     243983 non-null  object\n",
            " 6   char_count               243983 non-null  object\n",
            " 7   publish_date             243983 non-null  object\n",
            " 8   title                    243983 non-null  object\n",
            " 9   text                     243983 non-null  object\n",
            " 10  annotator_id             243983 non-null  int64 \n",
            " 11  document_quality_scores  243983 non-null  object\n",
            " 12  extractive               243983 non-null  object\n",
            " 13  abstractive              243983 non-null  object\n",
            "dtypes: int64(1), object(13)\n",
            "memory usage: 26.1+ MB\n"
          ]
        }
      ],
      "source": [
        "train_data_df.info()"
      ]
    },
    {
      "cell_type": "code",
      "execution_count": 18,
      "metadata": {
        "colab": {
          "base_uri": "https://localhost:8080/"
        },
        "id": "sdj8I___SFbH",
        "outputId": "e7db1f31-3b1b-4b18-d29d-05fc8da71dc6"
      },
      "outputs": [
        {
          "data": {
            "text/plain": [
              "종합           177558\n",
              "경제            23938\n",
              "사회            17650\n",
              "정치            16389\n",
              "스포츠            5174\n",
              "IT,과학          1931\n",
              "교육/입시/NIE      1190\n",
              "부동산              74\n",
              "보건/의료            55\n",
              "기업               17\n",
              "북한/한반도정세          5\n",
              "선거                2\n",
              "Name: category, dtype: int64"
            ]
          },
          "execution_count": 18,
          "metadata": {},
          "output_type": "execute_result"
        }
      ],
      "source": [
        "train_data_df.category.value_counts()"
      ]
    },
    {
      "cell_type": "code",
      "execution_count": 6,
      "metadata": {
        "id": "Ns3dmGVVSoCb"
      },
      "outputs": [],
      "source": [
        "train_data_df.char_count = train_data_df.char_count.astype('int')"
      ]
    },
    {
      "cell_type": "code",
      "execution_count": 7,
      "metadata": {
        "id": "QsJ5FpjiSoFE"
      },
      "outputs": [],
      "source": [
        "def extract_body(article) -> str:\n",
        "    art_sentence = []\n",
        "\n",
        "    for contents in article:\n",
        "        if len(contents) >= 2:\n",
        "            for sub_con in contents:\n",
        "                art_sentence.append(sub_con['sentence'])\n",
        "                continue\n",
        "        elif len(contents) == 0:\n",
        "            pass \n",
        "        else:\n",
        "            art_sentence.append(contents[0]['sentence'])\n",
        "\n",
        "    return art_sentence\n",
        "\n",
        "def sentence_validation(art_sentence):\n",
        "    del_sentence = []\n",
        "    for sentence in art_sentence:\n",
        "        if '@' in sentence or '/사진' in sentence:\n",
        "            del_sentence.append(sentence)\n",
        "        elif sentence[-1] != '.':\n",
        "            del_sentence.append(sentence)\n",
        "    for del_sen in del_sentence: \n",
        "        art_sentence.remove(del_sen)\n",
        "    return ' '.join(art_sentence)"
      ]
    },
    {
      "cell_type": "code",
      "execution_count": 8,
      "metadata": {
        "colab": {
          "base_uri": "https://localhost:8080/",
          "height": 181
        },
        "id": "wEQGbnc-SoHi",
        "outputId": "b381eaeb-e9b8-4943-aec5-0af29f88195c"
      },
      "outputs": [
        {
          "data": {
            "text/plain": [
              "'전남드래곤즈(사장 신승재)는 지난 4일 구봉산 해맞이 행사를 통해 새해 각오를 다졌다. 임직원과 선수단 모두는 이날 구봉산 정상에 올라 일출을 보며 2018년 구단 목표를 달성하기 위한 결연한 의지를 다졌다. 이번 해맞이 행사는 2018년을 시작하면서 떠오르는 해를 보며 전남드래곤즈 구성원 모두가 한마음 한 뜻으로 구단 목표 달성을 위해 정진하자는 의미에서 실시한 것이다. 신승재 사장은“유상철 감독을 비롯한 코칭스텝, 선수단 구성이 마무리 된 만큼 구성원 모두가 하나되어 K리그 클래식 5위 이내 진입, FA컵 우승 등 ACL 진출권 획득을 목표로 최선을 다하자”고 선수들에게 신년 인사말을 전했다. 유상철 감독은“구봉산의 정기를 받아 2018년을 전남드래곤즈의 해로 만들겠다”며 각오를 다졌다. 한편 전남은 선수들도 추가 영입했다. 우선 프렌차이즈 스타 김영욱과 2020년까지 연장계약을 했다. 전남 유스 출신인 김영욱은 당초 계약기간이 1년 남아 있었지만, 전남의 프렌차이즈 스타로 팀의 중추적인 역할을 하고 있어 2020년까지 연장계약을 체결하게 됐다. 전남은 이어 측면 공격력 강화를 위해 포항에서 활약한 완델손을 1년 임대 영입했다. 완델손은 왼발 크로스가 정확하고 화려한 테크닉을 이용한 측면 공격력이 뛰어난 선수이다. 또한 윙 포워드는 물론 공격형 미드필더, 측면 수비수로도 뛸 수 있는 멀티 플레이어다. 공격력 강화를 위해 페체신 대체자로 중국 리그에서 활약한 하태균도 영입했다. 하태균은2007년 드래프트 1순위로 수원 삼성에 입단해 K리그 신인상을 수상한 공격수로 2014년까지 K리그 통산 135경기 30골 7도움을 기록했다. 2015년 중국으로 이적, 연변에서 26골을 기록 득점왕에 오르며 팀을 슈퍼리그로 승격시켰다. 또한 2017년에는 바오딩으로 이적해 팀 내 최다골인 14골을 기록할 정도로 득점력이 뛰어난 선수다. 이와 함께 박태준·이경렬·윤동민도 영입하며 올 시즌을 준비하고 있다.'"
            ]
          },
          "execution_count": 8,
          "metadata": {},
          "output_type": "execute_result"
        }
      ],
      "source": [
        "# test\n",
        "art_sentence = extract_body(train_data_df['text'][2])\n",
        "sentence_validation(art_sentence)"
      ]
    },
    {
      "cell_type": "code",
      "execution_count": 11,
      "metadata": {
        "colab": {
          "base_uri": "https://localhost:8080/",
          "height": 488
        },
        "id": "1s0ngPmBSoKH",
        "outputId": "fbda03e0-e7cb-43fe-f3fd-c5561d30df7d"
      },
      "outputs": [
        {
          "data": {
            "text/html": [
              "<div>\n",
              "<style scoped>\n",
              "    .dataframe tbody tr th:only-of-type {\n",
              "        vertical-align: middle;\n",
              "    }\n",
              "\n",
              "    .dataframe tbody tr th {\n",
              "        vertical-align: top;\n",
              "    }\n",
              "\n",
              "    .dataframe thead th {\n",
              "        text-align: right;\n",
              "    }\n",
              "</style>\n",
              "<table border=\"1\" class=\"dataframe\">\n",
              "  <thead>\n",
              "    <tr style=\"text-align: right;\">\n",
              "      <th></th>\n",
              "      <th>0</th>\n",
              "    </tr>\n",
              "  </thead>\n",
              "  <tbody>\n",
              "    <tr>\n",
              "      <th>id</th>\n",
              "      <td>290741778</td>\n",
              "    </tr>\n",
              "    <tr>\n",
              "      <th>category</th>\n",
              "      <td>종합</td>\n",
              "    </tr>\n",
              "    <tr>\n",
              "      <th>media_type</th>\n",
              "      <td>online</td>\n",
              "    </tr>\n",
              "    <tr>\n",
              "      <th>media_sub_type</th>\n",
              "      <td>지역지</td>\n",
              "    </tr>\n",
              "    <tr>\n",
              "      <th>media_name</th>\n",
              "      <td>광양신문</td>\n",
              "    </tr>\n",
              "    <tr>\n",
              "      <th>size</th>\n",
              "      <td>small</td>\n",
              "    </tr>\n",
              "    <tr>\n",
              "      <th>char_count</th>\n",
              "      <td>927</td>\n",
              "    </tr>\n",
              "    <tr>\n",
              "      <th>publish_date</th>\n",
              "      <td>2018-01-05 18:54:55</td>\n",
              "    </tr>\n",
              "    <tr>\n",
              "      <th>title</th>\n",
              "      <td>논 타작물 재배, 2월 말까지 신청하세요</td>\n",
              "    </tr>\n",
              "    <tr>\n",
              "      <th>text</th>\n",
              "      <td>전라남도가 쌀 과잉문제를 근본적으로 해결하기 위해 올해부터 시행하는 쌀 생산조정제를...</td>\n",
              "    </tr>\n",
              "    <tr>\n",
              "      <th>annotator_id</th>\n",
              "      <td>11</td>\n",
              "    </tr>\n",
              "    <tr>\n",
              "      <th>document_quality_scores</th>\n",
              "      <td>{'readable': 4, 'accurate': 3, 'informative': ...</td>\n",
              "    </tr>\n",
              "    <tr>\n",
              "      <th>extractive</th>\n",
              "      <td>[2, 3, 10]</td>\n",
              "    </tr>\n",
              "    <tr>\n",
              "      <th>abstractive</th>\n",
              "      <td>[전라남도가 쌀 과잉문제를 근본적으로 해결하기 위해 올해부터 벼를 심었던 논에 벼 ...</td>\n",
              "    </tr>\n",
              "  </tbody>\n",
              "</table>\n",
              "</div>"
            ],
            "text/plain": [
              "                                                                         0\n",
              "id                                                               290741778\n",
              "category                                                                종합\n",
              "media_type                                                          online\n",
              "media_sub_type                                                         지역지\n",
              "media_name                                                            광양신문\n",
              "size                                                                 small\n",
              "char_count                                                             927\n",
              "publish_date                                           2018-01-05 18:54:55\n",
              "title                                               논 타작물 재배, 2월 말까지 신청하세요\n",
              "text                     전라남도가 쌀 과잉문제를 근본적으로 해결하기 위해 올해부터 시행하는 쌀 생산조정제를...\n",
              "annotator_id                                                            11\n",
              "document_quality_scores  {'readable': 4, 'accurate': 3, 'informative': ...\n",
              "extractive                                                      [2, 3, 10]\n",
              "abstractive              [전라남도가 쌀 과잉문제를 근본적으로 해결하기 위해 올해부터 벼를 심었던 논에 벼 ..."
            ]
          },
          "execution_count": 11,
          "metadata": {},
          "output_type": "execute_result"
        }
      ],
      "source": [
        "new_df = train_data_df.copy()\n",
        "new_df.text = new_df.text.apply(lambda x : sentence_validation(extract_body(x)))\n",
        "new_df.head(1).T"
      ]
    },
    {
      "attachments": {},
      "cell_type": "markdown",
      "metadata": {
        "id": "Em1_SuAXves8"
      },
      "source": [
        "# Kobart 모델 파인튜닝"
      ]
    },
    {
      "cell_type": "markdown",
      "metadata": {
        "id": "mX6CySZAvjGB"
      },
      "source": [
        "## 라이브러리 설치"
      ]
    },
    {
      "cell_type": "code",
      "execution_count": 10,
      "metadata": {
        "colab": {
          "base_uri": "https://localhost:8080/"
        },
        "id": "c0aaA1ml_9pw",
        "outputId": "693c626d-0c7b-4532-f229-51a145d7b0f9"
      },
      "outputs": [
        {
          "name": "stdout",
          "output_type": "stream",
          "text": [
            "Collecting datasets\n",
            "  Downloading datasets-2.11.0-py3-none-any.whl (468 kB)\n",
            "Requirement already satisfied: pandas in c:\\users\\user\\appdata\\local\\programs\\python\\python38\\lib\\site-packages (from datasets) (1.2.4)\n",
            "Requirement already satisfied: tqdm>=4.62.1 in c:\\users\\user\\appdata\\local\\programs\\python\\python38\\lib\\site-packages (from datasets) (4.65.0)\n",
            "Collecting responses<0.19\n",
            "  Downloading responses-0.18.0-py3-none-any.whl (38 kB)\n",
            "Collecting huggingface-hub<1.0.0,>=0.11.0\n",
            "  Using cached huggingface_hub-0.13.4-py3-none-any.whl (200 kB)\n",
            "Requirement already satisfied: requests>=2.19.0 in c:\\users\\user\\appdata\\local\\programs\\python\\python38\\lib\\site-packages (from datasets) (2.21.0)\n",
            "Collecting pyarrow>=8.0.0\n",
            "  Downloading pyarrow-11.0.0-cp38-cp38-win_amd64.whl (20.6 MB)\n",
            "Requirement already satisfied: packaging in c:\\users\\user\\appdata\\roaming\\python\\python38\\site-packages (from datasets) (23.1)\n",
            "Requirement already satisfied: pyyaml>=5.1 in c:\\users\\user\\appdata\\local\\programs\\python\\python38\\lib\\site-packages (from datasets) (6.0)\n",
            "Requirement already satisfied: dill<0.3.7,>=0.3.0 in c:\\users\\user\\appdata\\local\\programs\\python\\python38\\lib\\site-packages (from datasets) (0.3.6)\n",
            "Collecting xxhash\n",
            "  Downloading xxhash-3.2.0-cp38-cp38-win_amd64.whl (30 kB)\n",
            "Collecting fsspec[http]>=2021.11.1\n",
            "  Using cached fsspec-2023.4.0-py3-none-any.whl (153 kB)\n",
            "Collecting multiprocess\n",
            "  Downloading multiprocess-0.70.14-py38-none-any.whl (132 kB)\n",
            "Collecting aiohttp\n",
            "  Using cached aiohttp-3.8.4-cp38-cp38-win_amd64.whl (324 kB)\n",
            "Requirement already satisfied: numpy>=1.17 in c:\\users\\user\\appdata\\local\\programs\\python\\python38\\lib\\site-packages (from datasets) (1.19.5)\n",
            "Requirement already satisfied: pytz>=2017.3 in c:\\users\\user\\appdata\\local\\programs\\python\\python38\\lib\\site-packages (from pandas->datasets) (2021.3)\n",
            "Requirement already satisfied: python-dateutil>=2.7.3 in c:\\users\\user\\appdata\\roaming\\python\\python38\\site-packages (from pandas->datasets) (2.8.2)\n",
            "Requirement already satisfied: colorama; platform_system == \"Windows\" in c:\\users\\user\\appdata\\roaming\\python\\python38\\site-packages (from tqdm>=4.62.1->datasets) (0.4.6)\n",
            "Collecting urllib3>=1.25.10\n",
            "  Using cached urllib3-1.26.15-py2.py3-none-any.whl (140 kB)\n",
            "Requirement already satisfied: filelock in c:\\users\\user\\appdata\\local\\programs\\python\\python38\\lib\\site-packages (from huggingface-hub<1.0.0,>=0.11.0->datasets) (3.11.0)\n",
            "Requirement already satisfied: typing-extensions>=3.7.4.3 in c:\\users\\user\\appdata\\roaming\\python\\python38\\site-packages (from huggingface-hub<1.0.0,>=0.11.0->datasets) (4.5.0)\n",
            "Requirement already satisfied: idna<2.9,>=2.5 in c:\\users\\user\\appdata\\local\\programs\\python\\python38\\lib\\site-packages (from requests>=2.19.0->datasets) (2.8)\n",
            "Requirement already satisfied: chardet<3.1.0,>=3.0.2 in c:\\users\\user\\appdata\\local\\programs\\python\\python38\\lib\\site-packages (from requests>=2.19.0->datasets) (3.0.4)\n",
            "Requirement already satisfied: certifi>=2017.4.17 in c:\\users\\user\\appdata\\local\\programs\\python\\python38\\lib\\site-packages (from requests>=2.19.0->datasets) (2021.10.8)\n",
            "Collecting attrs>=17.3.0\n",
            "  Using cached attrs-23.1.0-py3-none-any.whl (61 kB)\n",
            "Requirement already satisfied: charset-normalizer<4.0,>=2.0 in c:\\users\\user\\appdata\\local\\programs\\python\\python38\\lib\\site-packages (from aiohttp->datasets) (2.0.12)\n",
            "Collecting multidict<7.0,>=4.5\n",
            "  Using cached multidict-6.0.4-cp38-cp38-win_amd64.whl (28 kB)\n",
            "Collecting frozenlist>=1.1.1\n",
            "  Using cached frozenlist-1.3.3-cp38-cp38-win_amd64.whl (34 kB)\n",
            "Collecting aiosignal>=1.1.2\n",
            "  Using cached aiosignal-1.3.1-py3-none-any.whl (7.6 kB)\n",
            "Collecting async-timeout<5.0,>=4.0.0a3\n",
            "  Using cached async_timeout-4.0.2-py3-none-any.whl (5.8 kB)\n",
            "Collecting yarl<2.0,>=1.0\n",
            "  Using cached yarl-1.8.2-cp38-cp38-win_amd64.whl (56 kB)\n",
            "Requirement already satisfied: six>=1.5 in c:\\users\\user\\appdata\\roaming\\python\\python38\\site-packages (from python-dateutil>=2.7.3->pandas->datasets) (1.16.0)\n",
            "Installing collected packages: urllib3, responses, huggingface-hub, pyarrow, xxhash, attrs, multidict, frozenlist, aiosignal, async-timeout, yarl, aiohttp, fsspec, multiprocess, datasets\n",
            "  Attempting uninstall: urllib3\n",
            "    Found existing installation: urllib3 1.24.3\n",
            "    Uninstalling urllib3-1.24.3:\n",
            "      Successfully uninstalled urllib3-1.24.3\n",
            "  Attempting uninstall: huggingface-hub\n",
            "    Found existing installation: huggingface-hub 0.0.12\n",
            "    Uninstalling huggingface-hub-0.0.12:\n",
            "      Successfully uninstalled huggingface-hub-0.0.12\n",
            "Successfully installed aiohttp-3.8.4 aiosignal-1.3.1 async-timeout-4.0.2 attrs-23.1.0 datasets-2.11.0 frozenlist-1.3.3 fsspec-2023.4.0 huggingface-hub-0.13.4 multidict-6.0.4 multiprocess-0.70.14 pyarrow-11.0.0 responses-0.18.0 urllib3-1.26.15 xxhash-3.2.0 yarl-1.8.2\n"
          ]
        },
        {
          "name": "stderr",
          "output_type": "stream",
          "text": [
            "ERROR: After October 2020 you may experience errors when installing or updating packages. This is because pip will change the way that it resolves dependency conflicts.\n",
            "\n",
            "We recommend you use --use-feature=2020-resolver to test your packages with the new resolver before it becomes the default.\n",
            "\n",
            "transformers 4.8.2 requires huggingface-hub==0.0.12, but you'll have huggingface-hub 0.13.4 which is incompatible.\n",
            "requests 2.21.0 requires urllib3<1.25,>=1.21.1, but you'll have urllib3 1.26.15 which is incompatible.\n",
            "WARNING: You are using pip version 20.2.3; however, version 23.1 is available.\n",
            "You should consider upgrading via the 'c:\\users\\user\\appdata\\local\\programs\\python\\python38\\python.exe -m pip install --upgrade pip' command.\n"
          ]
        },
        {
          "name": "stdout",
          "output_type": "stream",
          "text": [
            "Requirement already satisfied: transformers in c:\\users\\user\\appdata\\local\\programs\\python\\python38\\lib\\site-packages (4.8.2)\n",
            "Requirement already satisfied: packaging in c:\\users\\user\\appdata\\roaming\\python\\python38\\site-packages (from transformers) (23.1)\n",
            "Requirement already satisfied: requests in c:\\users\\user\\appdata\\local\\programs\\python\\python38\\lib\\site-packages (from transformers) (2.21.0)\n",
            "Requirement already satisfied: numpy>=1.17 in c:\\users\\user\\appdata\\local\\programs\\python\\python38\\lib\\site-packages (from transformers) (1.19.5)\n",
            "Requirement already satisfied: sacremoses in c:\\users\\user\\appdata\\local\\programs\\python\\python38\\lib\\site-packages (from transformers) (0.0.53)\n",
            "Requirement already satisfied: filelock in c:\\users\\user\\appdata\\local\\programs\\python\\python38\\lib\\site-packages (from transformers) (3.11.0)\n",
            "Requirement already satisfied: tqdm>=4.27 in c:\\users\\user\\appdata\\local\\programs\\python\\python38\\lib\\site-packages (from transformers) (4.65.0)\n",
            "Requirement already satisfied: regex!=2019.12.17 in c:\\users\\user\\appdata\\local\\programs\\python\\python38\\lib\\site-packages (from transformers) (2023.3.23)\n",
            "Requirement already satisfied: tokenizers<0.11,>=0.10.1 in c:\\users\\user\\appdata\\local\\programs\\python\\python38\\lib\\site-packages (from transformers) (0.10.3)\n",
            "Requirement already satisfied: pyyaml in c:\\users\\user\\appdata\\local\\programs\\python\\python38\\lib\\site-packages (from transformers) (6.0)\n",
            "Collecting huggingface-hub==0.0.12\n",
            "  Using cached huggingface_hub-0.0.12-py3-none-any.whl (37 kB)\n",
            "Requirement already satisfied: certifi>=2017.4.17 in c:\\users\\user\\appdata\\local\\programs\\python\\python38\\lib\\site-packages (from requests->transformers) (2021.10.8)\n",
            "Requirement already satisfied: chardet<3.1.0,>=3.0.2 in c:\\users\\user\\appdata\\local\\programs\\python\\python38\\lib\\site-packages (from requests->transformers) (3.0.4)\n",
            "Requirement already satisfied: idna<2.9,>=2.5 in c:\\users\\user\\appdata\\local\\programs\\python\\python38\\lib\\site-packages (from requests->transformers) (2.8)\n",
            "Collecting urllib3<1.25,>=1.21.1\n",
            "  Using cached urllib3-1.24.3-py2.py3-none-any.whl (118 kB)\n",
            "Requirement already satisfied: joblib in c:\\users\\user\\appdata\\local\\programs\\python\\python38\\lib\\site-packages (from sacremoses->transformers) (1.1.0)\n",
            "Requirement already satisfied: click in c:\\users\\user\\appdata\\local\\programs\\python\\python38\\lib\\site-packages (from sacremoses->transformers) (8.1.3)\n",
            "Requirement already satisfied: six in c:\\users\\user\\appdata\\roaming\\python\\python38\\site-packages (from sacremoses->transformers) (1.16.0)\n",
            "Requirement already satisfied: colorama; platform_system == \"Windows\" in c:\\users\\user\\appdata\\roaming\\python\\python38\\site-packages (from tqdm>=4.27->transformers) (0.4.6)\n",
            "Requirement already satisfied: typing-extensions in c:\\users\\user\\appdata\\roaming\\python\\python38\\site-packages (from huggingface-hub==0.0.12->transformers) (4.5.0)\n",
            "Installing collected packages: huggingface-hub, urllib3\n",
            "  Attempting uninstall: huggingface-hub\n",
            "    Found existing installation: huggingface-hub 0.13.4\n",
            "    Uninstalling huggingface-hub-0.13.4:\n",
            "      Successfully uninstalled huggingface-hub-0.13.4\n",
            "  Attempting uninstall: urllib3\n",
            "    Found existing installation: urllib3 1.26.15\n",
            "    Uninstalling urllib3-1.26.15:\n",
            "      Successfully uninstalled urllib3-1.26.15\n",
            "Successfully installed huggingface-hub-0.0.12 urllib3-1.24.3\n"
          ]
        },
        {
          "name": "stderr",
          "output_type": "stream",
          "text": [
            "ERROR: After October 2020 you may experience errors when installing or updating packages. This is because pip will change the way that it resolves dependency conflicts.\n",
            "\n",
            "We recommend you use --use-feature=2020-resolver to test your packages with the new resolver before it becomes the default.\n",
            "\n",
            "responses 0.18.0 requires urllib3>=1.25.10, but you'll have urllib3 1.24.3 which is incompatible.\n",
            "datasets 2.11.0 requires huggingface-hub<1.0.0,>=0.11.0, but you'll have huggingface-hub 0.0.12 which is incompatible.\n",
            "botocore 1.29.115 requires urllib3<1.27,>=1.25.4, but you'll have urllib3 1.24.3 which is incompatible.\n",
            "WARNING: You are using pip version 20.2.3; however, version 23.1 is available.\n",
            "You should consider upgrading via the 'c:\\users\\user\\appdata\\local\\programs\\python\\python38\\python.exe -m pip install --upgrade pip' command.\n",
            "ERROR: Could not find a version that satisfies the requirement load_metric (from versions: none)\n",
            "ERROR: No matching distribution found for load_metric\n",
            "WARNING: You are using pip version 20.2.3; however, version 23.1 is available.\n",
            "You should consider upgrading via the 'c:\\users\\user\\appdata\\local\\programs\\python\\python38\\python.exe -m pip install --upgrade pip' command.\n"
          ]
        },
        {
          "name": "stdout",
          "output_type": "stream",
          "text": [
            "Collecting rouge_score\n",
            "  Downloading rouge_score-0.1.2.tar.gz (17 kB)\n",
            "Requirement already satisfied: absl-py in c:\\users\\user\\appdata\\local\\programs\\python\\python38\\lib\\site-packages (from rouge_score) (0.15.0)\n",
            "Collecting nltk\n",
            "  Downloading nltk-3.8.1-py3-none-any.whl (1.5 MB)\n",
            "Requirement already satisfied: numpy in c:\\users\\user\\appdata\\local\\programs\\python\\python38\\lib\\site-packages (from rouge_score) (1.19.5)\n",
            "Requirement already satisfied: six>=1.14.0 in c:\\users\\user\\appdata\\roaming\\python\\python38\\site-packages (from rouge_score) (1.16.0)\n",
            "Requirement already satisfied: regex>=2021.8.3 in c:\\users\\user\\appdata\\local\\programs\\python\\python38\\lib\\site-packages (from nltk->rouge_score) (2023.3.23)\n",
            "Requirement already satisfied: click in c:\\users\\user\\appdata\\local\\programs\\python\\python38\\lib\\site-packages (from nltk->rouge_score) (8.1.3)\n",
            "Requirement already satisfied: tqdm in c:\\users\\user\\appdata\\local\\programs\\python\\python38\\lib\\site-packages (from nltk->rouge_score) (4.65.0)\n",
            "Requirement already satisfied: joblib in c:\\users\\user\\appdata\\local\\programs\\python\\python38\\lib\\site-packages (from nltk->rouge_score) (1.1.0)\n",
            "Requirement already satisfied: colorama; platform_system == \"Windows\" in c:\\users\\user\\appdata\\roaming\\python\\python38\\site-packages (from click->nltk->rouge_score) (0.4.6)\n",
            "Building wheels for collected packages: rouge-score\n",
            "  Building wheel for rouge-score (setup.py): started\n",
            "  Building wheel for rouge-score (setup.py): finished with status 'done'\n",
            "  Created wheel for rouge-score: filename=rouge_score-0.1.2-py3-none-any.whl size=24992 sha256=8aa8630c5b783f90fe39114f26279648ae47518a8830fcd7f61b5dc81a901e8c\n",
            "  Stored in directory: c:\\users\\user\\appdata\\local\\pip\\cache\\wheels\\24\\55\\6f\\ebfc4cb176d1c9665da4e306e1705496206d08215c1acd9dde\n",
            "Successfully built rouge-score\n",
            "Installing collected packages: nltk, rouge-score\n",
            "Successfully installed nltk-3.8.1 rouge-score-0.1.2\n"
          ]
        },
        {
          "name": "stderr",
          "output_type": "stream",
          "text": [
            "WARNING: You are using pip version 20.2.3; however, version 23.1 is available.\n",
            "You should consider upgrading via the 'c:\\users\\user\\appdata\\local\\programs\\python\\python38\\python.exe -m pip install --upgrade pip' command.\n"
          ]
        },
        {
          "name": "stdout",
          "output_type": "stream",
          "text": [
            "Collecting evaluate\n",
            "  Downloading evaluate-0.4.0-py3-none-any.whl (81 kB)\n",
            "Requirement already satisfied: datasets>=2.0.0 in c:\\users\\user\\appdata\\local\\programs\\python\\python38\\lib\\site-packages (from evaluate) (2.11.0)\n",
            "Requirement already satisfied: dill in c:\\users\\user\\appdata\\local\\programs\\python\\python38\\lib\\site-packages (from evaluate) (0.3.6)\n",
            "Requirement already satisfied: pandas in c:\\users\\user\\appdata\\local\\programs\\python\\python38\\lib\\site-packages (from evaluate) (1.2.4)\n",
            "Collecting huggingface-hub>=0.7.0\n",
            "  Using cached huggingface_hub-0.13.4-py3-none-any.whl (200 kB)\n",
            "Requirement already satisfied: packaging in c:\\users\\user\\appdata\\roaming\\python\\python38\\site-packages (from evaluate) (23.1)\n",
            "Requirement already satisfied: responses<0.19 in c:\\users\\user\\appdata\\local\\programs\\python\\python38\\lib\\site-packages (from evaluate) (0.18.0)\n",
            "Requirement already satisfied: requests>=2.19.0 in c:\\users\\user\\appdata\\local\\programs\\python\\python38\\lib\\site-packages (from evaluate) (2.21.0)\n",
            "Requirement already satisfied: fsspec[http]>=2021.05.0 in c:\\users\\user\\appdata\\local\\programs\\python\\python38\\lib\\site-packages (from evaluate) (2023.4.0)\n",
            "Requirement already satisfied: tqdm>=4.62.1 in c:\\users\\user\\appdata\\local\\programs\\python\\python38\\lib\\site-packages (from evaluate) (4.65.0)\n",
            "Requirement already satisfied: multiprocess in c:\\users\\user\\appdata\\local\\programs\\python\\python38\\lib\\site-packages (from evaluate) (0.70.14)\n",
            "Requirement already satisfied: xxhash in c:\\users\\user\\appdata\\local\\programs\\python\\python38\\lib\\site-packages (from evaluate) (3.2.0)\n",
            "Requirement already satisfied: numpy>=1.17 in c:\\users\\user\\appdata\\local\\programs\\python\\python38\\lib\\site-packages (from evaluate) (1.19.5)\n",
            "Requirement already satisfied: pyyaml>=5.1 in c:\\users\\user\\appdata\\local\\programs\\python\\python38\\lib\\site-packages (from datasets>=2.0.0->evaluate) (6.0)\n",
            "Requirement already satisfied: pyarrow>=8.0.0 in c:\\users\\user\\appdata\\local\\programs\\python\\python38\\lib\\site-packages (from datasets>=2.0.0->evaluate) (11.0.0)\n",
            "Requirement already satisfied: aiohttp in c:\\users\\user\\appdata\\local\\programs\\python\\python38\\lib\\site-packages (from datasets>=2.0.0->evaluate) (3.8.4)\n",
            "Requirement already satisfied: pytz>=2017.3 in c:\\users\\user\\appdata\\local\\programs\\python\\python38\\lib\\site-packages (from pandas->evaluate) (2021.3)\n",
            "Requirement already satisfied: python-dateutil>=2.7.3 in c:\\users\\user\\appdata\\roaming\\python\\python38\\site-packages (from pandas->evaluate) (2.8.2)\n",
            "Requirement already satisfied: typing-extensions>=3.7.4.3 in c:\\users\\user\\appdata\\roaming\\python\\python38\\site-packages (from huggingface-hub>=0.7.0->evaluate) (4.5.0)\n",
            "Requirement already satisfied: filelock in c:\\users\\user\\appdata\\local\\programs\\python\\python38\\lib\\site-packages (from huggingface-hub>=0.7.0->evaluate) (3.11.0)\n",
            "Collecting urllib3>=1.25.10\n",
            "  Using cached urllib3-1.26.15-py2.py3-none-any.whl (140 kB)\n",
            "Requirement already satisfied: certifi>=2017.4.17 in c:\\users\\user\\appdata\\local\\programs\\python\\python38\\lib\\site-packages (from requests>=2.19.0->evaluate) (2021.10.8)\n",
            "Requirement already satisfied: idna<2.9,>=2.5 in c:\\users\\user\\appdata\\local\\programs\\python\\python38\\lib\\site-packages (from requests>=2.19.0->evaluate) (2.8)\n",
            "Requirement already satisfied: chardet<3.1.0,>=3.0.2 in c:\\users\\user\\appdata\\local\\programs\\python\\python38\\lib\\site-packages (from requests>=2.19.0->evaluate) (3.0.4)\n",
            "Requirement already satisfied: colorama; platform_system == \"Windows\" in c:\\users\\user\\appdata\\roaming\\python\\python38\\site-packages (from tqdm>=4.62.1->evaluate) (0.4.6)\n",
            "Requirement already satisfied: charset-normalizer<4.0,>=2.0 in c:\\users\\user\\appdata\\local\\programs\\python\\python38\\lib\\site-packages (from aiohttp->datasets>=2.0.0->evaluate) (2.0.12)\n",
            "Requirement already satisfied: attrs>=17.3.0 in c:\\users\\user\\appdata\\local\\programs\\python\\python38\\lib\\site-packages (from aiohttp->datasets>=2.0.0->evaluate) (23.1.0)\n",
            "Requirement already satisfied: yarl<2.0,>=1.0 in c:\\users\\user\\appdata\\local\\programs\\python\\python38\\lib\\site-packages (from aiohttp->datasets>=2.0.0->evaluate) (1.8.2)\n",
            "Requirement already satisfied: frozenlist>=1.1.1 in c:\\users\\user\\appdata\\local\\programs\\python\\python38\\lib\\site-packages (from aiohttp->datasets>=2.0.0->evaluate) (1.3.3)\n",
            "Requirement already satisfied: multidict<7.0,>=4.5 in c:\\users\\user\\appdata\\local\\programs\\python\\python38\\lib\\site-packages (from aiohttp->datasets>=2.0.0->evaluate) (6.0.4)\n",
            "Requirement already satisfied: async-timeout<5.0,>=4.0.0a3 in c:\\users\\user\\appdata\\local\\programs\\python\\python38\\lib\\site-packages (from aiohttp->datasets>=2.0.0->evaluate) (4.0.2)\n",
            "Requirement already satisfied: aiosignal>=1.1.2 in c:\\users\\user\\appdata\\local\\programs\\python\\python38\\lib\\site-packages (from aiohttp->datasets>=2.0.0->evaluate) (1.3.1)\n",
            "Requirement already satisfied: six>=1.5 in c:\\users\\user\\appdata\\roaming\\python\\python38\\site-packages (from python-dateutil>=2.7.3->pandas->evaluate) (1.16.0)\n",
            "Installing collected packages: huggingface-hub, evaluate, urllib3\n",
            "  Attempting uninstall: huggingface-hub\n",
            "    Found existing installation: huggingface-hub 0.0.12\n",
            "    Uninstalling huggingface-hub-0.0.12:\n",
            "      Successfully uninstalled huggingface-hub-0.0.12\n",
            "  Attempting uninstall: urllib3\n",
            "    Found existing installation: urllib3 1.24.3\n",
            "    Uninstalling urllib3-1.24.3:\n",
            "      Successfully uninstalled urllib3-1.24.3\n",
            "Successfully installed evaluate-0.4.0 huggingface-hub-0.13.4 urllib3-1.26.15\n"
          ]
        },
        {
          "name": "stderr",
          "output_type": "stream",
          "text": [
            "ERROR: After October 2020 you may experience errors when installing or updating packages. This is because pip will change the way that it resolves dependency conflicts.\n",
            "\n",
            "We recommend you use --use-feature=2020-resolver to test your packages with the new resolver before it becomes the default.\n",
            "\n",
            "transformers 4.8.2 requires huggingface-hub==0.0.12, but you'll have huggingface-hub 0.13.4 which is incompatible.\n",
            "requests 2.21.0 requires urllib3<1.25,>=1.21.1, but you'll have urllib3 1.26.15 which is incompatible.\n",
            "WARNING: You are using pip version 20.2.3; however, version 23.1 is available.\n",
            "You should consider upgrading via the 'c:\\users\\user\\appdata\\local\\programs\\python\\python38\\python.exe -m pip install --upgrade pip' command.\n"
          ]
        }
      ],
      "source": [
        "!pip install datasets\n",
        "!pip install transformers\n",
        "!pip install load_metric\n",
        "!pip install rouge_score\n",
        "!pip install evaluate"
      ]
    },
    {
      "cell_type": "markdown",
      "metadata": {
        "id": "LklTWTolvm3l"
      },
      "source": [
        "## 데이터 불러오기"
      ]
    },
    {
      "cell_type": "code",
      "execution_count": 11,
      "metadata": {
        "id": "NRPNtiT4Ar97"
      },
      "outputs": [
        {
          "name": "stderr",
          "output_type": "stream",
          "text": [
            "c:\\Users\\User\\AppData\\Local\\Programs\\Python\\Python38\\lib\\site-packages\\requests\\__init__.py:89: RequestsDependencyWarning: urllib3 (1.26.15) or chardet (3.0.4) doesn't match a supported version!\n",
            "  warnings.warn(\"urllib3 ({}) or chardet ({}) doesn't match a supported \"\n",
            "c:\\Users\\User\\AppData\\Local\\Programs\\Python\\Python38\\lib\\site-packages\\tqdm\\auto.py:21: TqdmWarning: IProgress not found. Please update jupyter and ipywidgets. See https://ipywidgets.readthedocs.io/en/stable/user_install.html\n",
            "  from .autonotebook import tqdm as notebook_tqdm\n"
          ]
        }
      ],
      "source": [
        "from datasets import load_dataset,load_metric"
      ]
    },
    {
      "cell_type": "code",
      "execution_count": 12,
      "metadata": {
        "colab": {
          "base_uri": "https://localhost:8080/"
        },
        "id": "ypDQQ0nD_2m-",
        "outputId": "4c3fa40c-06cc-4da7-8b3f-17b9635db97b"
      },
      "outputs": [
        {
          "name": "stderr",
          "output_type": "stream",
          "text": [
            "Downloading readme: 100%|██████████| 787/787 [00:00<00:00, 787kB/s]\n"
          ]
        },
        {
          "name": "stdout",
          "output_type": "stream",
          "text": [
            "Downloading and preparing dataset csv/daekeun-ml--naver-news-summarization-ko to C:/Users/User/.cache/huggingface/datasets/daekeun-ml___csv/daekeun-ml--naver-news-summarization-ko-884ccea06154613b/0.0.0/6954658bab30a358235fa864b05cf819af0e179325c740e4bc853bcc7ec513e1...\n"
          ]
        },
        {
          "name": "stderr",
          "output_type": "stream",
          "text": [
            "Downloading data: 100%|██████████| 66.3M/66.3M [00:02<00:00, 32.7MB/s]\n",
            "Downloading data: 100%|██████████| 8.17M/8.17M [00:00<00:00, 9.92MB/s]\n",
            "Downloading data: 100%|██████████| 7.45M/7.45M [00:01<00:00, 5.13MB/s]\n",
            "Downloading data files: 100%|██████████| 3/3 [00:06<00:00,  2.18s/it]\n",
            "Extracting data files: 100%|██████████| 3/3 [00:00<00:00, 199.99it/s]\n",
            "C:\\Users\\User\\AppData\\Local\\Temp\\ipykernel_25020\\1462125853.py:2: FutureWarning: load_metric is deprecated and will be removed in the next major version of datasets. Use 'evaluate.load' instead, from the new library 🤗 Evaluate: https://huggingface.co/docs/evaluate\n",
            "  metric = load_metric(\"rouge\")\n"
          ]
        },
        {
          "name": "stdout",
          "output_type": "stream",
          "text": [
            "Dataset csv downloaded and prepared to C:/Users/User/.cache/huggingface/datasets/daekeun-ml___csv/daekeun-ml--naver-news-summarization-ko-884ccea06154613b/0.0.0/6954658bab30a358235fa864b05cf819af0e179325c740e4bc853bcc7ec513e1. Subsequent calls will reuse this data.\n"
          ]
        },
        {
          "name": "stderr",
          "output_type": "stream",
          "text": [
            "Downloading builder script: 5.65kB [00:00, 5.65MB/s]                   \n"
          ]
        }
      ],
      "source": [
        "raw_datasets = load_dataset(\"daekeun-ml/naver-news-summarization-ko\", split=\"test\")\n",
        "metric = load_metric(\"rouge\")"
      ]
    },
    {
      "cell_type": "code",
      "execution_count": 13,
      "metadata": {
        "colab": {
          "base_uri": "https://localhost:8080/"
        },
        "id": "vOiJS_LnifgG",
        "outputId": "487e21b6-e6dd-4ea7-c9b4-4ad89f107c2d"
      },
      "outputs": [
        {
          "data": {
            "text/plain": [
              "Dataset({\n",
              "    features: ['date', 'category', 'press', 'title', 'document', 'link', 'summary'],\n",
              "    num_rows: 2740\n",
              "})"
            ]
          },
          "execution_count": 13,
          "metadata": {},
          "output_type": "execute_result"
        }
      ],
      "source": [
        "raw_datasets"
      ]
    },
    {
      "cell_type": "code",
      "execution_count": 14,
      "metadata": {
        "id": "3UG4MBOeLM9f"
      },
      "outputs": [],
      "source": [
        "raw_datasets = raw_datasets.train_test_split(test_size=0.2)"
      ]
    },
    {
      "cell_type": "code",
      "execution_count": 15,
      "metadata": {
        "colab": {
          "base_uri": "https://localhost:8080/"
        },
        "id": "vyijDbtFAxuy",
        "outputId": "af53aa52-2ae1-47fe-b90e-bb9c62a89bbb"
      },
      "outputs": [
        {
          "data": {
            "text/plain": [
              "{'date': '2022-07-06 15:11:02',\n",
              " 'category': 'economy',\n",
              " 'press': '헤럴드경제 ',\n",
              " 'title': '환경부 녹색산업 혁신성장 옴부즈만 위촉',\n",
              " 'document': '현장 목소리 청취 규제개선 과제 발굴 등 현장 소통창구 강화 헤럴드경제 김용훈 기자 환경부는 6일 서울 중구 프레지던트호텔에서 ‘녹색산업 혁신성장 옴부즈만 위촉식’을 열고 박정호 인선모터스 대표를 옴부즈만으로 연임한다고 밝혔다. 이에 따라 박정호 옴부즈만은 이날부터 2024년 7월 5일까지 2년간 ‘녹색산업 혁신성장 옴부즈만’으로서 녹색산업체의 어려움을 듣고 제도 개선방안 제안 등의 업무를 수행한다. 옴부즈만은 정부 행정에 대해 관련 공무원에게 설명을 요구하고 필요한 사항을 조사해 민원인에게 결과를 알려 주는 등의 활동을 하는 제도를 의미한다. 유제철 환경부 차관은 이날 박정호 옴부즈만에게 위촉장을 전달하면서 옴부즈만 직을 이어준 것에 대한 감사 인사와 함께 혁신에 걸림돌이 되는 규제개선 건의와 현장의 목소리 등을 가감 없이 전달해 주기를 요청할 예정이다. 박정호 옴부즈만은 “탄소중립 환경·사회·투명 경영 ESG 등 환경에 관한 관심에 부응하여 녹색산업이 성장할 수 있도록 현장 목소리를 잘 전달하도록 노력하겠다”고 연임 소감을 밝혔다. 환경부는 옴부즈만 제도 운용을 통해 새 정부의 규제개혁에 더욱 활력을 불어넣을 예정이다. 특히 기존 옴부즈만 운영상의 부족한 점을 보완하여 반기별로 회의를 정례화하고 미반영된 개선과제는 심층 검토회의를 통해 대안 마련 등 후속 조치를 시행할 계획이다. 한편 환경부는 옴부즈만 위촉식에 이어 환경산업계 7개 협·단체장과 환경기업 대표 등이 참여하는 간담회도 개최한다. 이날 유제철 차관과 박정호 옴부즈만은 탄소중립 실현 및 환경·사회·투명 경영 ESG 활성화를 위한 녹색산업계의 역할을 논의하고 이를 지원하기 위한 제도적 개선 방향을 함께 모색한다. 유제철 환경부 차관은 “녹색산업 혁신성장 옴부즈만이 정부와 녹색산업계를 연결하는 다리가 되어 새 정부의 규제개혁에 보탬이 되어 주길 기대한다”고 말했다.',\n",
              " 'link': 'https://n.news.naver.com/mnews/article/016/0002012369?sid=101',\n",
              " 'summary': \"환경부는 6일 서울 프레지던트호텔에서 '녹색산업 혁신성장 옴부즈만 위촉식'을 개최하고 박정호 인선모터스 대표를 옴부즈만으로 연임함에 따라 박정호 옴부즈만은 2024년 7월 5일까지 2년간 해당 기간동안 정부 행정에 대해 공무원에게 설명을 요구하고 필요한 사항을 조사해 민원인에게 결과를 알려 주는 등의 활동을 하는 활동을 하는 '옴부즈만'으로서 녹색산업체의 어려움을 듣고 제도 개선방안 제안 등의 업무를 수행한다.\"}"
            ]
          },
          "execution_count": 15,
          "metadata": {},
          "output_type": "execute_result"
        }
      ],
      "source": [
        "raw_datasets[\"test\"][0]"
      ]
    },
    {
      "cell_type": "markdown",
      "metadata": {
        "id": "pw0Dts21VH0q"
      },
      "source": [
        "## 데이터 확인"
      ]
    },
    {
      "cell_type": "code",
      "execution_count": 16,
      "metadata": {
        "id": "Tivw88fpB0jJ"
      },
      "outputs": [],
      "source": [
        "import datasets\n",
        "import random\n",
        "import pandas as pd\n",
        "from IPython.display import display, HTML\n",
        "\n",
        "\n",
        "def show_random_elements(dataset, num_examples=5):\n",
        "    assert num_examples <= len(\n",
        "        dataset\n",
        "    ), \"Can't pick more elements than there are in the dataset.\"\n",
        "    picks = []\n",
        "    for _ in range(num_examples):\n",
        "        pick = random.randint(0, len(dataset) - 1)\n",
        "        while pick in picks:\n",
        "            pick = random.randint(0, len(dataset) - 1)\n",
        "        picks.append(pick)\n",
        "\n",
        "    df = pd.DataFrame(dataset[picks])\n",
        "    for column, typ in dataset.features.items():\n",
        "        if isinstance(typ, datasets.ClassLabel):\n",
        "            df[column] = df[column].transform(lambda i: typ.names[i])\n",
        "    display(HTML(df.to_html()))\n"
      ]
    },
    {
      "cell_type": "code",
      "execution_count": 17,
      "metadata": {
        "colab": {
          "base_uri": "https://localhost:8080/",
          "height": 1000
        },
        "id": "iELXi48VB-5Q",
        "outputId": "b8675db4-d9a6-409e-f894-54e25835eba8"
      },
      "outputs": [
        {
          "data": {
            "text/html": [
              "<table border=\"1\" class=\"dataframe\">\n",
              "  <thead>\n",
              "    <tr style=\"text-align: right;\">\n",
              "      <th></th>\n",
              "      <th>date</th>\n",
              "      <th>category</th>\n",
              "      <th>press</th>\n",
              "      <th>title</th>\n",
              "      <th>document</th>\n",
              "      <th>link</th>\n",
              "      <th>summary</th>\n",
              "    </tr>\n",
              "  </thead>\n",
              "  <tbody>\n",
              "    <tr>\n",
              "      <th>0</th>\n",
              "      <td>2022-07-04 10:07:02</td>\n",
              "      <td>economy</td>\n",
              "      <td>헤럴드경제</td>\n",
              "      <td>CJ대한통운 ‘블랙이글스’ 9대 운송…“최고난도 물류작전 성공”</td>\n",
              "      <td>英 국제 에어쇼 참가…분해·운송·재조립 과정 포함 8800㎞ 비행 이후 무진동 트레일러 실어 육상 이동 CJ대한통운이 영국 스탠스테드 공항에 도착한 블랙이글스 항공기 T 50B의 환적 작업을 진행하고 있다. CJ대한통운 제공 헤럴드경제 정찬수 기자 CJ대한통운이 영국 국제 에어쇼에 참가하는 공군 블랙이글스 Black Eagles T 50B 항공기 9대를 영국까지 운송하는 ‘블랙이글스 프로젝트’를 성공적으로 마쳤다고 4일 밝혔다. 프로젝트는 오는 9일부터 22일까지 영국에서 열리는 사우스포트·리아트·판보로 에어쇼에 참가하는 블랙이글스의 항공기와 장비 일체를 원주 공군기지부터 영국 보스콤다운 비행장까지 운송하는 것이다. 최첨단 정밀 부품과 고가 장비가 집약된 항공기 운송은 최고난도 물류로 알려져 있다. CJ대한통운은 성공적인 프로젝트 수행을 위해 지난 4월부터 준비했다. 화물전세기 3대 무진동 트레일러 27대 컨보이차량 18대 등 특수화물에 최적화한 장비와 전문인력을 투입했다. CJ대한통운은 안전하고 효율적인 운송을 위해 T 50B를 3대씩 나눠 진행했다. 같은 운송과정을 3번 반복해 총 9대의 항공기를 최종 목적지까지 전달했다. 먼저 동체 날개 수평꼬리날개 수직꼬리날개 엔진 등으로 분해된 T 50B는 특수 제작된 방수커버와 결박을 위한 탄성벨트로 포장해 원주에서 인천공항까지 육로로 운송했다. 이후 B747 400F 화물전세기에 실어 8800㎞를 이동한 뒤 영국 스탠스테드 공항에서 육상운송으로 전환하는 환적 작업을 진행했다. 길이 13m의 무진동 트레일러에 실린 항공기는 시속 60㎞ 안팎의 저속으로 운행하며 컨보이차량의 호위와 함께 보스콤다운 비행장까지 옮겨졌다. 최종 목적지에 도착한 T 50B는 재조립 과정을 거쳐 에어쇼에서 최상의 비행 퍼포먼스를 낼 수 있도록 준비된다. 에어쇼 이후에는 블랙이글스 조종사들이 직접 T 50B를 몰고 13개국을 경유하며 복귀한다. 폴란드 이집트 필리핀 등 여러 국가에서 에어쇼와 전시를 통해 방산수출에 기여한다는 계획이다. 장영호 CJ대한통운 포워딩본부장은 “크고 무거운 중량화물이나 취급하기 까다로운 특수화물운송 분야의 역량과 노하우를 바탕으로 고객이 원하는 어떠한 물류서비스도 수행할 수 있도록 노력하겠다”고 말했다. 한편 CJ대한통운은 지난 2012년에도 영국 에어쇼에 참가한 블랙이글스 T 50B 항공기 9기를 운송했다. 공군이 사용했던 T 38 훈련기 15대를 미 공군에 반환할 때도 육상 운송과 선적을 담당했다. 터키 고대유적 국립중앙박물관 유물 원전설비 대형극장 등 다양한 종류의 특수 화물운송을 수행한 노하우도 보유하고 있다. CJ대한통운이 영국 스탠스테드 공항에 도착한 블랙이글스 항공기 T 50B의 육상 운송을 시작하고 있다.</td>\n",
              "      <td>https://n.news.naver.com/mnews/article/016/0002010943?sid=101</td>\n",
              "      <td>CJ대한통운이 오는 9일부터 22일까지 영국에서 열리는 사우스포트·리아트·판보로 에어쇼에 참가하는 공군 블랙이글스 Black Eagles T 50B 항공기 9대를 오는 9일부터 22일까지 원주 공군기지부터 영국 보스콤다운 비행장까지 운송하는 '블랙이글스 프로젝트'를 성공적으로 마쳤다고 4일 밝혔다.</td>\n",
              "    </tr>\n",
              "    <tr>\n",
              "      <th>1</th>\n",
              "      <td>2022-07-01 12:10:52</td>\n",
              "      <td>economy</td>\n",
              "      <td>뉴스1</td>\n",
              "      <td>김치 등 단순가공식품 부가세 면제</td>\n",
              "      <td>세종 뉴스1 김기남 기자 민생안정 대책의 일환으로 병·캔 등으로 개별 포장된 김치 된장 고추장 간장 젓갈류 등 단순가공식품의 부가가치세 10% 인하 첫날인 1일 오전 세종시 이마트 세종점에서 직원이 상품을 정리하고 있다. 정부는 2023년까지 단순 가공 식료품의 부가가치세 10%를 면제한다고 최근 발표했다.</td>\n",
              "      <td>https://n.news.naver.com/mnews/article/421/0006191613?sid=101</td>\n",
              "      <td>정부가부는 2023년까지 단순 가공 식료품의 부가가치세 10%를 면제하고 2023년까지  2023년까지 단순 가공 식료품의 부가가치세 10%를 면제한다고 최근 발표했으나,  민생안정 대책의 일환으로 병·캔 등으로 개별 포장된 김치 된장 고추장 간장 젓갈류 등 단순가공식품의 부가가치세 10% 인하 첫날인 1일 오전 세종시 이마트 세종점에서 직원이 상품을 정리하고 있다.</td>\n",
              "    </tr>\n",
              "    <tr>\n",
              "      <th>2</th>\n",
              "      <td>2022-07-05 17:04:01</td>\n",
              "      <td>IT과학</td>\n",
              "      <td>조선비즈</td>\n",
              "      <td>‘수학계 노벨상’ 필즈상은 무엇... 40세 미만만 수상 가능</td>\n",
              "      <td>허준이 39 미국 프린스턴대 교수가 한국인 최초로 ‘수학계 노벨상’으로 불리는 필즈상 Fileds Medal 을 수상했다. 국제수학연맹 IMU 은 5일 “필즈상 수상자로 허 교수를 비롯해 마리나 비아조우스카 38 스위스 로잔연방공과대 교수 위고 뒤미닐코팽 37 프랑스 고등과학원 교수 제임스 메이나드 35 영국 옥스퍼드대 교수를 선정했다”고 밝혔다. 1936년부터 세계 수학계에서 탁월한 공적을 인정받은 40세 미만 젊은 학자에게 4년에 한 번씩 수여되는 필즈상은 ‘수학의 노벨상’이라 불릴 정도로 권위가 높다. 아무리 좋은 연구 결과가 있다 하더라도 나이 제한에 따라 40세가 되면 상을 받지 못하는 것이다. 이 상이 제정되기까지는 캐나다 출신 수학자 존 찰스 필즈의 공로가 있었다. 필즈는 1863년 5월14일 캐나다 온타리오주 해밀턴에서 가죽 상인의 아들로 태어났다. 토론토대 수학과를 졸업한 뒤 미국 존스홉킨스대에서 수학 박사학위를 땄고 유럽으로 건너가 연구원 생활을 했다. 필즈상 메달의 모습 과기정통부 필즈는 1902년 토론토대 수학과 교수가 된 뒤 온타리오주 의회를 설득해 수학 연구에 매년 7만5000달러를 지원한다는 약속을 받아냈다. 또 1924년 국제수학자대회 ICM 를 토론토에 유치했다. 이 행사에서 “수학자만을 위한 상을 제정해야 한다”고 처음 주창했다. 이후 유언으로 재산 4만7000달러를 기금으로 내놓기도 했다. 하지만 1932년 8월9일 69세에 심장마비로 갑자기 별세하면서 생전엔 상이 주어지는 걸 보지 못했다. 그래도 평생 수학을 사랑한 그의 이름은 상의 명칭으로 남았다. 필즈의 노력으로 1936년 첫 수상자가 나왔다. 핀란드의 라르스 발레리안 알포르스는 ‘유리형 함수 및 리만 면의 연구’라는 주제로 필즈상을 최초로 받았다. 미국의 제시 더글러스도 ‘플라토의 문제’라는 주제로 필즈상을 받았다. 필즈상은 1966년까지 매번 2명의 수상자를 선정했다. 하지만 시간이 지나 수학 분야가 점점 넓어지면서 뛰어난 업적이 많이 나왔고 1966년부터 수상자를 4명으로 늘렸다. 현재까지 총 60명이 필즈상을 수상했다. 아시아에서는 일본 3명 중국 1명 등 총 8명의 수상자가 나왔다. 주요 수상자로는 1954년 프랑스 수학자의 장 피에르 세르는 스펙트럼 수열의 방법을 통한 구면의 호모토피 군에 관한 계산 및 층의 이론을 사용하여 다변수복소해석학을 재정립·확장해 필즈상을 받았다. 그의 나이 27세의 최연소 수상 기록이다. 2014년에는 이란의 수학자 마리암 미르자카니가 여성 최초로 필즈상을 받았다. 그는 모듈라이 공간의 부피를 측정하는 성과를 인정받았다. 필즈상 수상자에게 수여하는 메달의 공식 이름은 ‘수학에서 뛰어난 발견에 관한 국제 메달’이다. 메달 앞면에 고대 그리스 수학자 아르키메데스의 초상과 함께 라틴어로 ‘자신 위로 올라서 세상을 꽉 붙잡아라’ 하는 문구가 적혀 있다. 뒷면에는 ‘전 세계에서 모인 수학자들이 탁월한 업적에 상을 수여한다’고 적혀 있다. 존 필즈는 이 상에 대해 ‘이미 완성된 업적을 표창하지만 이 상을 받은 사람은 그 분야에서 더 뛰어난 성취를 위해 용기를 북돋우며 다른 새로운 분야의 노력을 자극한다는 것을 알게 될 것이다’라는 메모를 남겼다. 이 메모를 당시 수학자들은 젊은 수학자에게 주는 상이라고 해석했다. 이에 필즈상은 수상자를 40세 미만 젊은 수학자로 제한하고 있다. 정확하게 상을 주는 해의 1월 1일을 기준으로 40세가 되지 않은 수학자가 대상인 것이다. 페르마의 마지막 정리를 증명한 앤드루 와일스는 논문을 41세에 완성해 필즈상을 받지 못하기도 했다. 필즈상 상금은 1만5000 캐나다 달러 약 1500만원 이다. 노벨상 상금이 우리 돈으로 10억원이 조금 넘는다. 세계가 주목하는 천재 수학자들에게 주는 이 상을 거부한 사례도 있다. 2006년 러시아의 그리고리 페렐만은 수학계의 중요한 난제 중 하나인 푸앵카레 추측을 증명해 필즈상 수상자로 선정됐지만 수상을 거부했다. 푸앵카레 추측은 2000년 미국 클레이 수학연구소가 내건 일곱 문제 중 하나인데 상금이 100만달러 약 11억원 에 달했다. 페렐만은 이 상금도 받지 않았다.</td>\n",
              "      <td>https://n.news.naver.com/mnews/article/366/0000825540?sid=105</td>\n",
              "      <td>19준이 39 미국 프린스턴대 교수가 한국인 최초로 수학계 노벨상이라 불릴 정도로 권위가 높지만 수학 분야가 점점 넓어지면서 뛰어난 업적이 많이 나왔고 1966년부터 수상자를 4명으로 늘려 한국인 최초로 ‘수학계 노벨상’으로 불리는 필즈상 Fileds Medal 을 수상했다.</td>\n",
              "    </tr>\n",
              "    <tr>\n",
              "      <th>3</th>\n",
              "      <td>2022-07-03 11:26:01</td>\n",
              "      <td>economy</td>\n",
              "      <td>조선비즈</td>\n",
              "      <td>LH 청년·신혼부부 매입임대 2562가구 청약 접수</td>\n",
              "      <td>LH 로고. LH 제공 한국토지주택공사 LH 는 오는 4일부터 청년·신혼부부 매입임대주택 2562가구의 청약 접수를 시작한다고 3일 밝혔다. 매입임대주택는 LH가 도심 내 주택을 매입해 무주택 청년·신혼부부 등에게 시세보다 저렴한 임대 조건으로 빌려주는 공공임대주택이다. 지난 3월 1차 정기모집을 통해 4340호를 공급했고 이번에 2차로 전국 76개 시·군·구에 추가 공급한다. 청년 신혼부부 각각 1238가구 1324가구다. 지역별로는 서울·경기·인천 등 수도권에 1299가구 그외에 1263호가 공급된다. 다음 달 말 당첨자를 발표하고 입주자격 검증 등을 거쳐 오는 9월 이후 입주할 수 있다. 자세한 사항은 LH청약센터 apply.lh.or.kr 에 게시된 공고문을 통해 확인할 수 있다.</td>\n",
              "      <td>https://n.news.naver.com/mnews/article/366/0000824972?sid=101</td>\n",
              "      <td>L토지주택공사 LH 는 오는 4일부터 청년·신혼부부 매입임대주택 2562가구의 청약 접수를 시작한다고 3일 밝혔으며  매입임대주택는 LH가 도심 내 주택을 매입해 무주택 청년·신혼부부 등에게 시세보다 저렴한 임대 조건으로 빌려주는 공공임대주택으로 자세한 사항은 LH청약센터 apply.lh.or.kr 에 게시된 공고문을 통해 확인할 수 있다.</td>\n",
              "    </tr>\n",
              "    <tr>\n",
              "      <th>4</th>\n",
              "      <td>2022-07-01 11:34:01</td>\n",
              "      <td>IT과학</td>\n",
              "      <td>디지털데일리</td>\n",
              "      <td>한투증  테슬라 기초 ELS 등 2종 모집</td>\n",
              "      <td>디지털데일리 변재영 기자 한국금융지주 자회사 한국투자증권은 뱅키스 전용 해외주식형 주가연계증권 ELS 2종을 각각 50억원 한도로 공모한다고 1일 밝혔다. ‘TRUE ELS 15249회’는 미국 전기차 기업 테슬라 Tesla 를 기초자산으로 하는 3년 만기 상품이다. 기초자산의 주가가 최초 기준가격의 75% 4 8 12 16 20 24 28개월 70% 32개월 60% 만기 이상일 경우 연 21.51%의 수익을 지급하고 조기 상환된다. ‘TRUE ELS 15250회’는 테슬라 Tesla 와 엔비디아 NVIDIA 가 기초자산이다. 만기는 3년이며 조기 상환 여부는 6개월마다 판단한다. 기초자산의 주가가 최초 기준가격의 80% 6 12 18 24개월 70% 30개월 60% 만기 이상이면 연 28.2%의 수익과 함께 원금을 돌려받는다. 조기 상환 조건을 달성하지 못한 경우에도 투자기간 중 원금손실 기준선 낙인 knock in 미만으로 하락한 기초자산이 없으면 만기 시 정해진 수익률을 지급한다. 두 상품의 낙인은 둘 다 40%다. 낙인 미만으로 하락했더라도 기초자산 가격이 만기 상환조건 이상일 경우 약정된 수익률을 지급하지만 미만일 경우 원금손실이 발생한다. 일반 개인투자자 청약 기간은 7월 1일부터 4일까지다. 이후 투자자 숙려제도에 따라 5일과 6일 숙려 기간을 갖고 7일부터 8일 오전 10시 사이 청약 의사를 확정하면 된다.</td>\n",
              "      <td>https://n.news.naver.com/mnews/article/138/0002127719?sid=105</td>\n",
              "      <td>한국투자증권은 뱅키스 전용 해외주식형 주가연계증권 ELS 2종을 각각 50억 한도로 공모한다고 1일 밝혔으며, ‘TRUE ELS 15249회’는 미국 전기차 기업 테슬라 Tesla 를 기초자산으로 하는 3년 만기 상품으로, 기초자산의 주가가 최초 기준가격의 75%인 75%인 75% 4 8 12 16 20 24 28개월 70%인 경우 연 21.51%의 수익을 지급하고 조기 상환된다.</td>\n",
              "    </tr>\n",
              "  </tbody>\n",
              "</table>"
            ],
            "text/plain": [
              "<IPython.core.display.HTML object>"
            ]
          },
          "metadata": {},
          "output_type": "display_data"
        }
      ],
      "source": [
        "show_random_elements(raw_datasets[\"train\"])"
      ]
    },
    {
      "cell_type": "code",
      "execution_count": 18,
      "metadata": {
        "colab": {
          "base_uri": "https://localhost:8080/"
        },
        "id": "evXTRyJWe37j",
        "outputId": "97e92ea2-ead0-427c-fcc5-a436b69eed1e"
      },
      "outputs": [
        {
          "data": {
            "text/plain": [
              "Dataset({\n",
              "    features: ['date', 'category', 'press', 'title', 'document', 'link', 'summary'],\n",
              "    num_rows: 548\n",
              "})"
            ]
          },
          "execution_count": 18,
          "metadata": {},
          "output_type": "execute_result"
        }
      ],
      "source": [
        "raw_datasets[\"test\"]"
      ]
    },
    {
      "cell_type": "code",
      "execution_count": 19,
      "metadata": {
        "colab": {
          "base_uri": "https://localhost:8080/"
        },
        "id": "WVOJ8UimeyNt",
        "outputId": "684a5f54-8855-45e6-d0d7-f1ec764479c7"
      },
      "outputs": [
        {
          "data": {
            "text/plain": [
              "Dataset({\n",
              "    features: ['date', 'category', 'press', 'title', 'document', 'link', 'summary'],\n",
              "    num_rows: 2192\n",
              "})"
            ]
          },
          "execution_count": 19,
          "metadata": {},
          "output_type": "execute_result"
        }
      ],
      "source": [
        "raw_datasets[\"train\"]"
      ]
    },
    {
      "cell_type": "markdown",
      "metadata": {
        "id": "bvCHrc-3C6kJ"
      },
      "source": [
        "# 데이터 전처리 함수"
      ]
    },
    {
      "cell_type": "code",
      "execution_count": 8,
      "metadata": {
        "colab": {
          "base_uri": "https://localhost:8080/",
          "height": 213,
          "referenced_widgets": [
            "81040e6ac7ea41a9a5fedf8aae637b73",
            "e99dae062ca94beeb565210897d51bcd",
            "5c89b4a575804813a8f47cac397620d8",
            "d5499daf648e43629c9e511c183ff4ac",
            "d4a19b42220340c884ff2c1cbf789bf3",
            "29c4e9cc30a44c5db9290885b6c26887",
            "a187691a3b424d238e250b22dad00ef6",
            "832067b58f364d40b747b5e7757969cc",
            "2e3542a763c9406cbe7230541ab59011",
            "67b1355c5c3d42829efcd196da7ce90d",
            "6b3859d442bc4f1c9a9fdcbcb968e491",
            "b65f2051bd8e497baf73eb24238963e7",
            "aa309395e7204c7385ed5a1e24e2c6e6",
            "370601922e324a478b290ca8127bd7d8",
            "6f9f1c61c4bc4d23acf5ede7fa09ff85",
            "45c1872a424a468f946cfc7c7754cb93",
            "c3ac6fa11e354b739c44aaf8b1141a94",
            "4da2e5b87cd6406a8ade585c62c95cb8",
            "bc843f8d8f2545dbb56f6591abec1755",
            "3af95f32b2bd475ba20664c3a60e9885",
            "7c33b8cf63fd429e9281c723df85b7ad",
            "c846b9d5b6dd4c69bc988937bad14f7b",
            "3d768b1b5e9f4890893c295d12bb2c6e",
            "3e92cd46385f48569e9fe9e33f1789ac",
            "60abd0d2c8be4d889eba62db9a24b1c9",
            "435fe7d78eac41c699f709c1cd69ff8c",
            "baca2bc2c0c442419356fcb410ec511b",
            "3c98d15fb6f0466c897831460acd0e61",
            "1f0f0218a59e4120a694367278641957",
            "ffe30c74c9954ba1b48934d681a8e208",
            "79ea97ac277b448cb492f62a648bc070",
            "05f64a804b994ac3b36e36b9d3781895",
            "a9668b594b12492caa78a4928c4ce798",
            "ced322f5cd114dacb8645bcd46627410",
            "11fccff5246e45b2bc88c32c42f1c684",
            "665965d956a742d5886c6acc626e00a0",
            "07400d08da62418ca8e40ea41628e074",
            "71e3739f61d2426ab8aa0763a0903ad6",
            "d8f3290058584187b1917088dfcd9600",
            "3907f44ed85643a5815ab7e734cacb24",
            "d61ffcb60ce347f88500727bbdf2afa1",
            "1122acd26a584d1e80ae8118d9a2ec90",
            "5104b42d6afb400a8fe37f7f5afd3b5f",
            "5397e65dd85c4686ba0a88ad5140228c",
            "1efe0e0f1b86494b92a3abd8dca7d6ab",
            "743c110711e5446795d9143bafbc20a5",
            "6567ce9a4f2a4554abbc10b2efa466f2",
            "03cb987b92a44407bc37c5c13c0e5b37",
            "b1d3b5a634e7459193ee9cc78a0d0bc8",
            "7929d7f0fc964fd6ad9eeeea997683d9",
            "83bf4e12752a479d82c6e08e13490b83",
            "0ed5531a31d84fc3aa36e6f42b74f245",
            "551a34ffc2eb4bcda40253635c42517d",
            "d7d0b5b5ef714fc18c8da85744d8991c",
            "663ed79b911744f29cf4f2b641601560"
          ]
        },
        "id": "AkfQlyBnVs8S",
        "outputId": "6cd6d6f7-2c0f-4ee0-bcdc-842ffa01b8cb"
      },
      "outputs": [
        {
          "name": "stderr",
          "output_type": "stream",
          "text": [
            "c:\\Users\\User\\AppData\\Local\\Programs\\Python\\Python38\\lib\\site-packages\\tqdm\\auto.py:21: TqdmWarning: IProgress not found. Please update jupyter and ipywidgets. See https://ipywidgets.readthedocs.io/en/stable/user_install.html\n",
            "  from .autonotebook import tqdm as notebook_tqdm\n",
            "c:\\Users\\User\\AppData\\Local\\Programs\\Python\\Python38\\lib\\site-packages\\requests\\__init__.py:89: RequestsDependencyWarning: urllib3 (1.26.15) or chardet (3.0.4) doesn't match a supported version!\n",
            "  warnings.warn(\"urllib3 ({}) or chardet ({}) doesn't match a supported \"\n"
          ]
        }
      ],
      "source": [
        "#kobart 불러오기\n",
        "from transformers import PreTrainedTokenizerFast, BartModel\n",
        "\n",
        "tokenizer = PreTrainedTokenizerFast.from_pretrained('gogamza/kobart-base-v2')\n",
        "model = BartModel.from_pretrained('gogamza/kobart-base-v2')"
      ]
    },
    {
      "cell_type": "code",
      "execution_count": 21,
      "metadata": {
        "colab": {
          "base_uri": "https://localhost:8080/"
        },
        "id": "BR14fagQXKtl",
        "outputId": "f9ee0f30-1801-4c28-9b7f-480556f90e9f"
      },
      "outputs": [
        {
          "data": {
            "text/plain": [
              "{'input_ids': [[16391, 16997, 20858, 243, 19133, 15868, 1700, 14889, 300, 18482, 16884, 15265, 22038, 232], [15054, 303, 15868, 1700, 15868, 1700, 15195, 310, 16160, 14879, 18482, 16884, 15265, 22038, 245]], 'token_type_ids': [[0, 0, 0, 0, 0, 0, 0, 0, 0, 0, 0, 0, 0, 0], [0, 0, 0, 0, 0, 0, 0, 0, 0, 0, 0, 0, 0, 0, 0]], 'attention_mask': [[1, 1, 1, 1, 1, 1, 1, 1, 1, 1, 1, 1, 1, 1], [1, 1, 1, 1, 1, 1, 1, 1, 1, 1, 1, 1, 1, 1, 1]]}"
            ]
          },
          "execution_count": 21,
          "metadata": {},
          "output_type": "execute_result"
        }
      ],
      "source": [
        "tokenizer([\"Hello, this one sentence!\", \"This is another sentence.\"])"
      ]
    },
    {
      "cell_type": "code",
      "execution_count": 9,
      "metadata": {
        "id": "SBMKR6fvCbo2"
      },
      "outputs": [],
      "source": [
        "max_input_length = 1024\n",
        "max_target_length = 128\n",
        "# prefix = \"summarize: \"\n",
        "prefix = \"\"\n",
        "\n",
        "def preprocess_function(examples):\n",
        "    inputs = [prefix + doc for doc in examples[\"document\"]]\n",
        "    model_inputs = tokenizer(inputs, max_length=max_input_length, truncation=True)\n",
        "# 데이터가 손실될 경우에 앞의 단어가 아니라 뒤의 단어가 삭제되도록 하고싶다면 truncating이라는 인자를 사용합니다. truncating='post'를 사용할 경우 뒤의 단어가 삭제됩니다.\n",
        "    # Setup the tokenizer for targets\n",
        "    with tokenizer.as_target_tokenizer():\n",
        "        labels = tokenizer(examples[\"summary\"], max_length=max_target_length, truncation=True)\n",
        "\n",
        "    model_inputs[\"labels\"] = labels[\"input_ids\"]\n",
        "    return model_inputs\n"
      ]
    },
    {
      "cell_type": "code",
      "execution_count": 23,
      "metadata": {
        "colab": {
          "base_uri": "https://localhost:8080/",
          "height": 126
        },
        "id": "p7KxL6Uki041",
        "outputId": "4b1ede31-a8bb-4354-e547-3cb83bdd583d"
      },
      "outputs": [
        {
          "data": {
            "text/plain": [
              "'앵커 안 오른 게 없지만 커피 한 잔 가격도 많이 올랐죠. 정부가 최근에 커피 생원두를 수입할 때 붙었던 부가가치세를 면제하기 시작했는데요. 그럼 커피값이 내려가는 걸까요. 안보겸 기자가 알아봤습니다. 기자 더운 여름 더 즐겨 찾는 대형 프랜차이즈 커피 전문점. 맛이 정형화돼 있는 프랜차이즈 카페를 많이 애용하는 편이에요. 프랜차이즈가 훨씬 더 대로변에 많이 있는 경우가 많고 부쩍 오른 커피값에 정부는 지난달 28일부터 수입한 커피 생원두의 부가가치세 10%를 면제하고 있지만 프랜차이즈 커피값은 정작 내려갈 조짐이 보이지 않습니다. 스타벅스와 커피빈은 볶은 원두를 수입해 면세 혜택이 적용되지 않고 투썸플레이스 이디야 등은 생원두를 수입하지만 직접 로스팅해 부가세를 환급받고 있기 때문입니다. 커피 생두 수입업체들은 줄어든 세금 만큼 유통 가격을 내린다고 밝힌 상황. 정부는 커피 생두 면세 조치 효과가 8월부터 나타날 것이라고 내다봤지만 일반 카페 업주들의 생각은 달랐습니다. 고장수 전국 카페사장협동조합 이사장 우유 가격이 상승을 많이 했고요. 컵이랑 뚜껑의 가격이 계속 인상이 되고 있는 상황이기 때문에 인하된다 이런 일은 없을 것 같아요. 소규모 카페들 역시 지난 1년간 생두 가격이 60% 넘게 오르는 등 재료비가 올라 가격을 내릴 여력이 없다는 겁니다. 아메리카노 한 잔의 원두값은 500원 정도인데 부가세 10%가 빠져봐야 50원 줄어들 뿐입니다. 소비자들은 가격 부담을 호소합니다. 박예빈 인천 미추홀구 커피값이 점점 오르고 있는 거 같아서 사실 자주 가긴 하는데 부담스럽긴 하죠. 이번 대책이 커피값 추가 인상을 막을 뿐 인하 효과는 없을 것이란 지적이 나옵니다. 채널A 뉴스 안보겸입니다.'"
            ]
          },
          "execution_count": 23,
          "metadata": {},
          "output_type": "execute_result"
        }
      ],
      "source": [
        "raw_datasets['train'][0][\"document\"]"
      ]
    },
    {
      "cell_type": "code",
      "execution_count": 24,
      "metadata": {
        "colab": {
          "base_uri": "https://localhost:8080/",
          "height": 54
        },
        "id": "EE3xv_3yjGtN",
        "outputId": "d20c16f9-65db-43e5-f5a2-021dabed9d39"
      },
      "outputs": [
        {
          "data": {
            "text/plain": [
              "'커피 급격히 올라 오른 커피값에 정부는 지난달 28일부터 커피 생원두의 부가가치세 10%를 면제하였지만 커피 생두 수입업체들은 줄어든 세금 만큼 유통 가격을 내린다고 하여 커피 생두 커피값은 정작 내려갈 조짐이 보이지 않는다.'"
            ]
          },
          "execution_count": 24,
          "metadata": {},
          "output_type": "execute_result"
        }
      ],
      "source": [
        "raw_datasets['train'][0][\"summary\"]"
      ]
    },
    {
      "cell_type": "code",
      "execution_count": 25,
      "metadata": {
        "id": "NEIXJ6AFi9-Y"
      },
      "outputs": [],
      "source": [
        "max_input_length = 1024\n",
        "max_target_length = 128\n",
        "# prefix = \"summarize: \"\n",
        "prefix = \"\"\n",
        "\n",
        "def preprocess_function(examples):\n",
        "    inputs = [prefix + doc for doc in examples[\"document\"]]\n",
        "    model_inputs = tokenizer(inputs, max_length=max_input_length, truncation=True)\n",
        "# 데이터가 손실될 경우에 앞의 단어가 아니라 뒤의 단어가 삭제되도록 하고싶다면 truncating이라는 인자를 사용합니다. truncating='post'를 사용할 경우 뒤의 단어가 삭제됩니다.\n",
        "    # Setup the tokenizer for targets\n",
        "    with tokenizer.as_target_tokenizer():\n",
        "        labels = tokenizer(examples[\"summary\"], max_length=max_target_length, truncation=True)\n",
        "\n",
        "    model_inputs[\"labels\"] = labels[\"input_ids\"]\n",
        "    return model_inputs\n"
      ]
    },
    {
      "cell_type": "code",
      "execution_count": 26,
      "metadata": {
        "colab": {
          "base_uri": "https://localhost:8080/"
        },
        "id": "DuVcPMFxXyJ_",
        "outputId": "a5473087-d9cb-4c7b-a7d3-d02f089aaa1c"
      },
      "outputs": [
        {
          "data": {
            "text/plain": [
              "{'input_ids': [[26001, 14105, 15830, 14262, 21280, 17646, 14036, 15580, 14899, 9866, 14605, 19360, 17984, 15530, 26079, 17646, 14106, 11936, 24283, 15843, 13594, 14089, 15253, 15912, 26954, 12863, 14896, 22566, 14191, 14351, 17718, 14543, 16875, 17646, 22702, 15199, 14542, 14366, 9286, 14543, 17877, 9081, 28655, 15706, 10910, 15170, 14680, 14166, 11914, 16256, 14166, 23467, 17379, 15582, 24988, 17646, 14582, 12136, 245, 24244, 28320, 13714, 9895, 14082, 24988, 18654, 10443, 14605, 14496, 11908, 14049, 14433, 15958, 14543, 24988, 8981, 16719, 14166, 17397, 10869, 11786, 14605, 14082, 16605, 23133, 14062, 12423, 15830, 17646, 8997, 11786, 15804, 15260, 15450, 15243, 15843, 13590, 17646, 14106, 11936, 9925, 12024, 26954, 12863, 11285, 14239, 16445, 22566, 14058, 15651, 24988, 17646, 8997, 12005, 21094, 15199, 8989, 25185, 12034, 17727, 14076, 15170, 15123, 10831, 17127, 17646, 26286, 1700, 10886, 12005, 14145, 24283, 15843, 13607, 23688, 27663, 15101, 15051, 14672, 14233, 11538, 17117, 11440, 14025, 10012, 11734, 16332, 14106, 11936, 24283, 15843, 16042, 14723, 21652, 13366, 13607, 26238, 14896, 14348, 9242, 17318, 15551, 14197, 16669, 17646, 14106, 9925, 15843, 14892, 14167, 21188, 19339, 14933, 16213, 21203, 18542, 14117, 17343, 14431, 245, 15804, 17646, 14106, 9925, 23688, 17380, 17776, 15639, 14150, 24787, 15751, 17949, 10910, 14101, 14895, 18654, 14378, 12258, 14180, 21725, 14210, 10226, 15170, 28733, 11372, 14770, 18654, 22348, 13676, 22687, 27297, 27559, 18649, 29977, 14605, 22032, 14543, 24741, 12034, 10227, 18460, 9362, 12024, 18649, 14755, 14057, 15142, 15743, 14082, 14431, 15619, 14362, 17545, 22170, 14440, 17140, 16111, 14033, 17054, 14543, 23793, 18654, 9993, 14833, 14141, 24500, 14106, 9925, 18649, 21930, 19538, 23031, 14048, 22317, 16577, 15189, 21203, 23110, 14083, 14790, 16105, 27944, 23981, 16408, 9604, 14036, 15580, 12024, 14145, 9925, 8997, 12005, 18608, 11936, 14455, 15094, 26238, 11285, 14239, 17502, 16470, 19136, 15417, 11936, 18237, 14811, 16669, 14936, 15569, 14899, 18966, 18284, 20357, 14169, 11828, 11030, 15058, 14097, 12785, 13703, 9170, 17646, 22702, 17845, 27664, 14082, 14118, 29960, 14380, 16673, 14039, 9267, 16546, 15191, 15481, 9267, 14042, 17984, 14322, 27870, 17646, 8997, 14927, 21532, 20763, 14811, 17545, 28181, 16111, 19617, 19879, 14054, 11853, 14562, 19220, 264, 15126, 17877, 9081, 16669], [19672, 12681, 14331, 10872, 18797, 373, 14573, 12687, 14048, 15637, 13241, 9092, 20550, 18308, 14623, 14441, 16889, 14652, 16422, 18864, 20694, 18629, 15135, 19170, 27480, 25572, 14173, 19743, 14130, 19672, 19311, 16476, 14081, 14762, 10872, 18797, 373, 14573, 12687, 14048, 15637, 13241, 9092, 20550, 18308, 14086, 19849, 19672, 12332, 10476, 15107, 16014, 14470, 270, 20165, 14364, 19028, 15615, 16129, 14150, 23381, 14129, 21811, 18797, 14032, 15236, 24183, 14035, 16413, 15372, 12060, 27374, 22269, 18349, 16786, 15903, 23442, 24337, 9170, 24505, 9170, 14048, 14044, 18864, 20694, 18629, 14245, 15135, 19170, 25572, 14173, 19743, 14130, 14153, 14293, 15158, 15058, 16149, 14269, 14044, 14797, 10948, 22832, 27480, 15665, 15547, 14044, 18864, 14331, 14275, 27480, 14481, 16367, 19672, 16349, 14322, 14756, 19028, 14027, 14331, 10872, 18797, 14280, 14379, 12687, 14624, 14142, 13468, 11863, 18117, 15603, 373, 20038, 16144, 22621, 13594, 15751, 14490, 15615]], 'token_type_ids': [[0, 0, 0, 0, 0, 0, 0, 0, 0, 0, 0, 0, 0, 0, 0, 0, 0, 0, 0, 0, 0, 0, 0, 0, 0, 0, 0, 0, 0, 0, 0, 0, 0, 0, 0, 0, 0, 0, 0, 0, 0, 0, 0, 0, 0, 0, 0, 0, 0, 0, 0, 0, 0, 0, 0, 0, 0, 0, 0, 0, 0, 0, 0, 0, 0, 0, 0, 0, 0, 0, 0, 0, 0, 0, 0, 0, 0, 0, 0, 0, 0, 0, 0, 0, 0, 0, 0, 0, 0, 0, 0, 0, 0, 0, 0, 0, 0, 0, 0, 0, 0, 0, 0, 0, 0, 0, 0, 0, 0, 0, 0, 0, 0, 0, 0, 0, 0, 0, 0, 0, 0, 0, 0, 0, 0, 0, 0, 0, 0, 0, 0, 0, 0, 0, 0, 0, 0, 0, 0, 0, 0, 0, 0, 0, 0, 0, 0, 0, 0, 0, 0, 0, 0, 0, 0, 0, 0, 0, 0, 0, 0, 0, 0, 0, 0, 0, 0, 0, 0, 0, 0, 0, 0, 0, 0, 0, 0, 0, 0, 0, 0, 0, 0, 0, 0, 0, 0, 0, 0, 0, 0, 0, 0, 0, 0, 0, 0, 0, 0, 0, 0, 0, 0, 0, 0, 0, 0, 0, 0, 0, 0, 0, 0, 0, 0, 0, 0, 0, 0, 0, 0, 0, 0, 0, 0, 0, 0, 0, 0, 0, 0, 0, 0, 0, 0, 0, 0, 0, 0, 0, 0, 0, 0, 0, 0, 0, 0, 0, 0, 0, 0, 0, 0, 0, 0, 0, 0, 0, 0, 0, 0, 0, 0, 0, 0, 0, 0, 0, 0, 0, 0, 0, 0, 0, 0, 0, 0, 0, 0, 0, 0, 0, 0, 0, 0, 0, 0, 0, 0, 0, 0, 0, 0, 0, 0, 0, 0, 0, 0, 0, 0, 0, 0, 0, 0, 0, 0, 0, 0, 0, 0, 0, 0, 0, 0, 0, 0, 0, 0, 0, 0, 0, 0, 0, 0, 0, 0, 0, 0, 0, 0, 0, 0, 0, 0, 0, 0, 0, 0, 0], [0, 0, 0, 0, 0, 0, 0, 0, 0, 0, 0, 0, 0, 0, 0, 0, 0, 0, 0, 0, 0, 0, 0, 0, 0, 0, 0, 0, 0, 0, 0, 0, 0, 0, 0, 0, 0, 0, 0, 0, 0, 0, 0, 0, 0, 0, 0, 0, 0, 0, 0, 0, 0, 0, 0, 0, 0, 0, 0, 0, 0, 0, 0, 0, 0, 0, 0, 0, 0, 0, 0, 0, 0, 0, 0, 0, 0, 0, 0, 0, 0, 0, 0, 0, 0, 0, 0, 0, 0, 0, 0, 0, 0, 0, 0, 0, 0, 0, 0, 0, 0, 0, 0, 0, 0, 0, 0, 0, 0, 0, 0, 0, 0, 0, 0, 0, 0, 0, 0, 0, 0, 0, 0, 0, 0, 0, 0, 0, 0, 0, 0, 0, 0, 0, 0, 0, 0, 0, 0]], 'attention_mask': [[1, 1, 1, 1, 1, 1, 1, 1, 1, 1, 1, 1, 1, 1, 1, 1, 1, 1, 1, 1, 1, 1, 1, 1, 1, 1, 1, 1, 1, 1, 1, 1, 1, 1, 1, 1, 1, 1, 1, 1, 1, 1, 1, 1, 1, 1, 1, 1, 1, 1, 1, 1, 1, 1, 1, 1, 1, 1, 1, 1, 1, 1, 1, 1, 1, 1, 1, 1, 1, 1, 1, 1, 1, 1, 1, 1, 1, 1, 1, 1, 1, 1, 1, 1, 1, 1, 1, 1, 1, 1, 1, 1, 1, 1, 1, 1, 1, 1, 1, 1, 1, 1, 1, 1, 1, 1, 1, 1, 1, 1, 1, 1, 1, 1, 1, 1, 1, 1, 1, 1, 1, 1, 1, 1, 1, 1, 1, 1, 1, 1, 1, 1, 1, 1, 1, 1, 1, 1, 1, 1, 1, 1, 1, 1, 1, 1, 1, 1, 1, 1, 1, 1, 1, 1, 1, 1, 1, 1, 1, 1, 1, 1, 1, 1, 1, 1, 1, 1, 1, 1, 1, 1, 1, 1, 1, 1, 1, 1, 1, 1, 1, 1, 1, 1, 1, 1, 1, 1, 1, 1, 1, 1, 1, 1, 1, 1, 1, 1, 1, 1, 1, 1, 1, 1, 1, 1, 1, 1, 1, 1, 1, 1, 1, 1, 1, 1, 1, 1, 1, 1, 1, 1, 1, 1, 1, 1, 1, 1, 1, 1, 1, 1, 1, 1, 1, 1, 1, 1, 1, 1, 1, 1, 1, 1, 1, 1, 1, 1, 1, 1, 1, 1, 1, 1, 1, 1, 1, 1, 1, 1, 1, 1, 1, 1, 1, 1, 1, 1, 1, 1, 1, 1, 1, 1, 1, 1, 1, 1, 1, 1, 1, 1, 1, 1, 1, 1, 1, 1, 1, 1, 1, 1, 1, 1, 1, 1, 1, 1, 1, 1, 1, 1, 1, 1, 1, 1, 1, 1, 1, 1, 1, 1, 1, 1, 1, 1, 1, 1, 1, 1, 1, 1, 1, 1, 1, 1, 1, 1, 1, 1, 1, 1, 1, 1, 1, 1, 1, 1, 1, 1], [1, 1, 1, 1, 1, 1, 1, 1, 1, 1, 1, 1, 1, 1, 1, 1, 1, 1, 1, 1, 1, 1, 1, 1, 1, 1, 1, 1, 1, 1, 1, 1, 1, 1, 1, 1, 1, 1, 1, 1, 1, 1, 1, 1, 1, 1, 1, 1, 1, 1, 1, 1, 1, 1, 1, 1, 1, 1, 1, 1, 1, 1, 1, 1, 1, 1, 1, 1, 1, 1, 1, 1, 1, 1, 1, 1, 1, 1, 1, 1, 1, 1, 1, 1, 1, 1, 1, 1, 1, 1, 1, 1, 1, 1, 1, 1, 1, 1, 1, 1, 1, 1, 1, 1, 1, 1, 1, 1, 1, 1, 1, 1, 1, 1, 1, 1, 1, 1, 1, 1, 1, 1, 1, 1, 1, 1, 1, 1, 1, 1, 1, 1, 1, 1, 1, 1, 1, 1, 1]], 'labels': [[17646, 24213, 15189, 15830, 17646, 8997, 11786, 15804, 15260, 15450, 15243, 17646, 14106, 11936, 9925, 12024, 26954, 12863, 11285, 14239, 16445, 22566, 15636, 14101, 17646, 14106, 9925, 15843, 14892, 14167, 21188, 19339, 14933, 16213, 21203, 18542, 14117, 16371, 17646, 14106, 9925, 17646, 8997, 12005, 21094, 15199, 8989, 25185, 12034, 17727, 14449, 14130], [14109, 16889, 14652, 16422, 18864, 20694, 18629, 15135, 19170, 27480, 25572, 14173, 19743, 14662, 16129, 14150, 23381, 14129, 21811, 18797, 14032, 15236, 24183, 14035, 16413, 15372, 12060, 27374, 22269, 26554, 23442, 24337, 9170, 24505, 9170, 14048, 14044, 18864, 20694, 18629, 14245, 15135, 19170, 25572, 14173, 19743, 14161, 19672, 16349, 14322, 14756, 19028, 14027, 14331, 10872, 18797, 14280, 14379, 12687, 14624, 14142, 13468, 11863, 18117, 15603, 373, 20038, 16144, 22621, 13594, 15751, 14490, 15615]]}"
            ]
          },
          "execution_count": 26,
          "metadata": {},
          "output_type": "execute_result"
        }
      ],
      "source": [
        "preprocess_function(raw_datasets['train'][:2])"
      ]
    },
    {
      "cell_type": "code",
      "execution_count": 27,
      "metadata": {
        "colab": {
          "base_uri": "https://localhost:8080/",
          "height": 73,
          "referenced_widgets": [
            "e8a87edf7a264bb6b4bdb5e73222a099",
            "dde89d2e998c48a98fa49a55ae19dfdf",
            "6414b7482f644a85bfa3d729848de8ea",
            "89116f6ed5564ccd9f770312360b00d3",
            "cb5ac11c70404f79bc975c76a157d164",
            "c258de059ba2465fa74e8285d2ad7d62",
            "d7d34df7e08d442f89cf296ec4cbb48c",
            "62e6ff101f134e4e8bd284cfe0282b93",
            "baac88c66fa04c83a238a2929c4d20cf",
            "92e50d6e2b2341e29fb40c5ef85e979b",
            "657b4723ce83450e8ab24d51d23bf246",
            "a382705922e54040a036bf64337269e4",
            "c1b36a0fb90d46eea124d1a53af14188",
            "4d376a4f663a4b8aba12c7666329e1e4",
            "fe2dd82d87964059a7aa509381322eaf",
            "b395d88a3aec43199d639ca56d7bc83c",
            "eb7806128b7d43198411ad5bda6b7685",
            "6f506a24948d4d5da2dc4e7e07503bcd",
            "59334980f3e14b899fae6cd89927d1b1",
            "7636335d14284c7ab84c65485b98bbb1",
            "d742e89e6d2943d9b4d7a04cfde89fcd",
            "9812f229a3f14f59af56560f0fd58421"
          ]
        },
        "id": "lfF4rrG6DJg8",
        "outputId": "331995d4-8305-420d-d629-b62505711e4d"
      },
      "outputs": [
        {
          "name": "stderr",
          "output_type": "stream",
          "text": [
            "                                                                 \r"
          ]
        }
      ],
      "source": [
        "tokenized_data = raw_datasets.map(preprocess_function, batched=True)"
      ]
    },
    {
      "cell_type": "code",
      "execution_count": 28,
      "metadata": {
        "colab": {
          "base_uri": "https://localhost:8080/"
        },
        "id": "Nmg1OcipYKWY",
        "outputId": "8c3c8c7d-8482-4676-c200-ee97c4ae52c6"
      },
      "outputs": [],
      "source": [
        "from transformers import AutoModelForSeq2SeqLM, DataCollatorForSeq2Seq, Seq2SeqTrainingArguments, Seq2SeqTrainer\n",
        "\n",
        "model = AutoModelForSeq2SeqLM.from_pretrained('gogamza/kobart-base-v2')\n"
      ]
    },
    {
      "cell_type": "code",
      "execution_count": 21,
      "metadata": {
        "id": "aPpCkPqaYOke"
      },
      "outputs": [
        {
          "ename": "NameError",
          "evalue": "name 'Seq2SeqTrainingArguments' is not defined",
          "output_type": "error",
          "traceback": [
            "\u001b[1;31m---------------------------------------------------------------------------\u001b[0m",
            "\u001b[1;31mNameError\u001b[0m                                 Traceback (most recent call last)",
            "Cell \u001b[1;32mIn[21], line 3\u001b[0m\n\u001b[0;32m      1\u001b[0m batch_size \u001b[39m=\u001b[39m \u001b[39m4\u001b[39m\n\u001b[0;32m      2\u001b[0m model_name \u001b[39m=\u001b[39m \u001b[39m'\u001b[39m\u001b[39mawesome_model\u001b[39m\u001b[39m'\u001b[39m\n\u001b[1;32m----> 3\u001b[0m args \u001b[39m=\u001b[39m Seq2SeqTrainingArguments(\n\u001b[0;32m      4\u001b[0m     \u001b[39mf\u001b[39m\u001b[39m\"\u001b[39m\u001b[39m{\u001b[39;00mmodel_name\u001b[39m}\u001b[39;00m\u001b[39m-finetuned-xsum\u001b[39m\u001b[39m\"\u001b[39m,\n\u001b[0;32m      5\u001b[0m     evaluation_strategy \u001b[39m=\u001b[39m \u001b[39m\"\u001b[39m\u001b[39mepoch\u001b[39m\u001b[39m\"\u001b[39m,\n\u001b[0;32m      6\u001b[0m     learning_rate\u001b[39m=\u001b[39m\u001b[39m2e-5\u001b[39m,\n\u001b[0;32m      7\u001b[0m     per_device_train_batch_size\u001b[39m=\u001b[39mbatch_size,\n\u001b[0;32m      8\u001b[0m     per_device_eval_batch_size\u001b[39m=\u001b[39mbatch_size,\n\u001b[0;32m      9\u001b[0m     weight_decay\u001b[39m=\u001b[39m\u001b[39m0.01\u001b[39m,\n\u001b[0;32m     10\u001b[0m     save_total_limit\u001b[39m=\u001b[39m\u001b[39m3\u001b[39m,\n\u001b[0;32m     11\u001b[0m     num_train_epochs\u001b[39m=\u001b[39m\u001b[39m2\u001b[39m,\n\u001b[0;32m     12\u001b[0m     predict_with_generate\u001b[39m=\u001b[39m\u001b[39mTrue\u001b[39;00m,\n\u001b[0;32m     13\u001b[0m     \u001b[39m# fp16=True,\u001b[39;00m\n\u001b[0;32m     14\u001b[0m     push_to_hub\u001b[39m=\u001b[39m\u001b[39mFalse\u001b[39;00m,\n\u001b[0;32m     15\u001b[0m )\n",
            "\u001b[1;31mNameError\u001b[0m: name 'Seq2SeqTrainingArguments' is not defined"
          ]
        }
      ],
      "source": [
        "batch_size = 4\n",
        "model_name = 'awesome_model'\n",
        "args = Seq2SeqTrainingArguments(\n",
        "    f\"{model_name}-finetuned-xsum\",\n",
        "    evaluation_strategy = \"epoch\",\n",
        "    learning_rate=2e-5,\n",
        "    per_device_train_batch_size=batch_size,\n",
        "    per_device_eval_batch_size=batch_size,\n",
        "    weight_decay=0.01,\n",
        "    save_total_limit=3,\n",
        "    num_train_epochs=2,\n",
        "    predict_with_generate=True,\n",
        "    # fp16=True,\n",
        "    push_to_hub=False,\n",
        ")"
      ]
    },
    {
      "cell_type": "code",
      "execution_count": 32,
      "metadata": {
        "id": "ahKdgDo5YKoo"
      },
      "outputs": [],
      "source": [
        "data_collator = DataCollatorForSeq2Seq(tokenizer, model=model)"
      ]
    },
    {
      "cell_type": "code",
      "execution_count": 34,
      "metadata": {
        "colab": {
          "base_uri": "https://localhost:8080/"
        },
        "id": "qA-UHY_kYYXz",
        "outputId": "daabf979-9673-43b8-ba6e-5348678ac1c1"
      },
      "outputs": [
        {
          "name": "stderr",
          "output_type": "stream",
          "text": [
            "[nltk_data] Downloading package punkt to\n",
            "[nltk_data]     C:\\Users\\User\\AppData\\Roaming\\nltk_data...\n",
            "[nltk_data]   Unzipping tokenizers\\punkt.zip.\n"
          ]
        }
      ],
      "source": [
        "import nltk\n",
        "import numpy as np\n",
        "nltk.download('punkt')\n",
        "def compute_metrics(eval_pred):\n",
        "    predictions, labels = eval_pred\n",
        "    decoded_preds = tokenizer.batch_decode(predictions, skip_special_tokens=True)\n",
        "    # Replace -100 in the labels as we can't decode them.\n",
        "    labels = np.where(labels != -100, labels, tokenizer.pad_token_id)\n",
        "    decoded_labels = tokenizer.batch_decode(labels, skip_special_tokens=True)\n",
        "    \n",
        "    # Rouge expects a newline after each sentence\n",
        "    decoded_preds = [\"\\n\".join(nltk.sent_tokenize(pred.strip())) for pred in decoded_preds]\n",
        "    decoded_labels = [\"\\n\".join(nltk.sent_tokenize(label.strip())) for label in decoded_labels]\n",
        "    \n",
        "    result = metric.compute(predictions=decoded_preds, references=decoded_labels, use_stemmer=True)\n",
        "    # Extract a few results\n",
        "    result = {key: value.mid.fmeasure * 100 for key, value in result.items()}\n",
        "    \n",
        "    # Add mean generated length\n",
        "    prediction_lens = [np.count_nonzero(pred != tokenizer.pad_token_id) for pred in predictions]\n",
        "    result[\"gen_len\"] = np.mean(prediction_lens)\n",
        "    \n",
        "    return {k: round(v, 4) for k, v in result.items()}\n"
      ]
    },
    {
      "cell_type": "code",
      "execution_count": 45,
      "metadata": {
        "id": "jiPhJB8sYaRW"
      },
      "outputs": [
        {
          "ename": "NameError",
          "evalue": "name 'args' is not defined",
          "output_type": "error",
          "traceback": [
            "\u001b[1;31m---------------------------------------------------------------------------\u001b[0m",
            "\u001b[1;31mNameError\u001b[0m                                 Traceback (most recent call last)",
            "Cell \u001b[1;32mIn[45], line 3\u001b[0m\n\u001b[0;32m      1\u001b[0m trainer \u001b[39m=\u001b[39m Seq2SeqTrainer(\n\u001b[0;32m      2\u001b[0m     model,\n\u001b[1;32m----> 3\u001b[0m     args,\n\u001b[0;32m      4\u001b[0m     train_dataset\u001b[39m=\u001b[39mtokenized_data[\u001b[39m\"\u001b[39m\u001b[39mtrain\u001b[39m\u001b[39m\"\u001b[39m],\n\u001b[0;32m      5\u001b[0m     eval_dataset\u001b[39m=\u001b[39mtokenized_data[\u001b[39m\"\u001b[39m\u001b[39mtest\u001b[39m\u001b[39m\"\u001b[39m],\n\u001b[0;32m      6\u001b[0m     data_collator\u001b[39m=\u001b[39mdata_collator,\n\u001b[0;32m      7\u001b[0m     tokenizer\u001b[39m=\u001b[39mtokenizer,\n\u001b[0;32m      8\u001b[0m     compute_metrics\u001b[39m=\u001b[39mcompute_metrics\n\u001b[0;32m      9\u001b[0m )\n",
            "\u001b[1;31mNameError\u001b[0m: name 'args' is not defined"
          ]
        }
      ],
      "source": [
        "trainer = Seq2SeqTrainer(\n",
        "    model,\n",
        "    args,\n",
        "    train_dataset=tokenized_data[\"train\"],\n",
        "    eval_dataset=tokenized_data[\"test\"],\n",
        "    data_collator=data_collator,\n",
        "    tokenizer=tokenizer,\n",
        "    compute_metrics=compute_metrics\n",
        ")"
      ]
    },
    {
      "cell_type": "code",
      "execution_count": 36,
      "metadata": {
        "colab": {
          "base_uri": "https://localhost:8080/",
          "height": 501
        },
        "id": "abBGPyZpovyY",
        "outputId": "d1ff1772-650a-4aab-edda-ae205a4a49f7"
      },
      "outputs": [],
      "source": [
        "# trainer.train()"
      ]
    },
    {
      "cell_type": "code",
      "execution_count": 28,
      "metadata": {
        "colab": {
          "base_uri": "https://localhost:8080/"
        },
        "id": "X7aIFqMAr79T",
        "outputId": "70271d85-8658-43fc-cfeb-a68a2c3976d5"
      },
      "outputs": [
        {
          "data": {
            "text/plain": [
              "1"
            ]
          },
          "execution_count": 28,
          "metadata": {},
          "output_type": "execute_result"
        }
      ],
      "source": [
        "tokenizer.bos_token_id"
      ]
    },
    {
      "cell_type": "code",
      "execution_count": 29,
      "metadata": {
        "id": "YFXTEMiEsGwo"
      },
      "outputs": [],
      "source": [
        "text = \"\"\" \n",
        "1일 오후 9시까지 최소 20만3220명이 코로나19에 신규 확진됐다. 또다시 동시간대 최다 기록으로, 사상 처음 20만명대에 진입했다.\n",
        "방역 당국과 서울시 등 각 지방자치단체에 따르면 이날 0시부터 오후 9시까지 전국 신규 확진자는 총 20만3220명으로 집계됐다.\n",
        "국내 신규 확진자 수가 20만명대를 넘어선 것은 이번이 처음이다.\n",
        "동시간대 최다 기록은 지난 23일 오후 9시 기준 16만1389명이었는데, 이를 무려 4만1831명이나 웃돌았다. 전날 같은 시간 기록한 13만3481명보다도 6만9739명 많다.\n",
        "확진자 폭증은 3시간 전인 오후 6시 집계에서도 예견됐다.\n",
        "오후 6시까지 최소 17만8603명이 신규 확진돼 동시간대 최다 기록(24일 13만8419명)을 갈아치운 데 이어 이미 직전 0시 기준 역대 최다 기록도 넘어섰다. 역대 최다 기록은 지난 23일 0시 기준 17만1451명이었다.\n",
        "17개 지자체별로 보면 서울 4만6938명, 경기 6만7322명, 인천 1만985명 등 수도권이 12만5245명으로 전체의 61.6%를 차지했다. 서울과 경기는 모두 동시간대 기준 최다로, 처음으로 각각 4만명과 6만명을 넘어섰다.\n",
        "비수도권에서는 7만7975명(38.3%)이 발생했다. 제주를 제외한 나머지 지역에서 모두 동시간대 최다를 새로 썼다.\n",
        "부산 1만890명, 경남 9909명, 대구 6900명, 경북 6977명, 충남 5900명, 대전 5292명, 전북 5150명, 울산 5141명, 광주 5130명, 전남 4996명, 강원 4932명, 충북 3845명, 제주 1513명, 세종 1400명이다.\n",
        "집계를 마감하는 자정까지 시간이 남아있는 만큼 2일 0시 기준으로 발표될 신규 확진자 수는 이보다 더 늘어날 수 있다. 이에 따라 최종 집계되는 확진자 수는 21만명 안팎을 기록할 수 있을 전망이다.\n",
        "한편 전날 하루 선별진료소에서 이뤄진 검사는 70만8763건으로 검사 양성률은 40.5%다. 양성률이 40%를 넘은 것은 이번이 처음이다. 확산세가 계속 거세질 수 있다는 얘기다.\n",
        "이날 0시 기준 신규 확진자는 13만8993명이었다. 이틀 연속 13만명대를 이어갔다.\n",
        "\"\"\"\n"
      ]
    },
    {
      "cell_type": "code",
      "execution_count": 30,
      "metadata": {
        "id": "qgZ-UKO7sKXG"
      },
      "outputs": [],
      "source": [
        "text = text.replace('\\n', ' ')\n"
      ]
    },
    {
      "cell_type": "code",
      "execution_count": 31,
      "metadata": {
        "id": "WSS03JH5sQVN"
      },
      "outputs": [],
      "source": [
        "from transformers import pipeline\n"
      ]
    },
    {
      "cell_type": "code",
      "execution_count": 32,
      "metadata": {
        "id": "-cWqI2C8uFun"
      },
      "outputs": [],
      "source": [
        "trainer.save_model()"
      ]
    },
    {
      "cell_type": "code",
      "execution_count": 33,
      "metadata": {
        "colab": {
          "base_uri": "https://localhost:8080/"
        },
        "id": "zEH_KEKazOz2",
        "outputId": "f4c06b59-6ec7-4976-e438-3c92478a64d8"
      },
      "outputs": [
        {
          "name": "stderr",
          "output_type": "stream",
          "text": [
            "You passed along `num_labels=3` with an incompatible id to label map: {'0': 'NEGATIVE', '1': 'POSITIVE'}. The number of labels wil be overwritten to 2.\n",
            "You passed along `num_labels=3` with an incompatible id to label map: {'0': 'NEGATIVE', '1': 'POSITIVE'}. The number of labels wil be overwritten to 2.\n",
            "You passed along `num_labels=3` with an incompatible id to label map: {'0': 'NEGATIVE', '1': 'POSITIVE'}. The number of labels wil be overwritten to 2.\n",
            "You passed along `num_labels=3` with an incompatible id to label map: {'0': 'NEGATIVE', '1': 'POSITIVE'}. The number of labels wil be overwritten to 2.\n",
            "You passed along `num_labels=3` with an incompatible id to label map: {'0': 'NEGATIVE', '1': 'POSITIVE'}. The number of labels wil be overwritten to 2.\n",
            "You passed along `num_labels=3` with an incompatible id to label map: {'0': 'NEGATIVE', '1': 'POSITIVE'}. The number of labels wil be overwritten to 2.\n"
          ]
        }
      ],
      "source": [
        "summarizer = pipeline(\"summarization\", model=\"awesome_model-finetuned-xsum\", min_length=128, max_length=128, tokenizer='awesome_model-finetuned-xsum')\n",
        "summarizer2 = pipeline(\"summarization\", model=\"gogamza/kobart-base-v2\", min_length=128, max_length=128, tokenizer='gogamza/kobart-base-v2')\n",
        "\n"
      ]
    },
    {
      "cell_type": "code",
      "execution_count": 34,
      "metadata": {
        "colab": {
          "base_uri": "https://localhost:8080/"
        },
        "id": "ZIncPdtjthe3",
        "outputId": "7bfff3b1-9429-4d24-a32c-e27503fc5fce"
      },
      "outputs": [
        {
          "data": {
            "text/plain": [
              "[{'summary_text': '1일 오후 9시까지 최소 20만3220명이 코로나19에 신규 확진되어 역대 최다 기록인 역대 최다 기록인 누적 확진자 수가 20만명대를 넘어선 것은 이번이 처음으로, 사상 처음 20만명대에 진입했다.  1일 오후 9시까지 최소 20만3220명이 신규 확진돼 역대 최다 기록(24일 13만8419명)을 갈아치운 데 이어 이미 직전 0시 기준 역대 최다 기록도 넘어섰다. 역대 최다 기록은 지난 23일 0시 기준 17만1451명이었다. 17개 지자체별로 보면 서울 4만6938명, 경기 6만7322명, 인천 1만985'}]"
            ]
          },
          "execution_count": 34,
          "metadata": {},
          "output_type": "execute_result"
        }
      ],
      "source": [
        "summarizer(text)"
      ]
    },
    {
      "cell_type": "code",
      "execution_count": 35,
      "metadata": {
        "colab": {
          "base_uri": "https://localhost:8080/"
        },
        "id": "fIWsBFtszaQ5",
        "outputId": "16374125-810a-461d-8a7a-36d20eb3f2ab"
      },
      "outputs": [
        {
          "data": {
            "text/plain": [
              "[{'summary_text': ' 1일 오후 9시까지 최소 20만3220명이 코로나19에 신규 확진됐다. 또다시 동시간대 최다 기록으로, 사상 처음 20만명대에 진입했다. 방역 당국과 서울시 등 각 지방자치단체에 따르면 이날 0시부터 오후 9시까지 전국 신규 확진자는 총 20만3220명으로 집계됐다. 국내 신규 확진자 수가 20만명대를 넘어선 것은 이번이 처음 처음이다. 동시간대 최다 기록은 지난 23일 오후 9시 기준 16만1389명이었는데, 이를 무려 4만1831명이나 웃돌았다. 전날 같은 시간 기록한 13만3481명보다도 6만9739명 많다.'}]"
            ]
          },
          "execution_count": 35,
          "metadata": {},
          "output_type": "execute_result"
        }
      ],
      "source": [
        "summarizer2(text)"
      ]
    },
    {
      "attachments": {},
      "cell_type": "markdown",
      "metadata": {
        "id": "xFgP-0PYXoGp"
      },
      "source": [
        "# AI-hub data에 적용"
      ]
    },
    {
      "cell_type": "code",
      "execution_count": 12,
      "metadata": {
        "id": "puCzGhPJEKeO"
      },
      "outputs": [],
      "source": [
        "# 추가 전처리 \n",
        "art_df = new_df.copy()\n",
        "art_df.drop(['id', 'annotator_id', 'char_count', 'document_quality_scores', 'extractive'], axis=1, inplace=True)"
      ]
    },
    {
      "cell_type": "code",
      "execution_count": 13,
      "metadata": {
        "id": "6-vVchuhbH2U"
      },
      "outputs": [],
      "source": [
        "art_df.abstractive = art_df.abstractive.apply(lambda x : ' '.join(x))"
      ]
    },
    {
      "cell_type": "code",
      "execution_count": 14,
      "metadata": {
        "colab": {
          "base_uri": "https://localhost:8080/",
          "height": 402
        },
        "id": "cdmPIcjxhpsf",
        "outputId": "31aefb77-ccd1-4917-8e33-afea0cbb8238"
      },
      "outputs": [
        {
          "data": {
            "text/html": [
              "<div>\n",
              "<style scoped>\n",
              "    .dataframe tbody tr th:only-of-type {\n",
              "        vertical-align: middle;\n",
              "    }\n",
              "\n",
              "    .dataframe tbody tr th {\n",
              "        vertical-align: top;\n",
              "    }\n",
              "\n",
              "    .dataframe thead th {\n",
              "        text-align: right;\n",
              "    }\n",
              "</style>\n",
              "<table border=\"1\" class=\"dataframe\">\n",
              "  <thead>\n",
              "    <tr style=\"text-align: right;\">\n",
              "      <th></th>\n",
              "      <th>category</th>\n",
              "      <th>media_type</th>\n",
              "      <th>media_sub_type</th>\n",
              "      <th>media_name</th>\n",
              "      <th>size</th>\n",
              "      <th>publish_date</th>\n",
              "      <th>title</th>\n",
              "      <th>text</th>\n",
              "      <th>abstractive</th>\n",
              "    </tr>\n",
              "  </thead>\n",
              "  <tbody>\n",
              "    <tr>\n",
              "      <th>0</th>\n",
              "      <td>종합</td>\n",
              "      <td>online</td>\n",
              "      <td>지역지</td>\n",
              "      <td>광양신문</td>\n",
              "      <td>small</td>\n",
              "      <td>2018-01-05 18:54:55</td>\n",
              "      <td>논 타작물 재배, 2월 말까지 신청하세요</td>\n",
              "      <td>전라남도가 쌀 과잉문제를 근본적으로 해결하기 위해 올해부터 시행하는 쌀 생산조정제를 적극 추진키로 했다. 쌀 생산조정제는 벼를 심었던 논에 벼 대신 사료작물이나 콩 등 다른 작물을 심으면 벼와의 일정 소득차를 보전해주는 제도다. 올해 전남의 논 다른 작물 재배 계획면적은 전국 5만ha의 약 21%인 1만 698ha로, 세부시행지침을 확정, 시군에 통보했다. 지원사업 대상은 2017년산 쌀 변동직불금을 받은 농지에 10a(300평) 이상 벼 이외 다른 작물을 재배한 농업인이다. 지원 대상 작물은 1년생을 포함한 다년생의 모든 작물이 해당되나 재배 면적 확대 시 수급과잉이 우려되는 고추, 무, 배추, 인삼, 대파 등 수급 불안 품목은 제외된다. 농지의 경우도 이미 다른 작물 재배 의무가 부여된 간척지, 정부매입비축농지, 농진청 시범사업, 경관보전 직불금 수령 농지 등은 제외될 예정이다. ha(3000평)당 지원 단가는 평균 340만원으로 사료작물 400만원, 일반작물은 340만원, 콩·팥 등 두류작물은 280만원 등이다. 벼와 소득차와 영농 편이성을 감안해 작물별로 차등 지원된다. 논에 다른 작물 재배를 바라는 농가는 오는 22일부터 2월 28일까지 농지 소재지 읍면동사무소에 신청해야 한다. 전남도는 도와 시군에 관련 기관과 농가 등이 참여하는‘논 타작물 지원사업 추진협의회’를 구성, 지역 특성에 맞는 작목 선정 및 사업 심의 등을 본격 추진할 방침이다. 최향철 전라남도 친환경농업과장은 “최근 쌀값이 다소 상승추세에 있으나 매년 공급과잉에 따른 가격 하락으로 쌀농가에 어려움이 있었다”며“쌀 공급과잉을 구조적으로 해결하도록 논 타작물 재배 지원사업에 많이 참여해주길 바란다”고 말했다.</td>\n",
              "      <td>전라남도가 쌀 과잉문제를 근본적으로 해결하기 위해 올해부터 벼를 심었던 논에 벼 대신 사료작물이나 콩 등 다른 작물을 심으면 벼와의 일정 소득차를 보전해주는 '쌀 생산조정제'를 적극적으로 시행하기로 하고 오는 22일부터 2월 28일까지 농지 소재지 읍면동사무소에서 신청받는다 .</td>\n",
              "    </tr>\n",
              "  </tbody>\n",
              "</table>\n",
              "</div>"
            ],
            "text/plain": [
              "  category media_type media_sub_type media_name   size         publish_date  \\\n",
              "0       종합     online            지역지       광양신문  small  2018-01-05 18:54:55   \n",
              "\n",
              "                    title  \\\n",
              "0  논 타작물 재배, 2월 말까지 신청하세요   \n",
              "\n",
              "                                                                                                                                                                                                                                                                                                                                                                                                                                                                                                                                                                                                                                                                                                                                                                                                                                                                       text  \\\n",
              "0  전라남도가 쌀 과잉문제를 근본적으로 해결하기 위해 올해부터 시행하는 쌀 생산조정제를 적극 추진키로 했다. 쌀 생산조정제는 벼를 심었던 논에 벼 대신 사료작물이나 콩 등 다른 작물을 심으면 벼와의 일정 소득차를 보전해주는 제도다. 올해 전남의 논 다른 작물 재배 계획면적은 전국 5만ha의 약 21%인 1만 698ha로, 세부시행지침을 확정, 시군에 통보했다. 지원사업 대상은 2017년산 쌀 변동직불금을 받은 농지에 10a(300평) 이상 벼 이외 다른 작물을 재배한 농업인이다. 지원 대상 작물은 1년생을 포함한 다년생의 모든 작물이 해당되나 재배 면적 확대 시 수급과잉이 우려되는 고추, 무, 배추, 인삼, 대파 등 수급 불안 품목은 제외된다. 농지의 경우도 이미 다른 작물 재배 의무가 부여된 간척지, 정부매입비축농지, 농진청 시범사업, 경관보전 직불금 수령 농지 등은 제외될 예정이다. ha(3000평)당 지원 단가는 평균 340만원으로 사료작물 400만원, 일반작물은 340만원, 콩·팥 등 두류작물은 280만원 등이다. 벼와 소득차와 영농 편이성을 감안해 작물별로 차등 지원된다. 논에 다른 작물 재배를 바라는 농가는 오는 22일부터 2월 28일까지 농지 소재지 읍면동사무소에 신청해야 한다. 전남도는 도와 시군에 관련 기관과 농가 등이 참여하는‘논 타작물 지원사업 추진협의회’를 구성, 지역 특성에 맞는 작목 선정 및 사업 심의 등을 본격 추진할 방침이다. 최향철 전라남도 친환경농업과장은 “최근 쌀값이 다소 상승추세에 있으나 매년 공급과잉에 따른 가격 하락으로 쌀농가에 어려움이 있었다”며“쌀 공급과잉을 구조적으로 해결하도록 논 타작물 재배 지원사업에 많이 참여해주길 바란다”고 말했다.   \n",
              "\n",
              "                                                                                                                                                   abstractive  \n",
              "0  전라남도가 쌀 과잉문제를 근본적으로 해결하기 위해 올해부터 벼를 심었던 논에 벼 대신 사료작물이나 콩 등 다른 작물을 심으면 벼와의 일정 소득차를 보전해주는 '쌀 생산조정제'를 적극적으로 시행하기로 하고 오는 22일부터 2월 28일까지 농지 소재지 읍면동사무소에서 신청받는다 .  "
            ]
          },
          "execution_count": 14,
          "metadata": {},
          "output_type": "execute_result"
        }
      ],
      "source": [
        "pd.options.display.max_colwidth = 2000\n",
        "art_df.head(1)"
      ]
    },
    {
      "cell_type": "code",
      "execution_count": 15,
      "metadata": {
        "id": "1CeNG604chQT"
      },
      "outputs": [],
      "source": [
        "from sklearn.model_selection import train_test_split\n",
        "\n",
        "train_df, test_df = train_test_split(art_df, test_size=0.2, random_state=777)"
      ]
    },
    {
      "cell_type": "code",
      "execution_count": 16,
      "metadata": {
        "colab": {
          "base_uri": "https://localhost:8080/"
        },
        "id": "KbH3_VUtgBRw",
        "outputId": "f5f5d007-9ced-453f-d7d5-46288ff72fc9"
      },
      "outputs": [
        {
          "data": {
            "text/plain": [
              "66068     13910\n",
              "36893      1963\n",
              "182051     1959\n",
              "187153     1955\n",
              "105903     1954\n",
              "Name: text, dtype: int64"
            ]
          },
          "execution_count": 16,
          "metadata": {},
          "output_type": "execute_result"
        }
      ],
      "source": [
        "train_df['text'].str.len().sort_values(ascending=False)[:5] # 내림차순"
      ]
    },
    {
      "cell_type": "code",
      "execution_count": 17,
      "metadata": {
        "id": "ht6k4V7Ljugi"
      },
      "outputs": [
        {
          "name": "stderr",
          "output_type": "stream",
          "text": [
            "c:\\Users\\User\\AppData\\Local\\Programs\\Python\\Python38\\lib\\site-packages\\pandas\\core\\frame.py:4308: SettingWithCopyWarning: \n",
            "A value is trying to be set on a copy of a slice from a DataFrame\n",
            "\n",
            "See the caveats in the documentation: https://pandas.pydata.org/pandas-docs/stable/user_guide/indexing.html#returning-a-view-versus-a-copy\n",
            "  return super().drop(\n"
          ]
        }
      ],
      "source": [
        "# 위 결과 문자열 길이 1위와 2위의 차이가 큰 관계로 1위 데이터는 삭제\n",
        "train_df.drop([66068], axis=0, inplace=True)"
      ]
    },
    {
      "cell_type": "code",
      "execution_count": 18,
      "metadata": {
        "colab": {
          "base_uri": "https://localhost:8080/"
        },
        "id": "1-VhSugtjb-0",
        "outputId": "2054333a-fa15-4ec4-ef5f-5e34bb7a886e"
      },
      "outputs": [
        {
          "data": {
            "text/plain": [
              "149185    716\n",
              "152576    638\n",
              "170525    610\n",
              "186499    607\n",
              "5598      498\n",
              "Name: abstractive, dtype: int64"
            ]
          },
          "execution_count": 18,
          "metadata": {},
          "output_type": "execute_result"
        }
      ],
      "source": [
        "train_df['abstractive'].str.len().sort_values(ascending=False)[:5] # 내림차순"
      ]
    },
    {
      "cell_type": "code",
      "execution_count": 19,
      "metadata": {},
      "outputs": [],
      "source": [
        "max_input_length = 2000\n",
        "max_target_length = 750\n",
        "prefix = \"\"\n",
        "\n",
        "def preprocess_function(feature_list, target_list):\n",
        "    inputs = [prefix + doc for doc in feature_list]\n",
        "    model_inputs = tokenizer(inputs, max_length=max_input_length, truncation=True)\n",
        "# 데이터가 손실될 경우에 앞의 단어가 아니라 뒤의 단어가 삭제되도록 하고싶다면 truncating이라는 인자를 사용합니다. truncating='post'를 사용할 경우 뒤의 단어가 삭제됩니다.\n",
        "    # Setup the tokenizer for targets\n",
        "    with tokenizer.as_target_tokenizer():\n",
        "        labels = tokenizer(target_list, max_length=max_target_length, truncation=True)\n",
        "\n",
        "    model_inputs[\"labels\"] = labels[\"input_ids\"]\n",
        "    return model_inputs"
      ]
    },
    {
      "cell_type": "code",
      "execution_count": 20,
      "metadata": {},
      "outputs": [
        {
          "data": {
            "text/plain": [
              "{'input_ids': [[14025, 9496, 11806, 28090, 14493, 14141, 16831, 26577, 21988, 14140, 20701, 14059, 14040, 29711, 14680, 14180, 18145, 15164, 14058, 15964, 14025, 9496, 11806, 28090, 14493, 16838, 10338, 25831, 15086, 28191, 14363, 29388, 14305, 14228, 11268, 12147, 15389, 14412, 14099, 12074, 11372, 23226, 15097, 14130, 14099, 12074, 11372, 14281, 15640, 20678, 14049, 14456, 14025, 14281, 14321, 14295, 15295, 27816, 26690, 14030, 15166, 14081, 13737, 14382, 14301, 10884, 18332, 14519, 11319, 8995, 14036, 10504, 11667, 17983, 22262, 14130, 14948, 11763, 18373, 27386, 14687, 14864, 17855, 22893, 14081, 16059, 10219, 14205, 17596, 14543, 14376, 28924, 15253, 19248, 14205, 14209, 14120, 14142, 11786, 20914, 20196, 14776, 14543, 14948, 9495, 10449, 14320, 15060, 12332, 14672, 28484, 14117, 17930, 14130, 14381, 16579, 16005, 14972, 14334, 9908, 14910, 17657, 27417, 14910, 23609, 14076, 14130, 14948, 21698, 11224, 19545, 14429, 14082, 21934, 17657, 17942, 25382, 14749, 11911, 11467, 14142, 14167, 15942, 14749, 11911, 11465, 14495, 14543, 14376, 16455, 16752, 11786, 20408, 14481, 27968, 16752, 14400, 17348, 16873, 28959, 14519, 12034, 12147, 15946, 14272, 10586, 16414, 14295, 16871, 18341, 18492, 15133, 24329, 14585, 14030, 14593, 18026, 29679, 15668, 28959, 14948, 9806, 29188, 243, 14166, 21661, 9049, 28312, 11734, 14285, 14130, 14166, 15928, 24955, 9364, 14166, 17832, 19173, 15321, 14870, 14776, 14543, 20810, 14166, 15425, 17183, 15709, 17951, 14634, 14368, 14432, 245, 15667, 14729, 12700, 14367, 14105, 14343, 14262, 14166, 19395, 14581, 24772, 16746, 14166, 29188, 243, 14166, 21661, 9049, 243, 14166, 19395, 14086, 8981, 14404, 18725, 14312, 16402, 16141, 17930, 14130, 14948, 15326, 9989, 21006, 20701, 20893, 15919, 17442, 14723, 14581, 14340, 21006, 15919, 14680, 19614, 27140, 14228, 15125, 15995, 15349, 15132, 17626, 21156, 15040, 14489, 14926, 14066, 22097, 29244, 14340, 27269, 19157, 14314, 9908, 14081, 15629, 27682, 15038, 14270, 14060, 29244, 14172, 16367, 17685, 15345, 14096, 23974, 24379, 14172, 12002, 11306, 14161, 14209, 16355, 14399, 15042, 28956, 14755, 14088, 24776, 14142, 15225, 17698, 11306, 14130, 14948, 23973, 14157, 14053, 10329, 13737, 18286, 27504, 14543, 14047, 14785, 14202, 14161, 25103, 15802, 14187, 9929, 12034, 1700, 10936, 9698, 18670, 15964, 14519, 12332, 9241, 18328, 16613, 20734, 14030, 19979, 27358, 15149, 12258, 22343, 17179, 16840, 14118, 12819, 11786, 16485, 29001, 14082, 14262, 14380, 16247, 14955, 18233, 15056, 28504, 11786, 14138, 26772, 14077, 16537, 15939, 11264, 14376, 14906, 22932, 14491, 14394, 15414, 14861, 14304, 245, 14948, 9770, 19419, 27968, 14118, 12819, 9698, 14209, 16814, 14207, 14032, 14082, 14262, 14202, 28959, 27901, 15781, 16767, 14130], [28720, 14331, 15404, 14918, 26779, 233, 11908, 12037, 14953, 22117, 27374, 27101, 16241, 14049, 16502, 17861, 28160, 14114, 27374, 16241, 14049, 17292, 15098, 25040, 14374, 24290, 15702, 20781, 17613, 18701, 14253, 14130, 16538, 24864, 14655, 14331, 9517, 15482, 8981, 17242, 15003, 14919, 14242, 14687, 9828, 16574, 14112, 27374, 16502, 17861, 14762, 12034, 16241, 15817, 15482, 8981, 17242, 17614, 12332, 14687, 14794, 14114, 14762, 22041, 16961, 12007, 20565, 14049, 14048, 14060, 15245, 29452, 16644, 19050, 17879, 28408, 27661, 15427, 14270, 14441, 16502, 17861, 29733, 28639, 18502, 14225, 19330, 14140, 15482, 8981, 17242, 15617, 14343, 14048, 16502, 17861, 29733, 23715, 16328, 17030, 15072, 15848, 19546, 16241, 14088, 14902, 15788, 13594, 15627, 16247, 16721, 14697, 14804, 8985, 15482, 18252, 14919, 16593, 14894, 15990, 16445, 19181, 14049, 14048, 14904, 21820, 15047, 15117, 16454, 14437, 15680, 17499, 20340, 11465, 14032, 17265, 14280, 14040, 13828, 9170, 14055, 14860, 16502, 17861, 29733, 16241, 15615, 14616, 16721, 14697, 19890, 19330, 8985, 15482, 18252, 14919, 16593, 14032, 17265, 14136, 15478, 252, 16480, 14040, 13828, 9170, 14086, 15990, 256, 16071, 16120, 17612, 28292, 21480, 10432, 12024, 14035, 15625, 17954, 19181, 15117, 16454, 16502, 17861, 29733, 14034, 15066, 14173, 14628, 24002, 14381, 23897, 14293, 14112, 14105, 14590, 15482, 18252, 14919, 10432, 12024, 17828, 14417, 9828, 27101, 14157, 16502, 17861, 29733, 16241, 13607, 15905, 14303, 19339, 17465, 14135, 25894, 22904, 15097, 16307, 28129, 15964, 14599, 14302, 14369, 10888, 15814, 14899, 14919, 17195, 15091, 20038, 13590, 14494, 14040, 13828, 9170, 14112, 8989, 22765, 15482, 8981, 17242, 14919, 26160, 16110, 28151, 9879, 14303, 14046, 10213, 9879, 14280, 14061, 11285, 9879, 14048, 28720, 22832, 15726, 15404, 13607, 16241, 11900, 22064, 24686, 14242, 24351, 14713, 15615, 14599, 14225, 14044, 14604, 15536, 9220, 14902, 16430, 15180, 11786, 15111, 15931, 16850, 29452, 10476, 14159, 17865, 15668, 21863, 17809, 14032, 16688, 14050, 10955, 25894, 15668, 27874, 21741, 17852, 14115, 11477, 14159, 16502, 13594, 16328, 15670, 20292]], 'token_type_ids': [[0, 0, 0, 0, 0, 0, 0, 0, 0, 0, 0, 0, 0, 0, 0, 0, 0, 0, 0, 0, 0, 0, 0, 0, 0, 0, 0, 0, 0, 0, 0, 0, 0, 0, 0, 0, 0, 0, 0, 0, 0, 0, 0, 0, 0, 0, 0, 0, 0, 0, 0, 0, 0, 0, 0, 0, 0, 0, 0, 0, 0, 0, 0, 0, 0, 0, 0, 0, 0, 0, 0, 0, 0, 0, 0, 0, 0, 0, 0, 0, 0, 0, 0, 0, 0, 0, 0, 0, 0, 0, 0, 0, 0, 0, 0, 0, 0, 0, 0, 0, 0, 0, 0, 0, 0, 0, 0, 0, 0, 0, 0, 0, 0, 0, 0, 0, 0, 0, 0, 0, 0, 0, 0, 0, 0, 0, 0, 0, 0, 0, 0, 0, 0, 0, 0, 0, 0, 0, 0, 0, 0, 0, 0, 0, 0, 0, 0, 0, 0, 0, 0, 0, 0, 0, 0, 0, 0, 0, 0, 0, 0, 0, 0, 0, 0, 0, 0, 0, 0, 0, 0, 0, 0, 0, 0, 0, 0, 0, 0, 0, 0, 0, 0, 0, 0, 0, 0, 0, 0, 0, 0, 0, 0, 0, 0, 0, 0, 0, 0, 0, 0, 0, 0, 0, 0, 0, 0, 0, 0, 0, 0, 0, 0, 0, 0, 0, 0, 0, 0, 0, 0, 0, 0, 0, 0, 0, 0, 0, 0, 0, 0, 0, 0, 0, 0, 0, 0, 0, 0, 0, 0, 0, 0, 0, 0, 0, 0, 0, 0, 0, 0, 0, 0, 0, 0, 0, 0, 0, 0, 0, 0, 0, 0, 0, 0, 0, 0, 0, 0, 0, 0, 0, 0, 0, 0, 0, 0, 0, 0, 0, 0, 0, 0, 0, 0, 0, 0, 0, 0, 0, 0, 0, 0, 0, 0, 0, 0, 0, 0, 0, 0, 0, 0, 0, 0, 0, 0, 0, 0, 0, 0, 0, 0, 0, 0, 0, 0, 0, 0, 0, 0, 0, 0, 0, 0, 0, 0, 0, 0, 0, 0, 0, 0, 0, 0, 0, 0, 0, 0, 0, 0, 0, 0, 0, 0, 0, 0, 0, 0, 0, 0, 0, 0, 0, 0, 0, 0, 0, 0, 0, 0, 0, 0, 0, 0, 0, 0, 0, 0, 0, 0, 0, 0, 0, 0, 0, 0, 0, 0, 0, 0, 0, 0, 0, 0, 0, 0, 0, 0, 0, 0, 0], [0, 0, 0, 0, 0, 0, 0, 0, 0, 0, 0, 0, 0, 0, 0, 0, 0, 0, 0, 0, 0, 0, 0, 0, 0, 0, 0, 0, 0, 0, 0, 0, 0, 0, 0, 0, 0, 0, 0, 0, 0, 0, 0, 0, 0, 0, 0, 0, 0, 0, 0, 0, 0, 0, 0, 0, 0, 0, 0, 0, 0, 0, 0, 0, 0, 0, 0, 0, 0, 0, 0, 0, 0, 0, 0, 0, 0, 0, 0, 0, 0, 0, 0, 0, 0, 0, 0, 0, 0, 0, 0, 0, 0, 0, 0, 0, 0, 0, 0, 0, 0, 0, 0, 0, 0, 0, 0, 0, 0, 0, 0, 0, 0, 0, 0, 0, 0, 0, 0, 0, 0, 0, 0, 0, 0, 0, 0, 0, 0, 0, 0, 0, 0, 0, 0, 0, 0, 0, 0, 0, 0, 0, 0, 0, 0, 0, 0, 0, 0, 0, 0, 0, 0, 0, 0, 0, 0, 0, 0, 0, 0, 0, 0, 0, 0, 0, 0, 0, 0, 0, 0, 0, 0, 0, 0, 0, 0, 0, 0, 0, 0, 0, 0, 0, 0, 0, 0, 0, 0, 0, 0, 0, 0, 0, 0, 0, 0, 0, 0, 0, 0, 0, 0, 0, 0, 0, 0, 0, 0, 0, 0, 0, 0, 0, 0, 0, 0, 0, 0, 0, 0, 0, 0, 0, 0, 0, 0, 0, 0, 0, 0, 0, 0, 0, 0, 0, 0, 0, 0, 0, 0, 0, 0, 0, 0, 0, 0, 0, 0, 0, 0, 0, 0, 0, 0, 0, 0, 0, 0, 0, 0, 0, 0, 0, 0, 0, 0, 0, 0, 0, 0, 0, 0, 0, 0, 0, 0, 0, 0, 0, 0, 0, 0, 0, 0, 0, 0, 0, 0, 0, 0, 0, 0, 0, 0, 0, 0, 0, 0, 0, 0, 0, 0, 0, 0, 0, 0]], 'attention_mask': [[1, 1, 1, 1, 1, 1, 1, 1, 1, 1, 1, 1, 1, 1, 1, 1, 1, 1, 1, 1, 1, 1, 1, 1, 1, 1, 1, 1, 1, 1, 1, 1, 1, 1, 1, 1, 1, 1, 1, 1, 1, 1, 1, 1, 1, 1, 1, 1, 1, 1, 1, 1, 1, 1, 1, 1, 1, 1, 1, 1, 1, 1, 1, 1, 1, 1, 1, 1, 1, 1, 1, 1, 1, 1, 1, 1, 1, 1, 1, 1, 1, 1, 1, 1, 1, 1, 1, 1, 1, 1, 1, 1, 1, 1, 1, 1, 1, 1, 1, 1, 1, 1, 1, 1, 1, 1, 1, 1, 1, 1, 1, 1, 1, 1, 1, 1, 1, 1, 1, 1, 1, 1, 1, 1, 1, 1, 1, 1, 1, 1, 1, 1, 1, 1, 1, 1, 1, 1, 1, 1, 1, 1, 1, 1, 1, 1, 1, 1, 1, 1, 1, 1, 1, 1, 1, 1, 1, 1, 1, 1, 1, 1, 1, 1, 1, 1, 1, 1, 1, 1, 1, 1, 1, 1, 1, 1, 1, 1, 1, 1, 1, 1, 1, 1, 1, 1, 1, 1, 1, 1, 1, 1, 1, 1, 1, 1, 1, 1, 1, 1, 1, 1, 1, 1, 1, 1, 1, 1, 1, 1, 1, 1, 1, 1, 1, 1, 1, 1, 1, 1, 1, 1, 1, 1, 1, 1, 1, 1, 1, 1, 1, 1, 1, 1, 1, 1, 1, 1, 1, 1, 1, 1, 1, 1, 1, 1, 1, 1, 1, 1, 1, 1, 1, 1, 1, 1, 1, 1, 1, 1, 1, 1, 1, 1, 1, 1, 1, 1, 1, 1, 1, 1, 1, 1, 1, 1, 1, 1, 1, 1, 1, 1, 1, 1, 1, 1, 1, 1, 1, 1, 1, 1, 1, 1, 1, 1, 1, 1, 1, 1, 1, 1, 1, 1, 1, 1, 1, 1, 1, 1, 1, 1, 1, 1, 1, 1, 1, 1, 1, 1, 1, 1, 1, 1, 1, 1, 1, 1, 1, 1, 1, 1, 1, 1, 1, 1, 1, 1, 1, 1, 1, 1, 1, 1, 1, 1, 1, 1, 1, 1, 1, 1, 1, 1, 1, 1, 1, 1, 1, 1, 1, 1, 1, 1, 1, 1, 1, 1, 1, 1, 1, 1, 1, 1, 1, 1, 1, 1, 1, 1, 1, 1, 1, 1, 1, 1, 1, 1, 1, 1, 1, 1], [1, 1, 1, 1, 1, 1, 1, 1, 1, 1, 1, 1, 1, 1, 1, 1, 1, 1, 1, 1, 1, 1, 1, 1, 1, 1, 1, 1, 1, 1, 1, 1, 1, 1, 1, 1, 1, 1, 1, 1, 1, 1, 1, 1, 1, 1, 1, 1, 1, 1, 1, 1, 1, 1, 1, 1, 1, 1, 1, 1, 1, 1, 1, 1, 1, 1, 1, 1, 1, 1, 1, 1, 1, 1, 1, 1, 1, 1, 1, 1, 1, 1, 1, 1, 1, 1, 1, 1, 1, 1, 1, 1, 1, 1, 1, 1, 1, 1, 1, 1, 1, 1, 1, 1, 1, 1, 1, 1, 1, 1, 1, 1, 1, 1, 1, 1, 1, 1, 1, 1, 1, 1, 1, 1, 1, 1, 1, 1, 1, 1, 1, 1, 1, 1, 1, 1, 1, 1, 1, 1, 1, 1, 1, 1, 1, 1, 1, 1, 1, 1, 1, 1, 1, 1, 1, 1, 1, 1, 1, 1, 1, 1, 1, 1, 1, 1, 1, 1, 1, 1, 1, 1, 1, 1, 1, 1, 1, 1, 1, 1, 1, 1, 1, 1, 1, 1, 1, 1, 1, 1, 1, 1, 1, 1, 1, 1, 1, 1, 1, 1, 1, 1, 1, 1, 1, 1, 1, 1, 1, 1, 1, 1, 1, 1, 1, 1, 1, 1, 1, 1, 1, 1, 1, 1, 1, 1, 1, 1, 1, 1, 1, 1, 1, 1, 1, 1, 1, 1, 1, 1, 1, 1, 1, 1, 1, 1, 1, 1, 1, 1, 1, 1, 1, 1, 1, 1, 1, 1, 1, 1, 1, 1, 1, 1, 1, 1, 1, 1, 1, 1, 1, 1, 1, 1, 1, 1, 1, 1, 1, 1, 1, 1, 1, 1, 1, 1, 1, 1, 1, 1, 1, 1, 1, 1, 1, 1, 1, 1, 1, 1, 1, 1, 1, 1, 1, 1, 1]], 'labels': [[14025, 9496, 11806, 28090, 14493, 14035, 9264, 14067, 18424, 16568, 14363, 14166, 29188, 243, 14166, 21661, 9049, 243, 14166, 19395, 14086, 8981, 14404, 18725, 22029, 16455, 23423, 11786, 15559, 14049, 14698, 14634, 9120, 19395, 15668, 20465, 10443, 14741, 17432, 19979, 27358, 15149, 12258, 14939, 17660, 14118, 12819, 11786, 14152, 16004, 14147, 14063, 12178, 13714, 15781, 16767, 16178, 14038, 15615], [15482, 22702, 14919, 14049, 14591, 20340, 14953, 22117, 9758, 15795, 14837, 14114, 9758, 16219, 12024, 14034, 14477, 20781, 16780, 14355, 23897, 15905, 14303, 19339, 27027, 14135, 15849, 12034, 20543, 29113, 16269, 24686, 15966, 23741, 15964]]}"
            ]
          },
          "execution_count": 20,
          "metadata": {},
          "output_type": "execute_result"
        }
      ],
      "source": [
        "preprocess_function(train_df.text[:2].values.tolist(), train_df.abstractive[:2].values.tolist())"
      ]
    }
  ],
  "metadata": {
    "accelerator": "GPU",
    "colab": {
      "provenance": []
    },
    "gpuClass": "standard",
    "kernelspec": {
      "display_name": "Python 3",
      "name": "python3"
    },
    "language_info": {
      "codemirror_mode": {
        "name": "ipython",
        "version": 3
      },
      "file_extension": ".py",
      "mimetype": "text/x-python",
      "name": "python",
      "nbconvert_exporter": "python",
      "pygments_lexer": "ipython3",
      "version": "3.8.8"
    },
    "widgets": {
      "application/vnd.jupyter.widget-state+json": {
        "03cb987b92a44407bc37c5c13c0e5b37": {
          "model_module": "@jupyter-widgets/controls",
          "model_module_version": "1.5.0",
          "model_name": "HTMLModel",
          "state": {
            "_dom_classes": [],
            "_model_module": "@jupyter-widgets/controls",
            "_model_module_version": "1.5.0",
            "_model_name": "HTMLModel",
            "_view_count": null,
            "_view_module": "@jupyter-widgets/controls",
            "_view_module_version": "1.5.0",
            "_view_name": "HTMLView",
            "description": "",
            "description_tooltip": null,
            "layout": "IPY_MODEL_d7d0b5b5ef714fc18c8da85744d8991c",
            "placeholder": "​",
            "style": "IPY_MODEL_663ed79b911744f29cf4f2b641601560",
            "value": " 496M/496M [00:01&lt;00:00, 266MB/s]"
          }
        },
        "05f64a804b994ac3b36e36b9d3781895": {
          "model_module": "@jupyter-widgets/base",
          "model_module_version": "1.2.0",
          "model_name": "LayoutModel",
          "state": {
            "_model_module": "@jupyter-widgets/base",
            "_model_module_version": "1.2.0",
            "_model_name": "LayoutModel",
            "_view_count": null,
            "_view_module": "@jupyter-widgets/base",
            "_view_module_version": "1.2.0",
            "_view_name": "LayoutView",
            "align_content": null,
            "align_items": null,
            "align_self": null,
            "border": null,
            "bottom": null,
            "display": null,
            "flex": null,
            "flex_flow": null,
            "grid_area": null,
            "grid_auto_columns": null,
            "grid_auto_flow": null,
            "grid_auto_rows": null,
            "grid_column": null,
            "grid_gap": null,
            "grid_row": null,
            "grid_template_areas": null,
            "grid_template_columns": null,
            "grid_template_rows": null,
            "height": null,
            "justify_content": null,
            "justify_items": null,
            "left": null,
            "margin": null,
            "max_height": null,
            "max_width": null,
            "min_height": null,
            "min_width": null,
            "object_fit": null,
            "object_position": null,
            "order": null,
            "overflow": null,
            "overflow_x": null,
            "overflow_y": null,
            "padding": null,
            "right": null,
            "top": null,
            "visibility": null,
            "width": null
          }
        },
        "07400d08da62418ca8e40ea41628e074": {
          "model_module": "@jupyter-widgets/controls",
          "model_module_version": "1.5.0",
          "model_name": "HTMLModel",
          "state": {
            "_dom_classes": [],
            "_model_module": "@jupyter-widgets/controls",
            "_model_module_version": "1.5.0",
            "_model_name": "HTMLModel",
            "_view_count": null,
            "_view_module": "@jupyter-widgets/controls",
            "_view_module_version": "1.5.0",
            "_view_name": "HTMLView",
            "description": "",
            "description_tooltip": null,
            "layout": "IPY_MODEL_5104b42d6afb400a8fe37f7f5afd3b5f",
            "placeholder": "​",
            "style": "IPY_MODEL_5397e65dd85c4686ba0a88ad5140228c",
            "value": " 1.36k/1.36k [00:00&lt;00:00, 65.4kB/s]"
          }
        },
        "0ed5531a31d84fc3aa36e6f42b74f245": {
          "model_module": "@jupyter-widgets/base",
          "model_module_version": "1.2.0",
          "model_name": "LayoutModel",
          "state": {
            "_model_module": "@jupyter-widgets/base",
            "_model_module_version": "1.2.0",
            "_model_name": "LayoutModel",
            "_view_count": null,
            "_view_module": "@jupyter-widgets/base",
            "_view_module_version": "1.2.0",
            "_view_name": "LayoutView",
            "align_content": null,
            "align_items": null,
            "align_self": null,
            "border": null,
            "bottom": null,
            "display": null,
            "flex": null,
            "flex_flow": null,
            "grid_area": null,
            "grid_auto_columns": null,
            "grid_auto_flow": null,
            "grid_auto_rows": null,
            "grid_column": null,
            "grid_gap": null,
            "grid_row": null,
            "grid_template_areas": null,
            "grid_template_columns": null,
            "grid_template_rows": null,
            "height": null,
            "justify_content": null,
            "justify_items": null,
            "left": null,
            "margin": null,
            "max_height": null,
            "max_width": null,
            "min_height": null,
            "min_width": null,
            "object_fit": null,
            "object_position": null,
            "order": null,
            "overflow": null,
            "overflow_x": null,
            "overflow_y": null,
            "padding": null,
            "right": null,
            "top": null,
            "visibility": null,
            "width": null
          }
        },
        "1122acd26a584d1e80ae8118d9a2ec90": {
          "model_module": "@jupyter-widgets/controls",
          "model_module_version": "1.5.0",
          "model_name": "ProgressStyleModel",
          "state": {
            "_model_module": "@jupyter-widgets/controls",
            "_model_module_version": "1.5.0",
            "_model_name": "ProgressStyleModel",
            "_view_count": null,
            "_view_module": "@jupyter-widgets/base",
            "_view_module_version": "1.2.0",
            "_view_name": "StyleView",
            "bar_color": null,
            "description_width": ""
          }
        },
        "11fccff5246e45b2bc88c32c42f1c684": {
          "model_module": "@jupyter-widgets/controls",
          "model_module_version": "1.5.0",
          "model_name": "HTMLModel",
          "state": {
            "_dom_classes": [],
            "_model_module": "@jupyter-widgets/controls",
            "_model_module_version": "1.5.0",
            "_model_name": "HTMLModel",
            "_view_count": null,
            "_view_module": "@jupyter-widgets/controls",
            "_view_module_version": "1.5.0",
            "_view_name": "HTMLView",
            "description": "",
            "description_tooltip": null,
            "layout": "IPY_MODEL_d8f3290058584187b1917088dfcd9600",
            "placeholder": "​",
            "style": "IPY_MODEL_3907f44ed85643a5815ab7e734cacb24",
            "value": "Downloading (…)lve/main/config.json: 100%"
          }
        },
        "1efe0e0f1b86494b92a3abd8dca7d6ab": {
          "model_module": "@jupyter-widgets/controls",
          "model_module_version": "1.5.0",
          "model_name": "HBoxModel",
          "state": {
            "_dom_classes": [],
            "_model_module": "@jupyter-widgets/controls",
            "_model_module_version": "1.5.0",
            "_model_name": "HBoxModel",
            "_view_count": null,
            "_view_module": "@jupyter-widgets/controls",
            "_view_module_version": "1.5.0",
            "_view_name": "HBoxView",
            "box_style": "",
            "children": [
              "IPY_MODEL_743c110711e5446795d9143bafbc20a5",
              "IPY_MODEL_6567ce9a4f2a4554abbc10b2efa466f2",
              "IPY_MODEL_03cb987b92a44407bc37c5c13c0e5b37"
            ],
            "layout": "IPY_MODEL_b1d3b5a634e7459193ee9cc78a0d0bc8"
          }
        },
        "1f0f0218a59e4120a694367278641957": {
          "model_module": "@jupyter-widgets/controls",
          "model_module_version": "1.5.0",
          "model_name": "DescriptionStyleModel",
          "state": {
            "_model_module": "@jupyter-widgets/controls",
            "_model_module_version": "1.5.0",
            "_model_name": "DescriptionStyleModel",
            "_view_count": null,
            "_view_module": "@jupyter-widgets/base",
            "_view_module_version": "1.2.0",
            "_view_name": "StyleView",
            "description_width": ""
          }
        },
        "29c4e9cc30a44c5db9290885b6c26887": {
          "model_module": "@jupyter-widgets/base",
          "model_module_version": "1.2.0",
          "model_name": "LayoutModel",
          "state": {
            "_model_module": "@jupyter-widgets/base",
            "_model_module_version": "1.2.0",
            "_model_name": "LayoutModel",
            "_view_count": null,
            "_view_module": "@jupyter-widgets/base",
            "_view_module_version": "1.2.0",
            "_view_name": "LayoutView",
            "align_content": null,
            "align_items": null,
            "align_self": null,
            "border": null,
            "bottom": null,
            "display": null,
            "flex": null,
            "flex_flow": null,
            "grid_area": null,
            "grid_auto_columns": null,
            "grid_auto_flow": null,
            "grid_auto_rows": null,
            "grid_column": null,
            "grid_gap": null,
            "grid_row": null,
            "grid_template_areas": null,
            "grid_template_columns": null,
            "grid_template_rows": null,
            "height": null,
            "justify_content": null,
            "justify_items": null,
            "left": null,
            "margin": null,
            "max_height": null,
            "max_width": null,
            "min_height": null,
            "min_width": null,
            "object_fit": null,
            "object_position": null,
            "order": null,
            "overflow": null,
            "overflow_x": null,
            "overflow_y": null,
            "padding": null,
            "right": null,
            "top": null,
            "visibility": null,
            "width": null
          }
        },
        "2e3542a763c9406cbe7230541ab59011": {
          "model_module": "@jupyter-widgets/controls",
          "model_module_version": "1.5.0",
          "model_name": "ProgressStyleModel",
          "state": {
            "_model_module": "@jupyter-widgets/controls",
            "_model_module_version": "1.5.0",
            "_model_name": "ProgressStyleModel",
            "_view_count": null,
            "_view_module": "@jupyter-widgets/base",
            "_view_module_version": "1.2.0",
            "_view_name": "StyleView",
            "bar_color": null,
            "description_width": ""
          }
        },
        "370601922e324a478b290ca8127bd7d8": {
          "model_module": "@jupyter-widgets/controls",
          "model_module_version": "1.5.0",
          "model_name": "FloatProgressModel",
          "state": {
            "_dom_classes": [],
            "_model_module": "@jupyter-widgets/controls",
            "_model_module_version": "1.5.0",
            "_model_name": "FloatProgressModel",
            "_view_count": null,
            "_view_module": "@jupyter-widgets/controls",
            "_view_module_version": "1.5.0",
            "_view_name": "ProgressView",
            "bar_style": "success",
            "description": "",
            "description_tooltip": null,
            "layout": "IPY_MODEL_bc843f8d8f2545dbb56f6591abec1755",
            "max": 4,
            "min": 0,
            "orientation": "horizontal",
            "style": "IPY_MODEL_3af95f32b2bd475ba20664c3a60e9885",
            "value": 4
          }
        },
        "3907f44ed85643a5815ab7e734cacb24": {
          "model_module": "@jupyter-widgets/controls",
          "model_module_version": "1.5.0",
          "model_name": "DescriptionStyleModel",
          "state": {
            "_model_module": "@jupyter-widgets/controls",
            "_model_module_version": "1.5.0",
            "_model_name": "DescriptionStyleModel",
            "_view_count": null,
            "_view_module": "@jupyter-widgets/base",
            "_view_module_version": "1.2.0",
            "_view_name": "StyleView",
            "description_width": ""
          }
        },
        "3af95f32b2bd475ba20664c3a60e9885": {
          "model_module": "@jupyter-widgets/controls",
          "model_module_version": "1.5.0",
          "model_name": "ProgressStyleModel",
          "state": {
            "_model_module": "@jupyter-widgets/controls",
            "_model_module_version": "1.5.0",
            "_model_name": "ProgressStyleModel",
            "_view_count": null,
            "_view_module": "@jupyter-widgets/base",
            "_view_module_version": "1.2.0",
            "_view_name": "StyleView",
            "bar_color": null,
            "description_width": ""
          }
        },
        "3c98d15fb6f0466c897831460acd0e61": {
          "model_module": "@jupyter-widgets/base",
          "model_module_version": "1.2.0",
          "model_name": "LayoutModel",
          "state": {
            "_model_module": "@jupyter-widgets/base",
            "_model_module_version": "1.2.0",
            "_model_name": "LayoutModel",
            "_view_count": null,
            "_view_module": "@jupyter-widgets/base",
            "_view_module_version": "1.2.0",
            "_view_name": "LayoutView",
            "align_content": null,
            "align_items": null,
            "align_self": null,
            "border": null,
            "bottom": null,
            "display": null,
            "flex": null,
            "flex_flow": null,
            "grid_area": null,
            "grid_auto_columns": null,
            "grid_auto_flow": null,
            "grid_auto_rows": null,
            "grid_column": null,
            "grid_gap": null,
            "grid_row": null,
            "grid_template_areas": null,
            "grid_template_columns": null,
            "grid_template_rows": null,
            "height": null,
            "justify_content": null,
            "justify_items": null,
            "left": null,
            "margin": null,
            "max_height": null,
            "max_width": null,
            "min_height": null,
            "min_width": null,
            "object_fit": null,
            "object_position": null,
            "order": null,
            "overflow": null,
            "overflow_x": null,
            "overflow_y": null,
            "padding": null,
            "right": null,
            "top": null,
            "visibility": null,
            "width": null
          }
        },
        "3d768b1b5e9f4890893c295d12bb2c6e": {
          "model_module": "@jupyter-widgets/controls",
          "model_module_version": "1.5.0",
          "model_name": "HBoxModel",
          "state": {
            "_dom_classes": [],
            "_model_module": "@jupyter-widgets/controls",
            "_model_module_version": "1.5.0",
            "_model_name": "HBoxModel",
            "_view_count": null,
            "_view_module": "@jupyter-widgets/controls",
            "_view_module_version": "1.5.0",
            "_view_name": "HBoxView",
            "box_style": "",
            "children": [
              "IPY_MODEL_3e92cd46385f48569e9fe9e33f1789ac",
              "IPY_MODEL_60abd0d2c8be4d889eba62db9a24b1c9",
              "IPY_MODEL_435fe7d78eac41c699f709c1cd69ff8c"
            ],
            "layout": "IPY_MODEL_baca2bc2c0c442419356fcb410ec511b"
          }
        },
        "3e92cd46385f48569e9fe9e33f1789ac": {
          "model_module": "@jupyter-widgets/controls",
          "model_module_version": "1.5.0",
          "model_name": "HTMLModel",
          "state": {
            "_dom_classes": [],
            "_model_module": "@jupyter-widgets/controls",
            "_model_module_version": "1.5.0",
            "_model_name": "HTMLModel",
            "_view_count": null,
            "_view_module": "@jupyter-widgets/controls",
            "_view_module_version": "1.5.0",
            "_view_name": "HTMLView",
            "description": "",
            "description_tooltip": null,
            "layout": "IPY_MODEL_3c98d15fb6f0466c897831460acd0e61",
            "placeholder": "​",
            "style": "IPY_MODEL_1f0f0218a59e4120a694367278641957",
            "value": "Downloading (…)cial_tokens_map.json: 100%"
          }
        },
        "435fe7d78eac41c699f709c1cd69ff8c": {
          "model_module": "@jupyter-widgets/controls",
          "model_module_version": "1.5.0",
          "model_name": "HTMLModel",
          "state": {
            "_dom_classes": [],
            "_model_module": "@jupyter-widgets/controls",
            "_model_module_version": "1.5.0",
            "_model_name": "HTMLModel",
            "_view_count": null,
            "_view_module": "@jupyter-widgets/controls",
            "_view_module_version": "1.5.0",
            "_view_name": "HTMLView",
            "description": "",
            "description_tooltip": null,
            "layout": "IPY_MODEL_05f64a804b994ac3b36e36b9d3781895",
            "placeholder": "​",
            "style": "IPY_MODEL_a9668b594b12492caa78a4928c4ce798",
            "value": " 112/112 [00:00&lt;00:00, 6.25kB/s]"
          }
        },
        "45c1872a424a468f946cfc7c7754cb93": {
          "model_module": "@jupyter-widgets/base",
          "model_module_version": "1.2.0",
          "model_name": "LayoutModel",
          "state": {
            "_model_module": "@jupyter-widgets/base",
            "_model_module_version": "1.2.0",
            "_model_name": "LayoutModel",
            "_view_count": null,
            "_view_module": "@jupyter-widgets/base",
            "_view_module_version": "1.2.0",
            "_view_name": "LayoutView",
            "align_content": null,
            "align_items": null,
            "align_self": null,
            "border": null,
            "bottom": null,
            "display": null,
            "flex": null,
            "flex_flow": null,
            "grid_area": null,
            "grid_auto_columns": null,
            "grid_auto_flow": null,
            "grid_auto_rows": null,
            "grid_column": null,
            "grid_gap": null,
            "grid_row": null,
            "grid_template_areas": null,
            "grid_template_columns": null,
            "grid_template_rows": null,
            "height": null,
            "justify_content": null,
            "justify_items": null,
            "left": null,
            "margin": null,
            "max_height": null,
            "max_width": null,
            "min_height": null,
            "min_width": null,
            "object_fit": null,
            "object_position": null,
            "order": null,
            "overflow": null,
            "overflow_x": null,
            "overflow_y": null,
            "padding": null,
            "right": null,
            "top": null,
            "visibility": null,
            "width": null
          }
        },
        "4d376a4f663a4b8aba12c7666329e1e4": {
          "model_module": "@jupyter-widgets/controls",
          "model_module_version": "1.5.0",
          "model_name": "FloatProgressModel",
          "state": {
            "_dom_classes": [],
            "_model_module": "@jupyter-widgets/controls",
            "_model_module_version": "1.5.0",
            "_model_name": "FloatProgressModel",
            "_view_count": null,
            "_view_module": "@jupyter-widgets/controls",
            "_view_module_version": "1.5.0",
            "_view_name": "ProgressView",
            "bar_style": "",
            "description": "",
            "description_tooltip": null,
            "layout": "IPY_MODEL_59334980f3e14b899fae6cd89927d1b1",
            "max": 548,
            "min": 0,
            "orientation": "horizontal",
            "style": "IPY_MODEL_7636335d14284c7ab84c65485b98bbb1",
            "value": 548
          }
        },
        "4da2e5b87cd6406a8ade585c62c95cb8": {
          "model_module": "@jupyter-widgets/controls",
          "model_module_version": "1.5.0",
          "model_name": "DescriptionStyleModel",
          "state": {
            "_model_module": "@jupyter-widgets/controls",
            "_model_module_version": "1.5.0",
            "_model_name": "DescriptionStyleModel",
            "_view_count": null,
            "_view_module": "@jupyter-widgets/base",
            "_view_module_version": "1.2.0",
            "_view_name": "StyleView",
            "description_width": ""
          }
        },
        "5104b42d6afb400a8fe37f7f5afd3b5f": {
          "model_module": "@jupyter-widgets/base",
          "model_module_version": "1.2.0",
          "model_name": "LayoutModel",
          "state": {
            "_model_module": "@jupyter-widgets/base",
            "_model_module_version": "1.2.0",
            "_model_name": "LayoutModel",
            "_view_count": null,
            "_view_module": "@jupyter-widgets/base",
            "_view_module_version": "1.2.0",
            "_view_name": "LayoutView",
            "align_content": null,
            "align_items": null,
            "align_self": null,
            "border": null,
            "bottom": null,
            "display": null,
            "flex": null,
            "flex_flow": null,
            "grid_area": null,
            "grid_auto_columns": null,
            "grid_auto_flow": null,
            "grid_auto_rows": null,
            "grid_column": null,
            "grid_gap": null,
            "grid_row": null,
            "grid_template_areas": null,
            "grid_template_columns": null,
            "grid_template_rows": null,
            "height": null,
            "justify_content": null,
            "justify_items": null,
            "left": null,
            "margin": null,
            "max_height": null,
            "max_width": null,
            "min_height": null,
            "min_width": null,
            "object_fit": null,
            "object_position": null,
            "order": null,
            "overflow": null,
            "overflow_x": null,
            "overflow_y": null,
            "padding": null,
            "right": null,
            "top": null,
            "visibility": null,
            "width": null
          }
        },
        "5397e65dd85c4686ba0a88ad5140228c": {
          "model_module": "@jupyter-widgets/controls",
          "model_module_version": "1.5.0",
          "model_name": "DescriptionStyleModel",
          "state": {
            "_model_module": "@jupyter-widgets/controls",
            "_model_module_version": "1.5.0",
            "_model_name": "DescriptionStyleModel",
            "_view_count": null,
            "_view_module": "@jupyter-widgets/base",
            "_view_module_version": "1.2.0",
            "_view_name": "StyleView",
            "description_width": ""
          }
        },
        "551a34ffc2eb4bcda40253635c42517d": {
          "model_module": "@jupyter-widgets/controls",
          "model_module_version": "1.5.0",
          "model_name": "ProgressStyleModel",
          "state": {
            "_model_module": "@jupyter-widgets/controls",
            "_model_module_version": "1.5.0",
            "_model_name": "ProgressStyleModel",
            "_view_count": null,
            "_view_module": "@jupyter-widgets/base",
            "_view_module_version": "1.2.0",
            "_view_name": "StyleView",
            "bar_color": null,
            "description_width": ""
          }
        },
        "59334980f3e14b899fae6cd89927d1b1": {
          "model_module": "@jupyter-widgets/base",
          "model_module_version": "1.2.0",
          "model_name": "LayoutModel",
          "state": {
            "_model_module": "@jupyter-widgets/base",
            "_model_module_version": "1.2.0",
            "_model_name": "LayoutModel",
            "_view_count": null,
            "_view_module": "@jupyter-widgets/base",
            "_view_module_version": "1.2.0",
            "_view_name": "LayoutView",
            "align_content": null,
            "align_items": null,
            "align_self": null,
            "border": null,
            "bottom": null,
            "display": null,
            "flex": null,
            "flex_flow": null,
            "grid_area": null,
            "grid_auto_columns": null,
            "grid_auto_flow": null,
            "grid_auto_rows": null,
            "grid_column": null,
            "grid_gap": null,
            "grid_row": null,
            "grid_template_areas": null,
            "grid_template_columns": null,
            "grid_template_rows": null,
            "height": null,
            "justify_content": null,
            "justify_items": null,
            "left": null,
            "margin": null,
            "max_height": null,
            "max_width": null,
            "min_height": null,
            "min_width": null,
            "object_fit": null,
            "object_position": null,
            "order": null,
            "overflow": null,
            "overflow_x": null,
            "overflow_y": null,
            "padding": null,
            "right": null,
            "top": null,
            "visibility": null,
            "width": null
          }
        },
        "5c89b4a575804813a8f47cac397620d8": {
          "model_module": "@jupyter-widgets/controls",
          "model_module_version": "1.5.0",
          "model_name": "FloatProgressModel",
          "state": {
            "_dom_classes": [],
            "_model_module": "@jupyter-widgets/controls",
            "_model_module_version": "1.5.0",
            "_model_name": "FloatProgressModel",
            "_view_count": null,
            "_view_module": "@jupyter-widgets/controls",
            "_view_module_version": "1.5.0",
            "_view_name": "ProgressView",
            "bar_style": "success",
            "description": "",
            "description_tooltip": null,
            "layout": "IPY_MODEL_832067b58f364d40b747b5e7757969cc",
            "max": 682152,
            "min": 0,
            "orientation": "horizontal",
            "style": "IPY_MODEL_2e3542a763c9406cbe7230541ab59011",
            "value": 682152
          }
        },
        "60abd0d2c8be4d889eba62db9a24b1c9": {
          "model_module": "@jupyter-widgets/controls",
          "model_module_version": "1.5.0",
          "model_name": "FloatProgressModel",
          "state": {
            "_dom_classes": [],
            "_model_module": "@jupyter-widgets/controls",
            "_model_module_version": "1.5.0",
            "_model_name": "FloatProgressModel",
            "_view_count": null,
            "_view_module": "@jupyter-widgets/controls",
            "_view_module_version": "1.5.0",
            "_view_name": "ProgressView",
            "bar_style": "success",
            "description": "",
            "description_tooltip": null,
            "layout": "IPY_MODEL_ffe30c74c9954ba1b48934d681a8e208",
            "max": 112,
            "min": 0,
            "orientation": "horizontal",
            "style": "IPY_MODEL_79ea97ac277b448cb492f62a648bc070",
            "value": 112
          }
        },
        "62e6ff101f134e4e8bd284cfe0282b93": {
          "model_module": "@jupyter-widgets/base",
          "model_module_version": "1.2.0",
          "model_name": "LayoutModel",
          "state": {
            "_model_module": "@jupyter-widgets/base",
            "_model_module_version": "1.2.0",
            "_model_name": "LayoutModel",
            "_view_count": null,
            "_view_module": "@jupyter-widgets/base",
            "_view_module_version": "1.2.0",
            "_view_name": "LayoutView",
            "align_content": null,
            "align_items": null,
            "align_self": null,
            "border": null,
            "bottom": null,
            "display": null,
            "flex": null,
            "flex_flow": null,
            "grid_area": null,
            "grid_auto_columns": null,
            "grid_auto_flow": null,
            "grid_auto_rows": null,
            "grid_column": null,
            "grid_gap": null,
            "grid_row": null,
            "grid_template_areas": null,
            "grid_template_columns": null,
            "grid_template_rows": null,
            "height": null,
            "justify_content": null,
            "justify_items": null,
            "left": null,
            "margin": null,
            "max_height": null,
            "max_width": null,
            "min_height": null,
            "min_width": null,
            "object_fit": null,
            "object_position": null,
            "order": null,
            "overflow": null,
            "overflow_x": null,
            "overflow_y": null,
            "padding": null,
            "right": null,
            "top": null,
            "visibility": null,
            "width": null
          }
        },
        "6414b7482f644a85bfa3d729848de8ea": {
          "model_module": "@jupyter-widgets/controls",
          "model_module_version": "1.5.0",
          "model_name": "FloatProgressModel",
          "state": {
            "_dom_classes": [],
            "_model_module": "@jupyter-widgets/controls",
            "_model_module_version": "1.5.0",
            "_model_name": "FloatProgressModel",
            "_view_count": null,
            "_view_module": "@jupyter-widgets/controls",
            "_view_module_version": "1.5.0",
            "_view_name": "ProgressView",
            "bar_style": "",
            "description": "",
            "description_tooltip": null,
            "layout": "IPY_MODEL_62e6ff101f134e4e8bd284cfe0282b93",
            "max": 2192,
            "min": 0,
            "orientation": "horizontal",
            "style": "IPY_MODEL_baac88c66fa04c83a238a2929c4d20cf",
            "value": 2192
          }
        },
        "6567ce9a4f2a4554abbc10b2efa466f2": {
          "model_module": "@jupyter-widgets/controls",
          "model_module_version": "1.5.0",
          "model_name": "FloatProgressModel",
          "state": {
            "_dom_classes": [],
            "_model_module": "@jupyter-widgets/controls",
            "_model_module_version": "1.5.0",
            "_model_name": "FloatProgressModel",
            "_view_count": null,
            "_view_module": "@jupyter-widgets/controls",
            "_view_module_version": "1.5.0",
            "_view_name": "ProgressView",
            "bar_style": "success",
            "description": "",
            "description_tooltip": null,
            "layout": "IPY_MODEL_0ed5531a31d84fc3aa36e6f42b74f245",
            "max": 495536138,
            "min": 0,
            "orientation": "horizontal",
            "style": "IPY_MODEL_551a34ffc2eb4bcda40253635c42517d",
            "value": 495536138
          }
        },
        "657b4723ce83450e8ab24d51d23bf246": {
          "model_module": "@jupyter-widgets/controls",
          "model_module_version": "1.5.0",
          "model_name": "DescriptionStyleModel",
          "state": {
            "_model_module": "@jupyter-widgets/controls",
            "_model_module_version": "1.5.0",
            "_model_name": "DescriptionStyleModel",
            "_view_count": null,
            "_view_module": "@jupyter-widgets/base",
            "_view_module_version": "1.2.0",
            "_view_name": "StyleView",
            "description_width": ""
          }
        },
        "663ed79b911744f29cf4f2b641601560": {
          "model_module": "@jupyter-widgets/controls",
          "model_module_version": "1.5.0",
          "model_name": "DescriptionStyleModel",
          "state": {
            "_model_module": "@jupyter-widgets/controls",
            "_model_module_version": "1.5.0",
            "_model_name": "DescriptionStyleModel",
            "_view_count": null,
            "_view_module": "@jupyter-widgets/base",
            "_view_module_version": "1.2.0",
            "_view_name": "StyleView",
            "description_width": ""
          }
        },
        "665965d956a742d5886c6acc626e00a0": {
          "model_module": "@jupyter-widgets/controls",
          "model_module_version": "1.5.0",
          "model_name": "FloatProgressModel",
          "state": {
            "_dom_classes": [],
            "_model_module": "@jupyter-widgets/controls",
            "_model_module_version": "1.5.0",
            "_model_name": "FloatProgressModel",
            "_view_count": null,
            "_view_module": "@jupyter-widgets/controls",
            "_view_module_version": "1.5.0",
            "_view_name": "ProgressView",
            "bar_style": "success",
            "description": "",
            "description_tooltip": null,
            "layout": "IPY_MODEL_d61ffcb60ce347f88500727bbdf2afa1",
            "max": 1361,
            "min": 0,
            "orientation": "horizontal",
            "style": "IPY_MODEL_1122acd26a584d1e80ae8118d9a2ec90",
            "value": 1361
          }
        },
        "67b1355c5c3d42829efcd196da7ce90d": {
          "model_module": "@jupyter-widgets/base",
          "model_module_version": "1.2.0",
          "model_name": "LayoutModel",
          "state": {
            "_model_module": "@jupyter-widgets/base",
            "_model_module_version": "1.2.0",
            "_model_name": "LayoutModel",
            "_view_count": null,
            "_view_module": "@jupyter-widgets/base",
            "_view_module_version": "1.2.0",
            "_view_name": "LayoutView",
            "align_content": null,
            "align_items": null,
            "align_self": null,
            "border": null,
            "bottom": null,
            "display": null,
            "flex": null,
            "flex_flow": null,
            "grid_area": null,
            "grid_auto_columns": null,
            "grid_auto_flow": null,
            "grid_auto_rows": null,
            "grid_column": null,
            "grid_gap": null,
            "grid_row": null,
            "grid_template_areas": null,
            "grid_template_columns": null,
            "grid_template_rows": null,
            "height": null,
            "justify_content": null,
            "justify_items": null,
            "left": null,
            "margin": null,
            "max_height": null,
            "max_width": null,
            "min_height": null,
            "min_width": null,
            "object_fit": null,
            "object_position": null,
            "order": null,
            "overflow": null,
            "overflow_x": null,
            "overflow_y": null,
            "padding": null,
            "right": null,
            "top": null,
            "visibility": null,
            "width": null
          }
        },
        "6b3859d442bc4f1c9a9fdcbcb968e491": {
          "model_module": "@jupyter-widgets/controls",
          "model_module_version": "1.5.0",
          "model_name": "DescriptionStyleModel",
          "state": {
            "_model_module": "@jupyter-widgets/controls",
            "_model_module_version": "1.5.0",
            "_model_name": "DescriptionStyleModel",
            "_view_count": null,
            "_view_module": "@jupyter-widgets/base",
            "_view_module_version": "1.2.0",
            "_view_name": "StyleView",
            "description_width": ""
          }
        },
        "6f506a24948d4d5da2dc4e7e07503bcd": {
          "model_module": "@jupyter-widgets/controls",
          "model_module_version": "1.5.0",
          "model_name": "DescriptionStyleModel",
          "state": {
            "_model_module": "@jupyter-widgets/controls",
            "_model_module_version": "1.5.0",
            "_model_name": "DescriptionStyleModel",
            "_view_count": null,
            "_view_module": "@jupyter-widgets/base",
            "_view_module_version": "1.2.0",
            "_view_name": "StyleView",
            "description_width": ""
          }
        },
        "6f9f1c61c4bc4d23acf5ede7fa09ff85": {
          "model_module": "@jupyter-widgets/controls",
          "model_module_version": "1.5.0",
          "model_name": "HTMLModel",
          "state": {
            "_dom_classes": [],
            "_model_module": "@jupyter-widgets/controls",
            "_model_module_version": "1.5.0",
            "_model_name": "HTMLModel",
            "_view_count": null,
            "_view_module": "@jupyter-widgets/controls",
            "_view_module_version": "1.5.0",
            "_view_name": "HTMLView",
            "description": "",
            "description_tooltip": null,
            "layout": "IPY_MODEL_7c33b8cf63fd429e9281c723df85b7ad",
            "placeholder": "​",
            "style": "IPY_MODEL_c846b9d5b6dd4c69bc988937bad14f7b",
            "value": " 4.00/4.00 [00:00&lt;00:00, 113B/s]"
          }
        },
        "71e3739f61d2426ab8aa0763a0903ad6": {
          "model_module": "@jupyter-widgets/base",
          "model_module_version": "1.2.0",
          "model_name": "LayoutModel",
          "state": {
            "_model_module": "@jupyter-widgets/base",
            "_model_module_version": "1.2.0",
            "_model_name": "LayoutModel",
            "_view_count": null,
            "_view_module": "@jupyter-widgets/base",
            "_view_module_version": "1.2.0",
            "_view_name": "LayoutView",
            "align_content": null,
            "align_items": null,
            "align_self": null,
            "border": null,
            "bottom": null,
            "display": null,
            "flex": null,
            "flex_flow": null,
            "grid_area": null,
            "grid_auto_columns": null,
            "grid_auto_flow": null,
            "grid_auto_rows": null,
            "grid_column": null,
            "grid_gap": null,
            "grid_row": null,
            "grid_template_areas": null,
            "grid_template_columns": null,
            "grid_template_rows": null,
            "height": null,
            "justify_content": null,
            "justify_items": null,
            "left": null,
            "margin": null,
            "max_height": null,
            "max_width": null,
            "min_height": null,
            "min_width": null,
            "object_fit": null,
            "object_position": null,
            "order": null,
            "overflow": null,
            "overflow_x": null,
            "overflow_y": null,
            "padding": null,
            "right": null,
            "top": null,
            "visibility": null,
            "width": null
          }
        },
        "743c110711e5446795d9143bafbc20a5": {
          "model_module": "@jupyter-widgets/controls",
          "model_module_version": "1.5.0",
          "model_name": "HTMLModel",
          "state": {
            "_dom_classes": [],
            "_model_module": "@jupyter-widgets/controls",
            "_model_module_version": "1.5.0",
            "_model_name": "HTMLModel",
            "_view_count": null,
            "_view_module": "@jupyter-widgets/controls",
            "_view_module_version": "1.5.0",
            "_view_name": "HTMLView",
            "description": "",
            "description_tooltip": null,
            "layout": "IPY_MODEL_7929d7f0fc964fd6ad9eeeea997683d9",
            "placeholder": "​",
            "style": "IPY_MODEL_83bf4e12752a479d82c6e08e13490b83",
            "value": "Downloading pytorch_model.bin: 100%"
          }
        },
        "7636335d14284c7ab84c65485b98bbb1": {
          "model_module": "@jupyter-widgets/controls",
          "model_module_version": "1.5.0",
          "model_name": "ProgressStyleModel",
          "state": {
            "_model_module": "@jupyter-widgets/controls",
            "_model_module_version": "1.5.0",
            "_model_name": "ProgressStyleModel",
            "_view_count": null,
            "_view_module": "@jupyter-widgets/base",
            "_view_module_version": "1.2.0",
            "_view_name": "StyleView",
            "bar_color": null,
            "description_width": ""
          }
        },
        "7929d7f0fc964fd6ad9eeeea997683d9": {
          "model_module": "@jupyter-widgets/base",
          "model_module_version": "1.2.0",
          "model_name": "LayoutModel",
          "state": {
            "_model_module": "@jupyter-widgets/base",
            "_model_module_version": "1.2.0",
            "_model_name": "LayoutModel",
            "_view_count": null,
            "_view_module": "@jupyter-widgets/base",
            "_view_module_version": "1.2.0",
            "_view_name": "LayoutView",
            "align_content": null,
            "align_items": null,
            "align_self": null,
            "border": null,
            "bottom": null,
            "display": null,
            "flex": null,
            "flex_flow": null,
            "grid_area": null,
            "grid_auto_columns": null,
            "grid_auto_flow": null,
            "grid_auto_rows": null,
            "grid_column": null,
            "grid_gap": null,
            "grid_row": null,
            "grid_template_areas": null,
            "grid_template_columns": null,
            "grid_template_rows": null,
            "height": null,
            "justify_content": null,
            "justify_items": null,
            "left": null,
            "margin": null,
            "max_height": null,
            "max_width": null,
            "min_height": null,
            "min_width": null,
            "object_fit": null,
            "object_position": null,
            "order": null,
            "overflow": null,
            "overflow_x": null,
            "overflow_y": null,
            "padding": null,
            "right": null,
            "top": null,
            "visibility": null,
            "width": null
          }
        },
        "79ea97ac277b448cb492f62a648bc070": {
          "model_module": "@jupyter-widgets/controls",
          "model_module_version": "1.5.0",
          "model_name": "ProgressStyleModel",
          "state": {
            "_model_module": "@jupyter-widgets/controls",
            "_model_module_version": "1.5.0",
            "_model_name": "ProgressStyleModel",
            "_view_count": null,
            "_view_module": "@jupyter-widgets/base",
            "_view_module_version": "1.2.0",
            "_view_name": "StyleView",
            "bar_color": null,
            "description_width": ""
          }
        },
        "7c33b8cf63fd429e9281c723df85b7ad": {
          "model_module": "@jupyter-widgets/base",
          "model_module_version": "1.2.0",
          "model_name": "LayoutModel",
          "state": {
            "_model_module": "@jupyter-widgets/base",
            "_model_module_version": "1.2.0",
            "_model_name": "LayoutModel",
            "_view_count": null,
            "_view_module": "@jupyter-widgets/base",
            "_view_module_version": "1.2.0",
            "_view_name": "LayoutView",
            "align_content": null,
            "align_items": null,
            "align_self": null,
            "border": null,
            "bottom": null,
            "display": null,
            "flex": null,
            "flex_flow": null,
            "grid_area": null,
            "grid_auto_columns": null,
            "grid_auto_flow": null,
            "grid_auto_rows": null,
            "grid_column": null,
            "grid_gap": null,
            "grid_row": null,
            "grid_template_areas": null,
            "grid_template_columns": null,
            "grid_template_rows": null,
            "height": null,
            "justify_content": null,
            "justify_items": null,
            "left": null,
            "margin": null,
            "max_height": null,
            "max_width": null,
            "min_height": null,
            "min_width": null,
            "object_fit": null,
            "object_position": null,
            "order": null,
            "overflow": null,
            "overflow_x": null,
            "overflow_y": null,
            "padding": null,
            "right": null,
            "top": null,
            "visibility": null,
            "width": null
          }
        },
        "81040e6ac7ea41a9a5fedf8aae637b73": {
          "model_module": "@jupyter-widgets/controls",
          "model_module_version": "1.5.0",
          "model_name": "HBoxModel",
          "state": {
            "_dom_classes": [],
            "_model_module": "@jupyter-widgets/controls",
            "_model_module_version": "1.5.0",
            "_model_name": "HBoxModel",
            "_view_count": null,
            "_view_module": "@jupyter-widgets/controls",
            "_view_module_version": "1.5.0",
            "_view_name": "HBoxView",
            "box_style": "",
            "children": [
              "IPY_MODEL_e99dae062ca94beeb565210897d51bcd",
              "IPY_MODEL_5c89b4a575804813a8f47cac397620d8",
              "IPY_MODEL_d5499daf648e43629c9e511c183ff4ac"
            ],
            "layout": "IPY_MODEL_d4a19b42220340c884ff2c1cbf789bf3"
          }
        },
        "832067b58f364d40b747b5e7757969cc": {
          "model_module": "@jupyter-widgets/base",
          "model_module_version": "1.2.0",
          "model_name": "LayoutModel",
          "state": {
            "_model_module": "@jupyter-widgets/base",
            "_model_module_version": "1.2.0",
            "_model_name": "LayoutModel",
            "_view_count": null,
            "_view_module": "@jupyter-widgets/base",
            "_view_module_version": "1.2.0",
            "_view_name": "LayoutView",
            "align_content": null,
            "align_items": null,
            "align_self": null,
            "border": null,
            "bottom": null,
            "display": null,
            "flex": null,
            "flex_flow": null,
            "grid_area": null,
            "grid_auto_columns": null,
            "grid_auto_flow": null,
            "grid_auto_rows": null,
            "grid_column": null,
            "grid_gap": null,
            "grid_row": null,
            "grid_template_areas": null,
            "grid_template_columns": null,
            "grid_template_rows": null,
            "height": null,
            "justify_content": null,
            "justify_items": null,
            "left": null,
            "margin": null,
            "max_height": null,
            "max_width": null,
            "min_height": null,
            "min_width": null,
            "object_fit": null,
            "object_position": null,
            "order": null,
            "overflow": null,
            "overflow_x": null,
            "overflow_y": null,
            "padding": null,
            "right": null,
            "top": null,
            "visibility": null,
            "width": null
          }
        },
        "83bf4e12752a479d82c6e08e13490b83": {
          "model_module": "@jupyter-widgets/controls",
          "model_module_version": "1.5.0",
          "model_name": "DescriptionStyleModel",
          "state": {
            "_model_module": "@jupyter-widgets/controls",
            "_model_module_version": "1.5.0",
            "_model_name": "DescriptionStyleModel",
            "_view_count": null,
            "_view_module": "@jupyter-widgets/base",
            "_view_module_version": "1.2.0",
            "_view_name": "StyleView",
            "description_width": ""
          }
        },
        "89116f6ed5564ccd9f770312360b00d3": {
          "model_module": "@jupyter-widgets/controls",
          "model_module_version": "1.5.0",
          "model_name": "HTMLModel",
          "state": {
            "_dom_classes": [],
            "_model_module": "@jupyter-widgets/controls",
            "_model_module_version": "1.5.0",
            "_model_name": "HTMLModel",
            "_view_count": null,
            "_view_module": "@jupyter-widgets/controls",
            "_view_module_version": "1.5.0",
            "_view_name": "HTMLView",
            "description": "",
            "description_tooltip": null,
            "layout": "IPY_MODEL_92e50d6e2b2341e29fb40c5ef85e979b",
            "placeholder": "​",
            "style": "IPY_MODEL_657b4723ce83450e8ab24d51d23bf246",
            "value": " 2192/2192 [00:02&lt;00:00, 856.16 examples/s]"
          }
        },
        "92e50d6e2b2341e29fb40c5ef85e979b": {
          "model_module": "@jupyter-widgets/base",
          "model_module_version": "1.2.0",
          "model_name": "LayoutModel",
          "state": {
            "_model_module": "@jupyter-widgets/base",
            "_model_module_version": "1.2.0",
            "_model_name": "LayoutModel",
            "_view_count": null,
            "_view_module": "@jupyter-widgets/base",
            "_view_module_version": "1.2.0",
            "_view_name": "LayoutView",
            "align_content": null,
            "align_items": null,
            "align_self": null,
            "border": null,
            "bottom": null,
            "display": null,
            "flex": null,
            "flex_flow": null,
            "grid_area": null,
            "grid_auto_columns": null,
            "grid_auto_flow": null,
            "grid_auto_rows": null,
            "grid_column": null,
            "grid_gap": null,
            "grid_row": null,
            "grid_template_areas": null,
            "grid_template_columns": null,
            "grid_template_rows": null,
            "height": null,
            "justify_content": null,
            "justify_items": null,
            "left": null,
            "margin": null,
            "max_height": null,
            "max_width": null,
            "min_height": null,
            "min_width": null,
            "object_fit": null,
            "object_position": null,
            "order": null,
            "overflow": null,
            "overflow_x": null,
            "overflow_y": null,
            "padding": null,
            "right": null,
            "top": null,
            "visibility": null,
            "width": null
          }
        },
        "9812f229a3f14f59af56560f0fd58421": {
          "model_module": "@jupyter-widgets/controls",
          "model_module_version": "1.5.0",
          "model_name": "DescriptionStyleModel",
          "state": {
            "_model_module": "@jupyter-widgets/controls",
            "_model_module_version": "1.5.0",
            "_model_name": "DescriptionStyleModel",
            "_view_count": null,
            "_view_module": "@jupyter-widgets/base",
            "_view_module_version": "1.2.0",
            "_view_name": "StyleView",
            "description_width": ""
          }
        },
        "a187691a3b424d238e250b22dad00ef6": {
          "model_module": "@jupyter-widgets/controls",
          "model_module_version": "1.5.0",
          "model_name": "DescriptionStyleModel",
          "state": {
            "_model_module": "@jupyter-widgets/controls",
            "_model_module_version": "1.5.0",
            "_model_name": "DescriptionStyleModel",
            "_view_count": null,
            "_view_module": "@jupyter-widgets/base",
            "_view_module_version": "1.2.0",
            "_view_name": "StyleView",
            "description_width": ""
          }
        },
        "a382705922e54040a036bf64337269e4": {
          "model_module": "@jupyter-widgets/controls",
          "model_module_version": "1.5.0",
          "model_name": "HBoxModel",
          "state": {
            "_dom_classes": [],
            "_model_module": "@jupyter-widgets/controls",
            "_model_module_version": "1.5.0",
            "_model_name": "HBoxModel",
            "_view_count": null,
            "_view_module": "@jupyter-widgets/controls",
            "_view_module_version": "1.5.0",
            "_view_name": "HBoxView",
            "box_style": "",
            "children": [
              "IPY_MODEL_c1b36a0fb90d46eea124d1a53af14188",
              "IPY_MODEL_4d376a4f663a4b8aba12c7666329e1e4",
              "IPY_MODEL_fe2dd82d87964059a7aa509381322eaf"
            ],
            "layout": "IPY_MODEL_b395d88a3aec43199d639ca56d7bc83c"
          }
        },
        "a9668b594b12492caa78a4928c4ce798": {
          "model_module": "@jupyter-widgets/controls",
          "model_module_version": "1.5.0",
          "model_name": "DescriptionStyleModel",
          "state": {
            "_model_module": "@jupyter-widgets/controls",
            "_model_module_version": "1.5.0",
            "_model_name": "DescriptionStyleModel",
            "_view_count": null,
            "_view_module": "@jupyter-widgets/base",
            "_view_module_version": "1.2.0",
            "_view_name": "StyleView",
            "description_width": ""
          }
        },
        "aa309395e7204c7385ed5a1e24e2c6e6": {
          "model_module": "@jupyter-widgets/controls",
          "model_module_version": "1.5.0",
          "model_name": "HTMLModel",
          "state": {
            "_dom_classes": [],
            "_model_module": "@jupyter-widgets/controls",
            "_model_module_version": "1.5.0",
            "_model_name": "HTMLModel",
            "_view_count": null,
            "_view_module": "@jupyter-widgets/controls",
            "_view_module_version": "1.5.0",
            "_view_name": "HTMLView",
            "description": "",
            "description_tooltip": null,
            "layout": "IPY_MODEL_c3ac6fa11e354b739c44aaf8b1141a94",
            "placeholder": "​",
            "style": "IPY_MODEL_4da2e5b87cd6406a8ade585c62c95cb8",
            "value": "Downloading (…)in/added_tokens.json: 100%"
          }
        },
        "b1d3b5a634e7459193ee9cc78a0d0bc8": {
          "model_module": "@jupyter-widgets/base",
          "model_module_version": "1.2.0",
          "model_name": "LayoutModel",
          "state": {
            "_model_module": "@jupyter-widgets/base",
            "_model_module_version": "1.2.0",
            "_model_name": "LayoutModel",
            "_view_count": null,
            "_view_module": "@jupyter-widgets/base",
            "_view_module_version": "1.2.0",
            "_view_name": "LayoutView",
            "align_content": null,
            "align_items": null,
            "align_self": null,
            "border": null,
            "bottom": null,
            "display": null,
            "flex": null,
            "flex_flow": null,
            "grid_area": null,
            "grid_auto_columns": null,
            "grid_auto_flow": null,
            "grid_auto_rows": null,
            "grid_column": null,
            "grid_gap": null,
            "grid_row": null,
            "grid_template_areas": null,
            "grid_template_columns": null,
            "grid_template_rows": null,
            "height": null,
            "justify_content": null,
            "justify_items": null,
            "left": null,
            "margin": null,
            "max_height": null,
            "max_width": null,
            "min_height": null,
            "min_width": null,
            "object_fit": null,
            "object_position": null,
            "order": null,
            "overflow": null,
            "overflow_x": null,
            "overflow_y": null,
            "padding": null,
            "right": null,
            "top": null,
            "visibility": null,
            "width": null
          }
        },
        "b395d88a3aec43199d639ca56d7bc83c": {
          "model_module": "@jupyter-widgets/base",
          "model_module_version": "1.2.0",
          "model_name": "LayoutModel",
          "state": {
            "_model_module": "@jupyter-widgets/base",
            "_model_module_version": "1.2.0",
            "_model_name": "LayoutModel",
            "_view_count": null,
            "_view_module": "@jupyter-widgets/base",
            "_view_module_version": "1.2.0",
            "_view_name": "LayoutView",
            "align_content": null,
            "align_items": null,
            "align_self": null,
            "border": null,
            "bottom": null,
            "display": null,
            "flex": null,
            "flex_flow": null,
            "grid_area": null,
            "grid_auto_columns": null,
            "grid_auto_flow": null,
            "grid_auto_rows": null,
            "grid_column": null,
            "grid_gap": null,
            "grid_row": null,
            "grid_template_areas": null,
            "grid_template_columns": null,
            "grid_template_rows": null,
            "height": null,
            "justify_content": null,
            "justify_items": null,
            "left": null,
            "margin": null,
            "max_height": null,
            "max_width": null,
            "min_height": null,
            "min_width": null,
            "object_fit": null,
            "object_position": null,
            "order": null,
            "overflow": null,
            "overflow_x": null,
            "overflow_y": null,
            "padding": null,
            "right": null,
            "top": null,
            "visibility": "hidden",
            "width": null
          }
        },
        "b65f2051bd8e497baf73eb24238963e7": {
          "model_module": "@jupyter-widgets/controls",
          "model_module_version": "1.5.0",
          "model_name": "HBoxModel",
          "state": {
            "_dom_classes": [],
            "_model_module": "@jupyter-widgets/controls",
            "_model_module_version": "1.5.0",
            "_model_name": "HBoxModel",
            "_view_count": null,
            "_view_module": "@jupyter-widgets/controls",
            "_view_module_version": "1.5.0",
            "_view_name": "HBoxView",
            "box_style": "",
            "children": [
              "IPY_MODEL_aa309395e7204c7385ed5a1e24e2c6e6",
              "IPY_MODEL_370601922e324a478b290ca8127bd7d8",
              "IPY_MODEL_6f9f1c61c4bc4d23acf5ede7fa09ff85"
            ],
            "layout": "IPY_MODEL_45c1872a424a468f946cfc7c7754cb93"
          }
        },
        "baac88c66fa04c83a238a2929c4d20cf": {
          "model_module": "@jupyter-widgets/controls",
          "model_module_version": "1.5.0",
          "model_name": "ProgressStyleModel",
          "state": {
            "_model_module": "@jupyter-widgets/controls",
            "_model_module_version": "1.5.0",
            "_model_name": "ProgressStyleModel",
            "_view_count": null,
            "_view_module": "@jupyter-widgets/base",
            "_view_module_version": "1.2.0",
            "_view_name": "StyleView",
            "bar_color": null,
            "description_width": ""
          }
        },
        "baca2bc2c0c442419356fcb410ec511b": {
          "model_module": "@jupyter-widgets/base",
          "model_module_version": "1.2.0",
          "model_name": "LayoutModel",
          "state": {
            "_model_module": "@jupyter-widgets/base",
            "_model_module_version": "1.2.0",
            "_model_name": "LayoutModel",
            "_view_count": null,
            "_view_module": "@jupyter-widgets/base",
            "_view_module_version": "1.2.0",
            "_view_name": "LayoutView",
            "align_content": null,
            "align_items": null,
            "align_self": null,
            "border": null,
            "bottom": null,
            "display": null,
            "flex": null,
            "flex_flow": null,
            "grid_area": null,
            "grid_auto_columns": null,
            "grid_auto_flow": null,
            "grid_auto_rows": null,
            "grid_column": null,
            "grid_gap": null,
            "grid_row": null,
            "grid_template_areas": null,
            "grid_template_columns": null,
            "grid_template_rows": null,
            "height": null,
            "justify_content": null,
            "justify_items": null,
            "left": null,
            "margin": null,
            "max_height": null,
            "max_width": null,
            "min_height": null,
            "min_width": null,
            "object_fit": null,
            "object_position": null,
            "order": null,
            "overflow": null,
            "overflow_x": null,
            "overflow_y": null,
            "padding": null,
            "right": null,
            "top": null,
            "visibility": null,
            "width": null
          }
        },
        "bc843f8d8f2545dbb56f6591abec1755": {
          "model_module": "@jupyter-widgets/base",
          "model_module_version": "1.2.0",
          "model_name": "LayoutModel",
          "state": {
            "_model_module": "@jupyter-widgets/base",
            "_model_module_version": "1.2.0",
            "_model_name": "LayoutModel",
            "_view_count": null,
            "_view_module": "@jupyter-widgets/base",
            "_view_module_version": "1.2.0",
            "_view_name": "LayoutView",
            "align_content": null,
            "align_items": null,
            "align_self": null,
            "border": null,
            "bottom": null,
            "display": null,
            "flex": null,
            "flex_flow": null,
            "grid_area": null,
            "grid_auto_columns": null,
            "grid_auto_flow": null,
            "grid_auto_rows": null,
            "grid_column": null,
            "grid_gap": null,
            "grid_row": null,
            "grid_template_areas": null,
            "grid_template_columns": null,
            "grid_template_rows": null,
            "height": null,
            "justify_content": null,
            "justify_items": null,
            "left": null,
            "margin": null,
            "max_height": null,
            "max_width": null,
            "min_height": null,
            "min_width": null,
            "object_fit": null,
            "object_position": null,
            "order": null,
            "overflow": null,
            "overflow_x": null,
            "overflow_y": null,
            "padding": null,
            "right": null,
            "top": null,
            "visibility": null,
            "width": null
          }
        },
        "c1b36a0fb90d46eea124d1a53af14188": {
          "model_module": "@jupyter-widgets/controls",
          "model_module_version": "1.5.0",
          "model_name": "HTMLModel",
          "state": {
            "_dom_classes": [],
            "_model_module": "@jupyter-widgets/controls",
            "_model_module_version": "1.5.0",
            "_model_name": "HTMLModel",
            "_view_count": null,
            "_view_module": "@jupyter-widgets/controls",
            "_view_module_version": "1.5.0",
            "_view_name": "HTMLView",
            "description": "",
            "description_tooltip": null,
            "layout": "IPY_MODEL_eb7806128b7d43198411ad5bda6b7685",
            "placeholder": "​",
            "style": "IPY_MODEL_6f506a24948d4d5da2dc4e7e07503bcd",
            "value": "Map: 100%"
          }
        },
        "c258de059ba2465fa74e8285d2ad7d62": {
          "model_module": "@jupyter-widgets/base",
          "model_module_version": "1.2.0",
          "model_name": "LayoutModel",
          "state": {
            "_model_module": "@jupyter-widgets/base",
            "_model_module_version": "1.2.0",
            "_model_name": "LayoutModel",
            "_view_count": null,
            "_view_module": "@jupyter-widgets/base",
            "_view_module_version": "1.2.0",
            "_view_name": "LayoutView",
            "align_content": null,
            "align_items": null,
            "align_self": null,
            "border": null,
            "bottom": null,
            "display": null,
            "flex": null,
            "flex_flow": null,
            "grid_area": null,
            "grid_auto_columns": null,
            "grid_auto_flow": null,
            "grid_auto_rows": null,
            "grid_column": null,
            "grid_gap": null,
            "grid_row": null,
            "grid_template_areas": null,
            "grid_template_columns": null,
            "grid_template_rows": null,
            "height": null,
            "justify_content": null,
            "justify_items": null,
            "left": null,
            "margin": null,
            "max_height": null,
            "max_width": null,
            "min_height": null,
            "min_width": null,
            "object_fit": null,
            "object_position": null,
            "order": null,
            "overflow": null,
            "overflow_x": null,
            "overflow_y": null,
            "padding": null,
            "right": null,
            "top": null,
            "visibility": null,
            "width": null
          }
        },
        "c3ac6fa11e354b739c44aaf8b1141a94": {
          "model_module": "@jupyter-widgets/base",
          "model_module_version": "1.2.0",
          "model_name": "LayoutModel",
          "state": {
            "_model_module": "@jupyter-widgets/base",
            "_model_module_version": "1.2.0",
            "_model_name": "LayoutModel",
            "_view_count": null,
            "_view_module": "@jupyter-widgets/base",
            "_view_module_version": "1.2.0",
            "_view_name": "LayoutView",
            "align_content": null,
            "align_items": null,
            "align_self": null,
            "border": null,
            "bottom": null,
            "display": null,
            "flex": null,
            "flex_flow": null,
            "grid_area": null,
            "grid_auto_columns": null,
            "grid_auto_flow": null,
            "grid_auto_rows": null,
            "grid_column": null,
            "grid_gap": null,
            "grid_row": null,
            "grid_template_areas": null,
            "grid_template_columns": null,
            "grid_template_rows": null,
            "height": null,
            "justify_content": null,
            "justify_items": null,
            "left": null,
            "margin": null,
            "max_height": null,
            "max_width": null,
            "min_height": null,
            "min_width": null,
            "object_fit": null,
            "object_position": null,
            "order": null,
            "overflow": null,
            "overflow_x": null,
            "overflow_y": null,
            "padding": null,
            "right": null,
            "top": null,
            "visibility": null,
            "width": null
          }
        },
        "c846b9d5b6dd4c69bc988937bad14f7b": {
          "model_module": "@jupyter-widgets/controls",
          "model_module_version": "1.5.0",
          "model_name": "DescriptionStyleModel",
          "state": {
            "_model_module": "@jupyter-widgets/controls",
            "_model_module_version": "1.5.0",
            "_model_name": "DescriptionStyleModel",
            "_view_count": null,
            "_view_module": "@jupyter-widgets/base",
            "_view_module_version": "1.2.0",
            "_view_name": "StyleView",
            "description_width": ""
          }
        },
        "cb5ac11c70404f79bc975c76a157d164": {
          "model_module": "@jupyter-widgets/base",
          "model_module_version": "1.2.0",
          "model_name": "LayoutModel",
          "state": {
            "_model_module": "@jupyter-widgets/base",
            "_model_module_version": "1.2.0",
            "_model_name": "LayoutModel",
            "_view_count": null,
            "_view_module": "@jupyter-widgets/base",
            "_view_module_version": "1.2.0",
            "_view_name": "LayoutView",
            "align_content": null,
            "align_items": null,
            "align_self": null,
            "border": null,
            "bottom": null,
            "display": null,
            "flex": null,
            "flex_flow": null,
            "grid_area": null,
            "grid_auto_columns": null,
            "grid_auto_flow": null,
            "grid_auto_rows": null,
            "grid_column": null,
            "grid_gap": null,
            "grid_row": null,
            "grid_template_areas": null,
            "grid_template_columns": null,
            "grid_template_rows": null,
            "height": null,
            "justify_content": null,
            "justify_items": null,
            "left": null,
            "margin": null,
            "max_height": null,
            "max_width": null,
            "min_height": null,
            "min_width": null,
            "object_fit": null,
            "object_position": null,
            "order": null,
            "overflow": null,
            "overflow_x": null,
            "overflow_y": null,
            "padding": null,
            "right": null,
            "top": null,
            "visibility": "hidden",
            "width": null
          }
        },
        "ced322f5cd114dacb8645bcd46627410": {
          "model_module": "@jupyter-widgets/controls",
          "model_module_version": "1.5.0",
          "model_name": "HBoxModel",
          "state": {
            "_dom_classes": [],
            "_model_module": "@jupyter-widgets/controls",
            "_model_module_version": "1.5.0",
            "_model_name": "HBoxModel",
            "_view_count": null,
            "_view_module": "@jupyter-widgets/controls",
            "_view_module_version": "1.5.0",
            "_view_name": "HBoxView",
            "box_style": "",
            "children": [
              "IPY_MODEL_11fccff5246e45b2bc88c32c42f1c684",
              "IPY_MODEL_665965d956a742d5886c6acc626e00a0",
              "IPY_MODEL_07400d08da62418ca8e40ea41628e074"
            ],
            "layout": "IPY_MODEL_71e3739f61d2426ab8aa0763a0903ad6"
          }
        },
        "d4a19b42220340c884ff2c1cbf789bf3": {
          "model_module": "@jupyter-widgets/base",
          "model_module_version": "1.2.0",
          "model_name": "LayoutModel",
          "state": {
            "_model_module": "@jupyter-widgets/base",
            "_model_module_version": "1.2.0",
            "_model_name": "LayoutModel",
            "_view_count": null,
            "_view_module": "@jupyter-widgets/base",
            "_view_module_version": "1.2.0",
            "_view_name": "LayoutView",
            "align_content": null,
            "align_items": null,
            "align_self": null,
            "border": null,
            "bottom": null,
            "display": null,
            "flex": null,
            "flex_flow": null,
            "grid_area": null,
            "grid_auto_columns": null,
            "grid_auto_flow": null,
            "grid_auto_rows": null,
            "grid_column": null,
            "grid_gap": null,
            "grid_row": null,
            "grid_template_areas": null,
            "grid_template_columns": null,
            "grid_template_rows": null,
            "height": null,
            "justify_content": null,
            "justify_items": null,
            "left": null,
            "margin": null,
            "max_height": null,
            "max_width": null,
            "min_height": null,
            "min_width": null,
            "object_fit": null,
            "object_position": null,
            "order": null,
            "overflow": null,
            "overflow_x": null,
            "overflow_y": null,
            "padding": null,
            "right": null,
            "top": null,
            "visibility": null,
            "width": null
          }
        },
        "d5499daf648e43629c9e511c183ff4ac": {
          "model_module": "@jupyter-widgets/controls",
          "model_module_version": "1.5.0",
          "model_name": "HTMLModel",
          "state": {
            "_dom_classes": [],
            "_model_module": "@jupyter-widgets/controls",
            "_model_module_version": "1.5.0",
            "_model_name": "HTMLModel",
            "_view_count": null,
            "_view_module": "@jupyter-widgets/controls",
            "_view_module_version": "1.5.0",
            "_view_name": "HTMLView",
            "description": "",
            "description_tooltip": null,
            "layout": "IPY_MODEL_67b1355c5c3d42829efcd196da7ce90d",
            "placeholder": "​",
            "style": "IPY_MODEL_6b3859d442bc4f1c9a9fdcbcb968e491",
            "value": " 682k/682k [00:00&lt;00:00, 7.26MB/s]"
          }
        },
        "d61ffcb60ce347f88500727bbdf2afa1": {
          "model_module": "@jupyter-widgets/base",
          "model_module_version": "1.2.0",
          "model_name": "LayoutModel",
          "state": {
            "_model_module": "@jupyter-widgets/base",
            "_model_module_version": "1.2.0",
            "_model_name": "LayoutModel",
            "_view_count": null,
            "_view_module": "@jupyter-widgets/base",
            "_view_module_version": "1.2.0",
            "_view_name": "LayoutView",
            "align_content": null,
            "align_items": null,
            "align_self": null,
            "border": null,
            "bottom": null,
            "display": null,
            "flex": null,
            "flex_flow": null,
            "grid_area": null,
            "grid_auto_columns": null,
            "grid_auto_flow": null,
            "grid_auto_rows": null,
            "grid_column": null,
            "grid_gap": null,
            "grid_row": null,
            "grid_template_areas": null,
            "grid_template_columns": null,
            "grid_template_rows": null,
            "height": null,
            "justify_content": null,
            "justify_items": null,
            "left": null,
            "margin": null,
            "max_height": null,
            "max_width": null,
            "min_height": null,
            "min_width": null,
            "object_fit": null,
            "object_position": null,
            "order": null,
            "overflow": null,
            "overflow_x": null,
            "overflow_y": null,
            "padding": null,
            "right": null,
            "top": null,
            "visibility": null,
            "width": null
          }
        },
        "d742e89e6d2943d9b4d7a04cfde89fcd": {
          "model_module": "@jupyter-widgets/base",
          "model_module_version": "1.2.0",
          "model_name": "LayoutModel",
          "state": {
            "_model_module": "@jupyter-widgets/base",
            "_model_module_version": "1.2.0",
            "_model_name": "LayoutModel",
            "_view_count": null,
            "_view_module": "@jupyter-widgets/base",
            "_view_module_version": "1.2.0",
            "_view_name": "LayoutView",
            "align_content": null,
            "align_items": null,
            "align_self": null,
            "border": null,
            "bottom": null,
            "display": null,
            "flex": null,
            "flex_flow": null,
            "grid_area": null,
            "grid_auto_columns": null,
            "grid_auto_flow": null,
            "grid_auto_rows": null,
            "grid_column": null,
            "grid_gap": null,
            "grid_row": null,
            "grid_template_areas": null,
            "grid_template_columns": null,
            "grid_template_rows": null,
            "height": null,
            "justify_content": null,
            "justify_items": null,
            "left": null,
            "margin": null,
            "max_height": null,
            "max_width": null,
            "min_height": null,
            "min_width": null,
            "object_fit": null,
            "object_position": null,
            "order": null,
            "overflow": null,
            "overflow_x": null,
            "overflow_y": null,
            "padding": null,
            "right": null,
            "top": null,
            "visibility": null,
            "width": null
          }
        },
        "d7d0b5b5ef714fc18c8da85744d8991c": {
          "model_module": "@jupyter-widgets/base",
          "model_module_version": "1.2.0",
          "model_name": "LayoutModel",
          "state": {
            "_model_module": "@jupyter-widgets/base",
            "_model_module_version": "1.2.0",
            "_model_name": "LayoutModel",
            "_view_count": null,
            "_view_module": "@jupyter-widgets/base",
            "_view_module_version": "1.2.0",
            "_view_name": "LayoutView",
            "align_content": null,
            "align_items": null,
            "align_self": null,
            "border": null,
            "bottom": null,
            "display": null,
            "flex": null,
            "flex_flow": null,
            "grid_area": null,
            "grid_auto_columns": null,
            "grid_auto_flow": null,
            "grid_auto_rows": null,
            "grid_column": null,
            "grid_gap": null,
            "grid_row": null,
            "grid_template_areas": null,
            "grid_template_columns": null,
            "grid_template_rows": null,
            "height": null,
            "justify_content": null,
            "justify_items": null,
            "left": null,
            "margin": null,
            "max_height": null,
            "max_width": null,
            "min_height": null,
            "min_width": null,
            "object_fit": null,
            "object_position": null,
            "order": null,
            "overflow": null,
            "overflow_x": null,
            "overflow_y": null,
            "padding": null,
            "right": null,
            "top": null,
            "visibility": null,
            "width": null
          }
        },
        "d7d34df7e08d442f89cf296ec4cbb48c": {
          "model_module": "@jupyter-widgets/controls",
          "model_module_version": "1.5.0",
          "model_name": "DescriptionStyleModel",
          "state": {
            "_model_module": "@jupyter-widgets/controls",
            "_model_module_version": "1.5.0",
            "_model_name": "DescriptionStyleModel",
            "_view_count": null,
            "_view_module": "@jupyter-widgets/base",
            "_view_module_version": "1.2.0",
            "_view_name": "StyleView",
            "description_width": ""
          }
        },
        "d8f3290058584187b1917088dfcd9600": {
          "model_module": "@jupyter-widgets/base",
          "model_module_version": "1.2.0",
          "model_name": "LayoutModel",
          "state": {
            "_model_module": "@jupyter-widgets/base",
            "_model_module_version": "1.2.0",
            "_model_name": "LayoutModel",
            "_view_count": null,
            "_view_module": "@jupyter-widgets/base",
            "_view_module_version": "1.2.0",
            "_view_name": "LayoutView",
            "align_content": null,
            "align_items": null,
            "align_self": null,
            "border": null,
            "bottom": null,
            "display": null,
            "flex": null,
            "flex_flow": null,
            "grid_area": null,
            "grid_auto_columns": null,
            "grid_auto_flow": null,
            "grid_auto_rows": null,
            "grid_column": null,
            "grid_gap": null,
            "grid_row": null,
            "grid_template_areas": null,
            "grid_template_columns": null,
            "grid_template_rows": null,
            "height": null,
            "justify_content": null,
            "justify_items": null,
            "left": null,
            "margin": null,
            "max_height": null,
            "max_width": null,
            "min_height": null,
            "min_width": null,
            "object_fit": null,
            "object_position": null,
            "order": null,
            "overflow": null,
            "overflow_x": null,
            "overflow_y": null,
            "padding": null,
            "right": null,
            "top": null,
            "visibility": null,
            "width": null
          }
        },
        "dde89d2e998c48a98fa49a55ae19dfdf": {
          "model_module": "@jupyter-widgets/controls",
          "model_module_version": "1.5.0",
          "model_name": "HTMLModel",
          "state": {
            "_dom_classes": [],
            "_model_module": "@jupyter-widgets/controls",
            "_model_module_version": "1.5.0",
            "_model_name": "HTMLModel",
            "_view_count": null,
            "_view_module": "@jupyter-widgets/controls",
            "_view_module_version": "1.5.0",
            "_view_name": "HTMLView",
            "description": "",
            "description_tooltip": null,
            "layout": "IPY_MODEL_c258de059ba2465fa74e8285d2ad7d62",
            "placeholder": "​",
            "style": "IPY_MODEL_d7d34df7e08d442f89cf296ec4cbb48c",
            "value": "Map: 100%"
          }
        },
        "e8a87edf7a264bb6b4bdb5e73222a099": {
          "model_module": "@jupyter-widgets/controls",
          "model_module_version": "1.5.0",
          "model_name": "HBoxModel",
          "state": {
            "_dom_classes": [],
            "_model_module": "@jupyter-widgets/controls",
            "_model_module_version": "1.5.0",
            "_model_name": "HBoxModel",
            "_view_count": null,
            "_view_module": "@jupyter-widgets/controls",
            "_view_module_version": "1.5.0",
            "_view_name": "HBoxView",
            "box_style": "",
            "children": [
              "IPY_MODEL_dde89d2e998c48a98fa49a55ae19dfdf",
              "IPY_MODEL_6414b7482f644a85bfa3d729848de8ea",
              "IPY_MODEL_89116f6ed5564ccd9f770312360b00d3"
            ],
            "layout": "IPY_MODEL_cb5ac11c70404f79bc975c76a157d164"
          }
        },
        "e99dae062ca94beeb565210897d51bcd": {
          "model_module": "@jupyter-widgets/controls",
          "model_module_version": "1.5.0",
          "model_name": "HTMLModel",
          "state": {
            "_dom_classes": [],
            "_model_module": "@jupyter-widgets/controls",
            "_model_module_version": "1.5.0",
            "_model_name": "HTMLModel",
            "_view_count": null,
            "_view_module": "@jupyter-widgets/controls",
            "_view_module_version": "1.5.0",
            "_view_name": "HTMLView",
            "description": "",
            "description_tooltip": null,
            "layout": "IPY_MODEL_29c4e9cc30a44c5db9290885b6c26887",
            "placeholder": "​",
            "style": "IPY_MODEL_a187691a3b424d238e250b22dad00ef6",
            "value": "Downloading (…)/main/tokenizer.json: 100%"
          }
        },
        "eb7806128b7d43198411ad5bda6b7685": {
          "model_module": "@jupyter-widgets/base",
          "model_module_version": "1.2.0",
          "model_name": "LayoutModel",
          "state": {
            "_model_module": "@jupyter-widgets/base",
            "_model_module_version": "1.2.0",
            "_model_name": "LayoutModel",
            "_view_count": null,
            "_view_module": "@jupyter-widgets/base",
            "_view_module_version": "1.2.0",
            "_view_name": "LayoutView",
            "align_content": null,
            "align_items": null,
            "align_self": null,
            "border": null,
            "bottom": null,
            "display": null,
            "flex": null,
            "flex_flow": null,
            "grid_area": null,
            "grid_auto_columns": null,
            "grid_auto_flow": null,
            "grid_auto_rows": null,
            "grid_column": null,
            "grid_gap": null,
            "grid_row": null,
            "grid_template_areas": null,
            "grid_template_columns": null,
            "grid_template_rows": null,
            "height": null,
            "justify_content": null,
            "justify_items": null,
            "left": null,
            "margin": null,
            "max_height": null,
            "max_width": null,
            "min_height": null,
            "min_width": null,
            "object_fit": null,
            "object_position": null,
            "order": null,
            "overflow": null,
            "overflow_x": null,
            "overflow_y": null,
            "padding": null,
            "right": null,
            "top": null,
            "visibility": null,
            "width": null
          }
        },
        "fe2dd82d87964059a7aa509381322eaf": {
          "model_module": "@jupyter-widgets/controls",
          "model_module_version": "1.5.0",
          "model_name": "HTMLModel",
          "state": {
            "_dom_classes": [],
            "_model_module": "@jupyter-widgets/controls",
            "_model_module_version": "1.5.0",
            "_model_name": "HTMLModel",
            "_view_count": null,
            "_view_module": "@jupyter-widgets/controls",
            "_view_module_version": "1.5.0",
            "_view_name": "HTMLView",
            "description": "",
            "description_tooltip": null,
            "layout": "IPY_MODEL_d742e89e6d2943d9b4d7a04cfde89fcd",
            "placeholder": "​",
            "style": "IPY_MODEL_9812f229a3f14f59af56560f0fd58421",
            "value": " 548/548 [00:00&lt;00:00, 850.49 examples/s]"
          }
        },
        "ffe30c74c9954ba1b48934d681a8e208": {
          "model_module": "@jupyter-widgets/base",
          "model_module_version": "1.2.0",
          "model_name": "LayoutModel",
          "state": {
            "_model_module": "@jupyter-widgets/base",
            "_model_module_version": "1.2.0",
            "_model_name": "LayoutModel",
            "_view_count": null,
            "_view_module": "@jupyter-widgets/base",
            "_view_module_version": "1.2.0",
            "_view_name": "LayoutView",
            "align_content": null,
            "align_items": null,
            "align_self": null,
            "border": null,
            "bottom": null,
            "display": null,
            "flex": null,
            "flex_flow": null,
            "grid_area": null,
            "grid_auto_columns": null,
            "grid_auto_flow": null,
            "grid_auto_rows": null,
            "grid_column": null,
            "grid_gap": null,
            "grid_row": null,
            "grid_template_areas": null,
            "grid_template_columns": null,
            "grid_template_rows": null,
            "height": null,
            "justify_content": null,
            "justify_items": null,
            "left": null,
            "margin": null,
            "max_height": null,
            "max_width": null,
            "min_height": null,
            "min_width": null,
            "object_fit": null,
            "object_position": null,
            "order": null,
            "overflow": null,
            "overflow_x": null,
            "overflow_y": null,
            "padding": null,
            "right": null,
            "top": null,
            "visibility": null,
            "width": null
          }
        }
      }
    }
  },
  "nbformat": 4,
  "nbformat_minor": 0
}
