{
 "cells": [
  {
   "attachments": {},
   "cell_type": "markdown",
   "metadata": {},
   "source": [
    "# Final Project"
   ]
  },
  {
   "attachments": {},
   "cell_type": "markdown",
   "metadata": {},
   "source": [
    "## 파이썬 환경 설정 및 확인"
   ]
  },
  {
   "cell_type": "code",
   "execution_count": null,
   "metadata": {},
   "outputs": [],
   "source": [
    "# C:/Users/TECH2_22/이도원/usingcloud_final/venv/Scripts/python.exe"
   ]
  },
  {
   "cell_type": "code",
   "execution_count": 20,
   "metadata": {},
   "outputs": [
    {
     "data": {
      "text/plain": [
       "'c:\\\\Users\\\\TECH2_22\\\\이도원\\\\usingcloud_final'"
      ]
     },
     "execution_count": 20,
     "metadata": {},
     "output_type": "execute_result"
    }
   ],
   "source": [
    "import os\n",
    "\n",
    "os.getcwd()"
   ]
  },
  {
   "cell_type": "code",
   "execution_count": 1,
   "metadata": {},
   "outputs": [
    {
     "name": "stdout",
     "output_type": "stream",
     "text": [
      "hello world\n"
     ]
    }
   ],
   "source": [
    "print('hello world')"
   ]
  },
  {
   "cell_type": "code",
   "execution_count": 2,
   "metadata": {},
   "outputs": [
    {
     "name": "stdout",
     "output_type": "stream",
     "text": [
      "Python 3.8.8\n"
     ]
    }
   ],
   "source": [
    "!python --version"
   ]
  },
  {
   "attachments": {},
   "cell_type": "markdown",
   "metadata": {},
   "source": [
    "## 데이터 로드 및 설정"
   ]
  },
  {
   "attachments": {},
   "cell_type": "markdown",
   "metadata": {},
   "source": [
    "### 최초 1회만 실행"
   ]
  },
  {
   "cell_type": "code",
   "execution_count": 1,
   "metadata": {},
   "outputs": [],
   "source": [
    "import pandas as pd\n",
    "import numpy as np\n",
    "import json\n",
    "\n",
    "with open('./data/train_original.json', encoding='utf-8') as train_f:\n",
    "    train_data = json.loads(train_f.read())\n",
    "    train_df = pd.DataFrame(train_data['documents'])\n",
    "\n",
    "with open('./data/valid_original.json', encoding='utf-8') as valid_f:\n",
    "    valid_data = json.loads(valid_f.read())\n",
    "    valid_df = pd.DataFrame(valid_data['documents'])"
   ]
  },
  {
   "attachments": {},
   "cell_type": "markdown",
   "metadata": {},
   "source": [
    "## eda"
   ]
  },
  {
   "cell_type": "code",
   "execution_count": 69,
   "metadata": {},
   "outputs": [
    {
     "data": {
      "text/html": [
       "<div>\n",
       "<style scoped>\n",
       "    .dataframe tbody tr th:only-of-type {\n",
       "        vertical-align: middle;\n",
       "    }\n",
       "\n",
       "    .dataframe tbody tr th {\n",
       "        vertical-align: top;\n",
       "    }\n",
       "\n",
       "    .dataframe thead th {\n",
       "        text-align: right;\n",
       "    }\n",
       "</style>\n",
       "<table border=\"1\" class=\"dataframe\">\n",
       "  <thead>\n",
       "    <tr style=\"text-align: right;\">\n",
       "      <th></th>\n",
       "      <th>id</th>\n",
       "      <th>category</th>\n",
       "      <th>media_type</th>\n",
       "      <th>media_sub_type</th>\n",
       "      <th>media_name</th>\n",
       "      <th>size</th>\n",
       "      <th>char_count</th>\n",
       "      <th>publish_date</th>\n",
       "      <th>title</th>\n",
       "      <th>text</th>\n",
       "      <th>annotator_id</th>\n",
       "      <th>document_quality_scores</th>\n",
       "      <th>extractive</th>\n",
       "      <th>abstractive</th>\n",
       "    </tr>\n",
       "  </thead>\n",
       "  <tbody>\n",
       "    <tr>\n",
       "      <th>0</th>\n",
       "      <td>290741778</td>\n",
       "      <td>종합</td>\n",
       "      <td>online</td>\n",
       "      <td>지역지</td>\n",
       "      <td>광양신문</td>\n",
       "      <td>small</td>\n",
       "      <td>927</td>\n",
       "      <td>2018-01-05 18:54:55</td>\n",
       "      <td>논 타작물 재배, 2월 말까지 신청하세요</td>\n",
       "      <td>[[{'index': 0, 'sentence': 'ha당 조사료 400만원…작물별 ...</td>\n",
       "      <td>11</td>\n",
       "      <td>{'readable': 4, 'accurate': 3, 'informative': ...</td>\n",
       "      <td>[2, 3, 10]</td>\n",
       "      <td>[전라남도가 쌀 과잉문제를 근본적으로 해결하기 위해 올해부터 벼를 심었던 논에 벼 ...</td>\n",
       "    </tr>\n",
       "    <tr>\n",
       "      <th>1</th>\n",
       "      <td>290741792</td>\n",
       "      <td>종합</td>\n",
       "      <td>online</td>\n",
       "      <td>지역지</td>\n",
       "      <td>광양신문</td>\n",
       "      <td>small</td>\n",
       "      <td>764</td>\n",
       "      <td>2018-01-05 18:53:20</td>\n",
       "      <td>여수시, 컬러빌리지 마무리...‘색채와 빛’도시 완성</td>\n",
       "      <td>[[{'index': 0, 'sentence': '8억 투입, 고소천사벽화·자산마을...</td>\n",
       "      <td>12</td>\n",
       "      <td>{'readable': 4, 'accurate': 4, 'informative': ...</td>\n",
       "      <td>[2, 4, 11]</td>\n",
       "      <td>[여수시는 컬러빌리지 사업에 8억원을 투입하여 ‘색채와 빛’ 도시를 완성하여 고소천...</td>\n",
       "    </tr>\n",
       "    <tr>\n",
       "      <th>2</th>\n",
       "      <td>290741793</td>\n",
       "      <td>스포츠</td>\n",
       "      <td>online</td>\n",
       "      <td>지역지</td>\n",
       "      <td>광양신문</td>\n",
       "      <td>medium</td>\n",
       "      <td>1066</td>\n",
       "      <td>2018-01-05 18:52:15</td>\n",
       "      <td>“새해 정기 받고 올해는 반드시 일내자!”</td>\n",
       "      <td>[[{'index': 0, 'sentence': '전남드래곤즈 해맞이 다짐…선수 영...</td>\n",
       "      <td>13</td>\n",
       "      <td>{'readable': 4, 'accurate': 4, 'informative': ...</td>\n",
       "      <td>[3, 5, 7]</td>\n",
       "      <td>[전남드래곤즈 임직원과 선수단이 4일 구봉산 정상에 올라 일출을 보며 2018년 구...</td>\n",
       "    </tr>\n",
       "  </tbody>\n",
       "</table>\n",
       "</div>"
      ],
      "text/plain": [
       "          id category media_type media_sub_type media_name    size char_count   \n",
       "0  290741778       종합     online            지역지       광양신문   small        927  \\\n",
       "1  290741792       종합     online            지역지       광양신문   small        764   \n",
       "2  290741793      스포츠     online            지역지       광양신문  medium       1066   \n",
       "\n",
       "          publish_date                          title   \n",
       "0  2018-01-05 18:54:55         논 타작물 재배, 2월 말까지 신청하세요  \\\n",
       "1  2018-01-05 18:53:20  여수시, 컬러빌리지 마무리...‘색채와 빛’도시 완성   \n",
       "2  2018-01-05 18:52:15        “새해 정기 받고 올해는 반드시 일내자!”   \n",
       "\n",
       "                                                text  annotator_id   \n",
       "0  [[{'index': 0, 'sentence': 'ha당 조사료 400만원…작물별 ...            11  \\\n",
       "1  [[{'index': 0, 'sentence': '8억 투입, 고소천사벽화·자산마을...            12   \n",
       "2  [[{'index': 0, 'sentence': '전남드래곤즈 해맞이 다짐…선수 영...            13   \n",
       "\n",
       "                             document_quality_scores  extractive   \n",
       "0  {'readable': 4, 'accurate': 3, 'informative': ...  [2, 3, 10]  \\\n",
       "1  {'readable': 4, 'accurate': 4, 'informative': ...  [2, 4, 11]   \n",
       "2  {'readable': 4, 'accurate': 4, 'informative': ...   [3, 5, 7]   \n",
       "\n",
       "                                         abstractive  \n",
       "0  [전라남도가 쌀 과잉문제를 근본적으로 해결하기 위해 올해부터 벼를 심었던 논에 벼 ...  \n",
       "1  [여수시는 컬러빌리지 사업에 8억원을 투입하여 ‘색채와 빛’ 도시를 완성하여 고소천...  \n",
       "2  [전남드래곤즈 임직원과 선수단이 4일 구봉산 정상에 올라 일출을 보며 2018년 구...  "
      ]
     },
     "execution_count": 69,
     "metadata": {},
     "output_type": "execute_result"
    }
   ],
   "source": [
    "train_df.head(3)"
   ]
  },
  {
   "cell_type": "code",
   "execution_count": 59,
   "metadata": {},
   "outputs": [
    {
     "name": "stdout",
     "output_type": "stream",
     "text": [
      "<class 'pandas.core.frame.DataFrame'>\n",
      "RangeIndex: 243983 entries, 0 to 243982\n",
      "Data columns (total 14 columns):\n",
      " #   Column                   Non-Null Count   Dtype \n",
      "---  ------                   --------------   ----- \n",
      " 0   id                       243983 non-null  object\n",
      " 1   category                 243983 non-null  object\n",
      " 2   media_type               243983 non-null  object\n",
      " 3   media_sub_type           243983 non-null  object\n",
      " 4   media_name               243983 non-null  object\n",
      " 5   size                     243983 non-null  object\n",
      " 6   char_count               243983 non-null  object\n",
      " 7   publish_date             243983 non-null  object\n",
      " 8   title                    243983 non-null  object\n",
      " 9   text                     243983 non-null  object\n",
      " 10  annotator_id             243983 non-null  int64 \n",
      " 11  document_quality_scores  243983 non-null  object\n",
      " 12  extractive               243983 non-null  object\n",
      " 13  abstractive              243983 non-null  object\n",
      "dtypes: int64(1), object(13)\n",
      "memory usage: 26.1+ MB\n"
     ]
    }
   ],
   "source": [
    "train_df.info()"
   ]
  },
  {
   "cell_type": "code",
   "execution_count": 61,
   "metadata": {},
   "outputs": [
    {
     "data": {
      "text/plain": [
       "(243983, 14)"
      ]
     },
     "execution_count": 61,
     "metadata": {},
     "output_type": "execute_result"
    }
   ],
   "source": [
    "train_df.shape"
   ]
  },
  {
   "cell_type": "code",
   "execution_count": 70,
   "metadata": {},
   "outputs": [
    {
     "data": {
      "text/html": [
       "<div>\n",
       "<style scoped>\n",
       "    .dataframe tbody tr th:only-of-type {\n",
       "        vertical-align: middle;\n",
       "    }\n",
       "\n",
       "    .dataframe tbody tr th {\n",
       "        vertical-align: top;\n",
       "    }\n",
       "\n",
       "    .dataframe thead th {\n",
       "        text-align: right;\n",
       "    }\n",
       "</style>\n",
       "<table border=\"1\" class=\"dataframe\">\n",
       "  <thead>\n",
       "    <tr style=\"text-align: right;\">\n",
       "      <th></th>\n",
       "      <th>0</th>\n",
       "    </tr>\n",
       "  </thead>\n",
       "  <tbody>\n",
       "    <tr>\n",
       "      <th>id</th>\n",
       "      <td>290741778</td>\n",
       "    </tr>\n",
       "    <tr>\n",
       "      <th>category</th>\n",
       "      <td>종합</td>\n",
       "    </tr>\n",
       "    <tr>\n",
       "      <th>media_type</th>\n",
       "      <td>online</td>\n",
       "    </tr>\n",
       "    <tr>\n",
       "      <th>media_sub_type</th>\n",
       "      <td>지역지</td>\n",
       "    </tr>\n",
       "    <tr>\n",
       "      <th>media_name</th>\n",
       "      <td>광양신문</td>\n",
       "    </tr>\n",
       "    <tr>\n",
       "      <th>size</th>\n",
       "      <td>small</td>\n",
       "    </tr>\n",
       "    <tr>\n",
       "      <th>char_count</th>\n",
       "      <td>927</td>\n",
       "    </tr>\n",
       "    <tr>\n",
       "      <th>publish_date</th>\n",
       "      <td>2018-01-05 18:54:55</td>\n",
       "    </tr>\n",
       "    <tr>\n",
       "      <th>title</th>\n",
       "      <td>논 타작물 재배, 2월 말까지 신청하세요</td>\n",
       "    </tr>\n",
       "    <tr>\n",
       "      <th>text</th>\n",
       "      <td>[[{'index': 0, 'sentence': 'ha당 조사료 400만원…작물별 ...</td>\n",
       "    </tr>\n",
       "    <tr>\n",
       "      <th>annotator_id</th>\n",
       "      <td>11</td>\n",
       "    </tr>\n",
       "    <tr>\n",
       "      <th>document_quality_scores</th>\n",
       "      <td>{'readable': 4, 'accurate': 3, 'informative': ...</td>\n",
       "    </tr>\n",
       "    <tr>\n",
       "      <th>extractive</th>\n",
       "      <td>[2, 3, 10]</td>\n",
       "    </tr>\n",
       "    <tr>\n",
       "      <th>abstractive</th>\n",
       "      <td>[전라남도가 쌀 과잉문제를 근본적으로 해결하기 위해 올해부터 벼를 심었던 논에 벼 ...</td>\n",
       "    </tr>\n",
       "  </tbody>\n",
       "</table>\n",
       "</div>"
      ],
      "text/plain": [
       "                                                                         0\n",
       "id                                                               290741778\n",
       "category                                                                종합\n",
       "media_type                                                          online\n",
       "media_sub_type                                                         지역지\n",
       "media_name                                                            광양신문\n",
       "size                                                                 small\n",
       "char_count                                                             927\n",
       "publish_date                                           2018-01-05 18:54:55\n",
       "title                                               논 타작물 재배, 2월 말까지 신청하세요\n",
       "text                     [[{'index': 0, 'sentence': 'ha당 조사료 400만원…작물별 ...\n",
       "annotator_id                                                            11\n",
       "document_quality_scores  {'readable': 4, 'accurate': 3, 'informative': ...\n",
       "extractive                                                      [2, 3, 10]\n",
       "abstractive              [전라남도가 쌀 과잉문제를 근본적으로 해결하기 위해 올해부터 벼를 심었던 논에 벼 ..."
      ]
     },
     "execution_count": 70,
     "metadata": {},
     "output_type": "execute_result"
    }
   ],
   "source": [
    "train_df.head(1).T"
   ]
  },
  {
   "cell_type": "code",
   "execution_count": 62,
   "metadata": {},
   "outputs": [
    {
     "data": {
      "text/plain": [
       "id                         0\n",
       "category                   0\n",
       "media_type                 0\n",
       "media_sub_type             0\n",
       "media_name                 0\n",
       "size                       0\n",
       "char_count                 0\n",
       "publish_date               0\n",
       "title                      0\n",
       "text                       0\n",
       "annotator_id               0\n",
       "document_quality_scores    0\n",
       "extractive                 0\n",
       "abstractive                0\n",
       "dtype: int64"
      ]
     },
     "execution_count": 62,
     "metadata": {},
     "output_type": "execute_result"
    }
   ],
   "source": [
    "train_df.isnull().sum()"
   ]
  },
  {
   "cell_type": "code",
   "execution_count": 63,
   "metadata": {},
   "outputs": [
    {
     "data": {
      "text/plain": [
       "Index(['id', 'category', 'media_type', 'media_sub_type', 'media_name', 'size',\n",
       "       'char_count', 'publish_date', 'title', 'text', 'annotator_id',\n",
       "       'document_quality_scores', 'extractive', 'abstractive'],\n",
       "      dtype='object')"
      ]
     },
     "execution_count": 63,
     "metadata": {},
     "output_type": "execute_result"
    }
   ],
   "source": [
    "train_df.columns"
   ]
  },
  {
   "attachments": {},
   "cell_type": "markdown",
   "metadata": {},
   "source": [
    "## 전처리"
   ]
  },
  {
   "cell_type": "code",
   "execution_count": 16,
   "metadata": {},
   "outputs": [],
   "source": [
    "def extract_body(article) -> str:\n",
    "    art_sentence = []\n",
    "\n",
    "    for contents in article:\n",
    "        if len(contents) >= 2:\n",
    "            for sub_con in contents:\n",
    "                art_sentence.append(sub_con['sentence'])\n",
    "                continue\n",
    "        elif len(contents) == 0:\n",
    "            pass\n",
    "        else:\n",
    "            art_sentence.append(contents[0]['sentence'])\n",
    "\n",
    "    return art_sentence\n",
    "\n",
    "def sentence_validation(art_sentence):\n",
    "    del_sentence = []\n",
    "    for sentence in art_sentence:\n",
    "        if '@' in sentence or '/사진' in sentence:\n",
    "            del_sentence.append(sentence)\n",
    "        elif sentence[-1] != '.':\n",
    "            del_sentence.append(sentence)\n",
    "    for del_sen in del_sentence: \n",
    "        art_sentence.remove(del_sen)\n",
    "    return ' '.join(art_sentence)"
   ]
  },
  {
   "cell_type": "code",
   "execution_count": 17,
   "metadata": {},
   "outputs": [
    {
     "data": {
      "text/plain": [
       "'은행 열매 수집망. 경기도내 지자체들이 매년 반복되는 가을철 은행나무 악취 민원 해결을 위해 온갖 방법을 동원하면서 시민들의 불편을 줄이고자 안간힘을 쓰고 있다. 6일 도내 지자체들에 따르면 친환경적인 방법으로 은행열매를 제거해 가을철 도로변 악취 문제를 해결하기 위한 방법을 고안하고 있다. 대표적으로 수원시는 산하 사업소를 통해 주요 대로변, 상가밀집지역 등 유동인구가 많은 곳을 대상으로 ‘은행 암나무 수종(樹種) 교체사업’을 진행한다. 시는 지난해 은행나무를 전수조사하고 수종 교체를 위한 연차별 기본계획을 수립한 바 있다. 지난 4월 사업을 시작해 은행 암나무 600여 그루를 은행 수나무·느티나무 등 다른 나무로 교체했다. 2022년까지 예산 36억 원을 투입할 예정이다. 아직 교체하지 못 했거나 보존 가치가 있는 은행나무는 열매 털기 작업을 실시한다. 은행열매 진동 수확기를 활용해 은행열매를 털어 악취를 없앤다. 은행나무 열매와 낙엽을 한꺼번에 처리할 수 있는 ‘은행열매 수집망’도 설치했다. 은행열매 수집망은 나무에 해를 가하지 않고 열매와 낙엽을 제거하는 친환경 방법이다. 현재 도로 주행 차량에 방해를 주지 않는 팔달로와 창룡대로에 9개 수집망을 설치했다. 안산시 단원구는 지난달 21일부터 은행나무 열매로 인한 지속적인 악취로 고통받는 시민 피해를 막기 위해 은행열매를 조기 채취하고 있다. 원선1로 등 3개 노선은 수거를 완료했으며, 휴일에도 3개 조 15명을 투입해 평일 작업이 어려운 산업단지 등의 열매를 제거하고 있다. 구는 수거된 은행열매에 대해 중금속검사와 잔류농약검사를 벌여 ‘안전하다’고 판정된 수확물은 지역 복지관 및 경로당에 기부할 예정이다. 또한 은행열매 수집망 설치도 검토하는 등 시민 불편을 줄일 수 있도록 다양한 방안을 모색 중이다. 부천시와 고양시 덕양구 역시 은행나무 암나무를 열매를 맺지 않는 수나무로 바꾼다. 부천시는 먼저 126그루를 수나무로 단계적 교체한다. 주민 피해가 심한 도심부터 작업을 추진해 순차적으로 1천200그루를 교체한다. 고양시 덕양구는 최근 은행열매가 사계절 내내 낙과하면서 2018년 5월부터 은행나무 가로수 240여 주를 교체했다. 최광열 수원시 공원녹지사업소장은 \"가을철에 접어들면서 버스정류장, 상가밀집지역 등을 중심으로 은행열매 악취를 호소하는 민원이 폭주하고 있다\"며 \"시민 불편을 줄이기 위해 총력을 기울이겠다\"고 말했다.'"
      ]
     },
     "execution_count": 17,
     "metadata": {},
     "output_type": "execute_result"
    }
   ],
   "source": [
    "sentence_list = sentence_validation(extract_body(train_df['text'][24000]))\n",
    "sentence_list"
   ]
  },
  {
   "cell_type": "code",
   "execution_count": 18,
   "metadata": {},
   "outputs": [
    {
     "data": {
      "text/html": [
       "<div>\n",
       "<style scoped>\n",
       "    .dataframe tbody tr th:only-of-type {\n",
       "        vertical-align: middle;\n",
       "    }\n",
       "\n",
       "    .dataframe tbody tr th {\n",
       "        vertical-align: top;\n",
       "    }\n",
       "\n",
       "    .dataframe thead th {\n",
       "        text-align: right;\n",
       "    }\n",
       "</style>\n",
       "<table border=\"1\" class=\"dataframe\">\n",
       "  <thead>\n",
       "    <tr style=\"text-align: right;\">\n",
       "      <th></th>\n",
       "      <th>id</th>\n",
       "      <th>category</th>\n",
       "      <th>media_type</th>\n",
       "      <th>media_sub_type</th>\n",
       "      <th>media_name</th>\n",
       "      <th>size</th>\n",
       "      <th>char_count</th>\n",
       "      <th>publish_date</th>\n",
       "      <th>title</th>\n",
       "      <th>text</th>\n",
       "      <th>annotator_id</th>\n",
       "      <th>document_quality_scores</th>\n",
       "      <th>extractive</th>\n",
       "      <th>abstractive</th>\n",
       "    </tr>\n",
       "  </thead>\n",
       "  <tbody>\n",
       "    <tr>\n",
       "      <th>0</th>\n",
       "      <td>290741778</td>\n",
       "      <td>종합</td>\n",
       "      <td>online</td>\n",
       "      <td>지역지</td>\n",
       "      <td>광양신문</td>\n",
       "      <td>small</td>\n",
       "      <td>927</td>\n",
       "      <td>2018-01-05 18:54:55</td>\n",
       "      <td>논 타작물 재배, 2월 말까지 신청하세요</td>\n",
       "      <td>전라남도가 쌀 과잉문제를 근본적으로 해결하기 위해 올해부터 시행하는 쌀 생산조정제를...</td>\n",
       "      <td>11</td>\n",
       "      <td>{'readable': 4, 'accurate': 3, 'informative': ...</td>\n",
       "      <td>[2, 3, 10]</td>\n",
       "      <td>[전라남도가 쌀 과잉문제를 근본적으로 해결하기 위해 올해부터 벼를 심었던 논에 벼 ...</td>\n",
       "    </tr>\n",
       "    <tr>\n",
       "      <th>1</th>\n",
       "      <td>290741792</td>\n",
       "      <td>종합</td>\n",
       "      <td>online</td>\n",
       "      <td>지역지</td>\n",
       "      <td>광양신문</td>\n",
       "      <td>small</td>\n",
       "      <td>764</td>\n",
       "      <td>2018-01-05 18:53:20</td>\n",
       "      <td>여수시, 컬러빌리지 마무리...‘색채와 빛’도시 완성</td>\n",
       "      <td>여수시는 원도심 일대에서 추진된 컬러빌리지 사업을 지난해 말 마무리하며 색채와 빛의...</td>\n",
       "      <td>12</td>\n",
       "      <td>{'readable': 4, 'accurate': 4, 'informative': ...</td>\n",
       "      <td>[2, 4, 11]</td>\n",
       "      <td>[여수시는 컬러빌리지 사업에 8억원을 투입하여 ‘색채와 빛’ 도시를 완성하여 고소천...</td>\n",
       "    </tr>\n",
       "    <tr>\n",
       "      <th>2</th>\n",
       "      <td>290741793</td>\n",
       "      <td>스포츠</td>\n",
       "      <td>online</td>\n",
       "      <td>지역지</td>\n",
       "      <td>광양신문</td>\n",
       "      <td>medium</td>\n",
       "      <td>1066</td>\n",
       "      <td>2018-01-05 18:52:15</td>\n",
       "      <td>“새해 정기 받고 올해는 반드시 일내자!”</td>\n",
       "      <td>전남드래곤즈(사장 신승재)는 지난 4일 구봉산 해맞이 행사를 통해 새해 각오를 다졌...</td>\n",
       "      <td>13</td>\n",
       "      <td>{'readable': 4, 'accurate': 4, 'informative': ...</td>\n",
       "      <td>[3, 5, 7]</td>\n",
       "      <td>[전남드래곤즈 임직원과 선수단이 4일 구봉산 정상에 올라 일출을 보며 2018년 구...</td>\n",
       "    </tr>\n",
       "    <tr>\n",
       "      <th>3</th>\n",
       "      <td>290741794</td>\n",
       "      <td>정치</td>\n",
       "      <td>online</td>\n",
       "      <td>지역지</td>\n",
       "      <td>광양신문</td>\n",
       "      <td>small</td>\n",
       "      <td>746</td>\n",
       "      <td>2018-01-05 18:50:17</td>\n",
       "      <td>농업인 역량 강화, 새해 실용교육 실시</td>\n",
       "      <td>광양시는 오는 11일부터 24일까지 농업인교육관과 읍면동 회의실에서 농업인 1050...</td>\n",
       "      <td>12</td>\n",
       "      <td>{'readable': 4, 'accurate': 4, 'informative': ...</td>\n",
       "      <td>[2, 3, 4]</td>\n",
       "      <td>[광양시는 농업인들의 경쟁력을 높이고, 소득안정을 위해 매실·감·참다래 등 지역특화...</td>\n",
       "    </tr>\n",
       "    <tr>\n",
       "      <th>4</th>\n",
       "      <td>290741797</td>\n",
       "      <td>종합</td>\n",
       "      <td>online</td>\n",
       "      <td>지역지</td>\n",
       "      <td>광양신문</td>\n",
       "      <td>small</td>\n",
       "      <td>978</td>\n",
       "      <td>2018-01-05 18:52:36</td>\n",
       "      <td>타이완 크루즈관광객 4천여명‘전남’온다</td>\n",
       "      <td>타이완의 크루즈관광객 4000여명이 올해 두 차례에 걸쳐 여수에 입항한다. 전라남도...</td>\n",
       "      <td>13</td>\n",
       "      <td>{'readable': 4, 'accurate': 4, 'informative': ...</td>\n",
       "      <td>[3, 7, 4]</td>\n",
       "      <td>[올해 4월과 6월 두 차례에 걸쳐 타이완의 크루즈 관광객 4000여명이 여수에 입...</td>\n",
       "    </tr>\n",
       "    <tr>\n",
       "      <th>...</th>\n",
       "      <td>...</td>\n",
       "      <td>...</td>\n",
       "      <td>...</td>\n",
       "      <td>...</td>\n",
       "      <td>...</td>\n",
       "      <td>...</td>\n",
       "      <td>...</td>\n",
       "      <td>...</td>\n",
       "      <td>...</td>\n",
       "      <td>...</td>\n",
       "      <td>...</td>\n",
       "      <td>...</td>\n",
       "      <td>...</td>\n",
       "      <td>...</td>\n",
       "    </tr>\n",
       "    <tr>\n",
       "      <th>243978</th>\n",
       "      <td>368476513</td>\n",
       "      <td>종합</td>\n",
       "      <td>online</td>\n",
       "      <td>지역지</td>\n",
       "      <td>중도일보</td>\n",
       "      <td>small</td>\n",
       "      <td>751</td>\n",
       "      <td>2019-11-26 07:26:00</td>\n",
       "      <td>당진시, 찾아가는 청소년 노동인권 교육 진행</td>\n",
       "      <td>당진시는 지난 12일 첫 교육을 시작으로 내달 12일까지 당진지역 청소년들을 대상으...</td>\n",
       "      <td>2309</td>\n",
       "      <td>{'readable': 5, 'accurate': 4, 'informative': ...</td>\n",
       "      <td>[1, 2, 6]</td>\n",
       "      <td>[당진시는 12일부터 당진시 노동상담소에서지역 청소년들을 대상으로 노동 인권 교육을...</td>\n",
       "    </tr>\n",
       "    <tr>\n",
       "      <th>243979</th>\n",
       "      <td>368476529</td>\n",
       "      <td>종합</td>\n",
       "      <td>online</td>\n",
       "      <td>지역지</td>\n",
       "      <td>중도일보</td>\n",
       "      <td>small</td>\n",
       "      <td>858</td>\n",
       "      <td>2019-11-26 07:13:00</td>\n",
       "      <td>서산시, 2020년 성인문해교실 신청하세요!</td>\n",
       "      <td>서산시(시장 맹정호)가 2020년 신규 성인문해교실(마을학교) 개강을 희망하는 마을...</td>\n",
       "      <td>167</td>\n",
       "      <td>{'readable': 3, 'accurate': 2, 'informative': ...</td>\n",
       "      <td>[5, 4, 8]</td>\n",
       "      <td>[서산시는 배움의 기회를 갖지 못한 어르신을 대상으로 성인문해교실(마을학교)를 운영...</td>\n",
       "    </tr>\n",
       "    <tr>\n",
       "      <th>243980</th>\n",
       "      <td>368476533</td>\n",
       "      <td>종합</td>\n",
       "      <td>online</td>\n",
       "      <td>지역지</td>\n",
       "      <td>중도일보</td>\n",
       "      <td>small</td>\n",
       "      <td>882</td>\n",
       "      <td>2019-11-26 06:57:00</td>\n",
       "      <td>서산시의회, 제247회 제2차 정례회 개회</td>\n",
       "      <td>서산시의회는 25일 제1차 본회의를 열고 제247회 제2차 정례회를 개회했다. 서산...</td>\n",
       "      <td>2287</td>\n",
       "      <td>{'readable': 3, 'accurate': 3, 'informative': ...</td>\n",
       "      <td>[1, 3, 4]</td>\n",
       "      <td>[서산시의회는 25일 제1차 본회의를 열고 다음달 13일까지 열리는 제247회 제2...</td>\n",
       "    </tr>\n",
       "    <tr>\n",
       "      <th>243981</th>\n",
       "      <td>368479493</td>\n",
       "      <td>종합</td>\n",
       "      <td>online</td>\n",
       "      <td>지역지</td>\n",
       "      <td>중도일보</td>\n",
       "      <td>small</td>\n",
       "      <td>938</td>\n",
       "      <td>2019-11-26 08:24:00</td>\n",
       "      <td>아산시, 온천 재활 헬스케어 힐링산업 본격 추진</td>\n",
       "      <td>아산시(시장 오세현)가 온천수를 활용한 재활 헬스케어 힐링산업에 본격 착수할 예정이...</td>\n",
       "      <td>1568</td>\n",
       "      <td>{'readable': 4, 'accurate': 4, 'informative': ...</td>\n",
       "      <td>[1, 2, 3]</td>\n",
       "      <td>[아산시가 25일 시청 상황실에서 전국적 허브를 구축하기 위한 재활헬스케어힐링스파산...</td>\n",
       "    </tr>\n",
       "    <tr>\n",
       "      <th>243982</th>\n",
       "      <td>368479496</td>\n",
       "      <td>종합</td>\n",
       "      <td>online</td>\n",
       "      <td>지역지</td>\n",
       "      <td>중도일보</td>\n",
       "      <td>medium</td>\n",
       "      <td>1178</td>\n",
       "      <td>2019-11-26 08:00:00</td>\n",
       "      <td>용인 비상에듀 기숙학원, 대입조기선발반 모집... 12월 15일 개강</td>\n",
       "      <td>입시 전문 재수기숙학원 용인비상에듀기숙학원이 2021학년도 수능을 준비하는 고교 졸...</td>\n",
       "      <td>2320</td>\n",
       "      <td>{'readable': 4, 'accurate': 3, 'informative': ...</td>\n",
       "      <td>[1, 5, 8]</td>\n",
       "      <td>[용인 태화산 끝자락에 위치한 1만여 평 규모의 입시 전문 재수기숙학원 용인비상에듀...</td>\n",
       "    </tr>\n",
       "  </tbody>\n",
       "</table>\n",
       "<p>243983 rows × 14 columns</p>\n",
       "</div>"
      ],
      "text/plain": [
       "               id category media_type media_sub_type media_name    size   \n",
       "0       290741778       종합     online            지역지       광양신문   small  \\\n",
       "1       290741792       종합     online            지역지       광양신문   small   \n",
       "2       290741793      스포츠     online            지역지       광양신문  medium   \n",
       "3       290741794       정치     online            지역지       광양신문   small   \n",
       "4       290741797       종합     online            지역지       광양신문   small   \n",
       "...           ...      ...        ...            ...        ...     ...   \n",
       "243978  368476513       종합     online            지역지       중도일보   small   \n",
       "243979  368476529       종합     online            지역지       중도일보   small   \n",
       "243980  368476533       종합     online            지역지       중도일보   small   \n",
       "243981  368479493       종합     online            지역지       중도일보   small   \n",
       "243982  368479496       종합     online            지역지       중도일보  medium   \n",
       "\n",
       "       char_count         publish_date   \n",
       "0             927  2018-01-05 18:54:55  \\\n",
       "1             764  2018-01-05 18:53:20   \n",
       "2            1066  2018-01-05 18:52:15   \n",
       "3             746  2018-01-05 18:50:17   \n",
       "4             978  2018-01-05 18:52:36   \n",
       "...           ...                  ...   \n",
       "243978        751  2019-11-26 07:26:00   \n",
       "243979        858  2019-11-26 07:13:00   \n",
       "243980        882  2019-11-26 06:57:00   \n",
       "243981        938  2019-11-26 08:24:00   \n",
       "243982       1178  2019-11-26 08:00:00   \n",
       "\n",
       "                                         title   \n",
       "0                       논 타작물 재배, 2월 말까지 신청하세요  \\\n",
       "1                여수시, 컬러빌리지 마무리...‘색채와 빛’도시 완성   \n",
       "2                      “새해 정기 받고 올해는 반드시 일내자!”   \n",
       "3                        농업인 역량 강화, 새해 실용교육 실시   \n",
       "4                        타이완 크루즈관광객 4천여명‘전남’온다   \n",
       "...                                        ...   \n",
       "243978                당진시, 찾아가는 청소년 노동인권 교육 진행   \n",
       "243979                서산시, 2020년 성인문해교실 신청하세요!   \n",
       "243980                 서산시의회, 제247회 제2차 정례회 개회   \n",
       "243981              아산시, 온천 재활 헬스케어 힐링산업 본격 추진   \n",
       "243982  용인 비상에듀 기숙학원, 대입조기선발반 모집... 12월 15일 개강   \n",
       "\n",
       "                                                     text  annotator_id   \n",
       "0       전라남도가 쌀 과잉문제를 근본적으로 해결하기 위해 올해부터 시행하는 쌀 생산조정제를...            11  \\\n",
       "1       여수시는 원도심 일대에서 추진된 컬러빌리지 사업을 지난해 말 마무리하며 색채와 빛의...            12   \n",
       "2       전남드래곤즈(사장 신승재)는 지난 4일 구봉산 해맞이 행사를 통해 새해 각오를 다졌...            13   \n",
       "3       광양시는 오는 11일부터 24일까지 농업인교육관과 읍면동 회의실에서 농업인 1050...            12   \n",
       "4       타이완의 크루즈관광객 4000여명이 올해 두 차례에 걸쳐 여수에 입항한다. 전라남도...            13   \n",
       "...                                                   ...           ...   \n",
       "243978  당진시는 지난 12일 첫 교육을 시작으로 내달 12일까지 당진지역 청소년들을 대상으...          2309   \n",
       "243979  서산시(시장 맹정호)가 2020년 신규 성인문해교실(마을학교) 개강을 희망하는 마을...           167   \n",
       "243980  서산시의회는 25일 제1차 본회의를 열고 제247회 제2차 정례회를 개회했다. 서산...          2287   \n",
       "243981  아산시(시장 오세현)가 온천수를 활용한 재활 헬스케어 힐링산업에 본격 착수할 예정이...          1568   \n",
       "243982  입시 전문 재수기숙학원 용인비상에듀기숙학원이 2021학년도 수능을 준비하는 고교 졸...          2320   \n",
       "\n",
       "                                  document_quality_scores  extractive   \n",
       "0       {'readable': 4, 'accurate': 3, 'informative': ...  [2, 3, 10]  \\\n",
       "1       {'readable': 4, 'accurate': 4, 'informative': ...  [2, 4, 11]   \n",
       "2       {'readable': 4, 'accurate': 4, 'informative': ...   [3, 5, 7]   \n",
       "3       {'readable': 4, 'accurate': 4, 'informative': ...   [2, 3, 4]   \n",
       "4       {'readable': 4, 'accurate': 4, 'informative': ...   [3, 7, 4]   \n",
       "...                                                   ...         ...   \n",
       "243978  {'readable': 5, 'accurate': 4, 'informative': ...   [1, 2, 6]   \n",
       "243979  {'readable': 3, 'accurate': 2, 'informative': ...   [5, 4, 8]   \n",
       "243980  {'readable': 3, 'accurate': 3, 'informative': ...   [1, 3, 4]   \n",
       "243981  {'readable': 4, 'accurate': 4, 'informative': ...   [1, 2, 3]   \n",
       "243982  {'readable': 4, 'accurate': 3, 'informative': ...   [1, 5, 8]   \n",
       "\n",
       "                                              abstractive  \n",
       "0       [전라남도가 쌀 과잉문제를 근본적으로 해결하기 위해 올해부터 벼를 심었던 논에 벼 ...  \n",
       "1       [여수시는 컬러빌리지 사업에 8억원을 투입하여 ‘색채와 빛’ 도시를 완성하여 고소천...  \n",
       "2       [전남드래곤즈 임직원과 선수단이 4일 구봉산 정상에 올라 일출을 보며 2018년 구...  \n",
       "3       [광양시는 농업인들의 경쟁력을 높이고, 소득안정을 위해 매실·감·참다래 등 지역특화...  \n",
       "4       [올해 4월과 6월 두 차례에 걸쳐 타이완의 크루즈 관광객 4000여명이 여수에 입...  \n",
       "...                                                   ...  \n",
       "243978  [당진시는 12일부터 당진시 노동상담소에서지역 청소년들을 대상으로 노동 인권 교육을...  \n",
       "243979  [서산시는 배움의 기회를 갖지 못한 어르신을 대상으로 성인문해교실(마을학교)를 운영...  \n",
       "243980  [서산시의회는 25일 제1차 본회의를 열고 다음달 13일까지 열리는 제247회 제2...  \n",
       "243981  [아산시가 25일 시청 상황실에서 전국적 허브를 구축하기 위한 재활헬스케어힐링스파산...  \n",
       "243982  [용인 태화산 끝자락에 위치한 1만여 평 규모의 입시 전문 재수기숙학원 용인비상에듀...  \n",
       "\n",
       "[243983 rows x 14 columns]"
      ]
     },
     "execution_count": 18,
     "metadata": {},
     "output_type": "execute_result"
    }
   ],
   "source": [
    "new_df = train_df.copy()\n",
    "new_df.text = train_df.text.apply(lambda x : sentence_validation(extract_body(x)))\n",
    "new_df"
   ]
  },
  {
   "cell_type": "code",
   "execution_count": null,
   "metadata": {},
   "outputs": [],
   "source": []
  },
  {
   "cell_type": "code",
   "execution_count": null,
   "metadata": {},
   "outputs": [],
   "source": []
  },
  {
   "cell_type": "code",
   "execution_count": null,
   "metadata": {},
   "outputs": [],
   "source": []
  },
  {
   "cell_type": "code",
   "execution_count": null,
   "metadata": {},
   "outputs": [],
   "source": []
  },
  {
   "cell_type": "code",
   "execution_count": null,
   "metadata": {},
   "outputs": [],
   "source": []
  },
  {
   "cell_type": "code",
   "execution_count": null,
   "metadata": {},
   "outputs": [],
   "source": []
  },
  {
   "cell_type": "code",
   "execution_count": null,
   "metadata": {},
   "outputs": [],
   "source": []
  },
  {
   "cell_type": "code",
   "execution_count": null,
   "metadata": {},
   "outputs": [],
   "source": []
  },
  {
   "cell_type": "code",
   "execution_count": null,
   "metadata": {},
   "outputs": [],
   "source": []
  },
  {
   "attachments": {},
   "cell_type": "markdown",
   "metadata": {},
   "source": [
    "## 여기가 끝"
   ]
  },
  {
   "cell_type": "code",
   "execution_count": null,
   "metadata": {},
   "outputs": [],
   "source": []
  },
  {
   "cell_type": "code",
   "execution_count": null,
   "metadata": {},
   "outputs": [],
   "source": []
  }
 ],
 "metadata": {
  "kernelspec": {
   "display_name": "venv",
   "language": "python",
   "name": "python3"
  },
  "language_info": {
   "codemirror_mode": {
    "name": "ipython",
    "version": 3
   },
   "file_extension": ".py",
   "mimetype": "text/x-python",
   "name": "python",
   "nbconvert_exporter": "python",
   "pygments_lexer": "ipython3",
   "version": "3.8.8"
  },
  "orig_nbformat": 4
 },
 "nbformat": 4,
 "nbformat_minor": 2
}
