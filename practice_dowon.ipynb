{
 "cells": [
  {
   "attachments": {},
   "cell_type": "markdown",
   "metadata": {},
   "source": [
    "# Final Project"
   ]
  },
  {
   "attachments": {},
   "cell_type": "markdown",
   "metadata": {},
   "source": [
    "## 파이썬 환경 설정 및 확인"
   ]
  },
  {
   "cell_type": "code",
   "execution_count": null,
   "metadata": {},
   "outputs": [],
   "source": [
    "# C:/Users/TECH2_22/이도원/usingcloud_final/venv/Scripts/python.exe"
   ]
  },
  {
   "cell_type": "code",
   "execution_count": 20,
   "metadata": {},
   "outputs": [
    {
     "data": {
      "text/plain": [
       "'c:\\\\Users\\\\TECH2_22\\\\이도원\\\\usingcloud_final'"
      ]
     },
     "execution_count": 20,
     "metadata": {},
     "output_type": "execute_result"
    }
   ],
   "source": [
    "import os\n",
    "\n",
    "os.getcwd()"
   ]
  },
  {
   "cell_type": "code",
   "execution_count": 1,
   "metadata": {},
   "outputs": [
    {
     "name": "stdout",
     "output_type": "stream",
     "text": [
      "hello world\n"
     ]
    }
   ],
   "source": [
    "print('hello world')"
   ]
  },
  {
   "cell_type": "code",
   "execution_count": 2,
   "metadata": {},
   "outputs": [
    {
     "name": "stdout",
     "output_type": "stream",
     "text": [
      "Python 3.8.8\n"
     ]
    }
   ],
   "source": [
    "!python --version"
   ]
  },
  {
   "attachments": {},
   "cell_type": "markdown",
   "metadata": {},
   "source": [
    "## 데이터 로드 및 설정"
   ]
  },
  {
   "attachments": {},
   "cell_type": "markdown",
   "metadata": {},
   "source": [
    "### 최초 1회만 실행"
   ]
  },
  {
   "cell_type": "code",
   "execution_count": 1,
   "metadata": {},
   "outputs": [],
   "source": [
    "import pandas as pd\n",
    "import numpy as np\n",
    "import json\n",
    "\n",
    "with open('./data/train_original.json', encoding='utf-8') as train_f:\n",
    "    train_data = json.loads(train_f.read())\n",
    "    train_df = pd.DataFrame(train_data['documents'])\n",
    "\n",
    "with open('./data/valid_original.json', encoding='utf-8') as valid_f:\n",
    "    valid_data = json.loads(valid_f.read())\n",
    "    valid_df = pd.DataFrame(valid_data['documents'])"
   ]
  },
  {
   "attachments": {},
   "cell_type": "markdown",
   "metadata": {},
   "source": [
    "## eda"
   ]
  },
  {
   "cell_type": "code",
   "execution_count": 69,
   "metadata": {},
   "outputs": [
    {
     "data": {
      "text/html": [
       "<div>\n",
       "<style scoped>\n",
       "    .dataframe tbody tr th:only-of-type {\n",
       "        vertical-align: middle;\n",
       "    }\n",
       "\n",
       "    .dataframe tbody tr th {\n",
       "        vertical-align: top;\n",
       "    }\n",
       "\n",
       "    .dataframe thead th {\n",
       "        text-align: right;\n",
       "    }\n",
       "</style>\n",
       "<table border=\"1\" class=\"dataframe\">\n",
       "  <thead>\n",
       "    <tr style=\"text-align: right;\">\n",
       "      <th></th>\n",
       "      <th>id</th>\n",
       "      <th>category</th>\n",
       "      <th>media_type</th>\n",
       "      <th>media_sub_type</th>\n",
       "      <th>media_name</th>\n",
       "      <th>size</th>\n",
       "      <th>char_count</th>\n",
       "      <th>publish_date</th>\n",
       "      <th>title</th>\n",
       "      <th>text</th>\n",
       "      <th>annotator_id</th>\n",
       "      <th>document_quality_scores</th>\n",
       "      <th>extractive</th>\n",
       "      <th>abstractive</th>\n",
       "    </tr>\n",
       "  </thead>\n",
       "  <tbody>\n",
       "    <tr>\n",
       "      <th>0</th>\n",
       "      <td>290741778</td>\n",
       "      <td>종합</td>\n",
       "      <td>online</td>\n",
       "      <td>지역지</td>\n",
       "      <td>광양신문</td>\n",
       "      <td>small</td>\n",
       "      <td>927</td>\n",
       "      <td>2018-01-05 18:54:55</td>\n",
       "      <td>논 타작물 재배, 2월 말까지 신청하세요</td>\n",
       "      <td>[[{'index': 0, 'sentence': 'ha당 조사료 400만원…작물별 ...</td>\n",
       "      <td>11</td>\n",
       "      <td>{'readable': 4, 'accurate': 3, 'informative': ...</td>\n",
       "      <td>[2, 3, 10]</td>\n",
       "      <td>[전라남도가 쌀 과잉문제를 근본적으로 해결하기 위해 올해부터 벼를 심었던 논에 벼 ...</td>\n",
       "    </tr>\n",
       "    <tr>\n",
       "      <th>1</th>\n",
       "      <td>290741792</td>\n",
       "      <td>종합</td>\n",
       "      <td>online</td>\n",
       "      <td>지역지</td>\n",
       "      <td>광양신문</td>\n",
       "      <td>small</td>\n",
       "      <td>764</td>\n",
       "      <td>2018-01-05 18:53:20</td>\n",
       "      <td>여수시, 컬러빌리지 마무리...‘색채와 빛’도시 완성</td>\n",
       "      <td>[[{'index': 0, 'sentence': '8억 투입, 고소천사벽화·자산마을...</td>\n",
       "      <td>12</td>\n",
       "      <td>{'readable': 4, 'accurate': 4, 'informative': ...</td>\n",
       "      <td>[2, 4, 11]</td>\n",
       "      <td>[여수시는 컬러빌리지 사업에 8억원을 투입하여 ‘색채와 빛’ 도시를 완성하여 고소천...</td>\n",
       "    </tr>\n",
       "    <tr>\n",
       "      <th>2</th>\n",
       "      <td>290741793</td>\n",
       "      <td>스포츠</td>\n",
       "      <td>online</td>\n",
       "      <td>지역지</td>\n",
       "      <td>광양신문</td>\n",
       "      <td>medium</td>\n",
       "      <td>1066</td>\n",
       "      <td>2018-01-05 18:52:15</td>\n",
       "      <td>“새해 정기 받고 올해는 반드시 일내자!”</td>\n",
       "      <td>[[{'index': 0, 'sentence': '전남드래곤즈 해맞이 다짐…선수 영...</td>\n",
       "      <td>13</td>\n",
       "      <td>{'readable': 4, 'accurate': 4, 'informative': ...</td>\n",
       "      <td>[3, 5, 7]</td>\n",
       "      <td>[전남드래곤즈 임직원과 선수단이 4일 구봉산 정상에 올라 일출을 보며 2018년 구...</td>\n",
       "    </tr>\n",
       "  </tbody>\n",
       "</table>\n",
       "</div>"
      ],
      "text/plain": [
       "          id category media_type media_sub_type media_name    size char_count   \n",
       "0  290741778       종합     online            지역지       광양신문   small        927  \\\n",
       "1  290741792       종합     online            지역지       광양신문   small        764   \n",
       "2  290741793      스포츠     online            지역지       광양신문  medium       1066   \n",
       "\n",
       "          publish_date                          title   \n",
       "0  2018-01-05 18:54:55         논 타작물 재배, 2월 말까지 신청하세요  \\\n",
       "1  2018-01-05 18:53:20  여수시, 컬러빌리지 마무리...‘색채와 빛’도시 완성   \n",
       "2  2018-01-05 18:52:15        “새해 정기 받고 올해는 반드시 일내자!”   \n",
       "\n",
       "                                                text  annotator_id   \n",
       "0  [[{'index': 0, 'sentence': 'ha당 조사료 400만원…작물별 ...            11  \\\n",
       "1  [[{'index': 0, 'sentence': '8억 투입, 고소천사벽화·자산마을...            12   \n",
       "2  [[{'index': 0, 'sentence': '전남드래곤즈 해맞이 다짐…선수 영...            13   \n",
       "\n",
       "                             document_quality_scores  extractive   \n",
       "0  {'readable': 4, 'accurate': 3, 'informative': ...  [2, 3, 10]  \\\n",
       "1  {'readable': 4, 'accurate': 4, 'informative': ...  [2, 4, 11]   \n",
       "2  {'readable': 4, 'accurate': 4, 'informative': ...   [3, 5, 7]   \n",
       "\n",
       "                                         abstractive  \n",
       "0  [전라남도가 쌀 과잉문제를 근본적으로 해결하기 위해 올해부터 벼를 심었던 논에 벼 ...  \n",
       "1  [여수시는 컬러빌리지 사업에 8억원을 투입하여 ‘색채와 빛’ 도시를 완성하여 고소천...  \n",
       "2  [전남드래곤즈 임직원과 선수단이 4일 구봉산 정상에 올라 일출을 보며 2018년 구...  "
      ]
     },
     "execution_count": 69,
     "metadata": {},
     "output_type": "execute_result"
    }
   ],
   "source": [
    "train_df.head(3)"
   ]
  },
  {
   "cell_type": "code",
   "execution_count": 59,
   "metadata": {},
   "outputs": [
    {
     "name": "stdout",
     "output_type": "stream",
     "text": [
      "<class 'pandas.core.frame.DataFrame'>\n",
      "RangeIndex: 243983 entries, 0 to 243982\n",
      "Data columns (total 14 columns):\n",
      " #   Column                   Non-Null Count   Dtype \n",
      "---  ------                   --------------   ----- \n",
      " 0   id                       243983 non-null  object\n",
      " 1   category                 243983 non-null  object\n",
      " 2   media_type               243983 non-null  object\n",
      " 3   media_sub_type           243983 non-null  object\n",
      " 4   media_name               243983 non-null  object\n",
      " 5   size                     243983 non-null  object\n",
      " 6   char_count               243983 non-null  object\n",
      " 7   publish_date             243983 non-null  object\n",
      " 8   title                    243983 non-null  object\n",
      " 9   text                     243983 non-null  object\n",
      " 10  annotator_id             243983 non-null  int64 \n",
      " 11  document_quality_scores  243983 non-null  object\n",
      " 12  extractive               243983 non-null  object\n",
      " 13  abstractive              243983 non-null  object\n",
      "dtypes: int64(1), object(13)\n",
      "memory usage: 26.1+ MB\n"
     ]
    }
   ],
   "source": [
    "train_df.info()"
   ]
  },
  {
   "cell_type": "code",
   "execution_count": 61,
   "metadata": {},
   "outputs": [
    {
     "data": {
      "text/plain": [
       "(243983, 14)"
      ]
     },
     "execution_count": 61,
     "metadata": {},
     "output_type": "execute_result"
    }
   ],
   "source": [
    "train_df.shape"
   ]
  },
  {
   "cell_type": "code",
   "execution_count": 70,
   "metadata": {},
   "outputs": [
    {
     "data": {
      "text/html": [
       "<div>\n",
       "<style scoped>\n",
       "    .dataframe tbody tr th:only-of-type {\n",
       "        vertical-align: middle;\n",
       "    }\n",
       "\n",
       "    .dataframe tbody tr th {\n",
       "        vertical-align: top;\n",
       "    }\n",
       "\n",
       "    .dataframe thead th {\n",
       "        text-align: right;\n",
       "    }\n",
       "</style>\n",
       "<table border=\"1\" class=\"dataframe\">\n",
       "  <thead>\n",
       "    <tr style=\"text-align: right;\">\n",
       "      <th></th>\n",
       "      <th>0</th>\n",
       "    </tr>\n",
       "  </thead>\n",
       "  <tbody>\n",
       "    <tr>\n",
       "      <th>id</th>\n",
       "      <td>290741778</td>\n",
       "    </tr>\n",
       "    <tr>\n",
       "      <th>category</th>\n",
       "      <td>종합</td>\n",
       "    </tr>\n",
       "    <tr>\n",
       "      <th>media_type</th>\n",
       "      <td>online</td>\n",
       "    </tr>\n",
       "    <tr>\n",
       "      <th>media_sub_type</th>\n",
       "      <td>지역지</td>\n",
       "    </tr>\n",
       "    <tr>\n",
       "      <th>media_name</th>\n",
       "      <td>광양신문</td>\n",
       "    </tr>\n",
       "    <tr>\n",
       "      <th>size</th>\n",
       "      <td>small</td>\n",
       "    </tr>\n",
       "    <tr>\n",
       "      <th>char_count</th>\n",
       "      <td>927</td>\n",
       "    </tr>\n",
       "    <tr>\n",
       "      <th>publish_date</th>\n",
       "      <td>2018-01-05 18:54:55</td>\n",
       "    </tr>\n",
       "    <tr>\n",
       "      <th>title</th>\n",
       "      <td>논 타작물 재배, 2월 말까지 신청하세요</td>\n",
       "    </tr>\n",
       "    <tr>\n",
       "      <th>text</th>\n",
       "      <td>[[{'index': 0, 'sentence': 'ha당 조사료 400만원…작물별 ...</td>\n",
       "    </tr>\n",
       "    <tr>\n",
       "      <th>annotator_id</th>\n",
       "      <td>11</td>\n",
       "    </tr>\n",
       "    <tr>\n",
       "      <th>document_quality_scores</th>\n",
       "      <td>{'readable': 4, 'accurate': 3, 'informative': ...</td>\n",
       "    </tr>\n",
       "    <tr>\n",
       "      <th>extractive</th>\n",
       "      <td>[2, 3, 10]</td>\n",
       "    </tr>\n",
       "    <tr>\n",
       "      <th>abstractive</th>\n",
       "      <td>[전라남도가 쌀 과잉문제를 근본적으로 해결하기 위해 올해부터 벼를 심었던 논에 벼 ...</td>\n",
       "    </tr>\n",
       "  </tbody>\n",
       "</table>\n",
       "</div>"
      ],
      "text/plain": [
       "                                                                         0\n",
       "id                                                               290741778\n",
       "category                                                                종합\n",
       "media_type                                                          online\n",
       "media_sub_type                                                         지역지\n",
       "media_name                                                            광양신문\n",
       "size                                                                 small\n",
       "char_count                                                             927\n",
       "publish_date                                           2018-01-05 18:54:55\n",
       "title                                               논 타작물 재배, 2월 말까지 신청하세요\n",
       "text                     [[{'index': 0, 'sentence': 'ha당 조사료 400만원…작물별 ...\n",
       "annotator_id                                                            11\n",
       "document_quality_scores  {'readable': 4, 'accurate': 3, 'informative': ...\n",
       "extractive                                                      [2, 3, 10]\n",
       "abstractive              [전라남도가 쌀 과잉문제를 근본적으로 해결하기 위해 올해부터 벼를 심었던 논에 벼 ..."
      ]
     },
     "execution_count": 70,
     "metadata": {},
     "output_type": "execute_result"
    }
   ],
   "source": [
    "train_df.head(1).T"
   ]
  },
  {
   "cell_type": "code",
   "execution_count": 62,
   "metadata": {},
   "outputs": [
    {
     "data": {
      "text/plain": [
       "id                         0\n",
       "category                   0\n",
       "media_type                 0\n",
       "media_sub_type             0\n",
       "media_name                 0\n",
       "size                       0\n",
       "char_count                 0\n",
       "publish_date               0\n",
       "title                      0\n",
       "text                       0\n",
       "annotator_id               0\n",
       "document_quality_scores    0\n",
       "extractive                 0\n",
       "abstractive                0\n",
       "dtype: int64"
      ]
     },
     "execution_count": 62,
     "metadata": {},
     "output_type": "execute_result"
    }
   ],
   "source": [
    "train_df.isnull().sum()"
   ]
  },
  {
   "cell_type": "code",
   "execution_count": 63,
   "metadata": {},
   "outputs": [
    {
     "data": {
      "text/plain": [
       "Index(['id', 'category', 'media_type', 'media_sub_type', 'media_name', 'size',\n",
       "       'char_count', 'publish_date', 'title', 'text', 'annotator_id',\n",
       "       'document_quality_scores', 'extractive', 'abstractive'],\n",
       "      dtype='object')"
      ]
     },
     "execution_count": 63,
     "metadata": {},
     "output_type": "execute_result"
    }
   ],
   "source": [
    "train_df.columns"
   ]
  },
  {
   "cell_type": "code",
   "execution_count": null,
   "metadata": {},
   "outputs": [],
   "source": []
  },
  {
   "cell_type": "code",
   "execution_count": null,
   "metadata": {},
   "outputs": [],
   "source": []
  },
  {
   "attachments": {},
   "cell_type": "markdown",
   "metadata": {},
   "source": [
    "## 전처리"
   ]
  },
  {
   "cell_type": "code",
   "execution_count": 44,
   "metadata": {},
   "outputs": [],
   "source": [
    "def sentence_validation(item, sentence, item_list):\n",
    "    val_bool = False\n",
    "    if item == []:\n",
    "        val_bool = True\n",
    "    if sentence in item_list:\n",
    "        val_bool = True\n",
    "    if len(sentence) <= 20:\n",
    "        val_bool = True\n",
    "    if '@' in sentence or '/사진' in sentence:\n",
    "        val_bool = True\n",
    "    return val_bool\n",
    "\n",
    "\n",
    "def extract_body(article) -> str:\n",
    "    item_list = []\n",
    "\n",
    "    # item = train_df['text'][n][idx]\n",
    "    for idx, item in enumerate(article):\n",
    "        sentence = item[0]['sentence']\n",
    "        if sentence_validation(item, sentence, item_list):\n",
    "            print(f'넘기는 항목 : {sentence}')\n",
    "            continue\n",
    "        \n",
    "        if len(item) >= 2:\n",
    "            for sub_item in item:\n",
    "                \n",
    "                print()\n",
    "                sub_sentence = sub_item['sentence']\n",
    "                print(f'검증대상 하위 항목 : {sub_sentence}')\n",
    "                if not sentence_validation(sub_item, sentence, item_list):\n",
    "                    print(f'추가되는 하위 항목 : {sentence}')\n",
    "                    item_list.append(sub_item['sentence'])\n",
    "                    continue\n",
    "                else:\n",
    "                    print(f'넘기는 하위 항목: {sub_sentence}')\n",
    "        \n",
    "        print(f'추가되는 항목 : {sentence}')\n",
    "        item_list.append(sentence)\n",
    "\n",
    "    return ' '.join(item_list)"
   ]
  },
  {
   "cell_type": "code",
   "execution_count": 45,
   "metadata": {},
   "outputs": [
    {
     "name": "stdout",
     "output_type": "stream",
     "text": [
      "넘기는 항목 : 박종대 기자\n",
      "넘기는 항목 : 도내 거리 악취 없애려 안간힘\n",
      "추가되는 항목 : 경기도내 지자체들이 매년 반복되는 가을철 은행나무 악취 민원 해결을 위해 온갖 방법을 동원하면서 시민들의 불편을 줄이고자 안간힘을 쓰고 있다.\n",
      "추가되는 항목 : 6일 도내 지자체들에 따르면 친환경적인 방법으로 은행열매를 제거해 가을철 도로변 악취 문제를 해결하기 위한 방법을 고안하고 있다.\n",
      "추가되는 항목 : 대표적으로 수원시는 산하 사업소를 통해 주요 대로변, 상가밀집지역 등 유동인구가 많은 곳을 대상으로 ‘은행 암나무 수종(樹種) 교체사업’을 진행한다.\n",
      "\n",
      "검증대상 하위 항목 : 시는 지난해 은행나무를 전수조사하고 수종 교체를 위한 연차별 기본계획을 수립한 바 있다.\n",
      "추가되는 하위 항목 : 시는 지난해 은행나무를 전수조사하고 수종 교체를 위한 연차별 기본계획을 수립한 바 있다.\n",
      "\n",
      "검증대상 하위 항목 : 지난 4월 사업을 시작해 은행 암나무 600여 그루를 은행 수나무·느티나무 등 다른 나무로 교체했다.\n",
      "넘기는 하위 항목: 지난 4월 사업을 시작해 은행 암나무 600여 그루를 은행 수나무·느티나무 등 다른 나무로 교체했다.\n",
      "\n",
      "검증대상 하위 항목 : 2022년까지 예산 36억 원을 투입할 예정이다.\n",
      "넘기는 하위 항목: 2022년까지 예산 36억 원을 투입할 예정이다.\n",
      "\n",
      "검증대상 하위 항목 : 아직 교체하지 못 했거나 보존 가치가 있는 은행나무는 열매 털기 작업을 실시한다.\n",
      "넘기는 하위 항목: 아직 교체하지 못 했거나 보존 가치가 있는 은행나무는 열매 털기 작업을 실시한다.\n",
      "\n",
      "검증대상 하위 항목 : 은행열매 진동 수확기를 활용해 은행열매를 털어 악취를 없앤다.\n",
      "넘기는 하위 항목: 은행열매 진동 수확기를 활용해 은행열매를 털어 악취를 없앤다.\n",
      "추가되는 항목 : 시는 지난해 은행나무를 전수조사하고 수종 교체를 위한 연차별 기본계획을 수립한 바 있다.\n",
      "\n",
      "검증대상 하위 항목 : 은행나무 열매와 낙엽을 한꺼번에 처리할 수 있는 ‘은행열매 수집망’도 설치했다.\n",
      "추가되는 하위 항목 : 은행나무 열매와 낙엽을 한꺼번에 처리할 수 있는 ‘은행열매 수집망’도 설치했다.\n",
      "\n",
      "검증대상 하위 항목 : 은행열매 수집망은 나무에 해를 가하지 않고 열매와 낙엽을 제거하는 친환경 방법이다.\n",
      "넘기는 하위 항목: 은행열매 수집망은 나무에 해를 가하지 않고 열매와 낙엽을 제거하는 친환경 방법이다.\n",
      "\n",
      "검증대상 하위 항목 : 현재 도로 주행 차량에 방해를 주지 않는 팔달로와 창룡대로에 9개 수집망을 설치했다.\n",
      "넘기는 하위 항목: 현재 도로 주행 차량에 방해를 주지 않는 팔달로와 창룡대로에 9개 수집망을 설치했다.\n",
      "추가되는 항목 : 은행나무 열매와 낙엽을 한꺼번에 처리할 수 있는 ‘은행열매 수집망’도 설치했다.\n",
      "\n",
      "검증대상 하위 항목 : 안산시 단원구는 지난달 21일부터 은행나무 열매로 인한 지속적인 악취로 고통받는 시민 피해를 막기 위해 은행열매를 조기 채취하고 있다.\n",
      "추가되는 하위 항목 : 안산시 단원구는 지난달 21일부터 은행나무 열매로 인한 지속적인 악취로 고통받는 시민 피해를 막기 위해 은행열매를 조기 채취하고 있다.\n",
      "\n",
      "검증대상 하위 항목 : 원선1로 등 3개 노선은 수거를 완료했으며, 휴일에도 3개 조 15명을 투입해 평일 작업이 어려운 산업단지 등의 열매를 제거하고 있다.\n",
      "넘기는 하위 항목: 원선1로 등 3개 노선은 수거를 완료했으며, 휴일에도 3개 조 15명을 투입해 평일 작업이 어려운 산업단지 등의 열매를 제거하고 있다.\n",
      "추가되는 항목 : 안산시 단원구는 지난달 21일부터 은행나무 열매로 인한 지속적인 악취로 고통받는 시민 피해를 막기 위해 은행열매를 조기 채취하고 있다.\n",
      "\n",
      "검증대상 하위 항목 : 구는 수거된 은행열매에 대해 중금속검사와 잔류농약검사를 벌여 ‘안전하다’고 판정된 수확물은 지역 복지관 및 경로당에 기부할 예정이다.\n",
      "추가되는 하위 항목 : 구는 수거된 은행열매에 대해 중금속검사와 잔류농약검사를 벌여 ‘안전하다’고 판정된 수확물은 지역 복지관 및 경로당에 기부할 예정이다.\n",
      "\n",
      "검증대상 하위 항목 : 또한 은행열매 수집망 설치도 검토하는 등 시민 불편을 줄일 수 있도록 다양한 방안을 모색 중이다.\n",
      "넘기는 하위 항목: 또한 은행열매 수집망 설치도 검토하는 등 시민 불편을 줄일 수 있도록 다양한 방안을 모색 중이다.\n",
      "추가되는 항목 : 구는 수거된 은행열매에 대해 중금속검사와 잔류농약검사를 벌여 ‘안전하다’고 판정된 수확물은 지역 복지관 및 경로당에 기부할 예정이다.\n",
      "\n",
      "검증대상 하위 항목 : 부천시와 고양시 덕양구 역시 은행나무 암나무를 열매를 맺지 않는 수나무로 바꾼다.\n",
      "추가되는 하위 항목 : 부천시와 고양시 덕양구 역시 은행나무 암나무를 열매를 맺지 않는 수나무로 바꾼다.\n",
      "\n",
      "검증대상 하위 항목 : 부천시는 먼저 126그루를 수나무로 단계적 교체한다.\n",
      "넘기는 하위 항목: 부천시는 먼저 126그루를 수나무로 단계적 교체한다.\n",
      "\n",
      "검증대상 하위 항목 : 주민 피해가 심한 도심부터 작업을 추진해 순차적으로 1천200그루를 교체한다.\n",
      "넘기는 하위 항목: 주민 피해가 심한 도심부터 작업을 추진해 순차적으로 1천200그루를 교체한다.\n",
      "\n",
      "검증대상 하위 항목 : 고양시 덕양구는 최근 은행열매가 사계절 내내 낙과하면서 2018년 5월부터 은행나무 가로수 240여 주를 교체했다.\n",
      "넘기는 하위 항목: 고양시 덕양구는 최근 은행열매가 사계절 내내 낙과하면서 2018년 5월부터 은행나무 가로수 240여 주를 교체했다.\n",
      "추가되는 항목 : 부천시와 고양시 덕양구 역시 은행나무 암나무를 열매를 맺지 않는 수나무로 바꾼다.\n",
      "추가되는 항목 : 최광열 수원시 공원녹지사업소장은 \"가을철에 접어들면서 버스정류장, 상가밀집지역 등을 중심으로 은행열매 악취를 호소하는 민원이 폭주하고 있다\"며 \"시민 불편을 줄이기 위해 총력을 기울이겠다\"고 말했다.\n",
      "넘기는 항목 : 박종대 기자 pjd@kihoilbo.co.kr\n"
     ]
    },
    {
     "data": {
      "text/plain": [
       "'경기도내 지자체들이 매년 반복되는 가을철 은행나무 악취 민원 해결을 위해 온갖 방법을 동원하면서 시민들의 불편을 줄이고자 안간힘을 쓰고 있다. 6일 도내 지자체들에 따르면 친환경적인 방법으로 은행열매를 제거해 가을철 도로변 악취 문제를 해결하기 위한 방법을 고안하고 있다. 대표적으로 수원시는 산하 사업소를 통해 주요 대로변, 상가밀집지역 등 유동인구가 많은 곳을 대상으로 ‘은행 암나무 수종(樹種) 교체사업’을 진행한다. 시는 지난해 은행나무를 전수조사하고 수종 교체를 위한 연차별 기본계획을 수립한 바 있다. 시는 지난해 은행나무를 전수조사하고 수종 교체를 위한 연차별 기본계획을 수립한 바 있다. 은행나무 열매와 낙엽을 한꺼번에 처리할 수 있는 ‘은행열매 수집망’도 설치했다. 은행나무 열매와 낙엽을 한꺼번에 처리할 수 있는 ‘은행열매 수집망’도 설치했다. 안산시 단원구는 지난달 21일부터 은행나무 열매로 인한 지속적인 악취로 고통받는 시민 피해를 막기 위해 은행열매를 조기 채취하고 있다. 안산시 단원구는 지난달 21일부터 은행나무 열매로 인한 지속적인 악취로 고통받는 시민 피해를 막기 위해 은행열매를 조기 채취하고 있다. 구는 수거된 은행열매에 대해 중금속검사와 잔류농약검사를 벌여 ‘안전하다’고 판정된 수확물은 지역 복지관 및 경로당에 기부할 예정이다. 구는 수거된 은행열매에 대해 중금속검사와 잔류농약검사를 벌여 ‘안전하다’고 판정된 수확물은 지역 복지관 및 경로당에 기부할 예정이다. 부천시와 고양시 덕양구 역시 은행나무 암나무를 열매를 맺지 않는 수나무로 바꾼다. 부천시와 고양시 덕양구 역시 은행나무 암나무를 열매를 맺지 않는 수나무로 바꾼다. 최광열 수원시 공원녹지사업소장은 \"가을철에 접어들면서 버스정류장, 상가밀집지역 등을 중심으로 은행열매 악취를 호소하는 민원이 폭주하고 있다\"며 \"시민 불편을 줄이기 위해 총력을 기울이겠다\"고 말했다.'"
      ]
     },
     "execution_count": 45,
     "metadata": {},
     "output_type": "execute_result"
    }
   ],
   "source": [
    "sentence_list = extract_body(train_df['text'][24000])\n",
    "sentence_list"
   ]
  },
  {
   "cell_type": "code",
   "execution_count": 10,
   "metadata": {},
   "outputs": [
    {
     "name": "stdout",
     "output_type": "stream",
     "text": [
      "[{'index': 0, 'sentence': '박종대 기자', 'highlight_indices': ''}]\n",
      "[{'index': 1, 'sentence': '도내 거리 악취 없애려 안간힘', 'highlight_indices': ''}, {'index': 2, 'sentence': '은행 열매 수집망.', 'highlight_indices': ''}, {'index': 3, 'sentence': '/사진 = 수원시 제공', 'highlight_indices': ''}]\n",
      "[{'index': 4, 'sentence': '경기도내 지자체들이 매년 반복되는 가을철 은행나무 악취 민원 해결을 위해 온갖 방법을 동원하면서 시민들의 불편을 줄이고자 안간힘을 쓰고 있다.', 'highlight_indices': '11,13;41,43'}]\n",
      "[{'index': 5, 'sentence': '6일 도내 지자체들에 따르면 친환경적인 방법으로 은행열매를 제거해 가을철 도로변 악취 문제를 해결하기 위한 방법을 고안하고 있다.', 'highlight_indices': ''}]\n",
      "[{'index': 6, 'sentence': '대표적으로 수원시는 산하 사업소를 통해 주요 대로변, 상가밀집지역 등 유동인구가 많은 곳을 대상으로 ‘은행 암나무 수종(樹種) 교체사업’을 진행한다.', 'highlight_indices': ''}]\n",
      "[{'index': 7, 'sentence': '시는 지난해 은행나무를 전수조사하고 수종 교체를 위한 연차별 기본계획을 수립한 바 있다.', 'highlight_indices': ''}, {'index': 8, 'sentence': '지난 4월 사업을 시작해 은행 암나무 600여 그루를 은행 수나무·느티나무 등 다른 나무로 교체했다.', 'highlight_indices': '44,46'}, {'index': 9, 'sentence': '2022년까지 예산 36억 원을 투입할 예정이다.', 'highlight_indices': ''}, {'index': 10, 'sentence': '아직 교체하지 못 했거나 보존 가치가 있는 은행나무는 열매 털기 작업을 실시한다.', 'highlight_indices': '0,2;8,9'}, {'index': 11, 'sentence': '은행열매 진동 수확기를 활용해 은행열매를 털어 악취를 없앤다.', 'highlight_indices': ''}]\n",
      "[{'index': 12, 'sentence': '은행나무 열매와 낙엽을 한꺼번에 처리할 수 있는 ‘은행열매 수집망’도 설치했다.', 'highlight_indices': '13,17'}, {'index': 13, 'sentence': '은행열매 수집망은 나무에 해를 가하지 않고 열매와 낙엽을 제거하는 친환경 방법이다.', 'highlight_indices': ''}, {'index': 14, 'sentence': '현재 도로 주행 차량에 방해를 주지 않는 팔달로와 창룡대로에 9개 수집망을 설치했다.', 'highlight_indices': '0,2'}]\n",
      "[{'index': 15, 'sentence': '안산시 단원구는 지난달 21일부터 은행나무 열매로 인한 지속적인 악취로 고통받는 시민 피해를 막기 위해 은행열매를 조기 채취하고 있다.', 'highlight_indices': ''}, {'index': 16, 'sentence': '원선1로 등 3개 노선은 수거를 완료했으며, 휴일에도 3개 조 15명을 투입해 평일 작업이 어려운 산업단지 등의 열매를 제거하고 있다.', 'highlight_indices': ''}]\n",
      "[{'index': 17, 'sentence': '구는 수거된 은행열매에 대해 중금속검사와 잔류농약검사를 벌여 ‘안전하다’고 판정된 수확물은 지역 복지관 및 경로당에 기부할 예정이다.', 'highlight_indices': '58,59'}, {'index': 18, 'sentence': '또한 은행열매 수집망 설치도 검토하는 등 시민 불편을 줄일 수 있도록 다양한 방안을 모색 중이다.', 'highlight_indices': '0,2'}]\n",
      "[{'index': 19, 'sentence': '부천시와 고양시 덕양구 역시 은행나무 암나무를 열매를 맺지 않는 수나무로 바꾼다.', 'highlight_indices': '13,15'}, {'index': 20, 'sentence': '부천시는 먼저 126그루를 수나무로 단계적 교체한다.', 'highlight_indices': '5,7'}, {'index': 21, 'sentence': '주민 피해가 심한 도심부터 작업을 추진해 순차적으로 1천200그루를 교체한다.', 'highlight_indices': ''}, {'index': 22, 'sentence': '고양시 덕양구는 최근 은행열매가 사계절 내내 낙과하면서 2018년 5월부터 은행나무 가로수 240여 주를 교체했다.', 'highlight_indices': '22,24'}]\n",
      "[{'index': 23, 'sentence': '최광열 수원시 공원녹지사업소장은 \"가을철에 접어들면서 버스정류장, 상가밀집지역 등을 중심으로 은행열매 악취를 호소하는 민원이 폭주하고 있다\"며 \"시민 불편을 줄이기 위해 총력을 기울이겠다\"고 말했다.', 'highlight_indices': ''}]\n",
      "[{'index': 24, 'sentence': '박종대 기자 pjd@kihoilbo.co.kr', 'highlight_indices': ''}]\n"
     ]
    }
   ],
   "source": [
    "for item in train_df['text'][24000]:\n",
    "    print(item)"
   ]
  },
  {
   "cell_type": "code",
   "execution_count": null,
   "metadata": {},
   "outputs": [],
   "source": []
  },
  {
   "cell_type": "code",
   "execution_count": null,
   "metadata": {},
   "outputs": [],
   "source": []
  },
  {
   "cell_type": "code",
   "execution_count": null,
   "metadata": {},
   "outputs": [],
   "source": []
  },
  {
   "cell_type": "code",
   "execution_count": null,
   "metadata": {},
   "outputs": [],
   "source": []
  },
  {
   "cell_type": "code",
   "execution_count": null,
   "metadata": {},
   "outputs": [],
   "source": []
  },
  {
   "cell_type": "code",
   "execution_count": null,
   "metadata": {},
   "outputs": [],
   "source": []
  },
  {
   "cell_type": "code",
   "execution_count": null,
   "metadata": {},
   "outputs": [],
   "source": []
  },
  {
   "cell_type": "code",
   "execution_count": null,
   "metadata": {},
   "outputs": [],
   "source": []
  },
  {
   "cell_type": "code",
   "execution_count": null,
   "metadata": {},
   "outputs": [],
   "source": []
  },
  {
   "attachments": {},
   "cell_type": "markdown",
   "metadata": {},
   "source": [
    "## 여기가 끝"
   ]
  },
  {
   "cell_type": "code",
   "execution_count": null,
   "metadata": {},
   "outputs": [],
   "source": []
  },
  {
   "cell_type": "code",
   "execution_count": null,
   "metadata": {},
   "outputs": [],
   "source": []
  }
 ],
 "metadata": {
  "kernelspec": {
   "display_name": "venv",
   "language": "python",
   "name": "python3"
  },
  "language_info": {
   "codemirror_mode": {
    "name": "ipython",
    "version": 3
   },
   "file_extension": ".py",
   "mimetype": "text/x-python",
   "name": "python",
   "nbconvert_exporter": "python",
   "pygments_lexer": "ipython3",
   "version": "3.8.8"
  },
  "orig_nbformat": 4
 },
 "nbformat": 4,
 "nbformat_minor": 2
}
