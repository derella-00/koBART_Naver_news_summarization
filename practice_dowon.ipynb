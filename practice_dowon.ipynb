{
 "cells": [
  {
   "attachments": {},
   "cell_type": "markdown",
   "metadata": {},
   "source": [
    "# Final Project"
   ]
  },
  {
   "attachments": {},
   "cell_type": "markdown",
   "metadata": {},
   "source": [
    "## 파이썬 환경 설정 및 확인"
   ]
  },
  {
   "cell_type": "code",
   "execution_count": null,
   "metadata": {},
   "outputs": [],
   "source": [
    "# C:/Users/TECH2_22/이도원/usingcloud_final/venv/Scripts/python.exe"
   ]
  },
  {
   "cell_type": "code",
   "execution_count": 20,
   "metadata": {},
   "outputs": [
    {
     "data": {
      "text/plain": [
       "'c:\\\\Users\\\\TECH2_22\\\\이도원\\\\usingcloud_final'"
      ]
     },
     "execution_count": 20,
     "metadata": {},
     "output_type": "execute_result"
    }
   ],
   "source": [
    "import os\n",
    "\n",
    "os.getcwd()"
   ]
  },
  {
   "cell_type": "code",
   "execution_count": 1,
   "metadata": {},
   "outputs": [
    {
     "name": "stdout",
     "output_type": "stream",
     "text": [
      "hello world\n"
     ]
    }
   ],
   "source": [
    "print('hello world')"
   ]
  },
  {
   "cell_type": "code",
   "execution_count": 2,
   "metadata": {},
   "outputs": [
    {
     "name": "stdout",
     "output_type": "stream",
     "text": [
      "Python 3.8.8\n"
     ]
    }
   ],
   "source": [
    "!python --version"
   ]
  },
  {
   "attachments": {},
   "cell_type": "markdown",
   "metadata": {},
   "source": [
    "## 데이터 로드 및 설정"
   ]
  },
  {
   "attachments": {},
   "cell_type": "markdown",
   "metadata": {},
   "source": [
    "### 최초 1회만 실행할 것."
   ]
  },
  {
   "cell_type": "code",
   "execution_count": null,
   "metadata": {},
   "outputs": [],
   "source": [
    "# import pandas as pd\n",
    "# import numpy as np\n",
    "\n",
    "# with open('./data/train_original.json', encoding='utf-8') as train_f:\n",
    "#     train_df = pd.read_json(train_f, encoding='utf-8')\n",
    "\n",
    "# with open('./data/valid_original.json', encoding='utf-8') as valid_f:\n",
    "#     valid_df = pd.read_json(valid_f, encoding='utf-8')\n",
    "\n",
    "# train_df.to_csv(\"./data/train_original.csv\", index=False)\n",
    "# valid_df.to_csv(\"./data/valid_original.csv\", index=False)"
   ]
  },
  {
   "cell_type": "code",
   "execution_count": 38,
   "metadata": {},
   "outputs": [
    {
     "name": "stdout",
     "output_type": "stream",
     "text": [
      "train_df Done.\n",
      "valid_df Done.\n"
     ]
    }
   ],
   "source": [
    "import pandas as pd\n",
    "import numpy as np\n",
    "import gc\n",
    "\n",
    "# 더 빠르고 효율적인 데이터 로드 방식\n",
    "def csv_to_parquet(csv_path, save_name):\n",
    "    df = pd.read_csv(csv_path)\n",
    "    df.to_parquet(f'./data/{save_name}.parquet')\n",
    "    del df\n",
    "    gc.collect()\n",
    "    print(save_name, 'Done.')\n",
    "\n",
    "csv_to_parquet('./data/train_original.csv', 'train_df')\n",
    "csv_to_parquet('./data/valid_original.csv', 'valid_df')\n",
    "\n",
    "train_df = train_df.copy()\n",
    "valid_df = valid_df.copy()"
   ]
  },
  {
   "attachments": {},
   "cell_type": "markdown",
   "metadata": {},
   "source": [
    "## eda"
   ]
  },
  {
   "cell_type": "code",
   "execution_count": 17,
   "metadata": {},
   "outputs": [
    {
     "data": {
      "text/html": [
       "<div>\n",
       "<style scoped>\n",
       "    .dataframe tbody tr th:only-of-type {\n",
       "        vertical-align: middle;\n",
       "    }\n",
       "\n",
       "    .dataframe tbody tr th {\n",
       "        vertical-align: top;\n",
       "    }\n",
       "\n",
       "    .dataframe thead th {\n",
       "        text-align: right;\n",
       "    }\n",
       "</style>\n",
       "<table border=\"1\" class=\"dataframe\">\n",
       "  <thead>\n",
       "    <tr style=\"text-align: right;\">\n",
       "      <th></th>\n",
       "      <th>name</th>\n",
       "      <th>delivery_date</th>\n",
       "      <th>documents</th>\n",
       "    </tr>\n",
       "  </thead>\n",
       "  <tbody>\n",
       "    <tr>\n",
       "      <th>0</th>\n",
       "      <td>문서요약 프로젝트</td>\n",
       "      <td>2020-12-23 12:01:15</td>\n",
       "      <td>{'id': '290741778', 'category': '종합', 'media_t...</td>\n",
       "    </tr>\n",
       "    <tr>\n",
       "      <th>1</th>\n",
       "      <td>문서요약 프로젝트</td>\n",
       "      <td>2020-12-23 12:01:15</td>\n",
       "      <td>{'id': '290741792', 'category': '종합', 'media_t...</td>\n",
       "    </tr>\n",
       "    <tr>\n",
       "      <th>2</th>\n",
       "      <td>문서요약 프로젝트</td>\n",
       "      <td>2020-12-23 12:01:15</td>\n",
       "      <td>{'id': '290741793', 'category': '스포츠', 'media_...</td>\n",
       "    </tr>\n",
       "    <tr>\n",
       "      <th>3</th>\n",
       "      <td>문서요약 프로젝트</td>\n",
       "      <td>2020-12-23 12:01:15</td>\n",
       "      <td>{'id': '290741794', 'category': '정치', 'media_t...</td>\n",
       "    </tr>\n",
       "    <tr>\n",
       "      <th>4</th>\n",
       "      <td>문서요약 프로젝트</td>\n",
       "      <td>2020-12-23 12:01:15</td>\n",
       "      <td>{'id': '290741797', 'category': '종합', 'media_t...</td>\n",
       "    </tr>\n",
       "  </tbody>\n",
       "</table>\n",
       "</div>"
      ],
      "text/plain": [
       "        name        delivery_date   \n",
       "0  문서요약 프로젝트  2020-12-23 12:01:15  \\\n",
       "1  문서요약 프로젝트  2020-12-23 12:01:15   \n",
       "2  문서요약 프로젝트  2020-12-23 12:01:15   \n",
       "3  문서요약 프로젝트  2020-12-23 12:01:15   \n",
       "4  문서요약 프로젝트  2020-12-23 12:01:15   \n",
       "\n",
       "                                           documents  \n",
       "0  {'id': '290741778', 'category': '종합', 'media_t...  \n",
       "1  {'id': '290741792', 'category': '종합', 'media_t...  \n",
       "2  {'id': '290741793', 'category': '스포츠', 'media_...  \n",
       "3  {'id': '290741794', 'category': '정치', 'media_t...  \n",
       "4  {'id': '290741797', 'category': '종합', 'media_t...  "
      ]
     },
     "execution_count": 17,
     "metadata": {},
     "output_type": "execute_result"
    }
   ],
   "source": [
    "train_df.head()"
   ]
  },
  {
   "cell_type": "code",
   "execution_count": 21,
   "metadata": {},
   "outputs": [
    {
     "name": "stdout",
     "output_type": "stream",
     "text": [
      "<class 'pandas.core.frame.DataFrame'>\n",
      "RangeIndex: 243983 entries, 0 to 243982\n",
      "Data columns (total 3 columns):\n",
      " #   Column         Non-Null Count   Dtype \n",
      "---  ------         --------------   ----- \n",
      " 0   name           243983 non-null  object\n",
      " 1   delivery_date  243983 non-null  object\n",
      " 2   documents      243983 non-null  object\n",
      "dtypes: object(3)\n",
      "memory usage: 5.6+ MB\n"
     ]
    }
   ],
   "source": [
    "train_df.info()"
   ]
  },
  {
   "cell_type": "code",
   "execution_count": 22,
   "metadata": {},
   "outputs": [
    {
     "data": {
      "text/plain": [
       "(243983, 3)"
      ]
     },
     "execution_count": 22,
     "metadata": {},
     "output_type": "execute_result"
    }
   ],
   "source": [
    "train_df.shape"
   ]
  },
  {
   "cell_type": "code",
   "execution_count": 23,
   "metadata": {},
   "outputs": [
    {
     "data": {
      "text/plain": [
       "name             0\n",
       "delivery_date    0\n",
       "documents        0\n",
       "dtype: int64"
      ]
     },
     "execution_count": 23,
     "metadata": {},
     "output_type": "execute_result"
    }
   ],
   "source": [
    "train_df.isnull().sum()"
   ]
  },
  {
   "cell_type": "code",
   "execution_count": 29,
   "metadata": {},
   "outputs": [
    {
     "data": {
      "text/plain": [
       "Index(['name', 'delivery_date', 'documents'], dtype='object')"
      ]
     },
     "execution_count": 29,
     "metadata": {},
     "output_type": "execute_result"
    }
   ],
   "source": [
    "train_df.columns"
   ]
  },
  {
   "cell_type": "code",
   "execution_count": 30,
   "metadata": {},
   "outputs": [
    {
     "data": {
      "text/plain": [
       "name\n",
       "문서요약 프로젝트    243983\n",
       "Name: count, dtype: int64"
      ]
     },
     "execution_count": 30,
     "metadata": {},
     "output_type": "execute_result"
    }
   ],
   "source": [
    "train_df.name.value_counts()"
   ]
  },
  {
   "cell_type": "code",
   "execution_count": 37,
   "metadata": {},
   "outputs": [
    {
     "name": "stdout",
     "output_type": "stream",
     "text": [
      "{'abstractive': ['전라남도가 쌀 과잉문제를 근본적으로 해결하기 위해 올해부터 벼를 심었던 논에 벼 대신 사료작물이나 콩 등 '\n",
      "                 \"다른 작물을 심으면 벼와의 일정 소득차를 보전해주는 '쌀 생산조정제'를 적극적으로 시행하기로 하고 오는 \"\n",
      "                 '22일부터 2월 28일까지 농지 소재지 읍면동사무소에서 신청받는다 .'],\n",
      " 'annotator_id': 11,\n",
      " 'category': '종합',\n",
      " 'char_count': '927',\n",
      " 'document_quality_scores': {'accurate': 3,\n",
      "                             'informative': 3,\n",
      "                             'readable': 4,\n",
      "                             'trustworthy': 3},\n",
      " 'extractive': [2, 3, 10],\n",
      " 'id': '290741778',\n",
      " 'media_name': '광양신문',\n",
      " 'media_sub_type': '지역지',\n",
      " 'media_type': 'online',\n",
      " 'publish_date': '2018-01-05 18:54:55',\n",
      " 'size': 'small',\n",
      " 'text': [[{'highlight_indices': '',\n",
      "            'index': 0,\n",
      "            'sentence': 'ha당 조사료 400만원…작물별 차등 지원'}],\n",
      "          [{'highlight_indices': '',\n",
      "            'index': 1,\n",
      "            'sentence': '이성훈 sinawi@hanmail.net'}],\n",
      "          [{'highlight_indices': '',\n",
      "            'index': 2,\n",
      "            'sentence': '전라남도가 쌀 과잉문제를 근본적으로 해결하기 위해 올해부터 시행하는 쌀 생산조정제를 적극 '\n",
      "                        '추진키로 했다.'}],\n",
      "          [{'highlight_indices': '35,37',\n",
      "            'index': 3,\n",
      "            'sentence': '쌀 생산조정제는 벼를 심었던 논에 벼 대신 사료작물이나 콩 등 다른 작물을 심으면 벼와의 일정 '\n",
      "                        '소득차를 보전해주는 제도다.'}],\n",
      "          [{'highlight_indices': '9,11;33,34',\n",
      "            'index': 4,\n",
      "            'sentence': '올해 전남의 논 다른 작물 재배 계획면적은 전국 5만ha의 약 21%인 1만 698ha로, '\n",
      "                        '세부시행지침을 확정, 시군에 통보했다.'},\n",
      "           {'highlight_indices': '50,52',\n",
      "            'index': 5,\n",
      "            'sentence': '지원사업 대상은 2017년산 쌀 변동직불금을 받은 농지에 10a(300평) 이상 벼 이외 다른 '\n",
      "                        '작물을 재배한 농업인이다.'}],\n",
      "          [{'highlight_indices': '24,26',\n",
      "            'index': 6,\n",
      "            'sentence': '지원 대상 작물은 1년생을 포함한 다년생의 모든 작물이 해당되나 재배 면적 확대 시 수급과잉이 '\n",
      "                        '우려되는 고추, 무, 배추, 인삼, 대파 등 수급 불안 품목은 제외된다.'}],\n",
      "          [{'highlight_indices': '8,10;11,13',\n",
      "            'index': 7,\n",
      "            'sentence': '농지의 경우도 이미 다른 작물 재배 의무가 부여된 간척지, 정부매입비축농지, 농진청 시범사업, '\n",
      "                        '경관보전 직불금 수령 농지 등은 제외될 예정이다.'}],\n",
      "          [{'highlight_indices': '',\n",
      "            'index': 8,\n",
      "            'sentence': 'ha(3000평)당 지원 단가는 평균 340만원으로 사료작물 400만원, 일반작물은 340만원, '\n",
      "                        '콩·팥 등 두류작물은 280만원 등이다.'},\n",
      "           {'highlight_indices': '',\n",
      "            'index': 9,\n",
      "            'sentence': '벼와 소득차와 영농 편이성을 감안해 작물별로 차등 지원된다.'}],\n",
      "          [{'highlight_indices': '3,5',\n",
      "            'index': 10,\n",
      "            'sentence': '논에 다른 작물 재배를 바라는 농가는 오는 22일부터 2월 28일까지 농지 소재지 읍면동사무소에 '\n",
      "                        '신청해야 한다.'}],\n",
      "          [{'highlight_indices': '32,33;69,70',\n",
      "            'index': 11,\n",
      "            'sentence': '전남도는 도와 시군에 관련 기관과 농가 등이 참여하는‘논 타작물 지원사업 추진협의회’를 구성, '\n",
      "                        '지역 특성에 맞는 작목 선정 및 사업 심의 등을 본격 추진할 방침이다.'}],\n",
      "          [{'highlight_indices': '26,28;39,41;97,98;110,112',\n",
      "            'index': 12,\n",
      "            'sentence': '최향철 전라남도 친환경농업과장은 “최근 쌀값이 다소 상승추세에 있으나 매년 공급과잉에 따른 가격 '\n",
      "                        '하락으로 쌀농가에 어려움이 있었다”며“쌀 공급과잉을 구조적으로 해결하도록 논 타작물 재배 '\n",
      "                        '지원사업에 많이 참여해주길 바란다”고 말했다.'}]],\n",
      " 'title': '논 타작물 재배, 2월 말까지 신청하세요'}\n"
     ]
    }
   ],
   "source": [
    "import pprint\n",
    "\n",
    "pprint.pprint(train_df.documents[0])"
   ]
  },
  {
   "attachments": {},
   "cell_type": "markdown",
   "metadata": {},
   "source": [
    "## 전처리"
   ]
  },
  {
   "cell_type": "code",
   "execution_count": 33,
   "metadata": {},
   "outputs": [
    {
     "name": "stdout",
     "output_type": "stream",
     "text": [
      "<class 'pandas.core.frame.DataFrame'>\n",
      "RangeIndex: 243983 entries, 0 to 243982\n",
      "Data columns (total 3 columns):\n",
      " #   Column         Non-Null Count   Dtype         \n",
      "---  ------         --------------   -----         \n",
      " 0   name           243983 non-null  object        \n",
      " 1   delivery_date  243983 non-null  datetime64[ns]\n",
      " 2   documents      243983 non-null  object        \n",
      "dtypes: datetime64[ns](1), object(2)\n",
      "memory usage: 5.6+ MB\n"
     ]
    }
   ],
   "source": [
    "train_df.delivery_date = pd.to_datetime(train_df.delivery_date)\n",
    "train_df.info()"
   ]
  },
  {
   "cell_type": "code",
   "execution_count": null,
   "metadata": {},
   "outputs": [],
   "source": []
  },
  {
   "cell_type": "code",
   "execution_count": null,
   "metadata": {},
   "outputs": [],
   "source": []
  },
  {
   "cell_type": "code",
   "execution_count": null,
   "metadata": {},
   "outputs": [],
   "source": []
  },
  {
   "cell_type": "code",
   "execution_count": null,
   "metadata": {},
   "outputs": [],
   "source": []
  },
  {
   "cell_type": "code",
   "execution_count": null,
   "metadata": {},
   "outputs": [],
   "source": []
  },
  {
   "cell_type": "code",
   "execution_count": null,
   "metadata": {},
   "outputs": [],
   "source": []
  },
  {
   "cell_type": "code",
   "execution_count": null,
   "metadata": {},
   "outputs": [],
   "source": []
  },
  {
   "cell_type": "code",
   "execution_count": null,
   "metadata": {},
   "outputs": [],
   "source": []
  },
  {
   "cell_type": "code",
   "execution_count": null,
   "metadata": {},
   "outputs": [],
   "source": []
  },
  {
   "cell_type": "code",
   "execution_count": null,
   "metadata": {},
   "outputs": [],
   "source": []
  },
  {
   "attachments": {},
   "cell_type": "markdown",
   "metadata": {},
   "source": [
    "## 여기가 끝"
   ]
  },
  {
   "cell_type": "code",
   "execution_count": null,
   "metadata": {},
   "outputs": [],
   "source": []
  },
  {
   "cell_type": "code",
   "execution_count": null,
   "metadata": {},
   "outputs": [],
   "source": []
  }
 ],
 "metadata": {
  "kernelspec": {
   "display_name": "venv",
   "language": "python",
   "name": "python3"
  },
  "language_info": {
   "codemirror_mode": {
    "name": "ipython",
    "version": 3
   },
   "file_extension": ".py",
   "mimetype": "text/x-python",
   "name": "python",
   "nbconvert_exporter": "python",
   "pygments_lexer": "ipython3",
   "version": "3.8.8"
  },
  "orig_nbformat": 4
 },
 "nbformat": 4,
 "nbformat_minor": 2
}
