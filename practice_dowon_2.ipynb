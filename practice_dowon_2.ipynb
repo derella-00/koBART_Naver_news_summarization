{
 "cells": [
  {
   "cell_type": "code",
   "execution_count": 1,
   "metadata": {},
   "outputs": [],
   "source": [
    "import pandas as pd\n",
    "import numpy as np\n",
    "import json\n",
    "\n",
    "with open('./data/train_original.json', encoding='utf-8') as train_f:\n",
    "    train_data = json.loads(train_f.read())\n",
    "    train_df = pd.DataFrame(train_data['documents'])\n",
    "\n",
    "with open('./data/valid_original.json', encoding='utf-8') as valid_f:\n",
    "    valid_data = json.loads(valid_f.read())\n",
    "    valid_df = pd.DataFrame(valid_data['documents'])"
   ]
  },
  {
   "cell_type": "code",
   "execution_count": 6,
   "metadata": {},
   "outputs": [
    {
     "data": {
      "text/plain": [
       "[[{'index': 0,\n",
       "   'sentence': 'ha당 조사료 400만원…작물별 차등 지원',\n",
       "   'highlight_indices': ''}],\n",
       " [{'index': 1, 'sentence': '이성훈 sinawi@hanmail.net', 'highlight_indices': ''}],\n",
       " [{'index': 2,\n",
       "   'sentence': '전라남도가 쌀 과잉문제를 근본적으로 해결하기 위해 올해부터 시행하는 쌀 생산조정제를 적극 추진키로 했다.',\n",
       "   'highlight_indices': ''}],\n",
       " [{'index': 3,\n",
       "   'sentence': '쌀 생산조정제는 벼를 심었던 논에 벼 대신 사료작물이나 콩 등 다른 작물을 심으면 벼와의 일정 소득차를 보전해주는 제도다.',\n",
       "   'highlight_indices': '35,37'}],\n",
       " [{'index': 4,\n",
       "   'sentence': '올해 전남의 논 다른 작물 재배 계획면적은 전국 5만ha의 약 21%인 1만 698ha로, 세부시행지침을 확정, 시군에 통보했다.',\n",
       "   'highlight_indices': '9,11;33,34'},\n",
       "  {'index': 5,\n",
       "   'sentence': '지원사업 대상은 2017년산 쌀 변동직불금을 받은 농지에 10a(300평) 이상 벼 이외 다른 작물을 재배한 농업인이다.',\n",
       "   'highlight_indices': '50,52'}],\n",
       " [{'index': 6,\n",
       "   'sentence': '지원 대상 작물은 1년생을 포함한 다년생의 모든 작물이 해당되나 재배 면적 확대 시 수급과잉이 우려되는 고추, 무, 배추, 인삼, 대파 등 수급 불안 품목은 제외된다.',\n",
       "   'highlight_indices': '24,26'}],\n",
       " [{'index': 7,\n",
       "   'sentence': '농지의 경우도 이미 다른 작물 재배 의무가 부여된 간척지, 정부매입비축농지, 농진청 시범사업, 경관보전 직불금 수령 농지 등은 제외될 예정이다.',\n",
       "   'highlight_indices': '8,10;11,13'}],\n",
       " [{'index': 8,\n",
       "   'sentence': 'ha(3000평)당 지원 단가는 평균 340만원으로 사료작물 400만원, 일반작물은 340만원, 콩·팥 등 두류작물은 280만원 등이다.',\n",
       "   'highlight_indices': ''},\n",
       "  {'index': 9,\n",
       "   'sentence': '벼와 소득차와 영농 편이성을 감안해 작물별로 차등 지원된다.',\n",
       "   'highlight_indices': ''}],\n",
       " [{'index': 10,\n",
       "   'sentence': '논에 다른 작물 재배를 바라는 농가는 오는 22일부터 2월 28일까지 농지 소재지 읍면동사무소에 신청해야 한다.',\n",
       "   'highlight_indices': '3,5'}],\n",
       " [{'index': 11,\n",
       "   'sentence': '전남도는 도와 시군에 관련 기관과 농가 등이 참여하는‘논 타작물 지원사업 추진협의회’를 구성, 지역 특성에 맞는 작목 선정 및 사업 심의 등을 본격 추진할 방침이다.',\n",
       "   'highlight_indices': '32,33;69,70'}],\n",
       " [{'index': 12,\n",
       "   'sentence': '최향철 전라남도 친환경농업과장은 “최근 쌀값이 다소 상승추세에 있으나 매년 공급과잉에 따른 가격 하락으로 쌀농가에 어려움이 있었다”며“쌀 공급과잉을 구조적으로 해결하도록 논 타작물 재배 지원사업에 많이 참여해주길 바란다”고 말했다.',\n",
       "   'highlight_indices': '26,28;39,41;97,98;110,112'}]]"
      ]
     },
     "execution_count": 6,
     "metadata": {},
     "output_type": "execute_result"
    }
   ],
   "source": [
    "train_df.text[0]"
   ]
  },
  {
   "cell_type": "code",
   "execution_count": 20,
   "metadata": {},
   "outputs": [
    {
     "name": "stdout",
     "output_type": "stream",
     "text": [
      "일방적인 시내버스 감차, 시민들 분노 김영신 기자 yskim0966@naver.com 지난 2일, 금호동에 사는 A 씨는 아침부터‘열이 받았다’고 했다. 평소 시내버스를 애용하는 A 씨를‘열 받게 한 것’은 1월 1일자로 변경된 시내버스 일부 노선이 사전에 충분한 공지 없이 감차가 됐기 때문. 지난 2일, 금호동에 사는 A 씨는 아침부터‘열이 받았다’고 했다. 특히, 11-1번은 태인동, 금호동, 중마동을 거쳐 광양읍으로 가는 유일한 노선인데 운행횟수를 13회나 줄였기 때문에 태인동 주민들이 광양5일장에 나가기가 힘들고 광양, 순천으로 통학하는 학생들의 통학이 어려워 큰 불편을 겪게 됐다. 거동이 불편해 버스를 타고 내리기 힘든 태인동, 금호동 거주 어르신들이 88번을 타고 중마동으로 가서 다시 99번으로 갈아타야 광양장으로 갈 수 있는 등 불편은 고스란히 교통약자에게 돌아가게 생겼다. A씨는“12월 22일 시청 공지사항에 공지는 했지만 최소 예고기간 1개월도 지키지 않고 일방적으로 감차를 시행했다. 시민생활과 밀접한 대중교통문제 등 생활관련 정책사항은 반상회 등을 통해 적극적으로 공지해야 한다는 사항도 지켜지지 않았다”며“시와 버스회사 사이에 시민은 없었다”고 분개했다. A씨는“12월 22일 시청 공지사항에 공지는 했지만 최소 예고기간 1개월도 지키지 않고 일방적으로 감차를 시행했다. 중마동 B씨는“작년 1월에도 노선을 줄이더니 올해 또 줄였다. 서민물가 올라서 갈수록 살기 힘들어지는데 대중교통을 이용할 수 밖에 없는 시민들은 어떻게 하라고 노선을 줄여대는지 모르겠다”며 “인구늘리기 같은 말도 안 되는 정책에 에너지 쏟지 말고 사람들이 살고 싶은 도시를 만들어 주면 살지 말라고 해도 살 것이다. 그러면 인구는 자동으로 늘게 되어 있는 것 아니냐”고 반문했다. 중마동 B씨는“작년 1월에도 노선을 줄이더니 올해 또 줄였다. A씨는“적자운행이 계속 돼서 회사가 어려워지는 것을 시민들이 뭐라 할 수는 없지만 변경이 불가피 했다면 시행 불과 며칠 전에 임박해서 일방적으로 공지만 한 것은 잘못됐다”며“노선변경과 시간변경에 관련된 안내문이나 공지문을 반상회를 통해 가정으로 전달하거나 아파트 게시판이나 버스정류장에 붙여 두었다면 혼란과 불편은 덜했을 것이다”고 말했다.\n"
     ]
    }
   ],
   "source": [
    "import numpy as np\n",
    "\n",
    "def extract_body(article) -> str:\n",
    "\n",
    "    \n",
    "    item_list = []\n",
    "\n",
    "    for idx, item in enumerate(article):\n",
    "\n",
    "        if item == []:\n",
    "            continue\n",
    "\n",
    "        if len(item) >= 2:\n",
    "            for sub_item in item:\n",
    "                item_list.append(sub_item['sentence'])\n",
    "                continue\n",
    "        item_list.append(item[0]['sentence'])\n",
    "\n",
    "    # item_list = item_list[0::2]\n",
    "    return \" \".join(item_list)\n",
    "\n",
    "print(extract_body(train_df['text'][6]))"
   ]
  },
  {
   "cell_type": "code",
   "execution_count": 32,
   "metadata": {},
   "outputs": [
    {
     "data": {
      "text/plain": [
       "[[{'index': 0, 'sentence': '박종대 기자', 'highlight_indices': ''}],\n",
       " [{'index': 1, 'sentence': '도내 거리 악취 없애려 안간힘', 'highlight_indices': ''},\n",
       "  {'index': 2, 'sentence': '은행 열매 수집망.', 'highlight_indices': ''},\n",
       "  {'index': 3, 'sentence': '/사진 = 수원시 제공', 'highlight_indices': ''}],\n",
       " [{'index': 4,\n",
       "   'sentence': '경기도내 지자체들이 매년 반복되는 가을철 은행나무 악취 민원 해결을 위해 온갖 방법을 동원하면서 시민들의 불편을 줄이고자 안간힘을 쓰고 있다.',\n",
       "   'highlight_indices': '11,13;41,43'}],\n",
       " [{'index': 5,\n",
       "   'sentence': '6일 도내 지자체들에 따르면 친환경적인 방법으로 은행열매를 제거해 가을철 도로변 악취 문제를 해결하기 위한 방법을 고안하고 있다.',\n",
       "   'highlight_indices': ''}],\n",
       " [{'index': 6,\n",
       "   'sentence': '대표적으로 수원시는 산하 사업소를 통해 주요 대로변, 상가밀집지역 등 유동인구가 많은 곳을 대상으로 ‘은행 암나무 수종(樹種) 교체사업’을 진행한다.',\n",
       "   'highlight_indices': ''}],\n",
       " [{'index': 7,\n",
       "   'sentence': '시는 지난해 은행나무를 전수조사하고 수종 교체를 위한 연차별 기본계획을 수립한 바 있다.',\n",
       "   'highlight_indices': ''},\n",
       "  {'index': 8,\n",
       "   'sentence': '지난 4월 사업을 시작해 은행 암나무 600여 그루를 은행 수나무·느티나무 등 다른 나무로 교체했다.',\n",
       "   'highlight_indices': '44,46'},\n",
       "  {'index': 9,\n",
       "   'sentence': '2022년까지 예산 36억 원을 투입할 예정이다.',\n",
       "   'highlight_indices': ''},\n",
       "  {'index': 10,\n",
       "   'sentence': '아직 교체하지 못 했거나 보존 가치가 있는 은행나무는 열매 털기 작업을 실시한다.',\n",
       "   'highlight_indices': '0,2;8,9'},\n",
       "  {'index': 11,\n",
       "   'sentence': '은행열매 진동 수확기를 활용해 은행열매를 털어 악취를 없앤다.',\n",
       "   'highlight_indices': ''}],\n",
       " [{'index': 12,\n",
       "   'sentence': '은행나무 열매와 낙엽을 한꺼번에 처리할 수 있는 ‘은행열매 수집망’도 설치했다.',\n",
       "   'highlight_indices': '13,17'},\n",
       "  {'index': 13,\n",
       "   'sentence': '은행열매 수집망은 나무에 해를 가하지 않고 열매와 낙엽을 제거하는 친환경 방법이다.',\n",
       "   'highlight_indices': ''},\n",
       "  {'index': 14,\n",
       "   'sentence': '현재 도로 주행 차량에 방해를 주지 않는 팔달로와 창룡대로에 9개 수집망을 설치했다.',\n",
       "   'highlight_indices': '0,2'}],\n",
       " [{'index': 15,\n",
       "   'sentence': '안산시 단원구는 지난달 21일부터 은행나무 열매로 인한 지속적인 악취로 고통받는 시민 피해를 막기 위해 은행열매를 조기 채취하고 있다.',\n",
       "   'highlight_indices': ''},\n",
       "  {'index': 16,\n",
       "   'sentence': '원선1로 등 3개 노선은 수거를 완료했으며, 휴일에도 3개 조 15명을 투입해 평일 작업이 어려운 산업단지 등의 열매를 제거하고 있다.',\n",
       "   'highlight_indices': ''}],\n",
       " [{'index': 17,\n",
       "   'sentence': '구는 수거된 은행열매에 대해 중금속검사와 잔류농약검사를 벌여 ‘안전하다’고 판정된 수확물은 지역 복지관 및 경로당에 기부할 예정이다.',\n",
       "   'highlight_indices': '58,59'},\n",
       "  {'index': 18,\n",
       "   'sentence': '또한 은행열매 수집망 설치도 검토하는 등 시민 불편을 줄일 수 있도록 다양한 방안을 모색 중이다.',\n",
       "   'highlight_indices': '0,2'}],\n",
       " [{'index': 19,\n",
       "   'sentence': '부천시와 고양시 덕양구 역시 은행나무 암나무를 열매를 맺지 않는 수나무로 바꾼다.',\n",
       "   'highlight_indices': '13,15'},\n",
       "  {'index': 20,\n",
       "   'sentence': '부천시는 먼저 126그루를 수나무로 단계적 교체한다.',\n",
       "   'highlight_indices': '5,7'},\n",
       "  {'index': 21,\n",
       "   'sentence': '주민 피해가 심한 도심부터 작업을 추진해 순차적으로 1천200그루를 교체한다.',\n",
       "   'highlight_indices': ''},\n",
       "  {'index': 22,\n",
       "   'sentence': '고양시 덕양구는 최근 은행열매가 사계절 내내 낙과하면서 2018년 5월부터 은행나무 가로수 240여 주를 교체했다.',\n",
       "   'highlight_indices': '22,24'}],\n",
       " [{'index': 23,\n",
       "   'sentence': '최광열 수원시 공원녹지사업소장은 \"가을철에 접어들면서 버스정류장, 상가밀집지역 등을 중심으로 은행열매 악취를 호소하는 민원이 폭주하고 있다\"며 \"시민 불편을 줄이기 위해 총력을 기울이겠다\"고 말했다.',\n",
       "   'highlight_indices': ''}],\n",
       " [{'index': 24,\n",
       "   'sentence': '박종대 기자 pjd@kihoilbo.co.kr',\n",
       "   'highlight_indices': ''}]]"
      ]
     },
     "execution_count": 32,
     "metadata": {},
     "output_type": "execute_result"
    }
   ],
   "source": [
    "train_df['text'][24000]"
   ]
  },
  {
   "cell_type": "code",
   "execution_count": null,
   "metadata": {},
   "outputs": [],
   "source": []
  },
  {
   "cell_type": "code",
   "execution_count": null,
   "metadata": {},
   "outputs": [],
   "source": []
  },
  {
   "cell_type": "code",
   "execution_count": null,
   "metadata": {},
   "outputs": [],
   "source": []
  },
  {
   "cell_type": "code",
   "execution_count": null,
   "metadata": {},
   "outputs": [],
   "source": []
  },
  {
   "cell_type": "code",
   "execution_count": null,
   "metadata": {},
   "outputs": [],
   "source": []
  },
  {
   "cell_type": "code",
   "execution_count": null,
   "metadata": {},
   "outputs": [],
   "source": []
  },
  {
   "cell_type": "code",
   "execution_count": null,
   "metadata": {},
   "outputs": [],
   "source": []
  }
 ],
 "metadata": {
  "kernelspec": {
   "display_name": "venv",
   "language": "python",
   "name": "python3"
  },
  "language_info": {
   "codemirror_mode": {
    "name": "ipython",
    "version": 3
   },
   "file_extension": ".py",
   "mimetype": "text/x-python",
   "name": "python",
   "nbconvert_exporter": "python",
   "pygments_lexer": "ipython3",
   "version": "3.8.8"
  },
  "orig_nbformat": 4
 },
 "nbformat": 4,
 "nbformat_minor": 2
}
