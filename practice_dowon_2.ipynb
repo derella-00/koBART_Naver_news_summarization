{
 "cells": [
  {
   "attachments": {},
   "cell_type": "markdown",
   "metadata": {},
   "source": [
    "## 데이터 로드"
   ]
  },
  {
   "cell_type": "code",
   "execution_count": 1,
   "metadata": {},
   "outputs": [],
   "source": [
    "import pandas as pd\n",
    "import numpy as np\n",
    "import json\n",
    "\n",
    "with open('./data/train_original.json', encoding='utf-8') as train_f:\n",
    "    train_data = json.loads(train_f.read())\n",
    "    train_df = pd.DataFrame(train_data['documents'])\n",
    "\n",
    "with open('./data/valid_original.json', encoding='utf-8') as valid_f:\n",
    "    valid_data = json.loads(valid_f.read())\n",
    "    valid_df = pd.DataFrame(valid_data['documents'])"
   ]
  },
  {
   "cell_type": "code",
   "execution_count": null,
   "metadata": {},
   "outputs": [],
   "source": [
    "def extract_body(article) -> str:\n",
    "    art_sentence = []\n",
    "\n",
    "    for contents in article:\n",
    "        if len(contents) >= 2:\n",
    "            for sub_con in contents:\n",
    "                art_sentence.append(sub_con['sentence'])\n",
    "                continue\n",
    "        elif len(contents) == 0:\n",
    "            pass\n",
    "        else:\n",
    "            art_sentence.append(contents[0]['sentence'])\n",
    "\n",
    "    return art_sentence\n",
    "\n",
    "def sentence_validation(art_sentence):\n",
    "    del_sentence = []\n",
    "    for sentence in art_sentence:\n",
    "        if '@' in sentence or '/사진' in sentence:\n",
    "            del_sentence.append(sentence)\n",
    "        elif sentence[-1] != '.':\n",
    "            del_sentence.append(sentence)\n",
    "    for del_sen in del_sentence: \n",
    "        art_sentence.remove(del_sen)\n",
    "    return art_sentence"
   ]
  },
  {
   "cell_type": "code",
   "execution_count": 146,
   "metadata": {},
   "outputs": [
    {
     "data": {
      "text/plain": [
       "['동구 16일 8개월 만에 재개장 주 3회 20여 가지 음식 판매',\n",
       " '인천시 동구는 행정안전부 지정 제9호 야시장인 ‘달빛거리 송현야시장’을 오는 16일 재개장한다.',\n",
       " '13일 구에 따르면 송현시장 상인회에서 운영하는 야시장은 동인천역 4번 출구에서 도보로 불과 2분 거리에 위치해 교통편의성이 매우 뛰어나 많은 관광객들이 찾았으며, 겨울철 휴점 이후 재정비를 거쳐 8개월 만에 손님맞이 준비를 마쳤다.',\n",
       " '올해부터는 송현시장 상인들과 사전 협의를 통해 금·토요일에 이어 일요일까지 주 3회 운영되며, 오후 6시부터 11시까지 송현시장 중앙 통로 8개 매대에서 스테이크(큐브·빠네크림), 떡닭, 해산물 떡볶이 등 20여 가지 음식이 판매될 예정이다.',\n",
       " '야시장 개장일에는 찾아가는 문화공연 행사를 개최해 즐길거리와 먹을거리가 함께하는 야간 관광명소의 시작을 알린다.',\n",
       " '또 송현야시장이 행정안전부의 야시장 활성화사업에 선정됨에 따라 관광객들을 위한 문화공연 행사를 지속적으로 개최하고, 방문객을 위한 편의 공간 조성, 스카이 미디어아트 콘텐츠 제작 등 관광객 모집에도 박차를 기할 계획이다.',\n",
       " '구 관계자는 \"달빛거리 송현야시장이 지역의 전통상권 부활의 시작을 알리고 인천을 대표하는 관광명소로 거듭날 수 있도록 야시장 판매자 모집 확대 등 송현시장 상인회와 혼연일체가 돼 추진하겠다\"고 말했다.',\n",
       " '최유탁 기자 cyt@kihoilbo.co.kr',\n",
       " '기호일보, KIHOILBO']"
      ]
     },
     "execution_count": 146,
     "metadata": {},
     "output_type": "execute_result"
    }
   ],
   "source": [
    "extract_body(train_df['text'][21531])"
   ]
  },
  {
   "cell_type": "code",
   "execution_count": 145,
   "metadata": {},
   "outputs": [
    {
     "data": {
      "text/plain": [
       "['인천시 동구는 행정안전부 지정 제9호 야시장인 ‘달빛거리 송현야시장’을 오는 16일 재개장한다.',\n",
       " '13일 구에 따르면 송현시장 상인회에서 운영하는 야시장은 동인천역 4번 출구에서 도보로 불과 2분 거리에 위치해 교통편의성이 매우 뛰어나 많은 관광객들이 찾았으며, 겨울철 휴점 이후 재정비를 거쳐 8개월 만에 손님맞이 준비를 마쳤다.',\n",
       " '올해부터는 송현시장 상인들과 사전 협의를 통해 금·토요일에 이어 일요일까지 주 3회 운영되며, 오후 6시부터 11시까지 송현시장 중앙 통로 8개 매대에서 스테이크(큐브·빠네크림), 떡닭, 해산물 떡볶이 등 20여 가지 음식이 판매될 예정이다.',\n",
       " '야시장 개장일에는 찾아가는 문화공연 행사를 개최해 즐길거리와 먹을거리가 함께하는 야간 관광명소의 시작을 알린다.',\n",
       " '또 송현야시장이 행정안전부의 야시장 활성화사업에 선정됨에 따라 관광객들을 위한 문화공연 행사를 지속적으로 개최하고, 방문객을 위한 편의 공간 조성, 스카이 미디어아트 콘텐츠 제작 등 관광객 모집에도 박차를 기할 계획이다.',\n",
       " '구 관계자는 \"달빛거리 송현야시장이 지역의 전통상권 부활의 시작을 알리고 인천을 대표하는 관광명소로 거듭날 수 있도록 야시장 판매자 모집 확대 등 송현시장 상인회와 혼연일체가 돼 추진하겠다\"고 말했다.']"
      ]
     },
     "execution_count": 145,
     "metadata": {},
     "output_type": "execute_result"
    }
   ],
   "source": [
    "sentence_list = extract_body(train_df['text'][21531])\n",
    "sentence_validation(sentence_list)"
   ]
  },
  {
   "cell_type": "code",
   "execution_count": null,
   "metadata": {},
   "outputs": [],
   "source": [
    "max_input_length = 2000\n",
    "max_target_length = 750\n",
    "prefix = \"\"\n",
    "\n",
    "def preprocess_function(feature_list, target_list):\n",
    "    inputs = [prefix + doc for doc in feature_list]\n",
    "    model_inputs = tokenizer(inputs, max_length=max_input_length, truncation=True)\n",
    "# 데이터가 손실될 경우에 앞의 단어가 아니라 뒤의 단어가 삭제되도록 하고싶다면 truncating이라는 인자를 사용합니다. truncating='post'를 사용할 경우 뒤의 단어가 삭제됩니다.\n",
    "    # Setup the tokenizer for targets\n",
    "    with tokenizer.as_target_tokenizer():\n",
    "        labels = tokenizer(target_list, max_length=max_target_length, truncation=True)\n",
    "\n",
    "    model_inputs[\"labels\"] = labels[\"input_ids\"]\n",
    "    return model_inputs"
   ]
  },
  {
   "cell_type": "code",
   "execution_count": null,
   "metadata": {},
   "outputs": [],
   "source": []
  },
  {
   "cell_type": "code",
   "execution_count": null,
   "metadata": {},
   "outputs": [],
   "source": []
  }
 ],
 "metadata": {
  "kernelspec": {
   "display_name": "venv",
   "language": "python",
   "name": "python3"
  },
  "language_info": {
   "codemirror_mode": {
    "name": "ipython",
    "version": 3
   },
   "file_extension": ".py",
   "mimetype": "text/x-python",
   "name": "python",
   "nbconvert_exporter": "python",
   "pygments_lexer": "ipython3",
   "version": "3.8.8"
  },
  "orig_nbformat": 4
 },
 "nbformat": 4,
 "nbformat_minor": 2
}
