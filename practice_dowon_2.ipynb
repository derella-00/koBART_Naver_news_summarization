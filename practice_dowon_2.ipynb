{
 "cells": [
  {
   "attachments": {},
   "cell_type": "markdown",
   "metadata": {},
   "source": [
    "## 데이터 로드"
   ]
  },
  {
   "cell_type": "code",
   "execution_count": 1,
   "metadata": {},
   "outputs": [],
   "source": [
    "import pandas as pd\n",
    "import numpy as np\n",
    "import json\n",
    "\n",
    "with open('./data/train_original.json', encoding='utf-8') as train_f:\n",
    "    train_data = json.loads(train_f.read())\n",
    "    train_df = pd.DataFrame(train_data['documents'])\n",
    "\n",
    "with open('./data/valid_original.json', encoding='utf-8') as valid_f:\n",
    "    valid_data = json.loads(valid_f.read())\n",
    "    valid_df = pd.DataFrame(valid_data['documents'])"
   ]
  },
  {
   "cell_type": "code",
   "execution_count": 6,
   "metadata": {},
   "outputs": [
    {
     "data": {
      "text/plain": [
       "[[{'index': 0,\n",
       "   'sentence': 'ha당 조사료 400만원…작물별 차등 지원',\n",
       "   'highlight_indices': ''}],\n",
       " [{'index': 1, 'sentence': '이성훈 sinawi@hanmail.net', 'highlight_indices': ''}],\n",
       " [{'index': 2,\n",
       "   'sentence': '전라남도가 쌀 과잉문제를 근본적으로 해결하기 위해 올해부터 시행하는 쌀 생산조정제를 적극 추진키로 했다.',\n",
       "   'highlight_indices': ''}],\n",
       " [{'index': 3,\n",
       "   'sentence': '쌀 생산조정제는 벼를 심었던 논에 벼 대신 사료작물이나 콩 등 다른 작물을 심으면 벼와의 일정 소득차를 보전해주는 제도다.',\n",
       "   'highlight_indices': '35,37'}],\n",
       " [{'index': 4,\n",
       "   'sentence': '올해 전남의 논 다른 작물 재배 계획면적은 전국 5만ha의 약 21%인 1만 698ha로, 세부시행지침을 확정, 시군에 통보했다.',\n",
       "   'highlight_indices': '9,11;33,34'},\n",
       "  {'index': 5,\n",
       "   'sentence': '지원사업 대상은 2017년산 쌀 변동직불금을 받은 농지에 10a(300평) 이상 벼 이외 다른 작물을 재배한 농업인이다.',\n",
       "   'highlight_indices': '50,52'}],\n",
       " [{'index': 6,\n",
       "   'sentence': '지원 대상 작물은 1년생을 포함한 다년생의 모든 작물이 해당되나 재배 면적 확대 시 수급과잉이 우려되는 고추, 무, 배추, 인삼, 대파 등 수급 불안 품목은 제외된다.',\n",
       "   'highlight_indices': '24,26'}],\n",
       " [{'index': 7,\n",
       "   'sentence': '농지의 경우도 이미 다른 작물 재배 의무가 부여된 간척지, 정부매입비축농지, 농진청 시범사업, 경관보전 직불금 수령 농지 등은 제외될 예정이다.',\n",
       "   'highlight_indices': '8,10;11,13'}],\n",
       " [{'index': 8,\n",
       "   'sentence': 'ha(3000평)당 지원 단가는 평균 340만원으로 사료작물 400만원, 일반작물은 340만원, 콩·팥 등 두류작물은 280만원 등이다.',\n",
       "   'highlight_indices': ''},\n",
       "  {'index': 9,\n",
       "   'sentence': '벼와 소득차와 영농 편이성을 감안해 작물별로 차등 지원된다.',\n",
       "   'highlight_indices': ''}],\n",
       " [{'index': 10,\n",
       "   'sentence': '논에 다른 작물 재배를 바라는 농가는 오는 22일부터 2월 28일까지 농지 소재지 읍면동사무소에 신청해야 한다.',\n",
       "   'highlight_indices': '3,5'}],\n",
       " [{'index': 11,\n",
       "   'sentence': '전남도는 도와 시군에 관련 기관과 농가 등이 참여하는‘논 타작물 지원사업 추진협의회’를 구성, 지역 특성에 맞는 작목 선정 및 사업 심의 등을 본격 추진할 방침이다.',\n",
       "   'highlight_indices': '32,33;69,70'}],\n",
       " [{'index': 12,\n",
       "   'sentence': '최향철 전라남도 친환경농업과장은 “최근 쌀값이 다소 상승추세에 있으나 매년 공급과잉에 따른 가격 하락으로 쌀농가에 어려움이 있었다”며“쌀 공급과잉을 구조적으로 해결하도록 논 타작물 재배 지원사업에 많이 참여해주길 바란다”고 말했다.',\n",
       "   'highlight_indices': '26,28;39,41;97,98;110,112'}]]"
      ]
     },
     "execution_count": 6,
     "metadata": {},
     "output_type": "execute_result"
    }
   ],
   "source": [
    "train_df.text[0]"
   ]
  },
  {
   "cell_type": "code",
   "execution_count": 2,
   "metadata": {},
   "outputs": [],
   "source": [
    "def sentence_validation(item, sentence):\n",
    "    val_num = 0\n",
    "    if item == []:\n",
    "        val_num = 1\n",
    "    if '@' in sentence or '/사진' in sentence:\n",
    "        val_num = 1\n",
    "    return val_num\n",
    "\n",
    "\n",
    "def extract_body(article) -> str:\n",
    "    item_list = []\n",
    "\n",
    "    # item = train_df['text'][n][idx]\n",
    "    for idx, item in enumerate(article):\n",
    "        sentence = item[0]['sentence']\n",
    "        if sentence_validation(item, sentence):\n",
    "            # print(f'넘기는 항목 : {sentence}')\n",
    "            continue\n",
    "        \n",
    "        if len(item) >= 2:\n",
    "            for sub_item in item:\n",
    "                # print(f'추가되는 하위 항목 : {sentence}')\n",
    "                item_list.append(sub_item['sentence'])\n",
    "                continue\n",
    "        \n",
    "        # print(f'추가되는 항목 : {sentence}')\n",
    "        item_list.append(sentence)\n",
    "\n",
    "    return item_list"
   ]
  },
  {
   "cell_type": "code",
   "execution_count": null,
   "metadata": {},
   "outputs": [],
   "source": []
  },
  {
   "cell_type": "code",
   "execution_count": null,
   "metadata": {},
   "outputs": [],
   "source": []
  },
  {
   "cell_type": "code",
   "execution_count": null,
   "metadata": {},
   "outputs": [],
   "source": []
  },
  {
   "cell_type": "code",
   "execution_count": null,
   "metadata": {},
   "outputs": [],
   "source": []
  },
  {
   "cell_type": "code",
   "execution_count": null,
   "metadata": {},
   "outputs": [],
   "source": []
  }
 ],
 "metadata": {
  "kernelspec": {
   "display_name": "venv",
   "language": "python",
   "name": "python3"
  },
  "language_info": {
   "codemirror_mode": {
    "name": "ipython",
    "version": 3
   },
   "file_extension": ".py",
   "mimetype": "text/x-python",
   "name": "python",
   "nbconvert_exporter": "python",
   "pygments_lexer": "ipython3",
   "version": "3.8.8"
  },
  "orig_nbformat": 4
 },
 "nbformat": 4,
 "nbformat_minor": 2
}
