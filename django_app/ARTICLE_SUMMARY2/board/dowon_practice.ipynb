{
 "cells": [
  {
   "cell_type": "code",
   "execution_count": 12,
   "metadata": {},
   "outputs": [],
   "source": [
    "import json\n",
    "from newsCrawler import NewsCrawler\n",
    "import requests\n",
    "import re"
   ]
  },
  {
   "cell_type": "code",
   "execution_count": null,
   "metadata": {},
   "outputs": [],
   "source": [
    "url = \"https://n.news.naver.com/article/014/0005007026?cds=news_media_pc&type=editn\"\n",
    "comments = NewsCrawler.get_news_comment(url=url)\n",
    "comments"
   ]
  },
  {
   "cell_type": "code",
   "execution_count": 74,
   "metadata": {},
   "outputs": [
    {
     "name": "stdout",
     "output_type": "stream",
     "text": [
      "{'userName': 'hui3****', 'contents': '증언과  정황상 성폭행도 100퍼지만,  1 전과 18범, 2 반성하지  않고, 3 출소하면 보복살해 한다 했다 이 3가지라도 사형 선고하고 영원히 구속할 필요충분 조건이 된다 저런 짐승 절대 교화  안 된다', 'sympathyCount': 1275, 'antipathyCount': 7}\n",
      "{'userName': 'leem****', 'contents': '이런 악마는 세상이랑 격리를 시켜야 함', 'sympathyCount': 806, 'antipathyCount': 2}\n",
      "{'userName': 'jun5****', 'contents': '저런 돌려차기 맞고  죽지 누가 살겠냐  살인의도가 다분한 공격이다 차라리  영화처럼  마취용 알콜로 입 막아서 취한것처럼 데려가는건 양반이네  도대체 어떤 인생을 살면 저렇게 무식하게 여자를 공격해서 성추행 하는지 궁금하다', 'sympathyCount': 464, 'antipathyCount': 1}\n",
      "{'userName': 'tpwl****', 'contents': '사람되긴 틀렸다.18범이면 죽여달란소린데 사형이 답이다.', 'sympathyCount': 422, 'antipathyCount': 1}\n",
      "{'userName': 'cupi****', 'contents': '돌려차기한 발목을 절단해라. 그러고 살아보라 해. 중성화시키고.', 'sympathyCount': 339, 'antipathyCount': 1}\n",
      "{'userName': 'nama****', 'contents': '이런놈은 살려둘 가치가없다. 사형이 아니라면 사회와 영원히 격리조치해야한다.', 'sympathyCount': 318, 'antipathyCount': 1}\n",
      "{'userName': 'cono****', 'contents': '저놈 평생  못나오게 해야된다 ... 출소하면 분명히 살인까지 할놈이다 ...', 'sympathyCount': 223, 'antipathyCount': 0}\n",
      "{'userName': 'cjsw****', 'contents': 'cctv보고도 이렇다 저렇다 왈가불가하는 사람이 왜 있냐? 비인륜적이고 잔인하잖아~ 인간이길 포기한 행동을 했는데 왜 사형 안때리냐? 가석방없는 무기징역도 사치다!!!', 'sympathyCount': 143, 'antipathyCount': 1}\n",
      "{'userName': 'miru****', 'contents': '가해자 사형시켜야한다성폭행 하기 위해 뒤따라가서 의식 잃을 정도로 무방비 상태의 여성의 머리와 얼굴을 무차별 폭행하고CCTV없는 곳으로  피해자를 옮긴뒤 성폭행을 했다 사건재발 방지차원에서라도 사형 시켜서 다시는 사회에서 성폭행 못하게 해야한다사과는 커녕 오히려 항소하며 피해자를또다시 죽이고 있다피해자는 죽을수도 있었고 지금은 사고 후유증 때문에 장애를 가지게 되었다사형으로 엄벌 해야한다다른 전과도 많은 범죄자다또다시 성폭행 할 가능성이 다분해 보인다 불특정 다수의 여성들이 성폭행범으로 부터 피해당하지 말아야 된다', 'sympathyCount': 127, 'antipathyCount': 1}\n",
      "{'userName': 'tjho****', 'contents': '다시는 사회에 나오지 못하도록 사형시켜라.', 'sympathyCount': 85, 'antipathyCount': 2}\n",
      "{'userName': 'sync****', 'contents': '내가본 그알 중에  손에 꼽히는 충격적 범죄 였다. 마치 대한민국이 아닌  후진국 에서 있을만한 사건이다. 저늠 오원춘 과  다를게 뭐가있나.', 'sympathyCount': 78, 'antipathyCount': 1}\n",
      "{'userName': 'chsj****', 'contents': '전과 몇범이더라?  또 별하나 추가하는데 늙어 빠져서 고추 힘없을때 출소해라‥ 뭐가 억울해 항소를 하지?  재판부야 괴씸죄 포함해서 40년형 안될까?  요즘 판사들이 옳은 판사가 없으니 법이 몰랑몰랑하지!!', 'sympathyCount': 71, 'antipathyCount': 0}\n",
      "{'userName': 'fabr****', 'contents': '백세시대인건 알테고.  형량도 백세시대 고려되야지?', 'sympathyCount': 67, 'antipathyCount': 1}\n",
      "{'userName': 'berr****', 'contents': '그알에서 나왔는데, 처음엔 묻지마폭행이라고만 생각해서 성범죄가 있을거란 예상을 못했었는데 사건이후로 이상하게 계속 항문에서 출혈이 있었다고 함. 빼박이지 이건. 가해자색히 진짜 다시는 이딴짓 못하게 발목아작내고 무기징역 살아야 된다고 봄', 'sympathyCount': 56, 'antipathyCount': 1}\n",
      "{'userName': 'jh03****', 'contents': '12년? 존경하는 판사님 따님이저래 됐어도..12년 줄거에요?이건 진짜 아니지~', 'sympathyCount': 38, 'antipathyCount': 0}\n",
      "{'userName': 'nago****', 'contents': '다 벗겨져 있었던  옷을 누가 입힌게지그만큼 초등수사를 똑바로 못햇다는 증거다', 'sympathyCount': 27, 'antipathyCount': 0}\n",
      "{'userName': 'jky9****', 'contents': '재판부의 솜방망이 선고가 매우 우려된다. CCTV장면 만으로도 살인미수와 피해자를 사람들의 눈에 안띄는 곳으로 이동시킨점을 감안하면 강도 강간의 추가범죄가 매우 유력한데...죄질이 안좋고 보복범죄를 암시하는등 사회와의 격리가 필요하다. 징역30년.', 'sympathyCount': 23, 'antipathyCount': 1}\n",
      "{'userName': 'dari****', 'contents': '좌파 대깨문  판사 만나면 훈방조치', 'sympathyCount': 35, 'antipathyCount': 19}\n",
      "{'userName': 'alph****', 'contents': '잔인무도    사람  잡는  게백정  !  그자  이름은  \"  A  \"다  !  한밤중     외진  길에서  마주쳐도아무도   못알아  본다  !  아는건  오직  A  !악독한  살인마를   이토록  끔찍히  보호해주는건   뭔가  ?   계속   더   죽여라  이것인가   ?', 'sympathyCount': 17, 'antipathyCount': 2}\n",
      "{'userName': 'lym0****', 'contents': '묻지도 따지지도 말고 최소 무기징역 이상 선고해서 사회와 완전히 격리 시켜라', 'sympathyCount': 16, 'antipathyCount': 1}\n",
      "{'userName': 'ggal****', 'contents': '옛날부터 삼세번을 중시했다. 그러니 전과4범 이상은 교화가 불가능하다. 어떻게 전과 18범이 저렇게 멀쩡히 돌아다니는게 말이되냐?? 그러니 4범이상은 전부 죽이든지 따로 무인도에 가두든지 하자.', 'sympathyCount': 13, 'antipathyCount': 0}\n",
      "{'userName': 'syna****', 'contents': '18범에 출소하면 찾아서 죽이겠다는데 사형해라~ 사회에 다시 나오게 하는건 판사의 중죄다~ 판사도 이제 책임감이라는걸 좀 가지길~', 'sympathyCount': 11, 'antipathyCount': 0}\n",
      "{'userName': 'wlgu****', 'contents': '무조건 무기징역입니다 절대 절대로 사회에 나오면 안됩니다', 'sympathyCount': 11, 'antipathyCount': 0}\n",
      "{'userName': 'no2h****', 'contents': '감옥갈만한 범죄는 삼진아웃제 시행해라 어린놈이 벌써 전과18범이면 걍생 불가판정 내려야지 이번건 성범죄 아니라도 저놈은 살려둘 가치가 없는놈이다', 'sympathyCount': 10, 'antipathyCount': 0}\n",
      "{'userName': 'bbak****', 'contents': '이제와서 현장출동 경찰의 증언듣는건 뭐지? 수사시작때 이미 알고있어야했던거 아닌가?', 'sympathyCount': 10, 'antipathyCount': 0}\n",
      "{'userName': 'toto****', 'contents': '저런악마는 사료기계로 뽑아   닭모이가 되어야 마땅함', 'sympathyCount': 7, 'antipathyCount': 0}\n",
      "{'userName': 'jjg1****', 'contents': '1심에서 징역 12년 ????? 120년도 아니고 꼴랑 12년  저넘은 영원히 사회에서 격리 시커야 된다 판사들아 제발 국민정서에 맞는 판결좀 내라 최소 30년 이상은 판결내야 될꺼 아닌가?', 'sympathyCount': 7, 'antipathyCount': 0}\n",
      "{'userName': 'car_****', 'contents': \"드라마 '모범택시'가 실제로 존재해 법으로 안되는 짐승들을 잡아 즉각 살처분했으면 좋겠습니다.\", 'sympathyCount': 7, 'antipathyCount': 0}\n",
      "{'userName': 'khm2****', 'contents': '사형제를 즉각 시행해라...더 이상 지켜 볼수만 없는 잔인잔혹한 사건이 일어나고 있다,,,저런 인간들에게 인권 보호를 할 필요없다....', 'sympathyCount': 7, 'antipathyCount': 0}\n",
      "{'userName': 'ross****', 'contents': '가석방없는 무기징역에 1표', 'sympathyCount': 7, 'antipathyCount': 0}\n",
      "{'userName': 'hone****', 'contents': '청바지가 왜 일반적인 사람이 벗기기가 힘들다는거지??...예전에는 대한민국 남자의 평균키가 165였고, 지금은 175인데..힘부터 다른데 뭔 쌍팔년도 전의 판례로 저런 소리를 하는건지.덩치큰 중딩들도 여자가 가만히 누워있는거라면 한번에 벗겨버리겠다..', 'sympathyCount': 6, 'antipathyCount': 0}\n",
      "{'userName': 'ptat****', 'contents': '출소하면 보복하라고 하고 징역 60년 정도면 적당하겠네.. 사람 바꿔쓰는거 아니라더라. 저정도 극단적인 사이코패스가 징역생활 10년하면 나아지것나? 가석방없는 60년에 강제노역까지 하면 딱 맏을듯', 'sympathyCount': 5, 'antipathyCount': 0}\n",
      "{'userName': 'hswo****', 'contents': '일반인이 생각해도 성폭행 정황이 충분하고...성폭행 목적이 아니면 무지막지한 폭행을 가할 이유가 없다', 'sympathyCount': 5, 'antipathyCount': 0}\n",
      "{'userName': 'kcr1****', 'contents': '대놓고 나가면 지 여친이랑 피해자한테 보복하겠다고 하는 놈인데 판사는 제정신이냐?', 'sympathyCount': 5, 'antipathyCount': 0}\n",
      "{'userName': 'nahy****', 'contents': '1심에서 징역 12년?? 왠만하면 댓글 귀찮아서 달기 싫었는데.. 저기요 판사양반 숫자 뒤에 0하나 빼 먹은 거 아니요? 아니라면 판사 당신도 연대 책임 물어야 할 정도요. 저넘이 사회에서 돌아다녀야 할 자라 보이나? 선량한 사람 죽이고도 남을 넘에게 120년이 아니라 12년? 판사양반 이 정도면 당신도 공범이라오.', 'sympathyCount': 4, 'antipathyCount': 0}\n",
      "{'userName': 'shaf****', 'contents': '교화불가임...나오면 또 백퍼 범죄저지름...18범? 인간이 아님', 'sympathyCount': 4, 'antipathyCount': 0}\n",
      "{'userName': 'sige****', 'contents': '저정도면 최소 사형은 시켜야 맞는거 아니냐?', 'sympathyCount': 4, 'antipathyCount': 0}\n",
      "{'userName': 'hswo****', 'contents': '이런 엄청난 범행에 징역 12년은 너무 적다  항소심 재판부가 바로 잡기를 바란다', 'sympathyCount': 4, 'antipathyCount': 0}\n",
      "{'userName': 'qkfh****', 'contents': '이 사건 무기 또는 사형 선고 안내리면 해당 판사 신상공개해야합니다.', 'sympathyCount': 4, 'antipathyCount': 0}\n",
      "{'userName': 'jmg0****', 'contents': '아니 법이고 나발이고 융통성있게 인간적으로 갑시다. 이건 사형이지.', 'sympathyCount': 4, 'antipathyCount': 0}\n",
      "{'userName': 'sjm2****', 'contents': '부모입징으로서 진짜 극도로 화가난다     사회에 못나오게 해야한다', 'sympathyCount': 4, 'antipathyCount': 0}\n",
      "{'userName': 'yang****', 'contents': '벌이 약하니 사회에서 계속이런일이 생기는거다 일면식두 없는사람한테 저런짓을 하느게 정상은 아니잔아', 'sympathyCount': 4, 'antipathyCount': 0}\n",
      "{'userName': 'bigb****', 'contents': '인간이  아니다', 'sympathyCount': 4, 'antipathyCount': 0}\n",
      "{'userName': 'ymh6****', 'contents': '어휴. 성폭행하려 돌려차기를 하지않나. 피흘린 피해자를소변까지 적은 상태에서 성폭행 했다면. 이건 인간쓰레기이다. 이걸 증거로 못잡는다면 경찰과 판검사의 무능일따름이며, 세상에 나오지못하도록 엄벌해야 한다.', 'sympathyCount': 3, 'antipathyCount': 0}\n",
      "{'userName': 'dhks****', 'contents': '나오면 또사고친다', 'sympathyCount': 3, 'antipathyCount': 0}\n",
      "{'userName': 'shon****', 'contents': '기사내용 볼 필요없이 사형', 'sympathyCount': 3, 'antipathyCount': 0}\n",
      "{'userName': 'cbk8****', 'contents': '제2의피해자가 나오지 않도록....', 'sympathyCount': 3, 'antipathyCount': 0}\n",
      "{'userName': 'daso****', 'contents': '의식을 잃고 몸이 뻗뻗하게 굳어있는 데 끌고가는게 안보입니까?판사는?', 'sympathyCount': 3, 'antipathyCount': 0}\n",
      "{'userName': 'incl****', 'contents': '교도소가 교도소 다워야 하는데 군대보다 편하단 사람도 있다고하니', 'sympathyCount': 3, 'antipathyCount': 0}\n",
      "{'userName': 'uv00****', 'contents': '살인법을 적용해라  세상과 영원히 격리시켜라', 'sympathyCount': 3, 'antipathyCount': 0}\n",
      "{'userName': 'kams****', 'contents': '해당 사건을 강력하게 처벌해야 그다음  유사범죄시 판례를 들어 강력하게 처벌 할 수 있습니다 국민들이 안전하게 살 수 있는 나라라면  해당사건 범죄자 강력처벌 해야합니다', 'sympathyCount': 3, 'antipathyCount': 0}\n",
      "{'userName': 'sang****', 'contents': '제발. 선량한 시민들 좀 살자범죄자들에게 무슨 인권이 필요한가. 사형. 중형. 영원히 격리시켜라', 'sympathyCount': 3, 'antipathyCount': 0}\n",
      "{'userName': 'kch3****', 'contents': '12년도 짧다!!무기징역은 되야지  사람을 죽이려는 의도가 보인다', 'sympathyCount': 3, 'antipathyCount': 0}\n",
      "{'userName': 'oliv****', 'contents': 'ㅡ.ㅡ 저런인간에게 인권타령하는 인권위가 과연 존재이유가있나? 인권은 사람에게 있는것이지..저런 괴물이 아니고.  당최 누굴위한 인권인가? 멀쩡한여자 돌려차기해 반신불수만들고..  저사람 과거에도 저짓거리에 성폭행했다면서..', 'sympathyCount': 3, 'antipathyCount': 0}\n",
      "{'userName': 'cjtk****', 'contents': '기사제목을 꼭 이렇게 자극적으로 뽑았어야하나요', 'sympathyCount': 3, 'antipathyCount': 0}\n",
      "{'userName': 'gkak****', 'contents': '사형 좀 집행하자..누명을 쓴 것두 아니고 범죄 사실이 명백하잖아요..교도소 좁아 미어터진다며? 저런 넘들 빨리 빨리 사형시켜야지 교도소 좁다는 배부른 소리 안하지..나쁜넘..', 'sympathyCount': 3, 'antipathyCount': 0}\n",
      "{'userName': 'baes****', 'contents': '항소하는것들은 반성문인정안해야된다. 양심도없는것들은 세금으로 콩밥먹이지말고그냥사형시켜라.몹쓸것들이나오면  또사고친다.', 'sympathyCount': 3, 'antipathyCount': 0}\n",
      "{'userName': 'hur0****', 'contents': '전과 10범 이상은 뭔죄를 지어도 30년형 이상 선고 하자 재활용도 안되는 것들 자루 내보내면 뭐하냐', 'sympathyCount': 3, 'antipathyCount': 0}\n",
      "{'userName': 'hoon****', 'contents': '전과3범이상은 그냥 안바뀐다고 보고 북한처럼 죽을때까지 아오지같은데 보내서 일시켜야한다..  감옥이 지옥같아야 교화가되지', 'sympathyCount': 3, 'antipathyCount': 0}\n",
      "{'userName': 'k681****', 'contents': '이건 살인행위나 마찬가지고 성폭행도 있었던것닽고무조건 무기징역땨려라', 'sympathyCount': 3, 'antipathyCount': 0}\n",
      "{'userName': 'kkch****', 'contents': '🐕 법 🐕 법관 이게 왜 징역  겨우12년이야 악의적  살해의도인데 사형이지   🐕 법관들 청산해야할 적폐집단', 'sympathyCount': 3, 'antipathyCount': 0}\n",
      "{'userName': 'tkdw****', 'contents': '항소? 항소한다는 자체가 뉘우침이 없음. 거세하고 종신형을 다스려야 이런 범죄가 사라진다.', 'sympathyCount': 3, 'antipathyCount': 0}\n",
      "{'userName': 'jhyg****', 'contents': '이런 쓰레기를 1년 가까이 판결이 없다니!!!12년인데 항소심!!??잘했따!!본보기로 1심판결 곱하기 5배60년 때리자!!죽지 않을만큼 줘패고..평생 강제노역시켜 피해자에게 보상케해라!!!!', 'sympathyCount': 3, 'antipathyCount': 0}\n",
      "{'userName': 'fifa****', 'contents': '절대 가두는 것만으로는 교화 안됨. 12년 뒤에 또 희생자 나올게 뻔하다. 화학적 치료를 하던 영원히 사회와 격리를 하던 해야한다.', 'sympathyCount': 3, 'antipathyCount': 0}\n",
      "{'userName': 'jeff****', 'contents': '제발 좀 사형', 'sympathyCount': 3, 'antipathyCount': 0}\n",
      "{'userName': 'sman****', 'contents': '무기징역 &amp; 사형을 시켜야지.. 그래야 되는거 아니가! 죽여라', 'sympathyCount': 3, 'antipathyCount': 0}\n",
      "{'userName': 'qkrr****', 'contents': '저런놈은 갱생  안되니 사형이 답이다. 보복할 생각하는놈을 왜 살려두나', 'sympathyCount': 3, 'antipathyCount': 0}\n",
      "{'userName': 'jh72****', 'contents': '사형', 'sympathyCount': 3, 'antipathyCount': 0}\n",
      "{'userName': 'taek****', 'contents': '징역 20년 이상이 필요한 넘이다', 'sympathyCount': 3, 'antipathyCount': 1}\n",
      "{'userName': 'riky****', 'contents': '사형 아니면 무기징역 가자. 제발 저런 넘들 최소 무기징역 가게 법 바꾸자.', 'sympathyCount': 2, 'antipathyCount': 0}\n",
      "{'userName': 'hrki****', 'contents': '저 상노무스끼는  그냥 죽여야 맞는거 아님?', 'sympathyCount': 2, 'antipathyCount': 0}\n",
      "{'userName': 'nang****', 'contents': '살인병기는 세상밖으로 나오게 하면 안되지요.', 'sympathyCount': 2, 'antipathyCount': 0}\n",
      "{'userName': 'azur****', 'contents': '거세가 필요하고 평생 전자팔지를 채워야한다..최소 30년이상 감옥에서 썩어야', 'sympathyCount': 2, 'antipathyCount': 0}\n",
      "{'userName': 'ange****', 'contents': '피해자가 입은 청바지는 통이넓은 옷으로 보입니다충분히 성범죄도 함께 저지른것이라 볼수있습니다재판부는 제대로된 상황을 보길...', 'sympathyCount': 2, 'antipathyCount': 0}\n",
      "{'userName': 'jjal****', 'contents': '뭔 말들이 이리 많어. 고의성을 가지고 계획적으로 돌려차기 한거고 죄질이 더럽고 반성도 없으니 다리 자르고 거세한 후 감빵에 넣어줘라. 형님들이 잘 교화시켜 줄거다. 잘못한 부분은 도려내야 맞지. 암.', 'sympathyCount': 2, 'antipathyCount': 0}\n",
      "{'userName': 'unpr****', 'contents': '근데 왜 사건 당시에 dna 검사를 안 했던거죠?', 'sympathyCount': 2, 'antipathyCount': 0}\n",
      "{'userName': 'bbom****', 'contents': '저 전과 18범 그알 보니까 사람이 아니더라', 'sympathyCount': 2, 'antipathyCount': 0}\n",
      "{'userName': 'daum****', 'contents': '내가다복수하구싶다', 'sympathyCount': 2, 'antipathyCount': 0}\n",
      "{'userName': 'pres****', 'contents': '무조건 절대 결코 사형시켜야 한다.저런 동물보다 못한 괴물은 영원히 격리하라', 'sympathyCount': 2, 'antipathyCount': 0}\n",
      "{'userName': 'yunj****', 'contents': '인간이길 포기한넘이다.  영구격리 시켜야한다', 'sympathyCount': 2, 'antipathyCount': 0}\n",
      "{'userName': 'vllo****', 'contents': '에휴제발사형수로절대사회못나오게해야됨', 'sympathyCount': 2, 'antipathyCount': 0}\n",
      "{'userName': '0222****', 'contents': '가해자 너무 뻔뻔하더라.사회 나오면 안 될 듯.강력처벌!!!', 'sympathyCount': 2, 'antipathyCount': 0}\n",
      "{'userName': 'dnjs****', 'contents': '이런 가해자는 사형 좀,,,,내 세금으로 콩밥주기도 아깝다', 'sympathyCount': 2, 'antipathyCount': 0}\n",
      "{'userName': 'coff****', 'contents': '영상보니 완전 싸이코던데.. 갱생 힘들고 사회와 격리가 필요한 것 같습니다.', 'sympathyCount': 2, 'antipathyCount': 0}\n",
      "{'userName': 'oran****', 'contents': '신상공개!!!!!!!', 'sympathyCount': 2, 'antipathyCount': 0}\n",
      "{'userName': 'skyp****', 'contents': '쟤 얼굴 공개 안하냐? 형살다 나와도 또 저럴 것 같은데', 'sympathyCount': 2, 'antipathyCount': 0}\n",
      "{'userName': 'yp08****', 'contents': '저런게 성폭행유무가 중요하냐?저정도면 그냥 묻지도 따지지도말고 사형에 처해라', 'sympathyCount': 2, 'antipathyCount': 0}\n",
      "{'userName': 'dldl****', 'contents': '성폭력인정으로 실형받으면 뭐하냐? 피해자는 앞으로 살아가기힘들정도로 평생 상처를 안고살아야하는데?', 'sympathyCount': 2, 'antipathyCount': 0}\n",
      "{'userName': 'coco****', 'contents': '제발 검찰이 아닌 판사가 사형 구형해라 미친 나라가해자 인권만 인권인 미친 나라', 'sympathyCount': 2, 'antipathyCount': 0}\n",
      "{'userName': 'foev****', 'contents': '참나 100퍼지 이걸말이라고', 'sympathyCount': 2, 'antipathyCount': 0}\n",
      "{'userName': 'k1kj****', 'contents': '무기징역도 약하다 사형선고해라', 'sympathyCount': 2, 'antipathyCount': 0}\n",
      "{'userName': 'sunn****', 'contents': '이놈 십대부터 교도소 밥먹듯 드나든 넘 또다른 피해자 생기지 않게 평생 거기서 살게해야 함', 'sympathyCount': 2, 'antipathyCount': 0}\n",
      "{'userName': 'mfor****', 'contents': '제발 사형제도 부활을...이런놈은 나오면 더 큰 범죄를 저지를께  뻔함.', 'sympathyCount': 2, 'antipathyCount': 0}\n",
      "{'userName': 'miki****', 'contents': '저런 흉악범은 사형시켜야 됩니다.!!', 'sympathyCount': 2, 'antipathyCount': 0}\n",
      "{'userName': 'skyj****', 'contents': '증거와 정황이 일반인이봐도 확실한데 왜 재판부는 범죄자에게 관대한것인지! 사법부가 유독 성범죄에 관대한 이유가 뭔가??', 'sympathyCount': 2, 'antipathyCount': 0}\n",
      "{'userName': 'stev****', 'contents': '범죄 DNA는 변하지 않는다....저 누미 출소하면 피해자한테 보복할 수 있다.......차라리 아킬레스 건 좀 끊고 거세도 해서 사회에서 나뿐짓 못하게 해야한다....', 'sympathyCount': 2, 'antipathyCount': 0}\n",
      "{'userName': 'ashi****', 'contents': '그냥 돌려차기로 지금 죽여버리면 안되나??', 'sympathyCount': 2, 'antipathyCount': 0}\n",
      "{'userName': 'elle****', 'contents': '저런건 사진도 안찍어두나보네 의사들도 성범죄의심했다고 하더니 강간이 목적이 아닌데 돌려차기를 왜하냐', 'sympathyCount': 2, 'antipathyCount': 0}\n",
      "{'userName': 'gmlt****', 'contents': '저런 놈  없는 세상 에서 살고 싶다', 'sympathyCount': 2, 'antipathyCount': 0}\n",
      "{'userName': 'djco****', 'contents': '단두대. 거세. 곤장 1000대 태형', 'sympathyCount': 2, 'antipathyCount': 0}\n"
     ]
    }
   ],
   "source": [
    "comments\n",
    "\n",
    "for comment in comments:\n",
    "    print(comment)"
   ]
  },
  {
   "cell_type": "code",
   "execution_count": 75,
   "metadata": {},
   "outputs": [
    {
     "data": {
      "text/plain": [
       "{'title': '바지 지퍼 내려가 있어 옷 젖을 만큼 소변이.. 부산 돌려차기 목격 증언',\n",
       " 'text': '항소심서 당시 현장 출동 경찰관 증언 나와 파이낸셜뉴스 지난해 부산에서 귀가하던 여성에게 무차별 폭행을 가한 이른바 서면 돌려차기 사건의 항소심에서 “피해자의 바지 지퍼가 절반 이상 내려간 상태였다”라는 당시 현장 출동 경찰관의 증언이 나왔다. 부산고법 형사2-1부(최환 부장판사)는 지난 3일 오후 살인미수 혐의로 기소된 A씨의 항소심 세 번째 공판을 진행했다. 이날 공판에선 당시 현장에 출동했던 경찰관 B씨와 피해자의 언니 C씨가 증인으로 출석했다. 이들 증인 신문은 A씨가 법정에 없는 상태에서 이뤄졌다. 사건 현장을 최초로 목격한 당시 서면지구대 소속 경찰관 B씨는 “피해자는 복도에서 피를 흘린 채 누워 있었고 엘리베이터 주변에도 피가 묻어 있었다. (피해자의) 의식이 희미한 상태였다”라고 말했다. 이어 “피해자 상의가 가슴 밑까지 올라가 있는 상태였고, 바지 지퍼가 많이 내려간 상태로 앞단이 바깥쪽으로 완전히 접혀 있었다”라며 “맨살이 많이 보이는 상태여서 바지 앞단을 정리했다”라고 설명했다. 또 “피해자 옆에 신발이 가지런히 놓여 있었고 휴대전화가 신발 옆에 놓여 있었던 게 의아했다. 현장에서 피해자가 누구한테 폭행당했다고 생각하지 못할 정도였다”라고 했다. 속옷 착용 여부에 대해선 “기억나지 않는다”라고 했다. 피해자의 친언니인 C씨는 법정에서 피해자가 병원으로 이송됐을 당시 상황에 대해 증언했다. C씨는 “바지가 젖을 정도로 소변이 많이 묻어 있어 옷을 얼른 갈아입혔다”라며 “환자복으로 환복시키던 과정에서 동생 한쪽 다리에 속옷이 걸쳐져 있었던 것을 봤다”라고 설명했다. 재판부는 “발견 당시 피해자의 옷매무새 증언이 대부분 일치한다”라고 판단했다. 다만 “증인들의 진술에 따르면 일반적인 사람이 쉽게 벗기 힘든 구조의 청바지에 대해 증언만으로 파악하는 데 한계가 있다”라며 “법정에서 확인하는 절차가 필요할 것 같다”라고 덧붙였다. 이에 검찰은 DNA 채취를 위해 대검찰청에 있는 피해자의 청바지를 확보해 검증 신청을 하겠다고 답했다. 다음 기일은 오는 17일 오후다. 변론기일과 청바지 검증 기일도 함께 진행된다. 한편 A씨는 지난해 5월 22일 새벽 부산 부산진구 서면 한 오피스텔 1층 복도에서 피해자 뒤를 쫓아가 발차기로 여러 차례 머리를 폭행해 쓰러뜨린 혐의를 받는다. A씨는 이후 폐쇄회로(CC)TV 반경에 없는 사각지대로 피해자를 옮기고 7분 후 오피스텔 밖으로 나가는 모습이 CCTV에 찍혔다. A씨는 1심에서 징역 12년을 선고받았다. A씨와 검찰 모두 항소해 현재 항소심이 진행 중이다. #항소심 #부산돌려차기',\n",
       " 'press': '파이낸셜뉴스',\n",
       " 'reporter': '조유현 기자',\n",
       " 'section': '사회',\n",
       " 'write_date': '2023-05-04 05:46:00',\n",
       " 'modify_date': -1}"
      ]
     },
     "execution_count": 75,
     "metadata": {},
     "output_type": "execute_result"
    }
   ],
   "source": [
    "from newsCrawler import NewsCrawler\n",
    "\n",
    "url = \"https://n.news.naver.com/article/014/0005007026?cds=news_media_pc&type=editn\"\n",
    "article_dict = NewsCrawler.navercrawl(url=url)\n",
    "article_dict"
   ]
  },
  {
   "cell_type": "code",
   "execution_count": null,
   "metadata": {},
   "outputs": [],
   "source": []
  }
 ],
 "metadata": {
  "kernelspec": {
   "display_name": "venv",
   "language": "python",
   "name": "python3"
  },
  "language_info": {
   "codemirror_mode": {
    "name": "ipython",
    "version": 3
   },
   "file_extension": ".py",
   "mimetype": "text/x-python",
   "name": "python",
   "nbconvert_exporter": "python",
   "pygments_lexer": "ipython3",
   "version": "3.8.8"
  },
  "orig_nbformat": 4
 },
 "nbformat": 4,
 "nbformat_minor": 2
}
