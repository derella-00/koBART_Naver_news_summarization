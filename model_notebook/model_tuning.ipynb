{
 "cells": [
  {
   "attachments": {},
   "cell_type": "markdown",
   "metadata": {},
   "source": [
    "# BART Model Fine Tuning "
   ]
  },
  {
   "cell_type": "code",
   "execution_count": 7,
   "metadata": {},
   "outputs": [],
   "source": []
  },
  {
   "attachments": {},
   "cell_type": "markdown",
   "metadata": {},
   "source": [
    "## 1. Encoder Weight Load"
   ]
  },
  {
   "cell_type": "code",
   "execution_count": 8,
   "metadata": {},
   "outputs": [
    {
     "name": "stderr",
     "output_type": "stream",
     "text": [
      "You passed along `num_labels=3` with an incompatible id to label map: {'0': 'NEGATIVE', '1': 'POSITIVE'}. The number of labels wil be overwritten to 2.\n",
      "You passed along `num_labels=3` with an incompatible id to label map: {'0': 'NEGATIVE', '1': 'POSITIVE'}. The number of labels wil be overwritten to 2.\n"
     ]
    }
   ],
   "source": [
    "from transformers import PreTrainedTokenizerFast\n",
    "from transformers import AutoTokenizer\n",
    "from transformers import BartModel\n",
    "import torch\n",
    "\n",
    "auto_tokenizer = AutoTokenizer.from_pretrained(\"../model/kobart-base-v2/\",\n",
    "  bos_token='</s>', eos_token='</s>', unk_token='<unk>',\n",
    "  pad_token='<pad>', mask_token='<mask>')\n"
   ]
  },
  {
   "cell_type": "code",
   "execution_count": 9,
   "metadata": {},
   "outputs": [
    {
     "name": "stderr",
     "output_type": "stream",
     "text": [
      "You passed along `num_labels=3` with an incompatible id to label map: {'0': 'NEGATIVE', '1': 'POSITIVE'}. The number of labels wil be overwritten to 2.\n"
     ]
    }
   ],
   "source": [
    "tokenizer = PreTrainedTokenizerFast.from_pretrained(\"../model/kobart-base-v2/\",\n",
    "  bos_token='</s>', eos_token='</s>', unk_token='<unk>',\n",
    "  pad_token='<pad>', mask_token='<mask>')"
   ]
  },
  {
   "cell_type": "code",
   "execution_count": 10,
   "metadata": {},
   "outputs": [
    {
     "data": {
      "text/plain": [
       "{'input_ids': [27616, 25161, 28324, 15464, 279, 283, 16964, 14179, 14562, 5, 108, 160], 'token_type_ids': [0, 0, 0, 0, 0, 0, 0, 0, 0, 0, 0, 0], 'attention_mask': [1, 1, 1, 1, 1, 1, 1, 1, 1, 1, 1, 1]}"
      ]
     },
     "execution_count": 10,
     "metadata": {},
     "output_type": "execute_result"
    }
   ],
   "source": [
    "auto_tokenizer('안녕하세요. 한국어 GPT-2 입니다.😤:)l^o')"
   ]
  },
  {
   "cell_type": "code",
   "execution_count": 11,
   "metadata": {},
   "outputs": [
    {
     "data": {
      "text/plain": [
       "{'input_ids': [27616, 25161, 28324, 15464, 279, 283, 16964, 14179, 14562, 5, 108, 160], 'token_type_ids': [0, 0, 0, 0, 0, 0, 0, 0, 0, 0, 0, 0], 'attention_mask': [1, 1, 1, 1, 1, 1, 1, 1, 1, 1, 1, 1]}"
      ]
     },
     "execution_count": 11,
     "metadata": {},
     "output_type": "execute_result"
    }
   ],
   "source": [
    "tokenizer(\"안녕하세요. 한국어 GPT-2 입니다.😤:)l^o\")"
   ]
  },
  {
   "attachments": {},
   "cell_type": "markdown",
   "metadata": {},
   "source": [
    "오토인코더 , PreTrainedTokenizerFast 차이점 확인 필요"
   ]
  },
  {
   "attachments": {},
   "cell_type": "markdown",
   "metadata": {},
   "source": [
    "## 2.  Model and Model Weight Load"
   ]
  },
  {
   "attachments": {},
   "cell_type": "markdown",
   "metadata": {},
   "source": [
    "Bart 모델 생성및 가중치 불러오기"
   ]
  },
  {
   "cell_type": "code",
   "execution_count": 13,
   "metadata": {},
   "outputs": [
    {
     "name": "stderr",
     "output_type": "stream",
     "text": [
      "You passed along `num_labels=3` with an incompatible id to label map: {'0': 'NEGATIVE', '1': 'POSITIVE'}. The number of labels wil be overwritten to 2.\n"
     ]
    }
   ],
   "source": [
    "model = BartModel.from_pretrained(\"../model/kobart-base-v2/\")"
   ]
  },
  {
   "attachments": {},
   "cell_type": "markdown",
   "metadata": {},
   "source": [
    "## 3. Data load"
   ]
  },
  {
   "cell_type": "code",
   "execution_count": 18,
   "metadata": {},
   "outputs": [],
   "source": [
    "import pandas as pd"
   ]
  },
  {
   "cell_type": "code",
   "execution_count": 19,
   "metadata": {},
   "outputs": [],
   "source": [
    "train_data_df = pd.read_json('../data/train_original.json')\n",
    "test_data_df = pd.read_json('../data/valid_original.json')"
   ]
  },
  {
   "cell_type": "code",
   "execution_count": 24,
   "metadata": {},
   "outputs": [
    {
     "data": {
      "text/plain": [
       "name\n",
       "문서요약 프로젝트    243983\n",
       "Name: count, dtype: int64"
      ]
     },
     "execution_count": 24,
     "metadata": {},
     "output_type": "execute_result"
    }
   ],
   "source": [
    "train_data_df['name'].value_counts()"
   ]
  },
  {
   "cell_type": "code",
   "execution_count": 21,
   "metadata": {},
   "outputs": [
    {
     "data": {
      "text/html": [
       "<div>\n",
       "<style scoped>\n",
       "    .dataframe tbody tr th:only-of-type {\n",
       "        vertical-align: middle;\n",
       "    }\n",
       "\n",
       "    .dataframe tbody tr th {\n",
       "        vertical-align: top;\n",
       "    }\n",
       "\n",
       "    .dataframe thead th {\n",
       "        text-align: right;\n",
       "    }\n",
       "</style>\n",
       "<table border=\"1\" class=\"dataframe\">\n",
       "  <thead>\n",
       "    <tr style=\"text-align: right;\">\n",
       "      <th></th>\n",
       "      <th>name</th>\n",
       "      <th>delivery_date</th>\n",
       "      <th>documents</th>\n",
       "    </tr>\n",
       "  </thead>\n",
       "  <tbody>\n",
       "    <tr>\n",
       "      <th>0</th>\n",
       "      <td>문서요약 프로젝트</td>\n",
       "      <td>2020-12-23 12:01:15</td>\n",
       "      <td>{'id': '340626877', 'category': '정치', 'media_t...</td>\n",
       "    </tr>\n",
       "    <tr>\n",
       "      <th>1</th>\n",
       "      <td>문서요약 프로젝트</td>\n",
       "      <td>2020-12-23 12:01:15</td>\n",
       "      <td>{'id': '340626896', 'category': '종합', 'media_t...</td>\n",
       "    </tr>\n",
       "    <tr>\n",
       "      <th>2</th>\n",
       "      <td>문서요약 프로젝트</td>\n",
       "      <td>2020-12-23 12:01:15</td>\n",
       "      <td>{'id': '340626904', 'category': 'IT,과학', 'medi...</td>\n",
       "    </tr>\n",
       "    <tr>\n",
       "      <th>3</th>\n",
       "      <td>문서요약 프로젝트</td>\n",
       "      <td>2020-12-23 12:01:15</td>\n",
       "      <td>{'id': '340627450', 'category': '사회', 'media_t...</td>\n",
       "    </tr>\n",
       "    <tr>\n",
       "      <th>4</th>\n",
       "      <td>문서요약 프로젝트</td>\n",
       "      <td>2020-12-23 12:01:15</td>\n",
       "      <td>{'id': '340627465', 'category': '경제', 'media_t...</td>\n",
       "    </tr>\n",
       "    <tr>\n",
       "      <th>...</th>\n",
       "      <td>...</td>\n",
       "      <td>...</td>\n",
       "      <td>...</td>\n",
       "    </tr>\n",
       "    <tr>\n",
       "      <th>30117</th>\n",
       "      <td>문서요약 프로젝트</td>\n",
       "      <td>2020-12-23 12:01:15</td>\n",
       "      <td>{'id': '350851474', 'category': '종합', 'media_t...</td>\n",
       "    </tr>\n",
       "    <tr>\n",
       "      <th>30118</th>\n",
       "      <td>문서요약 프로젝트</td>\n",
       "      <td>2020-12-23 12:01:15</td>\n",
       "      <td>{'id': '350851925', 'category': '경제', 'media_t...</td>\n",
       "    </tr>\n",
       "    <tr>\n",
       "      <th>30119</th>\n",
       "      <td>문서요약 프로젝트</td>\n",
       "      <td>2020-12-23 12:01:15</td>\n",
       "      <td>{'id': '350854748', 'category': '종합', 'media_t...</td>\n",
       "    </tr>\n",
       "    <tr>\n",
       "      <th>30120</th>\n",
       "      <td>문서요약 프로젝트</td>\n",
       "      <td>2020-12-23 12:01:15</td>\n",
       "      <td>{'id': '350857648', 'category': '종합', 'media_t...</td>\n",
       "    </tr>\n",
       "    <tr>\n",
       "      <th>30121</th>\n",
       "      <td>문서요약 프로젝트</td>\n",
       "      <td>2020-12-23 12:01:15</td>\n",
       "      <td>{'id': '350861693', 'category': '경제', 'media_t...</td>\n",
       "    </tr>\n",
       "  </tbody>\n",
       "</table>\n",
       "<p>30122 rows × 3 columns</p>\n",
       "</div>"
      ],
      "text/plain": [
       "            name        delivery_date   \n",
       "0      문서요약 프로젝트  2020-12-23 12:01:15  \\\n",
       "1      문서요약 프로젝트  2020-12-23 12:01:15   \n",
       "2      문서요약 프로젝트  2020-12-23 12:01:15   \n",
       "3      문서요약 프로젝트  2020-12-23 12:01:15   \n",
       "4      문서요약 프로젝트  2020-12-23 12:01:15   \n",
       "...          ...                  ...   \n",
       "30117  문서요약 프로젝트  2020-12-23 12:01:15   \n",
       "30118  문서요약 프로젝트  2020-12-23 12:01:15   \n",
       "30119  문서요약 프로젝트  2020-12-23 12:01:15   \n",
       "30120  문서요약 프로젝트  2020-12-23 12:01:15   \n",
       "30121  문서요약 프로젝트  2020-12-23 12:01:15   \n",
       "\n",
       "                                               documents  \n",
       "0      {'id': '340626877', 'category': '정치', 'media_t...  \n",
       "1      {'id': '340626896', 'category': '종합', 'media_t...  \n",
       "2      {'id': '340626904', 'category': 'IT,과학', 'medi...  \n",
       "3      {'id': '340627450', 'category': '사회', 'media_t...  \n",
       "4      {'id': '340627465', 'category': '경제', 'media_t...  \n",
       "...                                                  ...  \n",
       "30117  {'id': '350851474', 'category': '종합', 'media_t...  \n",
       "30118  {'id': '350851925', 'category': '경제', 'media_t...  \n",
       "30119  {'id': '350854748', 'category': '종합', 'media_t...  \n",
       "30120  {'id': '350857648', 'category': '종합', 'media_t...  \n",
       "30121  {'id': '350861693', 'category': '경제', 'media_t...  \n",
       "\n",
       "[30122 rows x 3 columns]"
      ]
     },
     "execution_count": 21,
     "metadata": {},
     "output_type": "execute_result"
    }
   ],
   "source": [
    "test_data_df"
   ]
  },
  {
   "cell_type": "code",
   "execution_count": null,
   "metadata": {},
   "outputs": [],
   "source": []
  }
 ],
 "metadata": {
  "kernelspec": {
   "display_name": "torch_test",
   "language": "python",
   "name": "python3"
  },
  "language_info": {
   "codemirror_mode": {
    "name": "ipython",
    "version": 3
   },
   "file_extension": ".py",
   "mimetype": "text/x-python",
   "name": "python",
   "nbconvert_exporter": "python",
   "pygments_lexer": "ipython3",
   "version": "3.8.16"
  },
  "orig_nbformat": 4
 },
 "nbformat": 4,
 "nbformat_minor": 2
}
