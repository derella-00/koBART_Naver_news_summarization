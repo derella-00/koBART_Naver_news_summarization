{
 "cells": [
  {
   "cell_type": "code",
   "execution_count": 1,
   "metadata": {},
   "outputs": [
    {
     "name": "stdout",
     "output_type": "stream",
     "text": [
      "Requirement already satisfied: lxml in c:\\users\\chloe\\miniconda3\\envs\\final\\lib\\site-packages (4.9.2)\n"
     ]
    }
   ],
   "source": [
    "!pip install lxml"
   ]
  },
  {
   "cell_type": "code",
   "execution_count": 22,
   "metadata": {},
   "outputs": [],
   "source": [
    "from bs4 import BeautifulSoup\n",
    "import requests\n",
    "import time\n",
    "import re\n",
    "import numpy as np\n",
    "import pandas as pd\n",
    "import lxml\n",
    "import xml.etree.ElementTree as ET\n"
   ]
  },
  {
   "cell_type": "code",
   "execution_count": 3,
   "metadata": {},
   "outputs": [],
   "source": [
    "#이거 안붙이면 nave가 봇으로 인식\n",
    "headers = {'User-Agent': 'Mozilla/5.0'}\n",
    "\n",
    "web_url = 'https://n.news.naver.com/mnews/ranking/article/009/0005118648?ntype=RANKING'"
   ]
  },
  {
   "cell_type": "code",
   "execution_count": 4,
   "metadata": {},
   "outputs": [],
   "source": [
    "web_page=requests.get(web_url, headers=headers)"
   ]
  },
  {
   "cell_type": "code",
   "execution_count": 5,
   "metadata": {},
   "outputs": [
    {
     "name": "stdout",
     "output_type": "stream",
     "text": [
      "정상\n"
     ]
    },
    {
     "data": {
      "text/plain": [
       "200"
      ]
     },
     "execution_count": 5,
     "metadata": {},
     "output_type": "execute_result"
    }
   ],
   "source": [
    "if web_page.status_code == 200 :\n",
    "    print('정상')\n",
    "web_page.status_code"
   ]
  },
  {
   "cell_type": "code",
   "execution_count": 6,
   "metadata": {},
   "outputs": [],
   "source": [
    "soup = BeautifulSoup(web_page.content, 'html.parser')"
   ]
  },
  {
   "cell_type": "code",
   "execution_count": 7,
   "metadata": {},
   "outputs": [],
   "source": [
    "a_list = []"
   ]
  },
  {
   "cell_type": "code",
   "execution_count": 8,
   "metadata": {},
   "outputs": [
    {
     "data": {
      "text/plain": [
       "'[<div class=\"go_trans _article_content\" id=\"dic_area\">\\n<span class=\"end_photo_org\"><div class=\"nbd_im_w _LAZY_LOADING_WRAP\">\\n<div class=\"nbd_a _LAZY_LOADING_ERROR_HIDE\" id=\"img_a1\">\\n<img class=\"_LAZY_LOADING\" data-src=\"https://imgnews.pstatic.net/image/009/2023/04/19/0005118648_001_20230419113907240.jpg?type=w647\" id=\"img1\">\\n</img></div>\\n</div><em class=\"img_desc\"> 허위 뇌전증 진단으로 병역 면탈을 시도해 재판에 넘겨진 프로배구 선수 조재성이 19일 오전 공판에 출석하기 위해 서울남부지법으로 들어서고 있다. [사진출처 = 연합뉴스]</em></span>허위 뇌전증 진단으로 병역 면탈을 시도한 혐의로 재판에 넘겨진 프로배구선수 조재성에 대해 검찰이 19일 징역 1년을 구형했다.<br/><br/>서울남부지법 형사9단독 김윤희 판사 심리로 19일 오전 열린 재판에서 검찰은 조씨에게 징역 1년을 구형했다.<br/><br/>검찰은 “병역법 위반을 엄중히 처벌할 필요가 있으나 자백한 점을 고려해 1년을 선고해달라”고 재판부에 요청했다.<br/><br/>검은색 양복과 검은색 마스크를 쓰고 재판에 출석한 조씨는 최후 진술에서 혐의를 모두 인정하면서 “모든 게 제 잘못이며 반성하고 또 반성하겠다”며 선처를 구했다.<br/><br/>조씨 측 변호사는 “피고인은 쉽게 보기 힘든 자세로 반성을 하고 있다“면서 ”범죄 사실을 수사가 개시되자마자 바로 구단 측에 알리고 언론에 알리는 등 진정성 있는 자세를 보였다”고 말했다.<br/><br/>이어 “가족을 지키려고 범행에 이른 경위 등을 살펴 봐달라”며 “입영을 연기할 의사가 있었던 것은 사실이나 면제, 면탈 의사를 갖고 그런 행위를 한 것은 아니다”고 말했다.<br/><br/>그러면서 “조씨가 끝까지 그런 마음을 유지하지 못했지만, 범행 중에도 여러 번 중단 의사를 밝혔다”며 “조씨가 곧 입대하겠다고 밝히고 있는 점 등을 종합적으로 고려해달라”고 덧붙였다.<br/><br/>법정에서 나온 조씨는 취재진이 향후 계획 등을 묻자 “선수로서의 삶은 끝났다고 생각한다”며 “너무 죄송하고 평생 사죄하며 살겠다”고 답했다.<br/><br/>조씨는 병역 브로커 구모(47·구속기소)씨와 공모해 뇌전증 증상을 꾸며내고, 허위 진단을 받아 병역을 감면받으려 한 혐의를 받는다.<br/><br/>검찰에 따르면 조씨는 2014년 10월 첫 신체검사에서 1급 현역 판정을 받은 뒤 2018년 5월 피부과 질환(건선)을 이유로 다시 신체검사를 받아 3급 현역으로 판정됐다.<br/><br/>이후 여러 차례 입대를 연기하다 2020년 12월 구씨에게 5000만원을 주고 ‘허위 뇌전증 시나리오’를 제공받아 병역 면탈을 시도했다.<br/><br/>조씨는 뇌전증 증상이 없는데도 응급실에서 의사에 발작 등을 호소해 2021년 4월 재검사 대상인 7급 판정을 받았다. 이후 뇌전증 약을 지속해서 처방받았고 2022년 2월 결국 보충역인 4급으로 판정됐다.<br/><br/><!-- r_start //--><!-- r_end //-->\\n</div>]'"
      ]
     },
     "execution_count": 8,
     "metadata": {},
     "output_type": "execute_result"
    }
   ],
   "source": [
    "str(soup.select('#dic_area'))"
   ]
  },
  {
   "cell_type": "code",
   "execution_count": 9,
   "metadata": {},
   "outputs": [],
   "source": [
    "a_list.append(soup.select('#dic_area'))"
   ]
  },
  {
   "cell_type": "code",
   "execution_count": 10,
   "metadata": {},
   "outputs": [],
   "source": [
    "testing_urls = [\n",
    "    'https://n.news.naver.com/mnews/article/374/0000332031?sid=102',\n",
    "    'https://n.news.naver.com/mnews/article/374/0000332166',\n",
    "    'https://n.news.naver.com/mnews/article/374/0000332128',\n",
    "    'https://n.news.naver.com/mnews/article/374/0000332211',\n",
    "    'https://n.news.naver.com/mnews/article/374/0000332085',\n",
    "    'https://n.news.naver.com/article/052/0001875016?ntype=RANKING',\n",
    "]"
   ]
  },
  {
   "cell_type": "code",
   "execution_count": 11,
   "metadata": {},
   "outputs": [],
   "source": [
    "for url in testing_urls:\n",
    "    time.sleep(0.2)\n",
    "    web_page=requests.get(url, headers=headers)\n",
    "    if web_page.status_code != 200 :\n",
    "        print('비정상')\n",
    "    soup = BeautifulSoup(web_page.content, 'html.parser')\n",
    "    a_list.append(soup.select('#dic_area'))\n",
    "\n",
    "    "
   ]
  },
  {
   "cell_type": "code",
   "execution_count": 12,
   "metadata": {},
   "outputs": [
    {
     "data": {
      "text/plain": [
       "[<div class=\"go_trans _article_content\" id=\"dic_area\">\n",
       " <div style=\"text-align:center\"><span class=\"end_photo_org\"><div class=\"nbd_im_w _LAZY_LOADING_WRAP\">\n",
       " <div class=\"nbd_a _LAZY_LOADING_ERROR_HIDE\" id=\"img_a1\">\n",
       " <img class=\"_LAZY_LOADING\" data-src=\"https://imgnews.pstatic.net/image/374/2023/04/18/0000332085_001_20230419085501340.jpg?type=w647\" id=\"img1\">\n",
       " </img></div>\n",
       " </div></span></div><h6 style=\"text-align: center;\">[회수대상 빵 (사진=식약처 제공)]</h6><div><br/>식품의약품안전처는 오늘(18일) 식품제조 및 가공업체인 빵드밀(주)가 제조하고 판매한 '무화과 다쿠아즈' 제품을 판매 중단하고 회수 조치한다고 밝혔습니다.<br/><br/>해당 제품에서는 식중독균인 황색포도상구균이 검출됐습니다. 이 균은 면도 등 피부 자극이 가해지거나 상처가 나면 털 구멍을 통해 침투합니다.<br/><br/>황색포도상구균이 증식한 식품에서는 장 독소가 생산되고, 이를 섭취할 경우 위 또는 장에 흡수되면서 구토, 설사, 복통 등을 유발하기도 합니다. <br/><br/>회수 대상은 제조일자가 2023년 4월 7일로 표시된 제품입니다.</div><div><br/>식약처는 \"해당 제품을 구매한 소비자는 섭취를 중단하고 구입처에 반품해달라\"고 당부했습니다.</div><br/><br/><div style=\"border:1px solid #e6e6e6; padding:10px; font-size:14px !important; color:#404040;\"><strong style=\"display:block; font-weight:normal; color:#000; margin-bottom:10px; font-size:14px !important;\">당신의 제보가 뉴스로 만들어집니다.</strong><strong style=\"display:block; font-weight:normal; color:#000; margin-bottom:10px; font-size:14px !important;\">SBS Biz는 여러분의 제보를 기다리고 있습니다.</strong><strong style=\"display:block; font-weight:normal; color:#000; margin-bottom:0px; font-size:14px !important;\">홈페이지 = https://url.kr/9pghjn</strong></div><br/>\n",
       " </div>]"
      ]
     },
     "execution_count": 12,
     "metadata": {},
     "output_type": "execute_result"
    }
   ],
   "source": [
    "a_list[5]"
   ]
  },
  {
   "cell_type": "code",
   "execution_count": 13,
   "metadata": {},
   "outputs": [],
   "source": [
    "pattern = re.compile(r'(?P<header><br\\/>)(?P<value>[ㄱ-ㅎ가-힣a-zA-Z0-9\\s.,%\\'\\\"()]+)(?P<tail><br\\/>)')"
   ]
  },
  {
   "cell_type": "code",
   "execution_count": 14,
   "metadata": {},
   "outputs": [],
   "source": [
    "a = pattern.findall(str(a_list[5]))"
   ]
  },
  {
   "cell_type": "code",
   "execution_count": 15,
   "metadata": {},
   "outputs": [],
   "source": [
    "string =''\n",
    "for aa in a:\n",
    "    string += aa[1]\n",
    "string = string.replace(u'\\xa0', u' ')"
   ]
  },
  {
   "cell_type": "code",
   "execution_count": 16,
   "metadata": {},
   "outputs": [
    {
     "data": {
      "text/plain": [
       "\"식품의약품안전처는 오늘(18일) 식품제조 및 가공업체인 빵드밀(주)가 제조하고 판매한 '무화과 다쿠아즈' 제품을 판매 중단하고 회수 조치한다고 밝혔습니다.해당 제품에서는 식중독균인 황색포도상구균이 검출됐습니다. 이 균은 면도 등 피부 자극이 가해지거나 상처가 나면 털 구멍을 통해 침투합니다.황색포도상구균이 증식한 식품에서는 장 독소가 생산되고, 이를 섭취할 경우 위 또는 장에 흡수되면서 구토, 설사, 복통 등을 유발하기도 합니다. \""
      ]
     },
     "execution_count": 16,
     "metadata": {},
     "output_type": "execute_result"
    }
   ],
   "source": [
    "string"
   ]
  },
  {
   "cell_type": "code",
   "execution_count": 17,
   "metadata": {},
   "outputs": [],
   "source": [
    "from NewsCrawler import NewsCrawler"
   ]
  },
  {
   "cell_type": "code",
   "execution_count": 56,
   "metadata": {},
   "outputs": [
    {
     "data": {
      "text/plain": [
       "'넷플릭스 매출 기대 소폭 밑돌아넷플릭스가 공개한 올해 1분기 1주당 순이익(EPS)은 2.88로 팩트셋 집계 월가 예상치(2.86달러)를 넘겼고 매출은 연간(전년 동기 대비) 3.7% 늘어난 81억7000만 달러를 기록했는데 예상치(82억 달러)를 소폭 밑돌았습니다.회사가 향후 구독자 증가 목표치를 제시하지 않자 일시적으로 매도세가 확산됐습니다. 올해 1분기 넷플릭스 신규 구독자 수는 175만 명이었는데 이는 월가 기대치(226만 명) 대비 50만명 정도 적은 수였습니다.이밖에 매출은 연간 13% 증가한 263억9000만 달러로 예상치(252억 달러)를 웃돌았습니다. 뱅크오브아메리카 측은 “올해 1분기 중 순이자 수입(NII)이 144억 달러로 연간 25% 늘어난 점이 매출 증가에 크게 기여했다”고 설명했습니다.같은 날 뉴욕 외환시장에서는 미국 달러화가 약세로 거래됐습니다. 6대 주요 통화 대비 미국 달러화 가치를 보여주는 달러 인덱스는 이날 오후 5시 23분 기준 0.34% 떨어진 101.75 을 기록했습니다.'"
      ]
     },
     "execution_count": 56,
     "metadata": {},
     "output_type": "execute_result"
    }
   ],
   "source": [
    "NewsCrawler.navercrawl('https://n.news.naver.com/mnews/ranking/article/009/0005118562')"
   ]
  },
  {
   "cell_type": "code",
   "execution_count": 29,
   "metadata": {},
   "outputs": [],
   "source": [
    "\n",
    "web_page=requests.get('https://n.news.naver.com/article/015/0004834466?ntype=RANKING', headers=headers)\n",
    "if web_page.status_code != 200 :\n",
    "    print('비정상')\n",
    "soup = BeautifulSoup(web_page.content, 'html.parser')\n",
    "dirty = soup.select('#dic_area')\n",
    "cleantext = BeautifulSoup(str(dirty), \"lxml\").text\n",
    "    "
   ]
  },
  {
   "cell_type": "code",
   "execution_count": 32,
   "metadata": {},
   "outputs": [
    {
     "ename": "AttributeError",
     "evalue": "ResultSet object has no attribute 'find'. You're probably treating a list of elements like a single element. Did you call find_all() when you meant to call find()?",
     "output_type": "error",
     "traceback": [
      "\u001b[1;31m---------------------------------------------------------------------------\u001b[0m",
      "\u001b[1;31mAttributeError\u001b[0m                            Traceback (most recent call last)",
      "Cell \u001b[1;32mIn[32], line 1\u001b[0m\n\u001b[1;32m----> 1\u001b[0m dirty\u001b[39m.\u001b[39;49mfind(\u001b[39m'\u001b[39m\u001b[39mspan\u001b[39m\u001b[39m'\u001b[39m)\n",
      "File \u001b[1;32mc:\\Users\\Chloe\\miniconda3\\envs\\final\\lib\\site-packages\\bs4\\element.py:2428\u001b[0m, in \u001b[0;36mResultSet.__getattr__\u001b[1;34m(self, key)\u001b[0m\n\u001b[0;32m   2426\u001b[0m \u001b[39mdef\u001b[39;00m \u001b[39m__getattr__\u001b[39m(\u001b[39mself\u001b[39m, key):\n\u001b[0;32m   2427\u001b[0m \u001b[39m    \u001b[39m\u001b[39m\"\"\"Raise a helpful exception to explain a common code fix.\"\"\"\u001b[39;00m\n\u001b[1;32m-> 2428\u001b[0m     \u001b[39mraise\u001b[39;00m \u001b[39mAttributeError\u001b[39;00m(\n\u001b[0;32m   2429\u001b[0m         \u001b[39m\"\u001b[39m\u001b[39mResultSet object has no attribute \u001b[39m\u001b[39m'\u001b[39m\u001b[39m%s\u001b[39;00m\u001b[39m'\u001b[39m\u001b[39m. You\u001b[39m\u001b[39m'\u001b[39m\u001b[39mre probably treating a list of elements like a single element. Did you call find_all() when you meant to call find()?\u001b[39m\u001b[39m\"\u001b[39m \u001b[39m%\u001b[39m key\n\u001b[0;32m   2430\u001b[0m     )\n",
      "\u001b[1;31mAttributeError\u001b[0m: ResultSet object has no attribute 'find'. You're probably treating a list of elements like a single element. Did you call find_all() when you meant to call find()?"
     ]
    }
   ],
   "source": [
    "dirty.find('span')"
   ]
  },
  {
   "cell_type": "code",
   "execution_count": 23,
   "metadata": {},
   "outputs": [
    {
     "ename": "TypeError",
     "evalue": "a bytes-like object is required, not 'ResultSet'",
     "output_type": "error",
     "traceback": [
      "\u001b[1;31m---------------------------------------------------------------------------\u001b[0m",
      "\u001b[1;31mTypeError\u001b[0m                                 Traceback (most recent call last)",
      "Cell \u001b[1;32mIn[23], line 1\u001b[0m\n\u001b[1;32m----> 1\u001b[0m ET\u001b[39m.\u001b[39;49mfromstring(dirty)\n",
      "File \u001b[1;32mc:\\Users\\Chloe\\miniconda3\\envs\\final\\lib\\xml\\etree\\ElementTree.py:1320\u001b[0m, in \u001b[0;36mXML\u001b[1;34m(text, parser)\u001b[0m\n\u001b[0;32m   1318\u001b[0m \u001b[39mif\u001b[39;00m \u001b[39mnot\u001b[39;00m parser:\n\u001b[0;32m   1319\u001b[0m     parser \u001b[39m=\u001b[39m XMLParser(target\u001b[39m=\u001b[39mTreeBuilder())\n\u001b[1;32m-> 1320\u001b[0m parser\u001b[39m.\u001b[39;49mfeed(text)\n\u001b[0;32m   1321\u001b[0m \u001b[39mreturn\u001b[39;00m parser\u001b[39m.\u001b[39mclose()\n",
      "\u001b[1;31mTypeError\u001b[0m: a bytes-like object is required, not 'ResultSet'"
     ]
    }
   ],
   "source": [
    "ET.fromstring(dirty)"
   ]
  },
  {
   "cell_type": "code",
   "execution_count": 33,
   "metadata": {},
   "outputs": [],
   "source": [
    "new_pa = r'<em[ㄱ-ㅎ가-힣a-zA-Z0-9\\s.,%\\'\\\"()·“‘’”=_>/]+</em>'\n",
    "test_re =re.compile(new_pa)"
   ]
  },
  {
   "cell_type": "code",
   "execution_count": 37,
   "metadata": {},
   "outputs": [],
   "source": [
    "aaaa =str(dirty)"
   ]
  },
  {
   "cell_type": "code",
   "execution_count": 40,
   "metadata": {},
   "outputs": [],
   "source": [
    "new_dirty = test_re.sub('',aaaa)"
   ]
  },
  {
   "cell_type": "code",
   "execution_count": 52,
   "metadata": {},
   "outputs": [],
   "source": [
    "cleantext = BeautifulSoup(new_dirty, \"lxml\").text\n"
   ]
  },
  {
   "cell_type": "code",
   "execution_count": 55,
   "metadata": {},
   "outputs": [
    {
     "data": {
      "text/plain": [
       "'동탄2 외곽, 용인이나 다름없다고 미달났던 신주거문화타운 이제 삼성전자 300조 투자 효과 제대로 보는 지역으로동탄신도시 금강펜테리움 6차 센트럴파크, 1순위 경쟁률 9.2대 1 달해동탄 파크릭스, 청약통장 당첨가점 74점 출현  삼성전자의 300조원 투자가 시들했던 아파트 청약에 불을 붙였다. 미달이 속출했던 경기도 화성시 동탄2신도시의 신규 분양 아파트에 청약자들이 몰리고 있다. 최고 65대 1의 경쟁률을 기록하는 한편, 74점에 달하는 청약통장(만점 84점)까지 등장했다. 시장에서는 \"삼성이 아파트 최고의 세일즈맨\"이라고 입을 모으고 있다.19일 청약홈에 따르면 금강주택이 동탄2신도시 신주거문화타운 A59블록에 공급하는 동탄신도시 금강펜테리움 6차 센트럴파크 의 1순위 청약에 640가구를 모집하는데 5931명이 접수해 9.2대 1의 평균경쟁률을 나타냈다. 가구수 배정이 적은 기타경기의 경쟁률은 40~60대 1의 높은 경쟁률을 기록했다. 올해 경기권역 최다 청약 접수를 기록하며 전타입 1순위 청약을 마쳤다.뿐만 아니다. 이날 당첨자 발표를 한 신주거문화타운 A55블록에 들어서는 동탄 파크릭스 의 청약당첨 가점은 고점으로 뛰어올랐다. 지난 1순위에서 438가구를 모집하는데 3403명이 몰려 7.7대 1의 경쟁률을 보이면서 1순위에서 청약을 모두 마감했던 단지다. 이날 발표된 청약통장 당첨 평균가점은 33~65점에 달했다. 전용면적 84㎡A형의 기타경기에서는 최고 당첨가점이 74점까지 나왔다. 총 4개 블록에서 순차적으로 공급될 예정이었던 동탄 파크릭스가 첫 분양부터 양호한 성적을 내면서 후속분양도 탄력을 얻을 전망이다. 현대건설·계룡건설산업·동부건설·대보건설이 총 2063가구를 공동시공한다.당초 신주거문화타운은 동탄2신도시에서도 외곽이라는 평가를 받았다. SRT동탄역과 6km가량 떨어져 있고, 동남권으로 용인시와 지리적으로 인접했기 때문이다. 때문에 3월초 A56블럭 e편한세상 동탄 파크아너스 의 1회 분양결과는 처참했다. 총 437가구를 공급하는데, 특별공급을 통해 나간 집은 2채 뿐이었다. 1순위에 435가구를 공급하게 됐는데, 548명이 신청해 체면치레를 했을 뿐이었다. 주택형별로는 미달이 쏟아지면서 무순위 청약으로 내몰리게 됐다.이러한 분위기를 단번에 역전시킨 건 반도체 특화단지 조성 발표였다. 지난달 15일 정부는 경기도 용인 남사읍 일대 710만㎡(215만평) 부지를 국가산단 후보지로 선정했다. 삼성전자가 300조원을 투자해 2042년까지 첨단반도체 제조공장 5곳을 구축하고 국내외 소재·부품·장비 기업 약 150곳이 입주할 예정이다. 이러한 발표에 용인시 남사읍 일대는 물론 지리적으로 가까운 동탄2신도시의 신주거문화타운까지 영향을 받게 됐다.지난 주말 모델하우스를 개관했던 금강주택은 수천명의 관람객을 맞았다. 주변지역은 진입하려는 차량들이 줄지어 있으면 교통혼잡을 빚었다. 금강주택 관계자는 \"3일 동안 줄곧 모델하우스 밖으로 100m가 넘는 입장 대기 줄이 형성됐고, 내부 유니트 관람 및 상담을 위한 대기열도 꾸준했다\"며 \"최근 발표된 용인 대규모 반도체 클러스터 개발 수혜와 3.3㎡당 평균 1450만원대의 분양가가 책정됐다는 점에서 관심이 높은 것으로 보인다\"고 말했다.앞서 미달 굴욕을 겪었던 e편한세상 동탄 파크아너스는 이날부터 이틀간 무순위 당첨자에 대한 계약을 받는다. 분양 관계자는 \"최근 분위기가 급반전됨에 따라 무난히 계약이 이뤄질 것으로 보인다\"고 예상했다.또 다른 업계 관계자는 \"개발호재가 나와서 관심이 쏠린 것도 분명하다\"면서도 \"분양가 상한제로 비교적 합리적인 분양가인데다 최근 동탄2신도시 일대의 집값이 회복되고 있는 점도 영향을 미쳤다\"고 전했다.'"
      ]
     },
     "execution_count": 55,
     "metadata": {},
     "output_type": "execute_result"
    }
   ],
   "source": [
    "cleantext = cleantext.replace(u'\\n', u' ')\n",
    "cleantext = cleantext.replace(u'\\'', u' ')\n",
    "cleantext = cleantext.replace(u'\\\\\\'', u' ')\n",
    "cleantext = cleantext.replace(u'[', u'')\n",
    "cleantext = cleantext.replace(u']', u'')\n",
    "cleantext = cleantext.replace(u'  ', u' ')\n",
    "cleantext.strip()"
   ]
  },
  {
   "cell_type": "code",
   "execution_count": 51,
   "metadata": {},
   "outputs": [
    {
     "data": {
      "text/plain": [
       "'  동탄2 외곽, 용인이나 다름없다고 미달났던  신주거문화타운 이제 삼성전자 300조 투자 효과 제대로 보는 지역으로동탄신도시 금강펜테리움 6차 센트럴파크, 1순위 경쟁률 9.2대 1 달해동탄 파크릭스, 청약통장 당첨가점 74점 출현    삼성전자의 300조원 투자가 시들했던 아파트 청약에 불을 붙였다. 미달이 속출했던 경기도 화성시 동탄2신도시의 신규 분양 아파트에 청약자들이 몰리고 있다. 최고 65대 1의 경쟁률을 기록하는 한편, 74점에 달하는 청약통장(만점 84점)까지 등장했다. 시장에서는 \"삼성이 아파트 최고의 세일즈맨\"이라고 입을 모으고 있다.19일 청약홈에 따르면 금강주택이 동탄2신도시 신주거문화타운 A59블록에 공급하는  동탄신도시 금강펜테리움 6차 센트럴파크 의 1순위 청약에 640가구를 모집하는데 5931명이 접수해 9.2대 1의 평균경쟁률을 나타냈다. 가구수 배정이 적은 기타경기의 경쟁률은 40~60대 1의 높은 경쟁률을 기록했다. 올해 경기권역 최다 청약 접수를 기록하며 전타입 1순위 청약을 마쳤다.뿐만 아니다. 이날 당첨자 발표를 한 신주거문화타운 A55블록에 들어서는  동탄 파크릭스 의 청약당첨 가점은 고점으로 뛰어올랐다. 지난 1순위에서 438가구를 모집하는데 3403명이 몰려 7.7대 1의 경쟁률을 보이면서 1순위에서 청약을 모두 마감했던 단지다. 이날 발표된 청약통장 당첨 평균가점은 33~65점에 달했다. 전용면적 84㎡A형의 기타경기에서는 최고 당첨가점이 74점까지 나왔다. 총 4개 블록에서 순차적으로 공급될 예정이었던 동탄 파크릭스가 첫 분양부터 양호한 성적을 내면서 후속분양도 탄력을 얻을 전망이다. 현대건설·계룡건설산업·동부건설·대보건설이 총 2063가구를 공동시공한다.당초 신주거문화타운은 동탄2신도시에서도 외곽이라는 평가를 받았다. SRT동탄역과 6km가량 떨어져 있고, 동남권으로 용인시와 지리적으로 인접했기 때문이다. 때문에 3월초 A56블럭  e편한세상 동탄 파크아너스 의 1회 분양결과는 처참했다. 총 437가구를 공급하는데, 특별공급을 통해 나간 집은 2채 뿐이었다. 1순위에 435가구를 공급하게 됐는데, 548명이 신청해 체면치레를 했을 뿐이었다. 주택형별로는 미달이 쏟아지면서 무순위 청약으로 내몰리게 됐다.이러한 분위기를 단번에 역전시킨 건 반도체 특화단지 조성 발표였다. 지난달 15일 정부는 경기도 용인 남사읍 일대 710만㎡(215만평) 부지를 국가산단 후보지로 선정했다. 삼성전자가 300조원을 투자해 2042년까지 첨단반도체 제조공장 5곳을 구축하고 국내외 소재·부품·장비 기업 약 150곳이 입주할 예정이다. 이러한 발표에 용인시 남사읍 일대는 물론 지리적으로 가까운 동탄2신도시의 신주거문화타운까지 영향을 받게 됐다.지난 주말 모델하우스를 개관했던 금강주택은 수천명의 관람객을 맞았다. 주변지역은 진입하려는 차량들이 줄지어 있으면 교통혼잡을 빚었다. 금강주택 관계자는 \"3일 동안 줄곧 모델하우스 밖으로 100m가 넘는 입장 대기 줄이 형성됐고, 내부 유니트 관람 및 상담을 위한 대기열도 꾸준했다\"며 \"최근 발표된 용인 대규모 반도체 클러스터 개발 수혜와 3.3㎡당 평균 1450만원대의 분양가가 책정됐다는 점에서 관심이 높은 것으로 보인다\"고 말했다.앞서 미달 굴욕을 겪었던 e편한세상 동탄 파크아너스는 이날부터 이틀간 무순위 당첨자에 대한 계약을 받는다. 분양 관계자는 \"최근 분위기가 급반전됨에 따라 무난히 계약이 이뤄질 것으로 보인다\"고 예상했다.또 다른 업계 관계자는 \"개발호재가 나와서 관심이 쏠린 것도 분명하다\"면서도 \"분양가 상한제로 비교적 합리적인 분양가인데다 최근 동탄2신도시 일대의 집값이 회복되고 있는 점도 영향을 미쳤다\"고 전했다.   '"
      ]
     },
     "execution_count": 51,
     "metadata": {},
     "output_type": "execute_result"
    }
   ],
   "source": [
    "cleantext"
   ]
  },
  {
   "cell_type": "code",
   "execution_count": null,
   "metadata": {},
   "outputs": [],
   "source": []
  }
 ],
 "metadata": {
  "kernelspec": {
   "display_name": "final",
   "language": "python",
   "name": "python3"
  },
  "language_info": {
   "codemirror_mode": {
    "name": "ipython",
    "version": 3
   },
   "file_extension": ".py",
   "mimetype": "text/x-python",
   "name": "python",
   "nbconvert_exporter": "python",
   "pygments_lexer": "ipython3",
   "version": "3.8.16"
  },
  "orig_nbformat": 4
 },
 "nbformat": 4,
 "nbformat_minor": 2
}
